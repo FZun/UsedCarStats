{
 "cells": [
  {
   "cell_type": "code",
   "execution_count": 67,
   "metadata": {
    "collapsed": true
   },
   "outputs": [],
   "source": [
    "# -*- coding: utf-8 -*-\n",
    "\n",
    "## standard packages\n",
    "import numpy as np\n",
    "import os\n",
    "import datetime\n",
    "from importlib import reload\n",
    "\n",
    "import configparser\n",
    "import json\n",
    "\n",
    "## Database\n",
    "import sqlite3\n",
    "\n",
    "import matplotlib.pyplot as plt\n",
    "\n",
    "import sklearn\n",
    "\n",
    "import src.utils as utils"
   ]
  },
  {
   "cell_type": "code",
   "execution_count": 26,
   "metadata": {
    "collapsed": false
   },
   "outputs": [],
   "source": [
    "database = utils.DataBase(os.getcwd() + \"/src/DataBase/carStats.db\")"
   ]
  },
  {
   "cell_type": "code",
   "execution_count": 27,
   "metadata": {
    "collapsed": false
   },
   "outputs": [],
   "source": [
    "database.connect()"
   ]
  },
  {
   "cell_type": "code",
   "execution_count": 28,
   "metadata": {
    "collapsed": false
   },
   "outputs": [],
   "source": [
    "cursor = database.getCursor()\n",
    "adData = database.execute(\"\"\"SELECT * FROM car\"\"\")"
   ]
  },
  {
   "cell_type": "code",
   "execution_count": 31,
   "metadata": {
    "collapsed": false
   },
   "outputs": [
    {
     "data": {
      "text/plain": [
       "(31449, 47)"
      ]
     },
     "execution_count": 31,
     "metadata": {},
     "output_type": "execute_result"
    }
   ],
   "source": [
    "adData = np.array(adData)\n",
    "adData.shape"
   ]
  },
  {
   "cell_type": "code",
   "execution_count": 32,
   "metadata": {
    "collapsed": false
   },
   "outputs": [
    {
     "data": {
      "text/plain": [
       "array([130918008, 'USED', 'EUR', 12, 1992, 850.0, 'Car', 'PETROL', 588,\n",
       "       'Audi', '1900', 'Audi 80', '80',\n",
       "       '80 B4 auch Tausch gegen ETS 250 !!!', '5', 'Jena', 'DE', 7749,\n",
       "       None, 'True', 'DEALER', '84.153.133.0', 'Limousine',\n",
       "       'No Information', '141.650\\xa0km', '1.984\\xa0cm³',\n",
       "       '66\\xa0kW\\xa0(90\\xa0PS)', 'Benzin', None, None, 5, '4/5',\n",
       "       'Schaltgetriebe', '4 (Grün)', '12/1992', 2, 'No Information',\n",
       "       'Keine Klimaanlage oder -automatik', 'No Information',\n",
       "       'No Information', 'Casablancaweiss', None, 'Stoff, Grau',\n",
       "       'Ausstattung, Leichtmetallfelgen, Schiebedach, Servolenkung, Zentralverriegelung',\n",
       "       'Deutsches Auto mit deutschen Papieren vom deutschen Autohandel ! Tachostand 141000 km, eine 5.Alufelge liegt im Kofferraum !\\n...Das waren wenigstens noch Auto`s-ohne anfällige Elektronik...\\nBenzinpumpe gerade erneuert ! läuft gut !\\nPreis mit neuem TüV=2.000,- € !\\xa0\\nOhne 999,- €!\\nDer tatsächliche,derzeitige Zustand weicht auf Grund der langen Standzeit\\xa0von den Bildern ab !\\nInzahlungnahme/Finanzierung/Tausch (auch gegen Oldtimer)möglich!\\nWeitere Fragen richten Sie bitte an unser Verkaufspersonal.Tel\\n.:0171/7301086 !\\nInzahlungnahme/Tausch/Finanzierung möglich,Bitte vereinbaren Sie einen Besichtigungs/Probefahrtstermin !!!Tausch am liebsten \\nOldtimer\\n,Zweirad,Dreirad,Vier-oder Kettenfahrzeuge,Motorschäden,Baumaschinen, \\nAnhänger,Landtechnik, Antquitäten,Kurioses... sowie \\nalles was fährt,schwimmt oder fliegt !!!\\ndas Angebot ist freibleibend,Irrtümer,Schreibfehler und Zwischenverkauf vorbehalten !\\n\\xa0Fz.Transport möglich(0,95 ct / Lastkilometer) !!!\\nBitte vereinbaren Sie unbedingt\\xa0einen Besichtigungs/Probefahrtstermin !!!\\nbin nicht immer vor Ort !\\n...weitere Fahrzeuge unter\\xa0\\n www.erfolglos.de\\xa0\\n\\xa0 !!!',\n",
       "       '28.07.2017',\n",
       "       '<built-in method date of datetime.datetime object at 0x000001B2C1EF9F58>'], dtype=object)"
      ]
     },
     "execution_count": 32,
     "metadata": {},
     "output_type": "execute_result"
    }
   ],
   "source": [
    "adData[0]"
   ]
  },
  {
   "cell_type": "code",
   "execution_count": 35,
   "metadata": {
    "collapsed": false,
    "scrolled": true
   },
   "outputs": [
    {
     "data": {
      "text/plain": [
       "['adid',\n",
       " 'adcondition',\n",
       " 'adcurrency',\n",
       " 'adfirstregmonth',\n",
       " 'adfirstregyear',\n",
       " 'adprice',\n",
       " 'adsegment',\n",
       " 'adspecificsfuel',\n",
       " 'adspecificshsn',\n",
       " 'adspecificsmake',\n",
       " 'adspecificsmakeid',\n",
       " 'adspecificsmakemodel',\n",
       " 'adspecificsmodel',\n",
       " 'adspecificsmodeldescription',\n",
       " 'adspecificsmodelid',\n",
       " 'dealercity',\n",
       " 'dealercountry',\n",
       " 'dealerzip',\n",
       " 'featurevariants',\n",
       " 'isdealer',\n",
       " 'sellertype',\n",
       " 'usersipaddress',\n",
       " 'category',\n",
       " 'countryversion',\n",
       " 'mileage',\n",
       " 'cubiccapacity',\n",
       " 'power',\n",
       " 'fuel',\n",
       " 'fuelconsumption',\n",
       " 'emission',\n",
       " 'numseats',\n",
       " 'doorcount',\n",
       " 'transmission',\n",
       " 'emissionssticker',\n",
       " 'firstregistration',\n",
       " 'numberofpreviousowners',\n",
       " 'hu',\n",
       " 'climatisation',\n",
       " 'parkassist',\n",
       " 'airbag',\n",
       " 'manufacturercolorname',\n",
       " 'color',\n",
       " 'interior',\n",
       " 'features',\n",
       " 'description',\n",
       " 'firstseen',\n",
       " 'lastseen']"
      ]
     },
     "execution_count": 35,
     "metadata": {},
     "output_type": "execute_result"
    }
   ],
   "source": [
    "cursor = database.getCursor()\n",
    "keys = []\n",
    "for desc in cursor.description:\n",
    "    keys.append(desc[0])\n",
    "keys"
   ]
  },
  {
   "cell_type": "code",
   "execution_count": 44,
   "metadata": {
    "collapsed": false
   },
   "outputs": [],
   "source": [
    "def dataToJson(keys, valueList):\n",
    "    returnDict = dict()\n",
    "    \n",
    "    for value in valueList:\n",
    "        returnDict[value[0]] = dict()\n",
    "        for i in range(len(keys)):\n",
    "            returnDict[value[0]][keys[i]] = value[i]\n",
    "                \n",
    "    return returnDict\n",
    "\n",
    "adDict = dataToJson(keys, adData)\n",
    "  "
   ]
  },
  {
   "cell_type": "code",
   "execution_count": 53,
   "metadata": {
    "collapsed": true
   },
   "outputs": [],
   "source": [
    "from collections import Counter"
   ]
  },
  {
   "cell_type": "code",
   "execution_count": 60,
   "metadata": {
    "collapsed": false,
    "scrolled": true
   },
   "outputs": [
    {
     "name": "stdout",
     "output_type": "stream",
     "text": [
      "0 adid\n",
      "1 adcondition\n",
      "2 adcurrency\n",
      "3 adfirstregmonth\n",
      "4 adfirstregyear\n",
      "5 adprice\n",
      "6 adsegment\n",
      "7 adspecificsfuel\n",
      "8 adspecificshsn\n",
      "9 adspecificsmake\n",
      "10 adspecificsmakeid\n",
      "11 adspecificsmakemodel\n",
      "12 adspecificsmodel\n",
      "13 adspecificsmodeldescription\n",
      "14 adspecificsmodelid\n",
      "15 dealercity\n",
      "16 dealercountry\n",
      "17 dealerzip\n",
      "18 featurevariants\n",
      "19 isdealer\n",
      "20 sellertype\n",
      "21 usersipaddress\n",
      "22 category\n",
      "23 countryversion\n",
      "24 mileage\n",
      "25 cubiccapacity\n",
      "26 power\n",
      "27 fuel\n",
      "28 fuelconsumption\n",
      "29 emission\n",
      "30 numseats\n",
      "31 doorcount\n",
      "32 transmission\n",
      "33 emissionssticker\n",
      "34 firstregistration\n",
      "35 numberofpreviousowners\n",
      "36 hu\n",
      "37 climatisation\n",
      "38 parkassist\n",
      "39 airbag\n",
      "40 manufacturercolorname\n",
      "41 color\n",
      "42 interior\n",
      "43 features\n",
      "44 description\n",
      "45 firstseen\n",
      "46 lastseen\n"
     ]
    }
   ],
   "source": [
    "for i, v in enumerate(keys):\n",
    "    print( i, v)"
   ]
  },
  {
   "cell_type": "code",
   "execution_count": 198,
   "metadata": {
    "collapsed": false
   },
   "outputs": [
    {
     "data": {
      "text/plain": [
       "Counter({None: 31449})"
      ]
     },
     "execution_count": 198,
     "metadata": {},
     "output_type": "execute_result"
    }
   ],
   "source": [
    "Counter(adData[:, 18])"
   ]
  },
  {
   "cell_type": "code",
   "execution_count": 201,
   "metadata": {
    "collapsed": false
   },
   "outputs": [
    {
     "data": {
      "image/png": "[encoded data removed]",
      "text/plain": [
       "<matplotlib.figure.Figure at 0x7efc1960a5c0>"
      ]
     },
     "metadata": {},
     "output_type": "display_data"
    }
   ],
   "source": [
    "power = processData(adData[:, 26])\n",
    "power.sort()\n",
    "plt.hist(power[:-10], bins=20)\n",
    "plt.show()"
   ]
  },
  {
   "cell_type": "code",
   "execution_count": 202,
   "metadata": {
    "collapsed": false
   },
   "outputs": [
    {
     "data": {
      "text/plain": [
       "(3, '\\xa0')"
      ]
     },
     "execution_count": 202,
     "metadata": {},
     "output_type": "execute_result"
    }
   ],
   "source": [
    "string = adData[5, 25]\n",
    "string.find('\\xa0'), string[-4]"
   ]
  },
  {
   "cell_type": "code",
   "execution_count": 203,
   "metadata": {
    "collapsed": false,
    "scrolled": true
   },
   "outputs": [
    {
     "data": {
      "text/plain": [
       "('cubiccapacity',\n",
       " Counter({'1.000\\xa0cm³': 17,\n",
       "          '1.043\\xa0cm³': 40,\n",
       "          '1.046\\xa0cm³': 1,\n",
       "          '1.061\\xa0cm³': 6,\n",
       "          '1.080\\xa0cm³': 1,\n",
       "          '1.084\\xa0cm³': 1,\n",
       "          '1.085\\xa0cm³': 1,\n",
       "          '1.086\\xa0cm³': 83,\n",
       "          '1.097\\xa0cm³': 2,\n",
       "          '1.098\\xa0cm³': 1,\n",
       "          '1.100\\xa0cm³': 6,\n",
       "          '1.108\\xa0cm³': 75,\n",
       "          '1.116\\xa0cm³': 5,\n",
       "          '1.119\\xa0cm³': 7,\n",
       "          '1.120\\xa0cm³': 12,\n",
       "          '1.123\\xa0cm³': 1,\n",
       "          '1.124\\xa0cm³': 136,\n",
       "          '1.143\\xa0cm³': 1,\n",
       "          '1.149\\xa0cm³': 415,\n",
       "          '1.150\\xa0cm³': 5,\n",
       "          '1.170\\xa0cm³': 1,\n",
       "          '1.171\\xa0cm³': 13,\n",
       "          '1.184\\xa0cm³': 1,\n",
       "          '1.185\\xa0cm³': 1,\n",
       "          '1.189\\xa0cm³': 1,\n",
       "          '1.190\\xa0cm³': 1,\n",
       "          '1.191\\xa0cm³': 8,\n",
       "          '1.193\\xa0cm³': 3,\n",
       "          '1.195\\xa0cm³': 56,\n",
       "          '1.196\\xa0cm³': 1,\n",
       "          '1.197\\xa0cm³': 196,\n",
       "          '1.198\\xa0cm³': 527,\n",
       "          '1.199\\xa0cm³': 201,\n",
       "          '1.200\\xa0cm³': 32,\n",
       "          '1.206\\xa0cm³': 12,\n",
       "          '1.223\\xa0cm³': 1,\n",
       "          '1.224\\xa0cm³': 1,\n",
       "          '1.229\\xa0cm³': 237,\n",
       "          '1.231\\xa0cm³': 1,\n",
       "          '1.239\\xa0cm³': 21,\n",
       "          '1.240\\xa0cm³': 44,\n",
       "          '1.241\\xa0cm³': 10,\n",
       "          '1.242\\xa0cm³': 780,\n",
       "          '1.245\\xa0cm³': 1,\n",
       "          '1.246\\xa0cm³': 14,\n",
       "          '1.248\\xa0cm³': 343,\n",
       "          '1.250\\xa0cm³': 3,\n",
       "          '1.263\\xa0cm³': 2,\n",
       "          '1.272\\xa0cm³': 14,\n",
       "          '1.273\\xa0cm³': 1,\n",
       "          '1.275\\xa0cm³': 1,\n",
       "          '1.276\\xa0cm³': 1,\n",
       "          '1.281\\xa0cm³': 2,\n",
       "          '1.285\\xa0cm³': 1,\n",
       "          '1.289\\xa0cm³': 10,\n",
       "          '1.290\\xa0cm³': 3,\n",
       "          '1.296\\xa0cm³': 9,\n",
       "          '1.297\\xa0cm³': 21,\n",
       "          '1.298\\xa0cm³': 62,\n",
       "          '1.299\\xa0cm³': 237,\n",
       "          '1.300\\xa0cm³': 20,\n",
       "          '1.308\\xa0cm³': 9,\n",
       "          '1.315\\xa0cm³': 1,\n",
       "          '1.323\\xa0cm³': 6,\n",
       "          '1.324\\xa0cm³': 14,\n",
       "          '1.328\\xa0cm³': 52,\n",
       "          '1.329\\xa0cm³': 46,\n",
       "          '1.332\\xa0cm³': 54,\n",
       "          '1.339\\xa0cm³': 38,\n",
       "          '1.341\\xa0cm³': 12,\n",
       "          '1.342\\xa0cm³': 1,\n",
       "          '1.343\\xa0cm³': 14,\n",
       "          '1.346\\xa0cm³': 1,\n",
       "          '1.348\\xa0cm³': 3,\n",
       "          '1.349\\xa0cm³': 32,\n",
       "          '1.350\\xa0cm³': 1,\n",
       "          '1.351\\xa0cm³': 1,\n",
       "          '1.357\\xa0cm³': 1,\n",
       "          '1.360\\xa0cm³': 194,\n",
       "          '1.361\\xa0cm³': 15,\n",
       "          '1.364\\xa0cm³': 213,\n",
       "          '1.368\\xa0cm³': 205,\n",
       "          '1.370\\xa0cm³': 2,\n",
       "          '1.372\\xa0cm³': 1,\n",
       "          '1.386\\xa0cm³': 14,\n",
       "          '1.387\\xa0cm³': 6,\n",
       "          '1.388\\xa0cm³': 125,\n",
       "          '1.389\\xa0cm³': 100,\n",
       "          '1.390\\xa0cm³': 1112,\n",
       "          '1.391\\xa0cm³': 39,\n",
       "          '1.392\\xa0cm³': 7,\n",
       "          '1.395\\xa0cm³': 10,\n",
       "          '1.396\\xa0cm³': 146,\n",
       "          '1.397\\xa0cm³': 154,\n",
       "          '1.398\\xa0cm³': 234,\n",
       "          '1.399\\xa0cm³': 72,\n",
       "          '1.400\\xa0cm³': 18,\n",
       "          '1.420\\xa0cm³': 1,\n",
       "          '1.422\\xa0cm³': 93,\n",
       "          '1.439\\xa0cm³': 1,\n",
       "          '1.445\\xa0cm³': 1,\n",
       "          '1.458\\xa0cm³': 1,\n",
       "          '1.461\\xa0cm³': 324,\n",
       "          '1.468\\xa0cm³': 4,\n",
       "          '1.475\\xa0cm³': 1,\n",
       "          '1.483\\xa0cm³': 1,\n",
       "          '1.488\\xa0cm³': 2,\n",
       "          '1.489\\xa0cm³': 15,\n",
       "          '1.490\\xa0cm³': 2,\n",
       "          '1.493\\xa0cm³': 27,\n",
       "          '1.495\\xa0cm³': 10,\n",
       "          '1.496\\xa0cm³': 1,\n",
       "          '1.497\\xa0cm³': 28,\n",
       "          '1.498\\xa0cm³': 94,\n",
       "          '1.499\\xa0cm³': 20,\n",
       "          '1.500\\xa0cm³': 19,\n",
       "          '1.527\\xa0cm³': 4,\n",
       "          '1.550\\xa0cm³': 1,\n",
       "          '1.560\\xa0cm³': 573,\n",
       "          '1.567\\xa0cm³': 1,\n",
       "          '1.568\\xa0cm³': 1,\n",
       "          '1.569\\xa0cm³': 1,\n",
       "          '1.570\\xa0cm³': 5,\n",
       "          '1.573\\xa0cm³': 1,\n",
       "          '1.576\\xa0cm³': 11,\n",
       "          '1.577\\xa0cm³': 1,\n",
       "          '1.578\\xa0cm³': 1,\n",
       "          '1.579\\xa0cm³': 4,\n",
       "          '1.580\\xa0cm³': 3,\n",
       "          '1.581\\xa0cm³': 15,\n",
       "          '1.582\\xa0cm³': 60,\n",
       "          '1.584\\xa0cm³': 10,\n",
       "          '1.585\\xa0cm³': 4,\n",
       "          '1.586\\xa0cm³': 36,\n",
       "          '1.587\\xa0cm³': 145,\n",
       "          '1.588\\xa0cm³': 6,\n",
       "          '1.589\\xa0cm³': 7,\n",
       "          '1.590\\xa0cm³': 31,\n",
       "          '1.591\\xa0cm³': 41,\n",
       "          '1.594\\xa0cm³': 1,\n",
       "          '1.595\\xa0cm³': 398,\n",
       "          '1.596\\xa0cm³': 321,\n",
       "          '1.597\\xa0cm³': 72,\n",
       "          '1.598\\xa0cm³': 2143,\n",
       "          '1.599\\xa0cm³': 39,\n",
       "          '1.600\\xa0cm³': 44,\n",
       "          '1.635\\xa0cm³': 1,\n",
       "          '1.665\\xa0cm³': 3,\n",
       "          '1.668\\xa0cm³': 3,\n",
       "          '1.670\\xa0cm³': 1,\n",
       "          '1.679\\xa0cm³': 5,\n",
       "          '1.685\\xa0cm³': 5,\n",
       "          '1.686\\xa0cm³': 201,\n",
       "          '1.689\\xa0cm³': 48,\n",
       "          '1.690\\xa0cm³': 8,\n",
       "          '1.697\\xa0cm³': 1,\n",
       "          '1.699\\xa0cm³': 52,\n",
       "          '1.700\\xa0cm³': 9,\n",
       "          '1.716\\xa0cm³': 11,\n",
       "          '1.721\\xa0cm³': 4,\n",
       "          '1.731\\xa0cm³': 6,\n",
       "          '1.738\\xa0cm³': 1,\n",
       "          '1.742\\xa0cm³': 3,\n",
       "          '1.747\\xa0cm³': 10,\n",
       "          '1.749\\xa0cm³': 24,\n",
       "          '1.753\\xa0cm³': 81,\n",
       "          '1.754\\xa0cm³': 2,\n",
       "          '1.758\\xa0cm³': 1,\n",
       "          '1.760\\xa0cm³': 15,\n",
       "          '1.761\\xa0cm³': 25,\n",
       "          '1.762\\xa0cm³': 8,\n",
       "          '1.766\\xa0cm³': 1,\n",
       "          '1.769\\xa0cm³': 26,\n",
       "          '1.778\\xa0cm³': 1,\n",
       "          '1.779\\xa0cm³': 1,\n",
       "          '1.780\\xa0cm³': 1,\n",
       "          '1.781\\xa0cm³': 316,\n",
       "          '1.783\\xa0cm³': 28,\n",
       "          '1.784\\xa0cm³': 1,\n",
       "          '1.790\\xa0cm³': 1,\n",
       "          '1.791\\xa0cm³': 1,\n",
       "          '1.793\\xa0cm³': 2,\n",
       "          '1.794\\xa0cm³': 50,\n",
       "          '1.795\\xa0cm³': 3,\n",
       "          '1.796\\xa0cm³': 492,\n",
       "          '1.797\\xa0cm³': 9,\n",
       "          '1.798\\xa0cm³': 176,\n",
       "          '1.799\\xa0cm³': 81,\n",
       "          '1.800\\xa0cm³': 14,\n",
       "          '1.809\\xa0cm³': 1,\n",
       "          '1.826\\xa0cm³': 1,\n",
       "          '1.834\\xa0cm³': 30,\n",
       "          '1.840\\xa0cm³': 34,\n",
       "          '1.849\\xa0cm³': 1,\n",
       "          '1.850\\xa0cm³': 2,\n",
       "          '1.859\\xa0cm³': 2,\n",
       "          '1.868\\xa0cm³': 4,\n",
       "          '1.870\\xa0cm³': 113,\n",
       "          '1.871\\xa0cm³': 1,\n",
       "          '1.888\\xa0cm³': 1,\n",
       "          '1.890\\xa0cm³': 1,\n",
       "          '1.895\\xa0cm³': 61,\n",
       "          '1.896\\xa0cm³': 944,\n",
       "          '1.897\\xa0cm³': 1,\n",
       "          '1.898\\xa0cm³': 16,\n",
       "          '1.900\\xa0cm³': 12,\n",
       "          '1.905\\xa0cm³': 3,\n",
       "          '1.910\\xa0cm³': 254,\n",
       "          '1.913\\xa0cm³': 1,\n",
       "          '1.936\\xa0cm³': 1,\n",
       "          '1.948\\xa0cm³': 5,\n",
       "          '1.950\\xa0cm³': 7,\n",
       "          '1.951\\xa0cm³': 19,\n",
       "          '1.954\\xa0cm³': 1,\n",
       "          '1.956\\xa0cm³': 95,\n",
       "          '1.958\\xa0cm³': 2,\n",
       "          '1.960\\xa0cm³': 2,\n",
       "          '1.964\\xa0cm³': 2,\n",
       "          '1.968\\xa0cm³': 1008,\n",
       "          '1.970\\xa0cm³': 28,\n",
       "          '1.971\\xa0cm³': 10,\n",
       "          '1.973\\xa0cm³': 4,\n",
       "          '1.974\\xa0cm³': 3,\n",
       "          '1.975\\xa0cm³': 46,\n",
       "          '1.976\\xa0cm³': 2,\n",
       "          '1.977\\xa0cm³': 5,\n",
       "          '1.981\\xa0cm³': 3,\n",
       "          '1.984\\xa0cm³': 347,\n",
       "          '1.985\\xa0cm³': 14,\n",
       "          '1.988\\xa0cm³': 15,\n",
       "          '1.989\\xa0cm³': 1,\n",
       "          '1.991\\xa0cm³': 364,\n",
       "          '1.992\\xa0cm³': 5,\n",
       "          '1.993\\xa0cm³': 2,\n",
       "          '1.994\\xa0cm³': 32,\n",
       "          '1.995\\xa0cm³': 784,\n",
       "          '1.996\\xa0cm³': 20,\n",
       "          '1.997\\xa0cm³': 406,\n",
       "          '1.998\\xa0cm³': 506,\n",
       "          '1.999\\xa0cm³': 87,\n",
       "          '12.299\\xa0cm³': 1,\n",
       "          '125\\xa0cm³': 1,\n",
       "          '13\\xa0cm³': 1,\n",
       "          '14.000\\xa0cm³': 1,\n",
       "          '155\\xa0cm³': 1,\n",
       "          '163\\xa0cm³': 2,\n",
       "          '176\\xa0cm³': 1,\n",
       "          '18\\xa0cm³': 1,\n",
       "          '19.974\\xa0cm³': 1,\n",
       "          '1\\xa0cm³': 9,\n",
       "          '2.000\\xa0cm³': 37,\n",
       "          '2.034\\xa0cm³': 36,\n",
       "          '2.035\\xa0cm³': 1,\n",
       "          '2.084\\xa0cm³': 2,\n",
       "          '2.088\\xa0cm³': 2,\n",
       "          '2.099\\xa0cm³': 2,\n",
       "          '2.100\\xa0cm³': 1,\n",
       "          '2.112\\xa0cm³': 1,\n",
       "          '2.138\\xa0cm³': 1,\n",
       "          '2.143\\xa0cm³': 47,\n",
       "          '2.148\\xa0cm³': 374,\n",
       "          '2.149\\xa0cm³': 2,\n",
       "          '2.150\\xa0cm³': 1,\n",
       "          '2.151\\xa0cm³': 19,\n",
       "          '2.155\\xa0cm³': 1,\n",
       "          '2.157\\xa0cm³': 1,\n",
       "          '2.164\\xa0cm³': 1,\n",
       "          '2.165\\xa0cm³': 2,\n",
       "          '2.171\\xa0cm³': 98,\n",
       "          '2.172\\xa0cm³': 20,\n",
       "          '2.179\\xa0cm³': 49,\n",
       "          '2.182\\xa0cm³': 1,\n",
       "          '2.184\\xa0cm³': 45,\n",
       "          '2.188\\xa0cm³': 24,\n",
       "          '2.196\\xa0cm³': 17,\n",
       "          '2.197\\xa0cm³': 1,\n",
       "          '2.198\\xa0cm³': 147,\n",
       "          '2.199\\xa0cm³': 19,\n",
       "          '2.200\\xa0cm³': 8,\n",
       "          '2.204\\xa0cm³': 32,\n",
       "          '2.230\\xa0cm³': 11,\n",
       "          '2.231\\xa0cm³': 70,\n",
       "          '2.236\\xa0cm³': 1,\n",
       "          '2.261\\xa0cm³': 13,\n",
       "          '2.276\\xa0cm³': 3,\n",
       "          '2.286\\xa0cm³': 4,\n",
       "          '2.287\\xa0cm³': 5,\n",
       "          '2.290\\xa0cm³': 11,\n",
       "          '2.295\\xa0cm³': 56,\n",
       "          '2.298\\xa0cm³': 16,\n",
       "          '2.299\\xa0cm³': 5,\n",
       "          '2.300\\xa0cm³': 9,\n",
       "          '2.309\\xa0cm³': 9,\n",
       "          '2.316\\xa0cm³': 1,\n",
       "          '2.319\\xa0cm³': 3,\n",
       "          '2.324\\xa0cm³': 7,\n",
       "          '2.327\\xa0cm³': 1,\n",
       "          '2.350\\xa0cm³': 7,\n",
       "          '2.351\\xa0cm³': 12,\n",
       "          '2.354\\xa0cm³': 2,\n",
       "          '2.359\\xa0cm³': 4,\n",
       "          '2.360\\xa0cm³': 2,\n",
       "          '2.362\\xa0cm³': 2,\n",
       "          '2.368\\xa0cm³': 1,\n",
       "          '2.370\\xa0cm³': 15,\n",
       "          '2.372\\xa0cm³': 1,\n",
       "          '2.376\\xa0cm³': 2,\n",
       "          '2.378\\xa0cm³': 8,\n",
       "          '2.383\\xa0cm³': 4,\n",
       "          '2.384\\xa0cm³': 2,\n",
       "          '2.387\\xa0cm³': 14,\n",
       "          '2.389\\xa0cm³': 1,\n",
       "          '2.390\\xa0cm³': 1,\n",
       "          '2.393\\xa0cm³': 44,\n",
       "          '2.397\\xa0cm³': 7,\n",
       "          '2.398\\xa0cm³': 7,\n",
       "          '2.399\\xa0cm³': 2,\n",
       "          '2.400\\xa0cm³': 29,\n",
       "          '2.401\\xa0cm³': 23,\n",
       "          '2.402\\xa0cm³': 7,\n",
       "          '2.405\\xa0cm³': 8,\n",
       "          '2.410\\xa0cm³': 1,\n",
       "          '2.426\\xa0cm³': 1,\n",
       "          '2.429\\xa0cm³': 10,\n",
       "          '2.435\\xa0cm³': 30,\n",
       "          '2.438\\xa0cm³': 2,\n",
       "          '2.446\\xa0cm³': 8,\n",
       "          '2.449\\xa0cm³': 2,\n",
       "          '2.457\\xa0cm³': 7,\n",
       "          '2.459\\xa0cm³': 20,\n",
       "          '2.460\\xa0cm³': 23,\n",
       "          '2.461\\xa0cm³': 74,\n",
       "          '2.463\\xa0cm³': 4,\n",
       "          '2.464\\xa0cm³': 20,\n",
       "          '2.476\\xa0cm³': 6,\n",
       "          '2.477\\xa0cm³': 16,\n",
       "          '2.479\\xa0cm³': 2,\n",
       "          '2.480\\xa0cm³': 3,\n",
       "          '2.488\\xa0cm³': 20,\n",
       "          '2.493\\xa0cm³': 2,\n",
       "          '2.494\\xa0cm³': 113,\n",
       "          '2.495\\xa0cm³': 18,\n",
       "          '2.496\\xa0cm³': 107,\n",
       "          '2.497\\xa0cm³': 110,\n",
       "          '2.498\\xa0cm³': 13,\n",
       "          '2.499\\xa0cm³': 13,\n",
       "          '2.500\\xa0cm³': 11,\n",
       "          '2.521\\xa0cm³': 9,\n",
       "          '2.544\\xa0cm³': 9,\n",
       "          '2.597\\xa0cm³': 46,\n",
       "          '2.598\\xa0cm³': 12,\n",
       "          '2.600\\xa0cm³': 2,\n",
       "          '2.656\\xa0cm³': 6,\n",
       "          '2.664\\xa0cm³': 6,\n",
       "          '2.665\\xa0cm³': 1,\n",
       "          '2.671\\xa0cm³': 3,\n",
       "          '2.685\\xa0cm³': 59,\n",
       "          '2.696\\xa0cm³': 7,\n",
       "          '2.698\\xa0cm³': 68,\n",
       "          '2.700\\xa0cm³': 2,\n",
       "          '2.717\\xa0cm³': 2,\n",
       "          '2.720\\xa0cm³': 16,\n",
       "          '2.736\\xa0cm³': 3,\n",
       "          '2.746\\xa0cm³': 2,\n",
       "          '2.765\\xa0cm³': 1,\n",
       "          '2.769\\xa0cm³': 1,\n",
       "          '2.771\\xa0cm³': 28,\n",
       "          '2.772\\xa0cm³': 2,\n",
       "          '2.773\\xa0cm³': 1,\n",
       "          '2.776\\xa0cm³': 15,\n",
       "          '2.777\\xa0cm³': 5,\n",
       "          '2.792\\xa0cm³': 19,\n",
       "          '2.793\\xa0cm³': 41,\n",
       "          '2.798\\xa0cm³': 6,\n",
       "          '2.799\\xa0cm³': 15,\n",
       "          '2.800\\xa0cm³': 16,\n",
       "          '2.817\\xa0cm³': 1,\n",
       "          '2.826\\xa0cm³': 2,\n",
       "          '2.874\\xa0cm³': 8,\n",
       "          '2.891\\xa0cm³': 1,\n",
       "          '2.902\\xa0cm³': 21,\n",
       "          '2.922\\xa0cm³': 1,\n",
       "          '2.926\\xa0cm³': 26,\n",
       "          '2.932\\xa0cm³': 1,\n",
       "          '2.938\\xa0cm³': 1,\n",
       "          '2.940\\xa0cm³': 2,\n",
       "          '2.946\\xa0cm³': 11,\n",
       "          '2.953\\xa0cm³': 5,\n",
       "          '2.958\\xa0cm³': 8,\n",
       "          '2.959\\xa0cm³': 4,\n",
       "          '2.960\\xa0cm³': 10,\n",
       "          '2.962\\xa0cm³': 4,\n",
       "          '2.965\\xa0cm³': 1,\n",
       "          '2.967\\xa0cm³': 105,\n",
       "          '2.972\\xa0cm³': 4,\n",
       "          '2.975\\xa0cm³': 1,\n",
       "          '2.976\\xa0cm³': 11,\n",
       "          '2.979\\xa0cm³': 29,\n",
       "          '2.982\\xa0cm³': 4,\n",
       "          '2.986\\xa0cm³': 3,\n",
       "          '2.987\\xa0cm³': 84,\n",
       "          '2.988\\xa0cm³': 1,\n",
       "          '2.993\\xa0cm³': 137,\n",
       "          '2.995\\xa0cm³': 1,\n",
       "          '2.996\\xa0cm³': 17,\n",
       "          '2.997\\xa0cm³': 9,\n",
       "          '2.998\\xa0cm³': 1,\n",
       "          '2.999\\xa0cm³': 3,\n",
       "          '20\\xa0cm³': 1,\n",
       "          '218\\xa0cm³': 1,\n",
       "          '220\\xa0cm³': 1,\n",
       "          '2\\xa0cm³': 1,\n",
       "          '3.000\\xa0cm³': 7,\n",
       "          '3.123\\xa0cm³': 8,\n",
       "          '3.175\\xa0cm³': 2,\n",
       "          '3.189\\xa0cm³': 14,\n",
       "          '3.192\\xa0cm³': 1,\n",
       "          '3.195\\xa0cm³': 3,\n",
       "          '3.197\\xa0cm³': 1,\n",
       "          '3.198\\xa0cm³': 1,\n",
       "          '3.199\\xa0cm³': 66,\n",
       "          '3.200\\xa0cm³': 15,\n",
       "          '3.201\\xa0cm³': 1,\n",
       "          '3.222\\xa0cm³': 38,\n",
       "          '3.226\\xa0cm³': 2,\n",
       "          '3.248\\xa0cm³': 2,\n",
       "          '3.300\\xa0cm³': 2,\n",
       "          '3.301\\xa0cm³': 2,\n",
       "          '3.328\\xa0cm³': 3,\n",
       "          '3.342\\xa0cm³': 2,\n",
       "          '3.350\\xa0cm³': 1,\n",
       "          '3.353\\xa0cm³': 1,\n",
       "          '3.378\\xa0cm³': 1,\n",
       "          '3.400\\xa0cm³': 1,\n",
       "          '3.456\\xa0cm³': 1,\n",
       "          '3.471\\xa0cm³': 1,\n",
       "          '3.497\\xa0cm³': 4,\n",
       "          '3.498\\xa0cm³': 23,\n",
       "          '3.562\\xa0cm³': 1,\n",
       "          '3.565\\xa0cm³': 1,\n",
       "          '3.597\\xa0cm³': 1,\n",
       "          '3.600\\xa0cm³': 3,\n",
       "          '3.630\\xa0cm³': 1,\n",
       "          '3.697\\xa0cm³': 2,\n",
       "          '3.724\\xa0cm³': 4,\n",
       "          '3.747\\xa0cm³': 1,\n",
       "          '3.778\\xa0cm³': 2,\n",
       "          '3.791\\xa0cm³': 1,\n",
       "          '3.800\\xa0cm³': 2,\n",
       "          '3.900\\xa0cm³': 1,\n",
       "          '3.908\\xa0cm³': 1,\n",
       "          '3.936\\xa0cm³': 3,\n",
       "          '3.958\\xa0cm³': 2,\n",
       "          '3.964\\xa0cm³': 4,\n",
       "          '3.980\\xa0cm³': 2,\n",
       "          '3.982\\xa0cm³': 4,\n",
       "          '3.996\\xa0cm³': 16,\n",
       "          '3.997\\xa0cm³': 2,\n",
       "          '3.999\\xa0cm³': 3,\n",
       "          '3\\xa0cm³': 7,\n",
       "          '4.000\\xa0cm³': 2,\n",
       "          '4.163\\xa0cm³': 4,\n",
       "          '4.164\\xa0cm³': 2,\n",
       "          '4.172\\xa0cm³': 14,\n",
       "          '4.181\\xa0cm³': 1,\n",
       "          '4.196\\xa0cm³': 8,\n",
       "          '4.242\\xa0cm³': 1,\n",
       "          '4.249\\xa0cm³': 1,\n",
       "          '4.266\\xa0cm³': 7,\n",
       "          '4.300\\xa0cm³': 2,\n",
       "          '4.398\\xa0cm³': 13,\n",
       "          '4.414\\xa0cm³': 2,\n",
       "          '4.423\\xa0cm³': 1,\n",
       "          '4.496\\xa0cm³': 1,\n",
       "          '4.500\\xa0cm³': 2,\n",
       "          '4.554\\xa0cm³': 1,\n",
       "          '4.565\\xa0cm³': 2,\n",
       "          '4.580\\xa0cm³': 1,\n",
       "          '4.600\\xa0cm³': 1,\n",
       "          '4.700\\xa0cm³': 2,\n",
       "          '4.701\\xa0cm³': 4,\n",
       "          '4.800\\xa0cm³': 2,\n",
       "          '4.893\\xa0cm³': 1,\n",
       "          '4.921\\xa0cm³': 7,\n",
       "          '4.939\\xa0cm³': 3,\n",
       "          '4.966\\xa0cm³': 16,\n",
       "          '4.973\\xa0cm³': 3,\n",
       "          '4.988\\xa0cm³': 1,\n",
       "          '400\\xa0cm³': 1,\n",
       "          '45\\xa0cm³': 1,\n",
       "          '496\\xa0cm³': 1,\n",
       "          '499\\xa0cm³': 1,\n",
       "          '49\\xa0cm³': 3,\n",
       "          '4\\xa0cm³': 69,\n",
       "          '5.000\\xa0cm³': 2,\n",
       "          '5.216\\xa0cm³': 1,\n",
       "          '5.300\\xa0cm³': 1,\n",
       "          '5.379\\xa0cm³': 1,\n",
       "          '5.439\\xa0cm³': 4,\n",
       "          '5.500\\xa0cm³': 1,\n",
       "          '5.550\\xa0cm³': 1,\n",
       "          '5.689\\xa0cm³': 1,\n",
       "          '5.700\\xa0cm³': 2,\n",
       "          '5.733\\xa0cm³': 2,\n",
       "          '5.735\\xa0cm³': 1,\n",
       "          '5.991\\xa0cm³': 1,\n",
       "          '5.993\\xa0cm³': 1,\n",
       "          '5.998\\xa0cm³': 1,\n",
       "          '500\\xa0cm³': 3,\n",
       "          '505\\xa0cm³': 2,\n",
       "          '50\\xa0cm³': 4,\n",
       "          '55\\xa0cm³': 1,\n",
       "          '594\\xa0cm³': 1,\n",
       "          '597\\xa0cm³': 2,\n",
       "          '599\\xa0cm³': 32,\n",
       "          '5\\xa0cm³': 1,\n",
       "          '6.174\\xa0cm³': 1,\n",
       "          '6.400\\xa0cm³': 1,\n",
       "          '600\\xa0cm³': 8,\n",
       "          '602\\xa0cm³': 1,\n",
       "          '650\\xa0cm³': 2,\n",
       "          '654\\xa0cm³': 1,\n",
       "          '698\\xa0cm³': 47,\n",
       "          '7.325\\xa0cm³': 1,\n",
       "          '7.536\\xa0cm³': 1,\n",
       "          '7.734\\xa0cm³': 1,\n",
       "          '700\\xa0cm³': 1,\n",
       "          '767\\xa0cm³': 2,\n",
       "          '796\\xa0cm³': 28,\n",
       "          '799\\xa0cm³': 48,\n",
       "          '8.200\\xa0cm³': 1,\n",
       "          '800\\xa0cm³': 3,\n",
       "          '847\\xa0cm³': 2,\n",
       "          '848\\xa0cm³': 2,\n",
       "          '875\\xa0cm³': 30,\n",
       "          '883\\xa0cm³': 1,\n",
       "          '898\\xa0cm³': 27,\n",
       "          '899\\xa0cm³': 12,\n",
       "          '900\\xa0cm³': 6,\n",
       "          '944\\xa0cm³': 1,\n",
       "          '954\\xa0cm³': 17,\n",
       "          '956\\xa0cm³': 1,\n",
       "          '959\\xa0cm³': 1,\n",
       "          '970\\xa0cm³': 1,\n",
       "          '973\\xa0cm³': 123,\n",
       "          '986\\xa0cm³': 2,\n",
       "          '989\\xa0cm³': 33,\n",
       "          '991\\xa0cm³': 2,\n",
       "          '993\\xa0cm³': 17,\n",
       "          '995\\xa0cm³': 35,\n",
       "          '996\\xa0cm³': 36,\n",
       "          '997\\xa0cm³': 10,\n",
       "          '998\\xa0cm³': 530,\n",
       "          '999\\xa0cm³': 858,\n",
       "          'No Information': 7711}))"
      ]
     },
     "execution_count": 203,
     "metadata": {},
     "output_type": "execute_result"
    }
   ],
   "source": [
    "i=25\n",
    "keys[i], Counter(adData[:, i])"
   ]
  },
  {
   "cell_type": "code",
   "execution_count": 204,
   "metadata": {
    "collapsed": false
   },
   "outputs": [
    {
     "data": {
      "image/png": "[encoded data removed]",
      "text/plain": [
       "<matplotlib.figure.Figure at 0x7efc18e29d68>"
      ]
     },
     "metadata": {},
     "output_type": "display_data"
    }
   ],
   "source": [
    "count = Counter(adData[:, 4])\n",
    "count.pop(None)\n",
    "plt.bar(count.keys(), count.values())\n",
    "plt.show()"
   ]
  },
  {
   "cell_type": "code",
   "execution_count": 205,
   "metadata": {
    "collapsed": false,
    "scrolled": true
   },
   "outputs": [
    {
     "data": {
      "text/plain": [
       "31438"
      ]
     },
     "execution_count": 205,
     "metadata": {},
     "output_type": "execute_result"
    }
   ],
   "source": [
    "mileage = []\n",
    "for value in adData[:, 24]:\n",
    "    if 'No Information' not in value:\n",
    "        mileage.append(int(value[:-3].replace('.', '')))\n",
    "len(mileage)"
   ]
  },
  {
   "cell_type": "code",
   "execution_count": 207,
   "metadata": {
    "collapsed": false
   },
   "outputs": [
    {
     "data": {
      "image/png": "[encoded data removed]",
      "text/plain": [
       "<matplotlib.figure.Figure at 0x7efc169859e8>"
      ]
     },
     "metadata": {},
     "output_type": "display_data"
    }
   ],
   "source": [
    "mileage.sort()\n",
    "plt.hist(mileage[:-50], bins=50)\n",
    "plt.show()"
   ]
  },
  {
   "cell_type": "code",
   "execution_count": 208,
   "metadata": {
    "collapsed": false
   },
   "outputs": [
    {
     "data": {
      "text/plain": [
       "23738"
      ]
     },
     "execution_count": 208,
     "metadata": {},
     "output_type": "execute_result"
    }
   ],
   "source": [
    "ccap = []\n",
    "for value in adData[:, 25]:\n",
    "    if 'No Information' not in value:\n",
    "        ccap.append(int(value[:-3].replace('.', '')))\n",
    "len(ccap)"
   ]
  },
  {
   "cell_type": "code",
   "execution_count": 209,
   "metadata": {
    "collapsed": false
   },
   "outputs": [
    {
     "data": {
      "image/png": "[encoded data removed]",
      "text/plain": [
       "<matplotlib.figure.Figure at 0x7efc16c719e8>"
      ]
     },
     "metadata": {},
     "output_type": "display_data"
    }
   ],
   "source": [
    "ccap.sort()\n",
    "plt.hist(ccap[:-10], bins=50)\n",
    "plt.show()"
   ]
  },
  {
   "cell_type": "code",
   "execution_count": null,
   "metadata": {
    "collapsed": true
   },
   "outputs": [],
   "source": []
  }
 ],
 "metadata": {
  "anaconda-cloud": {},
  "kernelspec": {
   "display_name": "Python [default]",
   "language": "python",
   "name": "python3"
  },
  "language_info": {
   "codemirror_mode": {
    "name": "ipython",
    "version": 3
   },
   "file_extension": ".py",
   "mimetype": "text/x-python",
   "name": "python",
   "nbconvert_exporter": "python",
   "pygments_lexer": "ipython3",
   "version": "3.5.2"
  }
 },
 "nbformat": 4,
 "nbformat_minor": 1
}
