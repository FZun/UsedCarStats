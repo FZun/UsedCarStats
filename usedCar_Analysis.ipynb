{
 "cells": [
  {
   "cell_type": "code",
   "execution_count": 2,
   "metadata": {
    "collapsed": false
   },
   "outputs": [],
   "source": [
    "# -*- coding: utf-8 -*-\n",
    "\n",
    "## standard packages\n",
    "import numpy as np\n",
    "import os\n",
    "import datetime\n",
    "from importlib import reload\n",
    "\n",
    "import configparser\n",
    "import json\n",
    "\n",
    "## Database\n",
    "import sqlite3\n",
    "\n",
    "# Data analysis\n",
    "import matplotlib.pyplot as plt\n",
    "\n",
    "import sklearn\n",
    "from sklearn.decomposition import PCA\n",
    "\n",
    "from collections import Counter\n",
    "\n",
    "import src.utils as utils\n",
    "import src.dataAnalysis as an\n"
   ]
  },
  {
   "cell_type": "markdown",
   "metadata": {},
   "source": [
    "# load and connect to Database\n"
   ]
  },
  {
   "cell_type": "code",
   "execution_count": 3,
   "metadata": {
    "collapsed": true
   },
   "outputs": [],
   "source": [
    "#database.close()\n",
    "database = utils.DataBase(os.getcwd() + \"/src/DataBase/carStats.db\")"
   ]
  },
  {
   "cell_type": "code",
   "execution_count": 4,
   "metadata": {
    "collapsed": true
   },
   "outputs": [],
   "source": [
    "database.connect()"
   ]
  },
  {
   "cell_type": "code",
   "execution_count": 5,
   "metadata": {
    "collapsed": true
   },
   "outputs": [],
   "source": [
    "cursor = database.getCursor()\n",
    "adData = database.execute(\"\"\"SELECT * FROM car\"\"\")"
   ]
  },
  {
   "cell_type": "code",
   "execution_count": 6,
   "metadata": {
    "collapsed": false
   },
   "outputs": [
    {
     "name": "stdout",
     "output_type": "stream",
     "text": [
      "size of the dataset:  (76972, 46)\n"
     ]
    }
   ],
   "source": [
    "adData = np.array(adData)\n",
    "print(\"size of the dataset: \", adData.shape)"
   ]
  },
  {
   "cell_type": "markdown",
   "metadata": {},
   "source": [
    "## example with keys"
   ]
  },
  {
   "cell_type": "code",
   "execution_count": 7,
   "metadata": {
    "collapsed": false,
    "scrolled": true
   },
   "outputs": [
    {
     "name": "stdout",
     "output_type": "stream",
     "text": [
      "0 cubiccapacity\n",
      "    1.400 cm³\n",
      "1 adspecificsmodeldescription\n",
      "    Escort Ghia 1.4 mit guten Verdeck!!!!!\n",
      "2 manufacturercolorname\n",
      "    weiß\n",
      "3 featurevariants\n",
      "    None\n",
      "4 consumption\n",
      "    No Information\n",
      "5 adspecificsfuel\n",
      "    PETROL\n",
      "6 adspecificsmake\n",
      "    Ford\n",
      "7 firstseen\n",
      "    16.08.2017\n",
      "8 climatisation\n",
      "    Keine Klimaanlage oder -automatik\n",
      "9 dealercity\n",
      "    Weiden\n",
      "10 description\n",
      "    weißes Escort Cabrio mit roten, guten Verdeck,innen Velour grau,5-Gang,Preis 600Euro ohne Tüv unaufbereitet wie steht\n",
      "*auch mobil erreichbar unter 0175-5356136\n",
      "*\n",
      "11 adfirstregmonth\n",
      "    2\n",
      "12 interior\n",
      "    Velours, Grau\n",
      "13 adprice\n",
      "    600.0\n",
      "14 adspecificsmakeid\n",
      "    9000\n",
      "15 lastseen\n",
      "    2017-08-19\n",
      "16 adsegment\n",
      "    Car\n",
      "17 isdealer\n",
      "    True\n",
      "18 fuel\n",
      "    Benzin\n",
      "19 adspecificsmodel\n",
      "    Escort\n",
      "20 adspecificsmakemodel\n",
      "    Ford Escort\n",
      "21 hu\n",
      "    No Information\n",
      "22 firstregistration\n",
      "    02/1988\n",
      "23 adcurrency\n",
      "    EUR\n",
      "24 parkassist\n",
      "    No Information\n",
      "25 adspecificshsn\n",
      "    928\n",
      "26 adid\n",
      "    2259203\n",
      "27 airbag\n",
      "    No Information\n",
      "28 adcondition\n",
      "    USED\n",
      "29 sellertype\n",
      "    DEALER\n",
      "30 numberofpreviousowners\n",
      "    No Information\n",
      "31 color\n",
      "    None\n",
      "32 category\n",
      "    Cabrio / Roadster\n",
      "33 adspecificsmodelid\n",
      "    11\n",
      "34 mileage\n",
      "    130.000 km\n",
      "35 emission\n",
      "    No Information\n",
      "36 features\n",
      "    None\n",
      "37 numseats\n",
      "    No Information\n",
      "38 countryversion\n",
      "    No Information\n",
      "39 emissionssticker\n",
      "    No Information\n",
      "40 dealerzip\n",
      "    92637\n",
      "41 adfirstregyear\n",
      "    1988\n",
      "42 power\n",
      "    54 kW (73 PS)\n",
      "43 doorcount\n",
      "    2/3\n",
      "44 dealercountry\n",
      "    DE\n",
      "45 transmission\n",
      "    Schaltgetriebe\n"
     ]
    }
   ],
   "source": [
    "cursor = database.getCursor()\n",
    "keys = []\n",
    "for desc in cursor.description:\n",
    "    keys.append(desc[0])\n",
    "for i, v in enumerate(keys):\n",
    "    print (i, v)\n",
    "    print (\"   \", adData[0][i])"
   ]
  },
  {
   "cell_type": "markdown",
   "metadata": {},
   "source": [
    "## get the important data\n",
    "\n",
    "we are not (yet) interested in all the info in the DB, so we choose for now only numeric data\n",
    "\n",
    "some of the following variables will definitely correlate with the car price (e.g. mileage and power), whereas others most likely will only be noise (e.g. dealer zip)."
   ]
  },
  {
   "cell_type": "code",
   "execution_count": 8,
   "metadata": {
    "collapsed": true
   },
   "outputs": [],
   "source": [
    "sqlCommand = \"\"\"SELECT adid, \n",
    "                adprice,\n",
    "                \n",
    "                adspecificsfuel,\n",
    "                consumption,\n",
    "                emission,\n",
    "                cubiccapacity,\n",
    "                power,\n",
    "                mileage,\n",
    "                \n",
    "                adspecificsmake,\n",
    "                adspecificsmodel,\n",
    "                adspecificsmakeid,\n",
    "                adspecificsmodelid,\n",
    "                adfirstregyear,\n",
    "                category,\n",
    "                manufacturercolorname,\n",
    "                \n",
    "                dealerzip,\n",
    "                \n",
    "                firstseen,\n",
    "                lastseen\n",
    "                \n",
    "                FROM car\n",
    "                ORDER BY adid\n",
    "                \"\"\"\n",
    "\n",
    "orderedData = database.execute(sqlCommand)\n"
   ]
  },
  {
   "cell_type": "code",
   "execution_count": 9,
   "metadata": {
    "collapsed": false
   },
   "outputs": [
    {
     "name": "stdout",
     "output_type": "stream",
     "text": [
      "0 adid\n",
      "1 adprice\n",
      "2 adspecificsfuel\n",
      "3 consumption\n",
      "4 emission\n",
      "5 cubiccapacity\n",
      "6 power\n",
      "7 mileage\n",
      "8 adspecificsmake\n",
      "9 adspecificsmodel\n",
      "10 adspecificsmakeid\n",
      "11 adspecificsmodelid\n",
      "12 adfirstregyear\n",
      "13 category\n",
      "14 manufacturercolorname\n",
      "15 dealerzip\n",
      "16 firstseen\n",
      "17 lastseen\n"
     ]
    }
   ],
   "source": [
    "cursor = database.getCursor()\n",
    "keys = []\n",
    "for i in cursor.description:\n",
    "    keys.append(i[0])\n",
    "    \n",
    "for i, v in enumerate(keys):\n",
    "    print(i, v)"
   ]
  },
  {
   "cell_type": "code",
   "execution_count": 10,
   "metadata": {
    "collapsed": true
   },
   "outputs": [],
   "source": [
    "# put data (list) into an array\n",
    "orderedArr = np.array(orderedData)"
   ]
  },
  {
   "cell_type": "code",
   "execution_count": 11,
   "metadata": {
    "collapsed": false,
    "scrolled": true
   },
   "outputs": [
    {
     "data": {
      "text/plain": [
       "Counter({'PETROL': 47356,\n",
       "         'DIESEL': 27651,\n",
       "         None: 697,\n",
       "         'LPG': 960,\n",
       "         'OTHER': 35,\n",
       "         'CNG': 187,\n",
       "         'ELECTRICITY': 30,\n",
       "         'HYBRID': 51,\n",
       "         'HYBRID_DIESEL': 3,\n",
       "         'HYDROGENIUM': 2})"
      ]
     },
     "execution_count": 11,
     "metadata": {},
     "output_type": "execute_result"
    }
   ],
   "source": [
    "Counter(orderedArr[:, 2])"
   ]
  },
  {
   "cell_type": "markdown",
   "metadata": {},
   "source": [
    "# preprocessing\n",
    "\n",
    "the following step is to process the data which is mostly strings in to comparable numerical data."
   ]
  },
  {
   "cell_type": "code",
   "execution_count": 12,
   "metadata": {
    "collapsed": true
   },
   "outputs": [],
   "source": [
    "for arr in orderedArr:\n",
    "    # convert fuel type to numbers 1-10\n",
    "    if arr[2] and 'No Information' not in arr[2]:\n",
    "        if 'PETROL' in arr[2]:\n",
    "            arr[2] = 1\n",
    "        elif 'DIESEL' in arr[2]:\n",
    "            arr[2] = 2\n",
    "        #elif 'HYBRID_DIESEL' in arr[2]:\n",
    "        #    arr[2] = 3\n",
    "        #elif 'CNG' in arr[2]:\n",
    "        #    arr[2] = 4   \n",
    "        #elif 'HYDROGENIUM' in arr[2]:\n",
    "        #    arr[2] = 5\n",
    "        #elif 'ELECTRICITY' in arr[2]:\n",
    "        #    arr[2] = 6     \n",
    "        #elif 'HYBRID' in arr[2]:\n",
    "        #    arr[2] = 7      \n",
    "        #elif 'LPG'in arr[2]:\n",
    "        #    arr[2] = 8    \n",
    "        #elif 'OTHER' in arr[2]:\n",
    "        #    arr[2] = 9   \n",
    "        else: #None\n",
    "            #arr[2] = 10\n",
    "            arr[2] = None\n",
    "    else:\n",
    "        arr[2] = None\n",
    "    \n",
    "    \n",
    "    # process fuel consumption\n",
    "    if arr[3] and 'No Information' not in arr[3] and 'l/100km' in arr[3]:\n",
    "        try:\n",
    "            arr[3] = float(arr[3][1:arr[3].find(' l/100km')].replace(',', '.'))\n",
    "        except Exception as e:\n",
    "            print (e)\n",
    "            print (arr)\n",
    "            break\n",
    "    #elif arr[3] and 'No Information' not in arr[3]:\n",
    "    #    arr[3] -> if cng or electricity\n",
    "    else:\n",
    "        arr[3] = None\n",
    "    # process emission values\n",
    "    if arr[4] and 'No Information' not in arr[4]:\n",
    "        arr[4] = float(arr[4][1:arr[4].find(' g/km (kombiniert)')].replace(',', '.'))\n",
    "    else:\n",
    "        arr[4] = None\n",
    "    # process cubiccapacity\n",
    "    if arr[5] and 'No Information' not in arr[5]:\n",
    "        arr[5] = int(arr[5][:arr[5].find(' cm')].replace('.', ''))\n",
    "    else:\n",
    "        arr[5] = None\n",
    "    # process power\n",
    "    if arr[6] and 'No Information' not in arr[6]:\n",
    "        arr[6] = int(arr[6][:arr[6].find(' kW')].replace('.', ''))\n",
    "    else:\n",
    "        arr[6] = None\n",
    "    # process mileage\n",
    "    if arr[7] and 'No Information' not in arr[7]:\n",
    "        arr[7] = int(arr[7].replace('.', '')[:-3])\n",
    "    else:\n",
    "        arr[7] = None"
   ]
  },
  {
   "cell_type": "code",
   "execution_count": 13,
   "metadata": {
    "collapsed": false
   },
   "outputs": [
    {
     "data": {
      "text/plain": [
       "array([2259203, 600.0, 1, None, None, 1400, 54, 130000, 'Ford', 'Escort',\n",
       "       '9000', '11', 1988, 'Cabrio / Roadster', 'weiß', 92637,\n",
       "       '16.08.2017', '2017-08-19'], dtype=object)"
      ]
     },
     "execution_count": 13,
     "metadata": {},
     "output_type": "execute_result"
    }
   ],
   "source": [
    "#Example:\n",
    "orderedArr[0]"
   ]
  },
  {
   "cell_type": "markdown",
   "metadata": {},
   "source": [
    "# first look at the data\n",
    "without machine learning and big data techniques"
   ]
  },
  {
   "cell_type": "code",
   "execution_count": 14,
   "metadata": {
    "collapsed": false
   },
   "outputs": [
    {
     "data": {
      "image/png": "[encoded data removed]",
      "text/plain": [
       "<matplotlib.figure.Figure at 0x1e894629f28>"
      ]
     },
     "metadata": {},
     "output_type": "display_data"
    }
   ],
   "source": [
    "price = []\n",
    "\n",
    "for arr in orderedArr:\n",
    "    if arr[2]:\n",
    "        price.append(arr[1])\n",
    "price.sort()\n",
    "\n",
    "plt.hist(price, bins=50, normed=True)\n",
    "plt.xlabel('Ad Price [€]')\n",
    "plt.show()"
   ]
  },
  {
   "cell_type": "markdown",
   "metadata": {},
   "source": [
    "note: on a first glance, the price information is not at all gaussian and even some structure can be seen in this simple histogram plot. However, since the search mask from the data mining is selecting cars depending on their price, it is likely that this data is not representative for the whole car market."
   ]
  },
  {
   "cell_type": "code",
   "execution_count": 14,
   "metadata": {
    "collapsed": false
   },
   "outputs": [
    {
     "data": {
      "image/png": "[encoded data removed]",
      "text/plain": [
       "<matplotlib.figure.Figure at 0x22adfbe8e10>"
      ]
     },
     "metadata": {},
     "output_type": "display_data"
    }
   ],
   "source": [
    "consumption = []\n",
    "\n",
    "for arr in orderedArr:\n",
    "    if arr[3]:\n",
    "        consumption.append(arr[3]) # remove NoneTypes\n",
    "consumption.sort()\n",
    "consumption = consumption[:-100] # remove extreme outliers\n",
    "\n",
    "plt.hist(consumption, bins=50, normed=True)\n",
    "plt.xlabel('Consumption [l/100km]')\n",
    "plt.show()"
   ]
  },
  {
   "cell_type": "code",
   "execution_count": 15,
   "metadata": {
    "collapsed": false
   },
   "outputs": [
    {
     "data": {
      "image/png": "[encoded data removed]",
      "text/plain": [
       "<matplotlib.figure.Figure at 0x22ae0f13048>"
      ]
     },
     "metadata": {},
     "output_type": "display_data"
    }
   ],
   "source": [
    "emission = []\n",
    "\n",
    "for arr in orderedArr:\n",
    "    if arr[4]:\n",
    "        emission.append(arr[4]) # remove NoneTypes\n",
    "emission.sort()\n",
    "emission = emission[:-30] # remove extreme outliers\n",
    "\n",
    "plt.hist(emission, bins=50, normed=True)\n",
    "plt.xlabel('Emission [g/100km]')\n",
    "plt.show()"
   ]
  },
  {
   "cell_type": "code",
   "execution_count": 16,
   "metadata": {
    "collapsed": false
   },
   "outputs": [
    {
     "data": {
      "image/png": "[encoded data removed]",
      "text/plain": [
       "<matplotlib.figure.Figure at 0x22ae0fad9b0>"
      ]
     },
     "metadata": {},
     "output_type": "display_data"
    }
   ],
   "source": [
    "cubiccapacity = []\n",
    "\n",
    "for arr in orderedArr:\n",
    "    if arr[5]:\n",
    "        cubiccapacity.append(arr[5]) # remove NoneTypes\n",
    "cubiccapacity.sort()\n",
    "cubiccapacity = cubiccapacity[:-100] # remove extreme outliers\n",
    "\n",
    "plt.hist(cubiccapacity, bins=50, normed=True)\n",
    "plt.xlabel('Cubic Capacity [cm³]')\n",
    "plt.show()"
   ]
  },
  {
   "cell_type": "code",
   "execution_count": 17,
   "metadata": {
    "collapsed": false
   },
   "outputs": [
    {
     "data": {
      "image/png": "[encoded data removed]",
      "text/plain": [
       "<matplotlib.figure.Figure at 0x22ae0efb5c0>"
      ]
     },
     "metadata": {},
     "output_type": "display_data"
    }
   ],
   "source": [
    "power = []\n",
    "\n",
    "for arr in orderedArr:\n",
    "    if arr[6]:\n",
    "        power.append(arr[6]) # remove NoneTypes\n",
    "power.sort()\n",
    "power = power[:-100] # remove extreme outliers\n",
    "\n",
    "plt.hist(power, bins=50, normed=True)\n",
    "plt.xlabel('Power [kW]')\n",
    "plt.show()"
   ]
  },
  {
   "cell_type": "code",
   "execution_count": 18,
   "metadata": {
    "collapsed": false
   },
   "outputs": [
    {
     "data": {
      "image/png": "[encoded data removed]",
      "text/plain": [
       "<matplotlib.figure.Figure at 0x22ae13198d0>"
      ]
     },
     "metadata": {},
     "output_type": "display_data"
    }
   ],
   "source": [
    "mileage = []\n",
    "\n",
    "for arr in orderedArr:\n",
    "    if arr[7]:\n",
    "        mileage.append(arr[7]) # remove NoneTypes\n",
    "mileage.sort()\n",
    "mileage = mileage[:-100] # remove extreme outliers\n",
    "\n",
    "plt.hist(mileage, bins=50, normed=True)\n",
    "plt.xlabel('mileage [km]')\n",
    "plt.show()"
   ]
  },
  {
   "cell_type": "code",
   "execution_count": 19,
   "metadata": {
    "collapsed": false
   },
   "outputs": [
    {
     "data": {
      "image/png": "[encoded data removed]",
      "text/plain": [
       "<matplotlib.figure.Figure at 0x22ae0f13358>"
      ]
     },
     "metadata": {},
     "output_type": "display_data"
    },
    {
     "data": {
      "image/png": "[encoded data removed]",
      "text/plain": [
       "<matplotlib.figure.Figure at 0x22ae0ed3780>"
      ]
     },
     "metadata": {},
     "output_type": "display_data"
    }
   ],
   "source": [
    "firstregyear = []\n",
    "\n",
    "for arr in orderedArr:\n",
    "    if arr[12]:\n",
    "        firstregyear.append(arr[12]) # remove NoneTypes\n",
    "firstregyear.sort()\n",
    "#firstregyear = firstregyear[100:] # remove extreme outliers\n",
    "\n",
    "plt.hist(firstregyear, bins=50, normed=True)\n",
    "plt.xlabel('Year of first registration')\n",
    "plt.show()\n",
    "\n",
    "plt.hist(firstregyear[100:], bins=50, normed=True)\n",
    "plt.xlabel('Year of first registration')\n",
    "plt.show()"
   ]
  },
  {
   "cell_type": "markdown",
   "metadata": {
    "collapsed": true
   },
   "source": [
    "# second look at the data - with ML techniques"
   ]
  },
  {
   "cell_type": "markdown",
   "metadata": {},
   "source": [
    "Now let's do some real stuff\n",
    "\n",
    "- first, get all the data that can actually be translated into numerical data, or is already\n",
    "\n",
    "- then, normalize and preprocess it if necessary\n",
    "\n",
    "- now, we could do something like a PCA, linear regression, decision trees, etc."
   ]
  },
  {
   "cell_type": "code",
   "execution_count": 15,
   "metadata": {
    "collapsed": false
   },
   "outputs": [
    {
     "name": "stdout",
     "output_type": "stream",
     "text": [
      "0 adid\n",
      "1 adprice\n",
      "2 adspecificsfuel\n",
      "3 consumption\n",
      "4 emission\n",
      "5 cubiccapacity\n",
      "6 power\n",
      "7 mileage\n",
      "8 adspecificsmake\n",
      "9 adspecificsmodel\n",
      "10 adspecificsmakeid\n",
      "11 adspecificsmodelid\n",
      "12 adfirstregyear\n",
      "13 category\n",
      "14 manufacturercolorname\n",
      "15 dealerzip\n",
      "16 firstseen\n",
      "17 lastseen\n"
     ]
    }
   ],
   "source": [
    "for i, v in enumerate(keys):\n",
    "    print(i, v)"
   ]
  },
  {
   "cell_type": "code",
   "execution_count": 142,
   "metadata": {
    "collapsed": false
   },
   "outputs": [
    {
     "data": {
      "text/plain": [
       "78"
      ]
     },
     "execution_count": 142,
     "metadata": {},
     "output_type": "execute_result"
    }
   ],
   "source": [
    "i = 1\n",
    "orderedArr[i, 8], orderedArr[i, 9], orderedArr[i, 13]\n",
    "len(Counter(orderedArr[:, 8]).keys())"
   ]
  },
  {
   "cell_type": "code",
   "execution_count": 16,
   "metadata": {
    "collapsed": false
   },
   "outputs": [
    {
     "data": {
      "text/plain": [
       "(76972, 13)"
      ]
     },
     "execution_count": 16,
     "metadata": {},
     "output_type": "execute_result"
    }
   ],
   "source": [
    "categoryList = [0, 10, 11, 13, 14, 1, 2, 3, 4, 5, 6, 7, 12] #first category variables, then continuous variables\n",
    "#categoryList = [1, 2, 3, 4, 5, 6, 7, 12]\n",
    "orderedNumericalData = orderedArr[:, categoryList]\n",
    "orderedNumericalData.shape"
   ]
  },
  {
   "cell_type": "code",
   "execution_count": 22,
   "metadata": {
    "collapsed": false
   },
   "outputs": [
    {
     "data": {
      "text/plain": [
       "array([2259203, 600.0, 1, None, None, 1400, 54, 130000, '9000', '11', 1988], dtype=object)"
      ]
     },
     "execution_count": 22,
     "metadata": {},
     "output_type": "execute_result"
    }
   ],
   "source": [
    "orderedNumericalData[0]"
   ]
  },
  {
   "cell_type": "code",
   "execution_count": 18,
   "metadata": {
    "collapsed": false
   },
   "outputs": [
    {
     "data": {
      "text/plain": [
       "((76972, 13), (48686, 13))"
      ]
     },
     "execution_count": 18,
     "metadata": {},
     "output_type": "execute_result"
    }
   ],
   "source": [
    "def removeNones(data):\n",
    "    ''' data should be 2D'''\n",
    "    noNones = []\n",
    "    for i in data:\n",
    "        noEmpty = True\n",
    "        for j in i:\n",
    "            if not j:\n",
    "                noEmpty = False\n",
    "        if noEmpty:\n",
    "            noNones.append(i)\n",
    "    return np.array(noNones)\n",
    "\n",
    "noNones = removeNones(orderedNumericalData)\n",
    "orderedNumericalData.shape, noNones.shape"
   ]
  },
  {
   "cell_type": "code",
   "execution_count": 24,
   "metadata": {
    "collapsed": false
   },
   "outputs": [
    {
     "data": {
      "text/plain": [
       "[0, 10, 11, 13, 14, 1, 2, 3, 4, 5, 6, 7, 12]"
      ]
     },
     "execution_count": 24,
     "metadata": {},
     "output_type": "execute_result"
    }
   ],
   "source": [
    "categoryList"
   ]
  },
  {
   "cell_type": "code",
   "execution_count": 25,
   "metadata": {
    "collapsed": false
   },
   "outputs": [
    {
     "data": {
      "text/plain": [
       "((48686, 53), (48686, 123), (48686, 20), (48686, 4903))"
      ]
     },
     "execution_count": 25,
     "metadata": {},
     "output_type": "execute_result"
    }
   ],
   "source": [
    "def  categoryToBinaryMatrix(data, categoryColumnIndex):\n",
    "    binaries = []\n",
    "    \n",
    "    for i, key in enumerate(Counter(data[:, categoryColumnIndex]).keys()):\n",
    "        binaries.append( [int(1*boolean) for boolean in data[:, categoryColumnIndex] == key] )\n",
    "    return np.transpose(np.array(binaries))\n",
    "\n",
    "makeIDmatrix = categoryToBinaryMatrix(noNones, 1)\n",
    "modelIDmatrix = categoryToBinaryMatrix(noNones, 2)\n",
    "categorymatrix = categoryToBinaryMatrix(noNones, 3)\n",
    "colormatrix = categoryToBinaryMatrix(noNones, 4)\n",
    "makeIDmatrix.shape, modelIDmatrix.shape, categorymatrix.shape, colormatrix.shape"
   ]
  },
  {
   "cell_type": "code",
   "execution_count": 26,
   "metadata": {
    "collapsed": false
   },
   "outputs": [
    {
     "data": {
      "text/plain": [
       "((48686, 13), (48686, 209))"
      ]
     },
     "execution_count": 26,
     "metadata": {},
     "output_type": "execute_result"
    }
   ],
   "source": [
    "extendedNoNones = np.hstack([noNones, makeIDmatrix, modelIDmatrix, categorymatrix])\n",
    "noNones.shape, extendedNoNones.shape"
   ]
  },
  {
   "cell_type": "code",
   "execution_count": 29,
   "metadata": {
    "collapsed": false
   },
   "outputs": [
    {
     "name": "stdout",
     "output_type": "stream",
     "text": [
      "(48686, 204)\n",
      "(48686, 204)\n",
      "(48685, 204)\n",
      "(48660, 204)\n",
      "(48308, 204)\n",
      "(48238, 204)\n",
      "(48098, 204)\n",
      "(48072, 204)\n"
     ]
    }
   ],
   "source": [
    "# another preprocessing step: remove outliers\n",
    "\n",
    "#noNones4 = noNones.copy()\n",
    "noNones4 = extendedNoNones[:, 5:]\n",
    "\n",
    "for i in range(8):\n",
    "    col = noNones4[:, i].astype(float)\n",
    "    colMean = np.mean(col)\n",
    "    colStd = np.std(col)\n",
    "    \n",
    "    outliers = []\n",
    "    for c in col:\n",
    "        outliers.append(colMean - 3*colStd < c < colMean + 3*colStd)\n",
    "        \n",
    "    noNones4 = noNones4[outliers]\n",
    "    print(noNones4.shape)"
   ]
  },
  {
   "cell_type": "code",
   "execution_count": 70,
   "metadata": {
    "collapsed": false
   },
   "outputs": [],
   "source": [
    "# normalize data (min-max normalization)\n",
    "normalized = np.zeros_like(noNones4)\n",
    "\n",
    "for i in range(noNones4.shape[1]):\n",
    "    if i < 8:\n",
    "        col = noNones4[:, i].astype(float)\n",
    "        normalized[:, i] = (col-np.min(col))/(np.max(col) - np.min(col))\n",
    "    else:\n",
    "        normalized[:, i] = noNones4[:, i]\n",
    "\n"
   ]
  },
  {
   "cell_type": "code",
   "execution_count": 71,
   "metadata": {
    "collapsed": false
   },
   "outputs": [
    {
     "data": {
      "text/plain": [
       "(48072, 204)"
      ]
     },
     "execution_count": 71,
     "metadata": {},
     "output_type": "execute_result"
    }
   ],
   "source": [
    "normalized.shape"
   ]
  },
  {
   "cell_type": "code",
   "execution_count": 72,
   "metadata": {
    "collapsed": false
   },
   "outputs": [
    {
     "name": "stdout",
     "output_type": "stream",
     "text": [
      "0 adid\n",
      "1 adprice\n",
      "2 adspecificsfuel\n",
      "3 consumption\n",
      "4 emission\n",
      "5 cubiccapacity\n",
      "6 power\n",
      "7 mileage\n",
      "8 adspecificsmake\n",
      "9 adspecificsmodel\n",
      "10 adspecificsmakeid\n",
      "11 adspecificsmodelid\n",
      "12 adfirstregyear\n",
      "13 category\n",
      "14 manufacturercolorname\n",
      "15 dealerzip\n",
      "16 firstseen\n",
      "17 lastseen\n",
      "[0, 10, 11, 13, 14, 1, 2, 3, 4, 5, 6, 7, 12]\n"
     ]
    }
   ],
   "source": [
    "for i, v in enumerate(keys):\n",
    "    print(i, v)\n",
    "print(categoryList)"
   ]
  },
  {
   "cell_type": "code",
   "execution_count": 73,
   "metadata": {
    "collapsed": false
   },
   "outputs": [
    {
     "data": {
      "image/png": "[encoded data removed]",
      "text/plain": [
       "<matplotlib.figure.Figure at 0x1e9863dc208>"
      ]
     },
     "metadata": {},
     "output_type": "display_data"
    }
   ],
   "source": [
    "i=5\n",
    "plt.scatter(normalized[:, i], noNones4[:, 0])\n",
    "plt.xlabel(keys[categoryList[i+5]])\n",
    "#plt.xlabel('year first registered')\n",
    "plt.ylabel('ad price')\n",
    "plt.show()"
   ]
  },
  {
   "cell_type": "code",
   "execution_count": 74,
   "metadata": {
    "collapsed": false
   },
   "outputs": [
    {
     "name": "stdout",
     "output_type": "stream",
     "text": [
      "0 adid\n",
      "1 adspecificsmakeid\n",
      "2 adspecificsmodelid\n",
      "3 category\n",
      "4 manufacturercolorname\n",
      "5 adprice\n",
      "6 adspecificsfuel\n",
      "7 consumption\n",
      "8 emission\n",
      "9 cubiccapacity\n",
      "10 power\n",
      "11 mileage\n",
      "12 adfirstregyear\n"
     ]
    }
   ],
   "source": [
    "for i, c in enumerate(categoryList):\n",
    "    print (i, keys[c])"
   ]
  },
  {
   "cell_type": "markdown",
   "metadata": {},
   "source": [
    "## supervised learning"
   ]
  },
  {
   "cell_type": "code",
   "execution_count": 75,
   "metadata": {
    "collapsed": false
   },
   "outputs": [
    {
     "data": {
      "text/plain": [
       "((48072, 204), 16024.0, 9614.4)"
      ]
     },
     "execution_count": 75,
     "metadata": {},
     "output_type": "execute_result"
    }
   ],
   "source": [
    "oneThird = int(normalized.shape[0]/3)\n",
    "oneFifth = int(normalized.shape[0]/5)\n",
    "normalized.shape, normalized.shape[0]/3, normalized.shape[0]/5"
   ]
  },
  {
   "cell_type": "code",
   "execution_count": 103,
   "metadata": {
    "collapsed": true
   },
   "outputs": [],
   "source": [
    "from sklearn.linear_model import LinearRegression\n",
    "\n",
    "LR1 = LinearRegression(normalize=True)"
   ]
  },
  {
   "cell_type": "code",
   "execution_count": 104,
   "metadata": {
    "collapsed": false
   },
   "outputs": [
    {
     "data": {
      "text/plain": [
       "array([0.6943887775551102, 0.0, 0.036164844407064765, 0.28939828080229224,\n",
       "       0.2008059100067159, 0.24083769633507854, 0.1187876340574116,\n",
       "       0.8333333333333334, 0, 0, 0, 0, 0, 0, 0, 0, 0, 0, 0, 1, 0, 0, 0, 0,\n",
       "       0, 0, 0, 0, 0, 0, 0, 0, 0, 0, 0, 0, 0, 0, 0, 0, 0, 0, 0, 0, 0, 0, 0,\n",
       "       0, 0, 0, 0, 0, 0, 0, 0, 0, 0, 0, 0, 0, 0, 0, 0, 0, 0, 0, 0, 0, 1, 0,\n",
       "       0, 0, 0, 0, 0, 0, 0, 0, 0, 0, 0, 0, 0, 0, 0, 0, 0, 0, 0, 0, 0, 0, 0,\n",
       "       0, 0, 0, 0, 0, 0, 0, 0, 0, 0, 0, 0, 0, 0, 0, 0, 0, 0, 0, 0, 0, 0, 0,\n",
       "       0, 0, 0, 0, 0, 0, 0, 0, 0, 0, 0, 0, 0, 0, 0, 0, 0, 0, 0, 0, 0, 0, 0,\n",
       "       0, 0, 0, 0, 0, 0, 0, 0, 0, 0, 0, 0, 0, 0, 0, 0, 0, 0, 0, 0, 0, 0, 0,\n",
       "       0, 0, 0, 0, 0, 0, 0, 0, 0, 0, 0, 0, 0, 0, 0, 0, 0, 0, 0, 0, 0, 0, 0,\n",
       "       0, 0, 0, 1, 0, 0, 0, 0, 0, 0, 0, 0, 0, 0, 0, 0, 0, 0, 0], dtype=object)"
      ]
     },
     "execution_count": 104,
     "metadata": {},
     "output_type": "execute_result"
    }
   ],
   "source": [
    "normalized[100]"
   ]
  },
  {
   "cell_type": "code",
   "execution_count": 191,
   "metadata": {
    "collapsed": false
   },
   "outputs": [
    {
     "name": "stdout",
     "output_type": "stream",
     "text": [
      "0.730338681624\n",
      "0.716085061434\n"
     ]
    }
   ],
   "source": [
    "train_set_x = normalized[:oneFifth*3, 1:8].astype('float')\n",
    "train_set_y = list(normalized[:oneFifth*3, 0].astype('float'))\n",
    "\n",
    "test_set_x = normalized[oneFifth*3:oneFifth*4, 1:8].astype('float')\n",
    "test_set_y = list(normalized[oneFifth*3:oneFifth*4, 0].astype('float'))\n",
    "\n",
    "LR1.fit(train_set_x, train_set_y)\n",
    "\n",
    "print(LR1.score(train_set_x, train_set_y))\n",
    "print(LR1.score(test_set_x, test_set_y))"
   ]
  },
  {
   "cell_type": "code",
   "execution_count": 192,
   "metadata": {
    "collapsed": false
   },
   "outputs": [
    {
     "name": "stdout",
     "output_type": "stream",
     "text": [
      "0.709857247256\n"
     ]
    }
   ],
   "source": [
    "validate_set_x = normalized[oneFifth*4:, 1:8].astype('float')\n",
    "validate_set_y = list(normalized[oneFifth*4:, 0].astype('float'))\n",
    "\n",
    "print(LR1.score(validate_set_x, validate_set_y))"
   ]
  },
  {
   "cell_type": "code",
   "execution_count": 182,
   "metadata": {
    "collapsed": false
   },
   "outputs": [
    {
     "data": {
      "text/plain": [
       "[0, 10, 11, 13, 14, 1, 2, 3, 4, 5, 6, 7, 12]"
      ]
     },
     "execution_count": 182,
     "metadata": {},
     "output_type": "execute_result"
    }
   ],
   "source": [
    "categoryList"
   ]
  },
  {
   "cell_type": "code",
   "execution_count": 184,
   "metadata": {
    "collapsed": false,
    "scrolled": true
   },
   "outputs": [
    {
     "data": {
      "image/png": "[encoded data removed]",
      "text/plain": [
       "<matplotlib.figure.Figure at 0x1e9885626d8>"
      ]
     },
     "metadata": {},
     "output_type": "display_data"
    }
   ],
   "source": [
    "plt.figure(figsize=[9, 5])\n",
    "\n",
    "plt.bar(range(len(LR1.coef_)), LR1.coef_)\n",
    "plt.xticks(range(7), np.array(keys)[[2, 3, 4, 5, 6, 7, 12]], rotation=80)\n",
    "plt.ylabel('normalized price')\n",
    "plt.show()\n"
   ]
  },
  {
   "cell_type": "code",
   "execution_count": 185,
   "metadata": {
    "collapsed": true
   },
   "outputs": [
    {
     "data": {
      "text/plain": [
       "(-677273419166.49927,\n",
       " array([  3.30241512e-02,  -6.94513189e-02,  -1.19933778e-02,\n",
       "          2.73111321e-02,   5.14727030e-01,  -5.28704771e-01,\n",
       "          9.35468326e-01,   2.58678946e+10,   2.58678946e+10,\n",
       "          2.58678946e+10,   2.58678946e+10,   2.58678946e+10,\n",
       "          2.58678946e+10,   2.58678946e+10,   2.58678946e+10,\n",
       "          2.58678946e+10,   2.58678946e+10,   2.58678946e+10,\n",
       "          2.58678946e+10,   2.58678946e+10,   2.58678946e+10,\n",
       "          2.58678946e+10,   2.58678946e+10,   2.58678946e+10,\n",
       "          2.58678946e+10,   2.58678946e+10,   2.58678946e+10,\n",
       "          2.58678946e+10,   2.58678946e+10,   2.58678946e+10,\n",
       "          2.58678946e+10,   2.58678946e+10,   2.58678946e+10,\n",
       "          2.58678946e+10,   2.58678946e+10,   2.58678946e+10,\n",
       "          2.58678946e+10,   2.58678946e+10,   2.58678946e+10,\n",
       "          2.58678946e+10,   2.58678946e+10,   2.58678946e+10,\n",
       "          2.58678946e+10,   2.58678946e+10,   2.58678946e+10,\n",
       "          2.58678946e+10,   2.58678946e+10,   2.58678946e+10,\n",
       "          2.58678946e+10,   2.58678946e+10,   2.58678946e+10,\n",
       "          2.58678946e+10,   2.58678946e+10,   2.58678946e+10,\n",
       "          2.58678946e+10,   2.58678946e+10,   2.58678946e+10,\n",
       "          2.58678946e+10,   2.58678946e+10,   7.98066502e+13,\n",
       "          3.13046267e+11,   3.13046267e+11,   3.13046267e+11,\n",
       "          1.45897938e+14,   3.13046267e+11,   3.13046267e+11,\n",
       "          3.13046267e+11,   3.13046267e+11,   3.13046267e+11,\n",
       "          3.13046267e+11,   3.13046267e+11,   3.13046267e+11,\n",
       "          3.13046267e+11,   3.13046267e+11,   3.13046267e+11,\n",
       "          3.13046267e+11,   3.13046267e+11,   3.13046267e+11,\n",
       "          3.13046267e+11,   3.13046267e+11,   3.13046267e+11,\n",
       "          3.13046267e+11,   3.13046267e+11,   3.13046267e+11,\n",
       "          3.13046267e+11,   3.13046267e+11,   3.13046267e+11,\n",
       "          3.13046267e+11,   3.13046267e+11,   3.13046267e+11,\n",
       "          3.13046267e+11,   3.13046267e+11,   3.13046267e+11,\n",
       "          3.13046267e+11,   3.13046267e+11,   3.13046267e+11,\n",
       "          3.13046267e+11,   3.13046267e+11,   3.13046267e+11,\n",
       "          3.13046267e+11,   3.13046267e+11,   3.13046267e+11,\n",
       "          3.13046267e+11,   3.13046267e+11,   3.13046267e+11,\n",
       "          3.13046267e+11,  -2.54302130e+13,   3.13046267e+11,\n",
       "          3.13046267e+11,   3.13046267e+11,   1.42662571e+13,\n",
       "          3.13046267e+11,   3.13046267e+11,   3.13046267e+11,\n",
       "          3.13046267e+11,   3.13046267e+11,   3.13046267e+11,\n",
       "          3.13046267e+11,   3.13046267e+11,   3.13046267e+11,\n",
       "          3.13046267e+11,   3.13046267e+11,   3.13046267e+11,\n",
       "          3.13046267e+11,   3.13046267e+11,   3.13046267e+11,\n",
       "          3.13046267e+11,   3.13046267e+11,   1.11661731e+14,\n",
       "          3.13046267e+11,   3.13046267e+11,   3.13046267e+11,\n",
       "          3.13046267e+11,  -9.34104779e+13,   3.13046267e+11,\n",
       "          3.13046267e+11,   3.13046267e+11,   3.13046267e+11,\n",
       "         -4.78146266e+13,  -3.57298605e+13,   3.13046267e+11,\n",
       "          3.13046267e+11,  -3.87658916e+13,   4.32684887e+12,\n",
       "          1.89273139e+13,   3.13046267e+11,   3.13046267e+11,\n",
       "          3.13046267e+11,   3.13046267e+11,   3.13046267e+11,\n",
       "         -3.46435184e+12,   3.13046267e+11,  -2.63123014e+14,\n",
       "          3.13046267e+11,   1.46020711e+12,   3.13046267e+11,\n",
       "          3.13046267e+11,   3.13046267e+11,  -3.52093731e+13,\n",
       "         -9.38731580e+12,   3.13046267e+11,   3.13046267e+11,\n",
       "          3.13046267e+11,  -5.98579317e+13,   3.13046267e+11,\n",
       "          1.64475484e+14,   3.13046267e+11,  -2.75667388e+13,\n",
       "          3.13046267e+11,  -6.35793026e+13,   1.92197625e+14,\n",
       "          3.13046267e+11,  -3.09519934e+13,   3.13046267e+11,\n",
       "         -9.56252265e+11,   3.13046267e+11,   3.13046267e+11,\n",
       "         -3.12500000e-02,   0.00000000e+00,   7.81250000e-03,\n",
       "          0.00000000e+00,  -3.12500000e-02,   1.56250000e-02,\n",
       "          3.38359258e+11,   3.38359258e+11,   3.38359258e+11,\n",
       "          3.38359258e+11,   3.38359258e+11,   3.38359258e+11,\n",
       "          3.38359258e+11,   3.38359258e+11,   3.38359258e+11,\n",
       "          3.38359258e+11,   3.38359258e+11,   3.38359258e+11,\n",
       "          3.38359258e+11,   3.38359258e+11,   0.00000000e+00,\n",
       "          3.38359258e+11,   3.38359258e+11,   3.38359258e+11,\n",
       "          0.00000000e+00,   0.00000000e+00]))"
      ]
     },
     "execution_count": 185,
     "metadata": {},
     "output_type": "execute_result"
    }
   ],
   "source": [
    "LR1.intercept_, LR1.coef_"
   ]
  },
  {
   "cell_type": "code",
   "execution_count": 186,
   "metadata": {
    "collapsed": false
   },
   "outputs": [
    {
     "data": {
      "image/png": "[encoded data removed]",
      "text/plain": [
       "<matplotlib.figure.Figure at 0x1e988599828>"
      ]
     },
     "metadata": {},
     "output_type": "display_data"
    }
   ],
   "source": [
    "i=7\n",
    "plt.scatter(normalized[:, i], normalized[:, 0])\n",
    "\n",
    "plt.plot(np.arange(0, 1.1, 0.1), [j*LR1.coef_[i-1] for j in np.arange(0, 1.1, 0.1)], color='r')\n",
    "\n",
    "plt.xlabel(keys[categoryList[i+5]])\n",
    "#plt.xlabel('year first registered')\n",
    "plt.ylabel('ad price')\n",
    "plt.show()"
   ]
  },
  {
   "cell_type": "code",
   "execution_count": 157,
   "metadata": {
    "collapsed": false
   },
   "outputs": [
    {
     "data": {
      "text/plain": [
       "[-0.2195696487469917,\n",
       " -0.15404720727891158,\n",
       " -0.088524765810831463,\n",
       " -0.023002324342751318,\n",
       " 0.042520117125328771,\n",
       " 0.10804255859340889,\n",
       " 0.17356500006148906,\n",
       " 0.23908744152956918,\n",
       " 0.30460988299764924,\n",
       " 0.37013232446572941]"
      ]
     },
     "execution_count": 157,
     "metadata": {},
     "output_type": "execute_result"
    }
   ],
   "source": [
    "i=5\n",
    "[LR1.intercept_+ j * LR1.coef_[i-1] for j in np.arange(0, 1, 0.1)]"
   ]
  },
  {
   "cell_type": "code",
   "execution_count": null,
   "metadata": {
    "collapsed": true
   },
   "outputs": [],
   "source": []
  },
  {
   "cell_type": "code",
   "execution_count": 189,
   "metadata": {
    "collapsed": false
   },
   "outputs": [
    {
     "name": "stdout",
     "output_type": "stream",
     "text": [
      "0.813956953667\n",
      "0.794330718018\n"
     ]
    }
   ],
   "source": [
    "from sklearn.svm import SVR\n",
    "\n",
    "svm = SVR(kernel='linear', degree=3, gamma=0.1, tol=0.001, C=1.0)\n",
    "\n",
    "svm.fit(train_set_x, train_set_y)\n",
    "\n",
    "print(svm.score(train_set_x, train_set_y))\n",
    "print(svm.score(test_set_x, test_set_y))"
   ]
  },
  {
   "cell_type": "code",
   "execution_count": 190,
   "metadata": {
    "collapsed": false
   },
   "outputs": [
    {
     "name": "stdout",
     "output_type": "stream",
     "text": [
      "0.790626153899\n"
     ]
    }
   ],
   "source": [
    "print(svm.score(validate_set_x, validate_set_y))"
   ]
  },
  {
   "cell_type": "code",
   "execution_count": 123,
   "metadata": {
    "collapsed": false
   },
   "outputs": [
    {
     "name": "stdout",
     "output_type": "stream",
     "text": [
      "0.79056473672\n"
     ]
    }
   ],
   "source": [
    "#validate_set_x = normalized[oneThird*2:, 2:].astype('float')\n",
    "#validate_set_y = list(noNones2[oneThird*2:, 1].astype('int'))\n",
    "\n",
    "print(svm.score(validate_set_x, validate_set_y))"
   ]
  },
  {
   "cell_type": "code",
   "execution_count": 124,
   "metadata": {
    "collapsed": false
   },
   "outputs": [
    {
     "data": {
      "text/plain": [
       "(10578, 203)"
      ]
     },
     "execution_count": 124,
     "metadata": {},
     "output_type": "execute_result"
    }
   ],
   "source": [
    "svm.support_vectors_.shape"
   ]
  },
  {
   "cell_type": "code",
   "execution_count": null,
   "metadata": {
    "collapsed": false
   },
   "outputs": [],
   "source": []
  },
  {
   "cell_type": "code",
   "execution_count": 195,
   "metadata": {
    "collapsed": false
   },
   "outputs": [
    {
     "name": "stdout",
     "output_type": "stream",
     "text": [
      "0.550688521314\n",
      "0.528848322061\n"
     ]
    }
   ],
   "source": [
    "from sklearn.svm import SVR\n",
    "\n",
    "poly_svm = SVR(kernel='poly', degree=5, gamma=0.1, tol=0.001, C=10.0)\n",
    "\n",
    "poly_svm.fit(train_set_x, train_set_y)\n",
    "\n",
    "print(poly_svm.score(train_set_x, train_set_y))\n",
    "print(poly_svm.score(test_set_x, test_set_y))"
   ]
  },
  {
   "cell_type": "code",
   "execution_count": 194,
   "metadata": {
    "collapsed": false
   },
   "outputs": [
    {
     "name": "stdout",
     "output_type": "stream",
     "text": [
      "0.654677355609\n"
     ]
    }
   ],
   "source": [
    "print(poly_svm.score(validate_set_x, validate_set_y))"
   ]
  },
  {
   "cell_type": "code",
   "execution_count": null,
   "metadata": {
    "collapsed": true
   },
   "outputs": [],
   "source": []
  }
 ],
 "metadata": {
  "anaconda-cloud": {},
  "kernelspec": {
   "display_name": "Python 3",
   "language": "python",
   "name": "python3"
  },
  "language_info": {
   "codemirror_mode": {
    "name": "ipython",
    "version": 3
   },
   "file_extension": ".py",
   "mimetype": "text/x-python",
   "name": "python",
   "nbconvert_exporter": "python",
   "pygments_lexer": "ipython3",
   "version": "3.6.2"
  }
 },
 "nbformat": 4,
 "nbformat_minor": 1
}
