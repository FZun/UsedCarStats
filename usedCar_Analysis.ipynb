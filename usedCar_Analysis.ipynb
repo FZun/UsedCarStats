{
 "cells": [
  {
   "cell_type": "code",
   "execution_count": 1,
   "metadata": {
    "collapsed": true
   },
   "outputs": [],
   "source": [
    "# -*- coding: utf-8 -*-\n",
    "\n",
    "## standard packages\n",
    "import numpy as np\n",
    "import os\n",
    "import datetime\n",
    "from importlib import reload\n",
    "\n",
    "import configparser\n",
    "import json\n",
    "\n",
    "## Database\n",
    "import sqlite3\n",
    "\n",
    "# Data analysis\n",
    "import matplotlib.pyplot as plt\n",
    "\n",
    "import sklearn\n",
    "from sklearn.decomposition import PCA\n",
    "\n",
    "from collections import Counter\n",
    "\n",
    "import src.utils as utils\n",
    "import src.dataAnalysis as an\n"
   ]
  },
  {
   "cell_type": "markdown",
   "metadata": {},
   "source": [
    "# load and connect to Database\n"
   ]
  },
  {
   "cell_type": "code",
   "execution_count": 2,
   "metadata": {
    "collapsed": true
   },
   "outputs": [],
   "source": [
    "#database.close()\n",
    "database = utils.DataBase(os.getcwd() + \"/src/DataBase/carStats.db\")"
   ]
  },
  {
   "cell_type": "code",
   "execution_count": 3,
   "metadata": {
    "collapsed": true
   },
   "outputs": [],
   "source": [
    "database.connect()"
   ]
  },
  {
   "cell_type": "code",
   "execution_count": 4,
   "metadata": {
    "collapsed": true
   },
   "outputs": [],
   "source": [
    "cursor = database.getCursor()\n",
    "adData = database.execute(\"\"\"SELECT * FROM car\"\"\")"
   ]
  },
  {
   "cell_type": "code",
   "execution_count": 5,
   "metadata": {},
   "outputs": [
    {
     "name": "stdout",
     "output_type": "stream",
     "text": [
      "size of the dataset:  (76972, 46)\n"
     ]
    }
   ],
   "source": [
    "adData = np.array(adData)\n",
    "print(\"size of the dataset: \", adData.shape)"
   ]
  },
  {
   "cell_type": "markdown",
   "metadata": {},
   "source": [
    "## example with keys"
   ]
  },
  {
   "cell_type": "code",
   "execution_count": 6,
   "metadata": {
    "scrolled": true
   },
   "outputs": [
    {
     "name": "stdout",
     "output_type": "stream",
     "text": [
      "0 cubiccapacity\n",
      "    1.400 cm³\n",
      "1 adspecificsmodeldescription\n",
      "    Escort Ghia 1.4 mit guten Verdeck!!!!!\n",
      "2 manufacturercolorname\n",
      "    weiß\n",
      "3 featurevariants\n",
      "    None\n",
      "4 consumption\n",
      "    No Information\n",
      "5 adspecificsfuel\n",
      "    PETROL\n",
      "6 adspecificsmake\n",
      "    Ford\n",
      "7 firstseen\n",
      "    16.08.2017\n",
      "8 climatisation\n",
      "    Keine Klimaanlage oder -automatik\n",
      "9 dealercity\n",
      "    Weiden\n",
      "10 description\n",
      "    weißes Escort Cabrio mit roten, guten Verdeck,innen Velour grau,5-Gang,Preis 600Euro ohne Tüv unaufbereitet wie steht\n",
      "*auch mobil erreichbar unter 0175-5356136\n",
      "*\n",
      "11 adfirstregmonth\n",
      "    2\n",
      "12 interior\n",
      "    Velours, Grau\n",
      "13 adprice\n",
      "    600.0\n",
      "14 adspecificsmakeid\n",
      "    9000\n",
      "15 lastseen\n",
      "    2017-08-19\n",
      "16 adsegment\n",
      "    Car\n",
      "17 isdealer\n",
      "    True\n",
      "18 fuel\n",
      "    Benzin\n",
      "19 adspecificsmodel\n",
      "    Escort\n",
      "20 adspecificsmakemodel\n",
      "    Ford Escort\n",
      "21 hu\n",
      "    No Information\n",
      "22 firstregistration\n",
      "    02/1988\n",
      "23 adcurrency\n",
      "    EUR\n",
      "24 parkassist\n",
      "    No Information\n",
      "25 adspecificshsn\n",
      "    928\n",
      "26 adid\n",
      "    2259203\n",
      "27 airbag\n",
      "    No Information\n",
      "28 adcondition\n",
      "    USED\n",
      "29 sellertype\n",
      "    DEALER\n",
      "30 numberofpreviousowners\n",
      "    No Information\n",
      "31 color\n",
      "    None\n",
      "32 category\n",
      "    Cabrio / Roadster\n",
      "33 adspecificsmodelid\n",
      "    11\n",
      "34 mileage\n",
      "    130.000 km\n",
      "35 emission\n",
      "    No Information\n",
      "36 features\n",
      "    None\n",
      "37 numseats\n",
      "    No Information\n",
      "38 countryversion\n",
      "    No Information\n",
      "39 emissionssticker\n",
      "    No Information\n",
      "40 dealerzip\n",
      "    92637\n",
      "41 adfirstregyear\n",
      "    1988\n",
      "42 power\n",
      "    54 kW (73 PS)\n",
      "43 doorcount\n",
      "    2/3\n",
      "44 dealercountry\n",
      "    DE\n",
      "45 transmission\n",
      "    Schaltgetriebe\n"
     ]
    }
   ],
   "source": [
    "cursor = database.getCursor()\n",
    "keys = []\n",
    "for desc in cursor.description:\n",
    "    keys.append(desc[0])\n",
    "for i, v in enumerate(keys):\n",
    "    print (i, v)\n",
    "    print (\"   \", adData[0][i])"
   ]
  },
  {
   "cell_type": "markdown",
   "metadata": {},
   "source": [
    "## get the important data\n",
    "\n",
    "we are not (yet) interested in all the info in the DB, so we choose for now only numeric data\n",
    "\n",
    "some of the following variables will definitely correlate with the car price (e.g. mileage and power), whereas others most likely will only be noise (e.g. dealer zip)."
   ]
  },
  {
   "cell_type": "code",
   "execution_count": 7,
   "metadata": {
    "collapsed": true
   },
   "outputs": [],
   "source": [
    "sqlCommand = \"\"\"SELECT adid, \n",
    "                adprice,\n",
    "                \n",
    "                adspecificsfuel,\n",
    "                consumption,\n",
    "                emission,\n",
    "                cubiccapacity,\n",
    "                power,\n",
    "                mileage,\n",
    "                \n",
    "                adspecificsmake,\n",
    "                adspecificsmodel,\n",
    "                adspecificsmakeid,\n",
    "                adspecificsmodelid,\n",
    "                adfirstregyear,\n",
    "                category,\n",
    "                manufacturercolorname,\n",
    "                \n",
    "                dealerzip,\n",
    "                \n",
    "                firstseen,\n",
    "                lastseen\n",
    "                \n",
    "                FROM car\n",
    "                ORDER BY adid\n",
    "                \"\"\"\n",
    "\n",
    "orderedData = database.execute(sqlCommand)\n"
   ]
  },
  {
   "cell_type": "code",
   "execution_count": 8,
   "metadata": {},
   "outputs": [
    {
     "name": "stdout",
     "output_type": "stream",
     "text": [
      "0 adid\n",
      "1 adprice\n",
      "2 adspecificsfuel\n",
      "3 consumption\n",
      "4 emission\n",
      "5 cubiccapacity\n",
      "6 power\n",
      "7 mileage\n",
      "8 adspecificsmake\n",
      "9 adspecificsmodel\n",
      "10 adspecificsmakeid\n",
      "11 adspecificsmodelid\n",
      "12 adfirstregyear\n",
      "13 category\n",
      "14 manufacturercolorname\n",
      "15 dealerzip\n",
      "16 firstseen\n",
      "17 lastseen\n"
     ]
    }
   ],
   "source": [
    "cursor = database.getCursor()\n",
    "keys = []\n",
    "for i in cursor.description:\n",
    "    keys.append(i[0])\n",
    "    \n",
    "for i, v in enumerate(keys):\n",
    "    print(i, v)"
   ]
  },
  {
   "cell_type": "code",
   "execution_count": 9,
   "metadata": {
    "collapsed": true
   },
   "outputs": [],
   "source": [
    "# put data (list) into an array\n",
    "orderedArr = np.array(orderedData)"
   ]
  },
  {
   "cell_type": "code",
   "execution_count": 10,
   "metadata": {
    "scrolled": true
   },
   "outputs": [
    {
     "data": {
      "text/plain": [
       "Counter({'PETROL': 47356,\n",
       "         'DIESEL': 27651,\n",
       "         None: 697,\n",
       "         'LPG': 960,\n",
       "         'OTHER': 35,\n",
       "         'CNG': 187,\n",
       "         'ELECTRICITY': 30,\n",
       "         'HYBRID': 51,\n",
       "         'HYBRID_DIESEL': 3,\n",
       "         'HYDROGENIUM': 2})"
      ]
     },
     "execution_count": 10,
     "metadata": {},
     "output_type": "execute_result"
    }
   ],
   "source": [
    "Counter(orderedArr[:, 2])"
   ]
  },
  {
   "cell_type": "markdown",
   "metadata": {},
   "source": [
    "# preprocessing\n",
    "\n",
    "the following step is to process the data which is mostly strings in to comparable numerical data."
   ]
  },
  {
   "cell_type": "code",
   "execution_count": 11,
   "metadata": {
    "collapsed": true
   },
   "outputs": [],
   "source": [
    "for arr in orderedArr:\n",
    "    # convert fuel type to numbers 1-10\n",
    "    if arr[2] and 'No Information' not in arr[2]:\n",
    "        if 'PETROL' in arr[2]:\n",
    "            arr[2] = 1\n",
    "        elif 'DIESEL' in arr[2]:\n",
    "            arr[2] = 2\n",
    "        elif 'HYBRID_DIESEL' in arr[2]:\n",
    "            arr[2] = 3\n",
    "        elif 'CNG' in arr[2]:\n",
    "            arr[2] = 4   \n",
    "        elif 'HYDROGENIUM' in arr[2]:\n",
    "            arr[2] = 5\n",
    "        elif 'ELECTRICITY' in arr[2]:\n",
    "            arr[2] = 6     \n",
    "        elif 'HYBRID' in arr[2]:\n",
    "            arr[2] = 7      \n",
    "        elif 'LPG'in arr[2]:\n",
    "            arr[2] = 8    \n",
    "        elif 'OTHER' in arr[2]:\n",
    "            arr[2] = 9   \n",
    "        else: #None\n",
    "            arr[2] = 10\n",
    "    \n",
    "    \n",
    "    # process fuel consumption\n",
    "    if arr[3] and 'No Information' not in arr[3] and 'l/100km' in arr[3]:\n",
    "        try:\n",
    "            arr[3] = float(arr[3][1:arr[3].find(' l/100km')].replace(',', '.'))\n",
    "        except Exception as e:\n",
    "            print (e)\n",
    "            print (arr)\n",
    "            break\n",
    "    #elif arr[3] and 'No Information' not in arr[3]:\n",
    "    #    arr[3] -> if cng or electricity\n",
    "    else:\n",
    "        arr[3] = None\n",
    "    # process emission values\n",
    "    if arr[4] and 'No Information' not in arr[4]:\n",
    "        arr[4] = float(arr[4][1:arr[4].find(' g/km (kombiniert)')].replace(',', '.'))\n",
    "    else:\n",
    "        arr[4] = None\n",
    "    # process cubiccapacity\n",
    "    if arr[5] and 'No Information' not in arr[5]:\n",
    "        arr[5] = int(arr[5][:arr[5].find(' cm')].replace('.', ''))\n",
    "    else:\n",
    "        arr[5] = None\n",
    "    # process power\n",
    "    if arr[6] and 'No Information' not in arr[6]:\n",
    "        arr[6] = int(arr[6][:arr[6].find(' kW')].replace('.', ''))\n",
    "    else:\n",
    "        arr[6] = None\n",
    "    # process mileage\n",
    "    if arr[7] and 'No Information' not in arr[7]:\n",
    "        arr[7] = int(arr[7].replace('.', '')[:-3])\n",
    "    else:\n",
    "        arr[7] = None"
   ]
  },
  {
   "cell_type": "code",
   "execution_count": 12,
   "metadata": {},
   "outputs": [
    {
     "data": {
      "text/plain": [
       "array([2259203, 600.0, 1, None, None, 1400, 54, 130000, 'Ford', 'Escort',\n",
       "       '9000', '11', 1988, 'Cabrio / Roadster', 'weiß', 92637,\n",
       "       '16.08.2017', '2017-08-19'], dtype=object)"
      ]
     },
     "execution_count": 12,
     "metadata": {},
     "output_type": "execute_result"
    }
   ],
   "source": [
    "#Example:\n",
    "orderedArr[0]"
   ]
  },
  {
   "cell_type": "markdown",
   "metadata": {},
   "source": [
    "# first look at the data\n",
    "without machine learning and big data techniques"
   ]
  },
  {
   "cell_type": "code",
   "execution_count": 13,
   "metadata": {},
   "outputs": [
    {
     "data": {
      "image/png": "[encoded data removed]",
      "text/plain": [
       "<matplotlib.figure.Figure at 0x7f4442768390>"
      ]
     },
     "metadata": {},
     "output_type": "display_data"
    }
   ],
   "source": [
    "price = []\n",
    "\n",
    "for arr in orderedArr:\n",
    "    if arr[2]:\n",
    "        price.append(arr[1])\n",
    "price.sort()\n",
    "\n",
    "plt.hist(price, bins=50, normed=True)\n",
    "plt.xlabel('Ad Price [€]')\n",
    "plt.show()"
   ]
  },
  {
   "cell_type": "markdown",
   "metadata": {},
   "source": [
    "note: on a first glance, the price information is not at all gaussian and even some structure can be seen in this simple histogram plot. However, since the search mask from the data mining is selecting cars depending on their price, it is likely that this data is not representative for the whole car market."
   ]
  },
  {
   "cell_type": "code",
   "execution_count": 14,
   "metadata": {},
   "outputs": [
    {
     "data": {
      "image/png": "[encoded data removed]",
      "text/plain": [
       "<matplotlib.figure.Figure at 0x7f43f3990320>"
      ]
     },
     "metadata": {},
     "output_type": "display_data"
    }
   ],
   "source": [
    "consumption = []\n",
    "\n",
    "for arr in orderedArr:\n",
    "    if arr[3]:\n",
    "        consumption.append(arr[3]) # remove NoneTypes\n",
    "consumption.sort()\n",
    "consumption = consumption[:-100] # remove extreme outliers\n",
    "\n",
    "plt.hist(consumption, bins=50, normed=True)\n",
    "plt.xlabel('Consumption [l/100km]')\n",
    "plt.show()"
   ]
  },
  {
   "cell_type": "code",
   "execution_count": 15,
   "metadata": {},
   "outputs": [
    {
     "data": {
      "image/png": "[encoded data removed]",
      "text/plain": [
       "<matplotlib.figure.Figure at 0x7f43f39905f8>"
      ]
     },
     "metadata": {},
     "output_type": "display_data"
    }
   ],
   "source": [
    "emission = []\n",
    "\n",
    "for arr in orderedArr:\n",
    "    if arr[4]:\n",
    "        emission.append(arr[4]) # remove NoneTypes\n",
    "emission.sort()\n",
    "emission = emission[:-30] # remove extreme outliers\n",
    "\n",
    "plt.hist(emission, bins=50, normed=True)\n",
    "plt.xlabel('Emission [g/100km]')\n",
    "plt.show()"
   ]
  },
  {
   "cell_type": "code",
   "execution_count": 16,
   "metadata": {},
   "outputs": [
    {
     "data": {
      "image/png": "[encoded data removed]",
      "text/plain": [
       "<matplotlib.figure.Figure at 0x7f43f3990cf8>"
      ]
     },
     "metadata": {},
     "output_type": "display_data"
    }
   ],
   "source": [
    "cubiccapacity = []\n",
    "\n",
    "for arr in orderedArr:\n",
    "    if arr[5]:\n",
    "        cubiccapacity.append(arr[5]) # remove NoneTypes\n",
    "cubiccapacity.sort()\n",
    "cubiccapacity = cubiccapacity[:-100] # remove extreme outliers\n",
    "\n",
    "plt.hist(cubiccapacity, bins=50, normed=True)\n",
    "plt.xlabel('Cubic Capacity [cm³]')\n",
    "plt.show()"
   ]
  },
  {
   "cell_type": "code",
   "execution_count": 17,
   "metadata": {},
   "outputs": [
    {
     "data": {
      "image/png": "[encoded data removed]",
      "text/plain": [
       "<matplotlib.figure.Figure at 0x7f44554f48d0>"
      ]
     },
     "metadata": {},
     "output_type": "display_data"
    }
   ],
   "source": [
    "power = []\n",
    "\n",
    "for arr in orderedArr:\n",
    "    if arr[6]:\n",
    "        power.append(arr[6]) # remove NoneTypes\n",
    "power.sort()\n",
    "power = power[:-100] # remove extreme outliers\n",
    "\n",
    "plt.hist(power, bins=50, normed=True)\n",
    "plt.xlabel('Power [kW]')\n",
    "plt.show()"
   ]
  },
  {
   "cell_type": "code",
   "execution_count": 18,
   "metadata": {},
   "outputs": [
    {
     "data": {
      "image/png": "[encoded data removed]",
      "text/plain": [
       "<matplotlib.figure.Figure at 0x7f43f363d828>"
      ]
     },
     "metadata": {},
     "output_type": "display_data"
    }
   ],
   "source": [
    "mileage = []\n",
    "\n",
    "for arr in orderedArr:\n",
    "    if arr[7]:\n",
    "        mileage.append(arr[7]) # remove NoneTypes\n",
    "mileage.sort()\n",
    "mileage = mileage[:-100] # remove extreme outliers\n",
    "\n",
    "plt.hist(mileage, bins=50, normed=True)\n",
    "plt.xlabel('mileage [km]')\n",
    "plt.show()"
   ]
  },
  {
   "cell_type": "code",
   "execution_count": 19,
   "metadata": {},
   "outputs": [
    {
     "data": {
      "image/png": "[encoded data removed]",
      "text/plain": [
       "<matplotlib.figure.Figure at 0x7f43f33e89e8>"
      ]
     },
     "metadata": {},
     "output_type": "display_data"
    },
    {
     "data": {
      "image/png": "[encoded data removed]",
      "text/plain": [
       "<matplotlib.figure.Figure at 0x7f43f33f0080>"
      ]
     },
     "metadata": {},
     "output_type": "display_data"
    }
   ],
   "source": [
    "firstregyear = []\n",
    "\n",
    "for arr in orderedArr:\n",
    "    if arr[12]:\n",
    "        firstregyear.append(arr[12]) # remove NoneTypes\n",
    "firstregyear.sort()\n",
    "#firstregyear = firstregyear[100:] # remove extreme outliers\n",
    "\n",
    "plt.hist(firstregyear, bins=50, normed=True)\n",
    "plt.xlabel('Year of first registration')\n",
    "plt.show()\n",
    "\n",
    "plt.hist(firstregyear[100:], bins=50, normed=True)\n",
    "plt.xlabel('Year of first registration')\n",
    "plt.show()"
   ]
  },
  {
   "cell_type": "markdown",
   "metadata": {
    "collapsed": true
   },
   "source": [
    "# second look at the data - with ML techniques"
   ]
  },
  {
   "cell_type": "markdown",
   "metadata": {},
   "source": [
    "Now let's do some real stuff\n",
    "\n",
    "- first, get all the data that can actually be translated into numerical data, or is already\n",
    "\n",
    "- then, normalize and preprocess it if necessary\n",
    "\n",
    "- now, we could do something like a PCA, linear regression, decision trees, etc."
   ]
  },
  {
   "cell_type": "code",
   "execution_count": 20,
   "metadata": {},
   "outputs": [
    {
     "name": "stdout",
     "output_type": "stream",
     "text": [
      "0 adid\n",
      "1 adprice\n",
      "2 adspecificsfuel\n",
      "3 consumption\n",
      "4 emission\n",
      "5 cubiccapacity\n",
      "6 power\n",
      "7 mileage\n",
      "8 adspecificsmake\n",
      "9 adspecificsmodel\n",
      "10 adspecificsmakeid\n",
      "11 adspecificsmodelid\n",
      "12 adfirstregyear\n",
      "13 category\n",
      "14 manufacturercolorname\n",
      "15 dealerzip\n",
      "16 firstseen\n",
      "17 lastseen\n"
     ]
    }
   ],
   "source": [
    "for i, v in enumerate(keys):\n",
    "    print(i, v)"
   ]
  },
  {
   "cell_type": "code",
   "execution_count": 21,
   "metadata": {},
   "outputs": [
    {
     "data": {
      "text/plain": [
       "(76972, 11)"
      ]
     },
     "execution_count": 21,
     "metadata": {},
     "output_type": "execute_result"
    }
   ],
   "source": [
    "categoryList = [0, 1, 2, 3, 4, 5, 6, 7, 10, 11, 12]\n",
    "#categoryList = [1, 2, 3, 4, 5, 6, 7]\n",
    "orderedNumericalData = orderedArr[:, categoryList]\n",
    "orderedNumericalData.shape"
   ]
  },
  {
   "cell_type": "code",
   "execution_count": 22,
   "metadata": {},
   "outputs": [
    {
     "data": {
      "text/plain": [
       "((76972, 11), (49137, 11))"
      ]
     },
     "execution_count": 22,
     "metadata": {},
     "output_type": "execute_result"
    }
   ],
   "source": [
    "noNones = []# remove rows with missing data\n",
    "\n",
    "for i in orderedNumericalData:\n",
    "    noEmpty = True\n",
    "    for j in i:\n",
    "        if not j:\n",
    "            noEmpty = False\n",
    "    if noEmpty:\n",
    "        noNones.append(i)\n",
    "noNones = np.array(noNones)\n",
    "orderedNumericalData.shape, noNones.shape"
   ]
  },
  {
   "cell_type": "code",
   "execution_count": 23,
   "metadata": {},
   "outputs": [
    {
     "name": "stdout",
     "output_type": "stream",
     "text": [
      "(48221, 11)\n",
      "(48221, 11)\n",
      "(47775, 11)\n",
      "(47774, 11)\n",
      "(47749, 11)\n",
      "(47405, 11)\n",
      "(47336, 11)\n",
      "(47199, 11)\n",
      "(47199, 11)\n",
      "(46583, 11)\n",
      "(46557, 11)\n"
     ]
    }
   ],
   "source": [
    "# another preprocessing step: remove outliers\n",
    "\n",
    "noNones2 = noNones.copy()\n",
    "\n",
    "for i in range(noNones.shape[1]):\n",
    "    col = noNones2[:, i].astype(float)\n",
    "    colMean = np.mean(col)\n",
    "    colStd = np.std(col)\n",
    "    \n",
    "    outliers = []\n",
    "    for c in col:\n",
    "        outliers.append(colMean - 3*colStd < c < colMean + 3*colStd)\n",
    "        \n",
    "    noNones2 = noNones2[outliers]\n",
    "    print(noNones2.shape)"
   ]
  },
  {
   "cell_type": "code",
   "execution_count": 24,
   "metadata": {},
   "outputs": [],
   "source": [
    "# normalize data (min-max normalization)\n",
    "normalized = np.zeros_like(noNones2)\n",
    "\n",
    "for i in range(noNones2.shape[1]):\n",
    "    col = noNones2[:, i].astype(float)\n",
    "    \n",
    "    normalized[:, i] = (col-np.min(col))/(np.max(col) - np.min(col))\n",
    "\n"
   ]
  },
  {
   "cell_type": "code",
   "execution_count": 25,
   "metadata": {},
   "outputs": [
    {
     "data": {
      "text/plain": [
       "(['adid',\n",
       "  'adprice',\n",
       "  'adspecificsfuel',\n",
       "  'consumption',\n",
       "  'emission',\n",
       "  'cubiccapacity',\n",
       "  'power',\n",
       "  'mileage',\n",
       "  'adspecificsmake',\n",
       "  'adspecificsmodel',\n",
       "  'adspecificsmakeid',\n",
       "  'adspecificsmodelid',\n",
       "  'adfirstregyear',\n",
       "  'category',\n",
       "  'manufacturercolorname',\n",
       "  'dealerzip',\n",
       "  'firstseen',\n",
       "  'lastseen'],\n",
       " 18)"
      ]
     },
     "execution_count": 25,
     "metadata": {},
     "output_type": "execute_result"
    }
   ],
   "source": [
    "keys, len(keys)"
   ]
  },
  {
   "cell_type": "code",
   "execution_count": 26,
   "metadata": {},
   "outputs": [
    {
     "data": {
      "image/png": "[encoded data removed]",
      "text/plain": [
       "<matplotlib.figure.Figure at 0x7f43f335aeb8>"
      ]
     },
     "metadata": {},
     "output_type": "display_data"
    }
   ],
   "source": [
    "i=10\n",
    "plt.scatter(normalized[:, i], noNones2[:, 1])\n",
    "plt.xlabel(keys[categoryList[i]])\n",
    "plt.ylabel('ad price')\n",
    "plt.show()"
   ]
  },
  {
   "cell_type": "markdown",
   "metadata": {},
   "source": [
    "## PCA"
   ]
  },
  {
   "cell_type": "code",
   "execution_count": 27,
   "metadata": {
    "collapsed": true
   },
   "outputs": [],
   "source": [
    "from sklearn.decomposition import PCA"
   ]
  },
  {
   "cell_type": "code",
   "execution_count": 28,
   "metadata": {},
   "outputs": [
    {
     "data": {
      "image/png": "[encoded data removed]",
      "text/plain": [
       "<matplotlib.figure.Figure at 0x7f43f34e9c88>"
      ]
     },
     "metadata": {},
     "output_type": "display_data"
    }
   ],
   "source": [
    "pca = PCA(n_components = 10)\n",
    "\n",
    "scores = pca.fit_transform(normalized)\n",
    "\n",
    "reload(an)\n",
    "\n",
    "fig, plot = an.pcascoreplot(scores, ncomponents=5, alpha=0.5, explained_variance=pca.explained_variance_ratio_,\n",
    "                           figsize=[12, 8])\n",
    "\n",
    "plt.show()"
   ]
  },
  {
   "cell_type": "markdown",
   "metadata": {},
   "source": [
    "after outlier removal, only diesel and petrol cars are left in the data, which is why we see these two separate groups"
   ]
  },
  {
   "cell_type": "code",
   "execution_count": 29,
   "metadata": {},
   "outputs": [
    {
     "name": "stdout",
     "output_type": "stream",
     "text": [
      "0 0.45294 0.452943502884\n",
      "1 0.18632 0.639267842094\n",
      "2 0.14004 0.779306626943\n",
      "3 0.08275 0.862060680956\n",
      "4 0.05347 0.915534614425\n",
      "5 0.04153 0.957065327001\n",
      "6 0.01991 0.976971611477\n",
      "7 0.01171 0.98868053528\n",
      "8 0.00712 0.995799200452\n",
      "9 0.00391 0.999710270545\n"
     ]
    }
   ],
   "source": [
    "for i, v in enumerate(pca.explained_variance_ratio_):\n",
    "    print (i, \"%2.5f\" %v, sum(pca.explained_variance_ratio_[:i+1]))"
   ]
  },
  {
   "cell_type": "markdown",
   "metadata": {},
   "source": [
    "about 8 principal components are needed to get around 99% of the total variance in the data"
   ]
  },
  {
   "cell_type": "code",
   "execution_count": 30,
   "metadata": {},
   "outputs": [
    {
     "data": {
      "image/png": "[encoded data removed]",
      "text/plain": [
       "<matplotlib.figure.Figure at 0x7f43f351ac50>"
      ]
     },
     "metadata": {},
     "output_type": "display_data"
    }
   ],
   "source": [
    "f, ax = plt.subplots(nrows=8, sharex=True, figsize=[12, 10])\n",
    "for i, ai in enumerate(ax):\n",
    "    ai.bar(range(11), pca.components_[i])\n",
    "ax[i].set_xticks(range(11))\n",
    "ax[i].set_xticklabels(np.array(keys)[categoryList], rotation=80)\n",
    "#ax[3].set_xlabel(*)\n",
    "plt.show()"
   ]
  },
  {
   "cell_type": "code",
   "execution_count": 31,
   "metadata": {},
   "outputs": [
    {
     "data": {
      "image/png": "[encoded data removed]",
      "text/plain": [
       "<matplotlib.figure.Figure at 0x7f43f3421320>"
      ]
     },
     "metadata": {},
     "output_type": "display_data"
    }
   ],
   "source": [
    "plt.scatter(noNones2[:, 10], noNones2[:, 1])\n",
    "\n",
    "plt.show()"
   ]
  },
  {
   "cell_type": "code",
   "execution_count": 32,
   "metadata": {},
   "outputs": [
    {
     "name": "stdout",
     "output_type": "stream",
     "text": [
      "0 adid\n",
      "1 adprice\n",
      "2 adspecificsfuel\n",
      "3 consumption\n",
      "4 emission\n",
      "5 cubiccapacity\n",
      "6 power\n",
      "7 mileage\n",
      "8 adspecificsmakeid\n",
      "9 adspecificsmodelid\n",
      "10 adfirstregyear\n"
     ]
    }
   ],
   "source": [
    "for i, c in enumerate(categoryList):\n",
    "    print (i, keys[c])"
   ]
  },
  {
   "cell_type": "markdown",
   "metadata": {},
   "source": [
    "## supervised learning"
   ]
  },
  {
   "cell_type": "code",
   "execution_count": 33,
   "metadata": {},
   "outputs": [
    {
     "data": {
      "text/plain": [
       "((46557, 11), 15519.0, 9311.4)"
      ]
     },
     "execution_count": 33,
     "metadata": {},
     "output_type": "execute_result"
    }
   ],
   "source": [
    "oneThird = int(noNones2.shape[0]/3)\n",
    "oneFifth = int(noNones2.shape[0]/5)\n",
    "noNones2.shape, noNones2.shape[0]/3, noNones2.shape[0]/5"
   ]
  },
  {
   "cell_type": "code",
   "execution_count": 34,
   "metadata": {
    "collapsed": true
   },
   "outputs": [],
   "source": [
    "from sklearn.linear_model import LinearRegression\n",
    "\n",
    "LR1 = LinearRegression()"
   ]
  },
  {
   "cell_type": "code",
   "execution_count": 36,
   "metadata": {},
   "outputs": [
    {
     "name": "stdout",
     "output_type": "stream",
     "text": [
      "0.735145668137\n",
      "0.722240725012\n"
     ]
    }
   ],
   "source": [
    "train_set_x = normalized[:oneFifth*3, 2:].astype('float')\n",
    "train_set_y = list(noNones2[:oneFifth*3, 1].astype('int'))\n",
    "\n",
    "test_set_x = normalized[oneFifth*3:oneFifth*4, 2:].astype('float')\n",
    "test_set_y = list(noNones2[oneFifth*3:oneFifth*4, 1].astype('int'))\n",
    "\n",
    "LR1.fit(train_set_x, train_set_y)\n",
    "\n",
    "print(LR1.score(train_set_x, train_set_y))\n",
    "print(LR1.score(test_set_x, test_set_y))"
   ]
  },
  {
   "cell_type": "code",
   "execution_count": 37,
   "metadata": {},
   "outputs": [
    {
     "name": "stdout",
     "output_type": "stream",
     "text": [
      "0.717057351225\n"
     ]
    }
   ],
   "source": [
    "validate_set_x = normalized[oneFifth*4:, 2:].astype('float')\n",
    "validate_set_y = list(noNones2[oneFifth*4:, 1].astype('int'))\n",
    "\n",
    "print(LR1.score(validate_set_x, validate_set_y))"
   ]
  },
  {
   "cell_type": "code",
   "execution_count": 38,
   "metadata": {},
   "outputs": [
    {
     "data": {
      "text/plain": [
       "[0, 1, 2, 3, 4, 5, 6, 7, 10, 11, 12]"
      ]
     },
     "execution_count": 38,
     "metadata": {},
     "output_type": "execute_result"
    }
   ],
   "source": [
    "categoryList"
   ]
  },
  {
   "cell_type": "code",
   "execution_count": 39,
   "metadata": {},
   "outputs": [
    {
     "data": {
      "image/png": "[encoded data removed]",
      "text/plain": [
       "<matplotlib.figure.Figure at 0x7f43f02e1978>"
      ]
     },
     "metadata": {},
     "output_type": "display_data"
    }
   ],
   "source": [
    "plt.figure(figsize=[10, 6])\n",
    "\n",
    "plt.bar(range(9), LR1.coef_)\n",
    "plt.xticks(range(9), np.array(keys)[2:], rotation=80)\n",
    "plt.ylabel('emission')\n",
    "plt.show()\n"
   ]
  },
  {
   "cell_type": "code",
   "execution_count": 40,
   "metadata": {},
   "outputs": [
    {
     "name": "stdout",
     "output_type": "stream",
     "text": [
      "0.887728675659\n",
      "0.831945458584\n"
     ]
    }
   ],
   "source": [
    "from sklearn.svm import SVR\n",
    "\n",
    "svm = SVR(kernel='rbf', degree=3, gamma=15, tol=0.001, C=7000.0)\n",
    "\n",
    "svm.fit(train_set_x, train_set_y)\n",
    "\n",
    "print(svm.score(train_set_x, train_set_y))\n",
    "print(svm.score(test_set_x, test_set_y))"
   ]
  },
  {
   "cell_type": "code",
   "execution_count": 41,
   "metadata": {},
   "outputs": [
    {
     "name": "stdout",
     "output_type": "stream",
     "text": [
      "0.835583630239\n"
     ]
    }
   ],
   "source": [
    "#validate_set_x = normalized[oneThird*2:, 2:].astype('float')\n",
    "#validate_set_y = list(noNones2[oneThird*2:, 1].astype('int'))\n",
    "\n",
    "print(svm.score(validate_set_x, validate_set_y))"
   ]
  },
  {
   "cell_type": "code",
   "execution_count": null,
   "metadata": {
    "collapsed": true
   },
   "outputs": [],
   "source": []
  },
  {
   "cell_type": "code",
   "execution_count": 281,
   "metadata": {},
   "outputs": [
    {
     "name": "stdout",
     "output_type": "stream",
     "text": [
      "0.750743915396\n",
      "0.696426976723\n"
     ]
    }
   ],
   "source": [
    "from sklearn.svm import SVR\n",
    "\n",
    "svm = SVR(kernel='linear', degree=3, gamma=15, tol=0.001, C=15000.0)\n",
    "\n",
    "svm.fit(train_set_x, train_set_y)\n",
    "\n",
    "print(svm.score(train_set_x, train_set_y))\n",
    "print(svm.score(test_set_x, test_set_y))"
   ]
  },
  {
   "cell_type": "code",
   "execution_count": null,
   "metadata": {
    "collapsed": true
   },
   "outputs": [],
   "source": []
  }
 ],
 "metadata": {
  "anaconda-cloud": {},
  "kernelspec": {
   "display_name": "Python 3",
   "language": "python",
   "name": "python3"
  },
  "language_info": {
   "codemirror_mode": {
    "name": "ipython",
    "version": 3
   },
   "file_extension": ".py",
   "mimetype": "text/x-python",
   "name": "python",
   "nbconvert_exporter": "python",
   "pygments_lexer": "ipython3",
   "version": "3.6.1"
  }
 },
 "nbformat": 4,
 "nbformat_minor": 1
}
