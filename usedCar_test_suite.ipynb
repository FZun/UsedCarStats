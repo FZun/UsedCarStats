{
 "cells": [
  {
   "cell_type": "code",
   "execution_count": 1,
   "metadata": {
    "collapsed": false
   },
   "outputs": [],
   "source": [
    "# -*- coding: utf-8 -*-\n",
    "\n",
    "## standard packages\n",
    "import numpy as np\n",
    "import os\n",
    "import datetime\n",
    "\n",
    "## Config Parster for initiation\n",
    "import configparser\n",
    "\n",
    "## HTTP scraping packages\n",
    "from lxml import html\n",
    "import requests\n",
    "\n",
    "#import httplib2\n",
    "import urllib\n",
    "\n",
    "from bs4 import BeautifulSoup, SoupStrainer\n",
    "import json\n",
    "\n",
    "## Database\n",
    "import sqlite3\n",
    "\n",
    "import src.utils as utils"
   ]
  },
  {
   "cell_type": "code",
   "execution_count": 2,
   "metadata": {
    "collapsed": false,
    "scrolled": true
   },
   "outputs": [
    {
     "name": "stdout",
     "output_type": "stream",
     "text": [
      "WebPages\n",
      "additionalAdInfo\n",
      "dbInit\n"
     ]
    }
   ],
   "source": [
    "pagesConfig = configparser.ConfigParser()\n",
    "pagesConfig.read(\"config/siteSpecifics.ini\")\n",
    "\n",
    "for section in pagesConfig.sections():\n",
    "    print(section)\n",
    "    #for option in pagesConfig.options(section):\n",
    "        #print(option, pagesConfig.get(section, option))\n",
    "    #    print (section, option)"
   ]
  },
  {
   "cell_type": "code",
   "execution_count": 3,
   "metadata": {
    "collapsed": false
   },
   "outputs": [
    {
     "name": "stdout",
     "output_type": "stream",
     "text": [
      "http://suchen.mobile.de/fahrzeuge/search.html?scopeId=C&damageUnrepaired=NO_DAMAGE_UNREPAIRED&scopeId=C&isSearchRequest=true&sortOption.sortBy=creationTime&sortOption.sortOrder=DESCENDING&pageNumber=\n"
     ]
    }
   ],
   "source": [
    "searchPage = pagesConfig.get('WebPages', 'mobile.de')\n",
    "print(searchPage)"
   ]
  },
  {
   "cell_type": "code",
   "execution_count": null,
   "metadata": {
    "collapsed": true
   },
   "outputs": [],
   "source": [
    "http://suchen.mobile.de/fahrzeuge/search.html?damageUnrepaired=NO_DAMAGE_UNREPAIRED&isSearchRequest=true&scopeId=C&scopeId=C&\n",
    "    sortOption.sortBy=creationTime&sortOption.sortOrder=DESCENDING"
   ]
  },
  {
   "cell_type": "code",
   "execution_count": 62,
   "metadata": {
    "collapsed": false,
    "scrolled": true
   },
   "outputs": [
    {
     "name": "stdout",
     "output_type": "stream",
     "text": [
      "0 0 1000 997\n",
      "1 1000 2000 1950\n",
      "2 2000 3000 2896\n",
      "3 3000 4000 3863\n",
      "4 4000 5000 4827\n",
      "5 5000 6000 5796\n",
      "6 6000 7000 6752\n",
      "7 7000 8000 7718\n",
      "8 8000 9000 8690\n",
      "9 9000 10000 9673\n"
     ]
    },
    {
     "ename": "KeyboardInterrupt",
     "evalue": "",
     "output_type": "error",
     "traceback": [
      "\u001b[1;31m---------------------------------------------------------------------------\u001b[0m",
      "\u001b[1;31mKeyboardInterrupt\u001b[0m                         Traceback (most recent call last)",
      "\u001b[1;32m<ipython-input-62-a246b4c76f79>\u001b[0m in \u001b[0;36m<module>\u001b[1;34m()\u001b[0m\n\u001b[0;32m     20\u001b[0m         \u001b[0mreq\u001b[0m \u001b[1;33m=\u001b[0m \u001b[0mrequests\u001b[0m\u001b[1;33m.\u001b[0m\u001b[0mget\u001b[0m\u001b[1;33m(\u001b[0m\u001b[0msearchPage\u001b[0m\u001b[1;33m,\u001b[0m \u001b[0mparams\u001b[0m\u001b[1;33m=\u001b[0m\u001b[0mpayload\u001b[0m\u001b[1;33m)\u001b[0m\u001b[1;33m\u001b[0m\u001b[0m\n\u001b[0;32m     21\u001b[0m         \u001b[1;31m#print(req.url)\u001b[0m\u001b[1;33m\u001b[0m\u001b[1;33m\u001b[0m\u001b[0m\n\u001b[1;32m---> 22\u001b[1;33m         \u001b[0msoup\u001b[0m \u001b[1;33m=\u001b[0m \u001b[0mBeautifulSoup\u001b[0m\u001b[1;33m(\u001b[0m\u001b[0mreq\u001b[0m\u001b[1;33m.\u001b[0m\u001b[0mtext\u001b[0m\u001b[1;33m,\u001b[0m \u001b[1;34m\"lxml\"\u001b[0m\u001b[1;33m)\u001b[0m\u001b[1;33m\u001b[0m\u001b[0m\n\u001b[0m\u001b[0;32m     23\u001b[0m         \u001b[1;32mfor\u001b[0m \u001b[0mlink\u001b[0m \u001b[1;32min\u001b[0m \u001b[0msoup\u001b[0m\u001b[1;33m.\u001b[0m\u001b[0mfind_all\u001b[0m\u001b[1;33m(\u001b[0m\u001b[1;34m'a'\u001b[0m\u001b[1;33m)\u001b[0m\u001b[1;33m:\u001b[0m\u001b[1;33m\u001b[0m\u001b[0m\n\u001b[0;32m     24\u001b[0m             \u001b[1;32mif\u001b[0m \u001b[0mlink\u001b[0m\u001b[1;33m.\u001b[0m\u001b[0mhas_attr\u001b[0m\u001b[1;33m(\u001b[0m\u001b[1;34m'data-ad-id'\u001b[0m\u001b[1;33m)\u001b[0m\u001b[1;33m:\u001b[0m\u001b[1;33m\u001b[0m\u001b[0m\n",
      "\u001b[1;32mC:\\Users\\Florian\\Anaconda2\\envs\\ipykernel_py3\\lib\\site-packages\\bs4\\__init__.py\u001b[0m in \u001b[0;36m__init__\u001b[1;34m(self, markup, features, builder, parse_only, from_encoding, exclude_encodings, **kwargs)\u001b[0m\n\u001b[0;32m    226\u001b[0m             \u001b[0mself\u001b[0m\u001b[1;33m.\u001b[0m\u001b[0mreset\u001b[0m\u001b[1;33m(\u001b[0m\u001b[1;33m)\u001b[0m\u001b[1;33m\u001b[0m\u001b[0m\n\u001b[0;32m    227\u001b[0m             \u001b[1;32mtry\u001b[0m\u001b[1;33m:\u001b[0m\u001b[1;33m\u001b[0m\u001b[0m\n\u001b[1;32m--> 228\u001b[1;33m                 \u001b[0mself\u001b[0m\u001b[1;33m.\u001b[0m\u001b[0m_feed\u001b[0m\u001b[1;33m(\u001b[0m\u001b[1;33m)\u001b[0m\u001b[1;33m\u001b[0m\u001b[0m\n\u001b[0m\u001b[0;32m    229\u001b[0m                 \u001b[1;32mbreak\u001b[0m\u001b[1;33m\u001b[0m\u001b[0m\n\u001b[0;32m    230\u001b[0m             \u001b[1;32mexcept\u001b[0m \u001b[0mParserRejectedMarkup\u001b[0m\u001b[1;33m:\u001b[0m\u001b[1;33m\u001b[0m\u001b[0m\n",
      "\u001b[1;32mC:\\Users\\Florian\\Anaconda2\\envs\\ipykernel_py3\\lib\\site-packages\\bs4\\__init__.py\u001b[0m in \u001b[0;36m_feed\u001b[1;34m(self)\u001b[0m\n\u001b[0;32m    287\u001b[0m         \u001b[0mself\u001b[0m\u001b[1;33m.\u001b[0m\u001b[0mbuilder\u001b[0m\u001b[1;33m.\u001b[0m\u001b[0mreset\u001b[0m\u001b[1;33m(\u001b[0m\u001b[1;33m)\u001b[0m\u001b[1;33m\u001b[0m\u001b[0m\n\u001b[0;32m    288\u001b[0m \u001b[1;33m\u001b[0m\u001b[0m\n\u001b[1;32m--> 289\u001b[1;33m         \u001b[0mself\u001b[0m\u001b[1;33m.\u001b[0m\u001b[0mbuilder\u001b[0m\u001b[1;33m.\u001b[0m\u001b[0mfeed\u001b[0m\u001b[1;33m(\u001b[0m\u001b[0mself\u001b[0m\u001b[1;33m.\u001b[0m\u001b[0mmarkup\u001b[0m\u001b[1;33m)\u001b[0m\u001b[1;33m\u001b[0m\u001b[0m\n\u001b[0m\u001b[0;32m    290\u001b[0m         \u001b[1;31m# Close out any unfinished strings and close all the open tags.\u001b[0m\u001b[1;33m\u001b[0m\u001b[1;33m\u001b[0m\u001b[0m\n\u001b[0;32m    291\u001b[0m         \u001b[0mself\u001b[0m\u001b[1;33m.\u001b[0m\u001b[0mendData\u001b[0m\u001b[1;33m(\u001b[0m\u001b[1;33m)\u001b[0m\u001b[1;33m\u001b[0m\u001b[0m\n",
      "\u001b[1;32mC:\\Users\\Florian\\Anaconda2\\envs\\ipykernel_py3\\lib\\site-packages\\bs4\\builder\\_lxml.py\u001b[0m in \u001b[0;36mfeed\u001b[1;34m(self, markup)\u001b[0m\n\u001b[0;32m    248\u001b[0m         \u001b[1;32mtry\u001b[0m\u001b[1;33m:\u001b[0m\u001b[1;33m\u001b[0m\u001b[0m\n\u001b[0;32m    249\u001b[0m             \u001b[0mself\u001b[0m\u001b[1;33m.\u001b[0m\u001b[0mparser\u001b[0m \u001b[1;33m=\u001b[0m \u001b[0mself\u001b[0m\u001b[1;33m.\u001b[0m\u001b[0mparser_for\u001b[0m\u001b[1;33m(\u001b[0m\u001b[0mencoding\u001b[0m\u001b[1;33m)\u001b[0m\u001b[1;33m\u001b[0m\u001b[0m\n\u001b[1;32m--> 250\u001b[1;33m             \u001b[0mself\u001b[0m\u001b[1;33m.\u001b[0m\u001b[0mparser\u001b[0m\u001b[1;33m.\u001b[0m\u001b[0mfeed\u001b[0m\u001b[1;33m(\u001b[0m\u001b[0mmarkup\u001b[0m\u001b[1;33m)\u001b[0m\u001b[1;33m\u001b[0m\u001b[0m\n\u001b[0m\u001b[0;32m    251\u001b[0m             \u001b[0mself\u001b[0m\u001b[1;33m.\u001b[0m\u001b[0mparser\u001b[0m\u001b[1;33m.\u001b[0m\u001b[0mclose\u001b[0m\u001b[1;33m(\u001b[0m\u001b[1;33m)\u001b[0m\u001b[1;33m\u001b[0m\u001b[0m\n\u001b[0;32m    252\u001b[0m         \u001b[1;32mexcept\u001b[0m \u001b[1;33m(\u001b[0m\u001b[0mUnicodeDecodeError\u001b[0m\u001b[1;33m,\u001b[0m \u001b[0mLookupError\u001b[0m\u001b[1;33m,\u001b[0m \u001b[0metree\u001b[0m\u001b[1;33m.\u001b[0m\u001b[0mParserError\u001b[0m\u001b[1;33m)\u001b[0m \u001b[1;32mas\u001b[0m \u001b[0me\u001b[0m\u001b[1;33m:\u001b[0m\u001b[1;33m\u001b[0m\u001b[0m\n",
      "\u001b[1;32msrc\\lxml\\parser.pxi\u001b[0m in \u001b[0;36mlxml.etree._FeedParser.feed (src\\lxml\\lxml.etree.c:113759)\u001b[1;34m()\u001b[0m\n",
      "\u001b[1;32msrc\\lxml\\parser.pxi\u001b[0m in \u001b[0;36mlxml.etree._FeedParser.feed (src\\lxml\\lxml.etree.c:113632)\u001b[1;34m()\u001b[0m\n",
      "\u001b[1;32msrc\\lxml\\parsertarget.pxi\u001b[0m in \u001b[0;36mlxml.etree._TargetParserContext._handleParseResult (src\\lxml\\lxml.etree.c:130478)\u001b[1;34m()\u001b[0m\n",
      "\u001b[1;32msrc\\lxml\\parsertarget.pxi\u001b[0m in \u001b[0;36mlxml.etree._TargetParserContext._handleParseResult (src\\lxml\\lxml.etree.c:130221)\u001b[1;34m()\u001b[0m\n",
      "\u001b[1;32msrc\\lxml\\lxml.etree.pyx\u001b[0m in \u001b[0;36mlxml.etree._ExceptionContext._raise_if_stored (src\\lxml\\lxml.etree.c:12064)\u001b[1;34m()\u001b[0m\n",
      "\u001b[1;32msrc\\lxml\\saxparser.pxi\u001b[0m in \u001b[0;36mlxml.etree._handleSaxData (src\\lxml\\lxml.etree.c:124279)\u001b[1;34m()\u001b[0m\n",
      "\u001b[1;32msrc\\lxml\\parsertarget.pxi\u001b[0m in \u001b[0;36mlxml.etree._PythonSaxParserTarget._handleSaxData (src\\lxml\\lxml.etree.c:129483)\u001b[1;34m()\u001b[0m\n",
      "\u001b[1;32mC:\\Users\\Florian\\Anaconda2\\envs\\ipykernel_py3\\lib\\site-packages\\bs4\\builder\\_lxml.py\u001b[0m in \u001b[0;36mdata\u001b[1;34m(self, content)\u001b[0m\n\u001b[0;32m    213\u001b[0m         \u001b[0mself\u001b[0m\u001b[1;33m.\u001b[0m\u001b[0msoup\u001b[0m\u001b[1;33m.\u001b[0m\u001b[0mendData\u001b[0m\u001b[1;33m(\u001b[0m\u001b[0mself\u001b[0m\u001b[1;33m.\u001b[0m\u001b[0mprocessing_instruction_class\u001b[0m\u001b[1;33m)\u001b[0m\u001b[1;33m\u001b[0m\u001b[0m\n\u001b[0;32m    214\u001b[0m \u001b[1;33m\u001b[0m\u001b[0m\n\u001b[1;32m--> 215\u001b[1;33m     \u001b[1;32mdef\u001b[0m \u001b[0mdata\u001b[0m\u001b[1;33m(\u001b[0m\u001b[0mself\u001b[0m\u001b[1;33m,\u001b[0m \u001b[0mcontent\u001b[0m\u001b[1;33m)\u001b[0m\u001b[1;33m:\u001b[0m\u001b[1;33m\u001b[0m\u001b[0m\n\u001b[0m\u001b[0;32m    216\u001b[0m         \u001b[0mself\u001b[0m\u001b[1;33m.\u001b[0m\u001b[0msoup\u001b[0m\u001b[1;33m.\u001b[0m\u001b[0mhandle_data\u001b[0m\u001b[1;33m(\u001b[0m\u001b[0mcontent\u001b[0m\u001b[1;33m)\u001b[0m\u001b[1;33m\u001b[0m\u001b[0m\n\u001b[0;32m    217\u001b[0m \u001b[1;33m\u001b[0m\u001b[0m\n",
      "\u001b[1;31mKeyboardInterrupt\u001b[0m: "
     ]
    }
   ],
   "source": [
    "searchPage = \"http://suchen.mobile.de/fahrzeuge/search.html?scopeId=C&damageUnrepaired=NO_DAMAGE_UNREPAIRED&scopeId=C&isSearchRequest=true&sortOption.sortBy=creationTime&sortOption.sortOrder=DESCENDING\"\n",
    "#payload = {'scopeId': ['C', 'C'],\n",
    "#           'damageUnrepaired': 'NO_DAMAGE_UNREPAIRED',\n",
    "#           'isSearchRequest': 'true',\n",
    "#           'sortOption.sortBy': 'creationTime',\n",
    "#           'sortOption.sortOrder': 'DESCENDING'}\n",
    "payload=dict()\n",
    "dataIDs = list()\n",
    "\n",
    "for factor in range(100):\n",
    "    maxPrice = factor*1000+1000\n",
    "    minPrice = factor*1000\n",
    "    \n",
    "    payload['maxPrice'] = maxPrice\n",
    "    payload['minPrice'] = minPrice\n",
    "    for i in range(50):\n",
    "        #print(i)\n",
    "        payload['pageNumber'] = i+1\n",
    "\n",
    "        req = requests.get(searchPage, params=payload)\n",
    "        #print(req.url)\n",
    "        soup = BeautifulSoup(req.text, \"lxml\")\n",
    "        for link in soup.find_all('a'):\n",
    "            if link.has_attr('data-ad-id'):\n",
    "                #print(link['data-ad-id'])\n",
    "                if link['data-ad-id'] in dataIDs:\n",
    "                    #print(link['data-ad-id'], \"already existing\")\n",
    "                    pass\n",
    "                else:\n",
    "                    dataIDs.append(link['data-ad-id'])\n",
    "\n",
    "    print(factor, minPrice, maxPrice, len(dataIDs))"
   ]
  },
  {
   "cell_type": "code",
   "execution_count": 68,
   "metadata": {
    "collapsed": false,
    "scrolled": true
   },
   "outputs": [
    {
     "data": {
      "text/plain": [
       "9886"
      ]
     },
     "execution_count": 68,
     "metadata": {},
     "output_type": "execute_result"
    }
   ],
   "source": [
    "len(dataIDs)"
   ]
  },
  {
   "cell_type": "code",
   "execution_count": 57,
   "metadata": {
    "collapsed": false,
    "scrolled": true
   },
   "outputs": [
    {
     "name": "stdout",
     "output_type": "stream",
     "text": [
      "247933152\n",
      "https://suchen.mobile.de/fahrzeuge/details.html?id=247933152&damageUnrepaired=NO_DAMAGE_UNREPAIRED&isSearchRequest=true&pageNumber=50&scopeId=C&sortOption.sortBy=creationTime&sortOption.sortOrder=DESCENDING&fnai=prev\n",
      "NeuhrefVolkswagen Touran 2.0 TDI BlueMotion TechhrefInserat online seit 25.07.2017 16:26href9.885 €hrefEZ 07/2011, 168.010 km, 103 kW (140 PS)hrefVan  ...\n",
      "25.07.2017\n",
      "\n",
      "247933151\n",
      "https://suchen.mobile.de/fahrzeuge/details.html?id=247933151&damageUnrepaired=NO_DAMAGE_UNREPAIRED&isSearchRequest=true&pageNumber=50&scopeId=C&sortOption.sortBy=creationTime&sortOption.sortOrder=DESCENDING\n",
      "NeuhrefFord Kuga 2.0 TDCi 4x4 TitaniumhrefInserat online seit 25.07.2017 16:26href17.885 €hrefEZ 10/2014, 88.280 km, 103 kW (140 PS)hrefGeländewagen / ...\n",
      "25.07.2017\n",
      "\n",
      "247933150\n",
      "https://suchen.mobile.de/fahrzeuge/details.html?id=247933150&damageUnrepaired=NO_DAMAGE_UNREPAIRED&isSearchRequest=true&pageNumber=50&scopeId=C&sortOption.sortBy=creationTime&sortOption.sortOrder=DESCENDING\n",
      " hrefVideohref href30hrefNeuhrefSeat Ateca XCELLENCE 2.0 TDI DSG 4Drive Navi LederhrefInserat online seit 25.07.2017 16:26href35.990 €href19,00% MwSt. ...\n",
      "25.07.2017\n",
      "\n",
      "242837113\n",
      "https://suchen.mobile.de/fahrzeuge/details.html?id=242837113&damageUnrepaired=NO_DAMAGE_UNREPAIRED&isSearchRequest=true&pageNumber=50&scopeId=C&sortOption.sortBy=creationTime&sortOption.sortOrder=DESCENDING\n",
      " href18hrefNeuhrefBMW 530d xDrive 1. Hd! Navi Prof! LederSport! HUD!hrefInserat online seit 25.07.2017 16:26href28.990 €href19,00% MwSt.hrefEZ 03/2014 ...\n",
      "25.07.2017\n",
      "\n",
      "247933148\n",
      "https://suchen.mobile.de/fahrzeuge/details.html?id=247933148&damageUnrepaired=NO_DAMAGE_UNREPAIRED&isSearchRequest=true&pageNumber=50&scopeId=C&sortOption.sortBy=creationTime&sortOption.sortOrder=DESCENDING\n",
      " hrefVideohref href25hrefNeuhrefSeat Ibiza Xcellence 1.0 EcoTSI - neues Modell - TOPhrefInserat online seit 25.07.2017 16:26href19.990 €href19,00% MwS ...\n",
      "25.07.2017\n",
      "\n",
      "247933147\n",
      "https://suchen.mobile.de/fahrzeuge/details.html?id=247933147&damageUnrepaired=NO_DAMAGE_UNREPAIRED&isSearchRequest=true&pageNumber=50&scopeId=C&sortOption.sortBy=creationTime&sortOption.sortOrder=DESCENDING\n",
      "NeuhrefMercedes-Benz CLS 500 7G-TRONIChrefInserat online seit 25.07.2017 16:26href21.500 €hrefEZ 01/2010, 173.000 km, 285 kW (387 PS)hrefSportwagen /  ...\n",
      "25.07.2017\n",
      "\n",
      "246043192\n",
      "https://suchen.mobile.de/fahrzeuge/details.html?id=246043192&damageUnrepaired=NO_DAMAGE_UNREPAIRED&isSearchRequest=true&pageNumber=50&scopeId=C&sortOption.sortBy=creationTime&sortOption.sortOrder=DESCENDING\n",
      " href15hrefNeuhrefBMW 530d Gran Turismo/Kamera/Panorama/Leder/Voll! hrefInserat online seit 25.07.2017 16:26href18.889 €hrefEZ 11/2010, 221.567 km, 18 ...\n",
      "25.07.2017\n",
      "\n",
      "238760157\n",
      "https://suchen.mobile.de/fahrzeuge/details.html?id=238760157&damageUnrepaired=NO_DAMAGE_UNREPAIRED&isSearchRequest=true&pageNumber=50&scopeId=C&sortOption.sortBy=creationTime&sortOption.sortOrder=DESCENDING\n",
      " href12hrefNeuhrefSmart forfour / Navi / Komfort-Paket / Einparkh.hrefInserat online seit 25.07.2017 16:26href8.997 €href19,00% MwSt.hrefEZ 04/2016, 1 ...\n",
      "25.07.2017\n",
      "\n",
      "247933144\n",
      "https://suchen.mobile.de/fahrzeuge/details.html?id=247933144&damageUnrepaired=NO_DAMAGE_UNREPAIRED&isSearchRequest=true&pageNumber=50&scopeId=C&sortOption.sortBy=creationTime&sortOption.sortOrder=DESCENDING\n",
      " href6hrefNeuhrefAudi A6 allroad quattro 3.0 TDI tiptronic DPFhrefInserat online seit 25.07.2017 16:26href12.500 €hrefEZ 05/2007, 175.000 km, 171 kW ( ...\n",
      "25.07.2017\n",
      "\n",
      "247933143\n",
      "https://suchen.mobile.de/fahrzeuge/details.html?id=247933143&damageUnrepaired=NO_DAMAGE_UNREPAIRED&isSearchRequest=true&pageNumber=50&scopeId=C&sortOption.sortBy=creationTime&sortOption.sortOrder=DESCENDING\n",
      " href14hrefNeuhrefAudi A5 3.0 TDI Sportback DPF S LINE 1.HAND-NAVI-AHKhrefInserat online seit 25.07.2017 16:26href20.999 €href19,00% MwSt.hrefEZ 06/20 ...\n",
      "25.07.2017\n",
      "\n",
      "247933142\n",
      "https://suchen.mobile.de/fahrzeuge/details.html?id=247933142&damageUnrepaired=NO_DAMAGE_UNREPAIRED&isSearchRequest=true&pageNumber=50&scopeId=C&sortOption.sortBy=creationTime&sortOption.sortOrder=DESCENDING\n",
      " hrefVideohref href6hrefNeuhrefAbarth 595C Competizione 1.4 T-Jet MTAhrefInserat online seit 25.07.2017 16:26href27.880 €href19,00% MwSt.hrefTageszula ...\n",
      "25.07.2017\n",
      "\n",
      "247933138\n",
      "https://suchen.mobile.de/fahrzeuge/details.html?id=247933138&damageUnrepaired=NO_DAMAGE_UNREPAIRED&isSearchRequest=true&pageNumber=50&scopeId=C&sortOption.sortBy=creationTime&sortOption.sortOrder=DESCENDING\n",
      " href3hrefNeuhrefVolvo XC 60 MOMENTUM TEILLEDER NAVI CAMERA GARANTIEhrefInserat online seit 25.07.2017 16:26href29.490 €hrefEZ 01/2016, 40.000 km, 140 ...\n",
      "25.07.2017\n",
      "\n",
      "247933137\n",
      "https://suchen.mobile.de/fahrzeuge/details.html?id=247933137&damageUnrepaired=NO_DAMAGE_UNREPAIRED&isSearchRequest=true&pageNumber=50&scopeId=C&sortOption.sortBy=creationTime&sortOption.sortOrder=DESCENDING\n",
      " href1hrefNeuhrefVolkswagen Caddy 1.2 (5-Si.) Roncalli *2.Hand / Klima*hrefInserat online seit 25.07.2017 16:26href9.999 €hrefEZ 07/2012, 80.200 km, 7 ...\n",
      "25.07.2017\n",
      "\n",
      "247933136\n",
      "https://suchen.mobile.de/fahrzeuge/details.html?id=247933136&damageUnrepaired=NO_DAMAGE_UNREPAIRED&isSearchRequest=true&pageNumber=50&scopeId=C&sortOption.sortBy=creationTime&sortOption.sortOrder=DESCENDING\n",
      " href14hrefNeuhrefAudi TT 3.2 Coupe Quattro DSGhrefInserat online seit 25.07.2017 16:26href7.800 €hrefEZ 04/2004, 198.993 km, 184 kW (250 PS)hrefSport ...\n",
      "25.07.2017\n",
      "\n",
      "247933135\n",
      "https://suchen.mobile.de/fahrzeuge/details.html?id=247933135&damageUnrepaired=NO_DAMAGE_UNREPAIRED&isSearchRequest=true&pageNumber=50&scopeId=C&sortOption.sortBy=creationTime&sortOption.sortOrder=DESCENDING\n",
      "NeuhrefOpel Zafira 1.8 16V SportslinehrefInserat online seit 25.07.2017 16:26href2.990 €hrefEZ 08/2002, 212.000 km, 92 kW (125 PS)hrefVan / Minibus, h ...\n",
      "25.07.2017\n",
      "\n",
      "247933134\n",
      "https://suchen.mobile.de/fahrzeuge/details.html?id=247933134&damageUnrepaired=NO_DAMAGE_UNREPAIRED&isSearchRequest=true&pageNumber=50&scopeId=C&sortOption.sortBy=creationTime&sortOption.sortOrder=DESCENDING\n",
      " href7hrefNeuhrefMercedes-Benz C 200 Kompressor LPG 600 Km Tüv ScheckheftgepflehrefInserat online seit 25.07.2017 16:26href4.299 €hrefEZ 01/2002, 157. ...\n",
      "25.07.2017\n",
      "\n",
      "247933133\n",
      "https://suchen.mobile.de/fahrzeuge/details.html?id=247933133&damageUnrepaired=NO_DAMAGE_UNREPAIRED&isSearchRequest=true&pageNumber=50&scopeId=C&sortOption.sortBy=creationTime&sortOption.sortOrder=DESCENDING\n",
      "NeuhrefSkoda Octavia Lim. RShrefInserat online seit 25.07.2017 16:26href9.900 €hrefEZ 06/2008, 136.000 km, 147 kW (200 PS)hrefLimousine, Benzin, Schal ...\n",
      "25.07.2017\n",
      "\n",
      "247933131\n",
      "https://suchen.mobile.de/fahrzeuge/details.html?id=247933131&damageUnrepaired=NO_DAMAGE_UNREPAIRED&isSearchRequest=true&pageNumber=50&scopeId=C&sortOption.sortBy=creationTime&sortOption.sortOrder=DESCENDING\n",
      " href5hrefNeuhrefBMW  530 i A Touring  Basismodell 252 PS AKTION!!!!!hrefInserat online seit 25.07.2017 16:26href46.170 €href19,00% MwSt.hrefNeuwagenh ...\n",
      "25.07.2017\n",
      "\n",
      "247933130\n",
      "https://suchen.mobile.de/fahrzeuge/details.html?id=247933130&damageUnrepaired=NO_DAMAGE_UNREPAIRED&isSearchRequest=true&pageNumber=50&scopeId=C&sortOption.sortBy=creationTime&sortOption.sortOrder=DESCENDING\n",
      " href15hrefNeuhrefVolkswagen Golf VI 1,4 TSI Highline Leder Navi S-Dach LMhrefInserat online seit 25.07.2017 16:26href13.980 €hrefEZ 04/2012, 35.000 k ...\n",
      "25.07.2017\n",
      "\n",
      "244136135\n",
      "https://suchen.mobile.de/fahrzeuge/details.html?id=244136135&damageUnrepaired=NO_DAMAGE_UNREPAIRED&isSearchRequest=true&pageNumber=50&scopeId=C&sortOption.sortBy=creationTime&sortOption.sortOrder=DESCENDING&fnai=next\n",
      " href14hrefNeuhrefAudi A1 Ambition Xenon NAVI Sitzheizng GarantiehrefInserat online seit 25.07.2017 16:26href8.699 €hrefEZ 04/2011, 178.568 km, 77 kW  ...\n",
      "25.07.2017\n",
      "\n"
     ]
    }
   ],
   "source": [
    "#http = urllib\n",
    "#response = http.request.urlopen(searchPage)\n",
    "\n",
    "dataIDs = list()\n",
    "        \n",
    "soup = BeautifulSoup(req.content, \"lxml\") # put search page in beautiful soup strainer,\n",
    "dataIDs = list()\n",
    "for link in soup.find_all('a'): # save all links in the search page that have an ad-id (i.e. they are not an ad)\\n\",\n",
    "    if link.has_attr('data-ad-id'):\n",
    "        print(link['data-ad-id'])\n",
    "        print(link['href'])\n",
    "        print(link.get_text('href')[:150] + \" ...\")\n",
    "        \n",
    "        onPos = link.get_text('href').find('online seit ')\n",
    "        onlineSince = link.get_text('href')[onPos+12 : onPos+22]\n",
    "        \n",
    "        print(onlineSince)\n",
    "        print()\n",
    "        dataIDs.append([link['data-ad-id'], link['href'], link.get_text('href'), onlineSince])\n"
   ]
  },
  {
   "cell_type": "code",
   "execution_count": 43,
   "metadata": {
    "collapsed": false
   },
   "outputs": [
    {
     "ename": "IndexError",
     "evalue": "list index out of range",
     "output_type": "error",
     "traceback": [
      "\u001b[1;31m---------------------------------------------------------------------------\u001b[0m",
      "\u001b[1;31mIndexError\u001b[0m                                Traceback (most recent call last)",
      "\u001b[1;32m<ipython-input-43-7e9484cd8ee4>\u001b[0m in \u001b[0;36m<module>\u001b[1;34m()\u001b[0m\n\u001b[1;32m----> 1\u001b[1;33m \u001b[0mdataIDs\u001b[0m\u001b[1;33m[\u001b[0m\u001b[1;36m0\u001b[0m\u001b[1;33m]\u001b[0m\u001b[1;33m[\u001b[0m\u001b[1;36m3\u001b[0m\u001b[1;33m]\u001b[0m\u001b[1;33m\u001b[0m\u001b[0m\n\u001b[0m",
      "\u001b[1;31mIndexError\u001b[0m: list index out of range"
     ]
    }
   ],
   "source": [
    "dataIDs[0][3]"
   ]
  },
  {
   "cell_type": "code",
   "execution_count": 8,
   "metadata": {
    "collapsed": false,
    "scrolled": true
   },
   "outputs": [
    {
     "data": {
      "text/plain": [
       "{'ad': {'condition': 'USED',\n",
       "  'currency': 'EUR',\n",
       "  'price': '29998',\n",
       "  'specifics': {'make': 'Audi', 'model': 'Q7'}},\n",
       " 'adCondition': 'USED',\n",
       " 'adCurrency': 'EUR',\n",
       " 'adFirstRegMonth': '3',\n",
       " 'adFirstRegYear': '2013',\n",
       " 'adId': 247061537,\n",
       " 'adImage': 'http://i.ebayimg.com/00/s/MTIwMFgxNjAw/z/El8AAOSwyltZXkpt/$_23.JPG',\n",
       " 'adImageBase64': 'aHR0cDovL2kuZWJheWltZy5jb20vMDAvcy9NVEl3TUZneE5qQXcvei9FbDhBQU9Td3lsdFpYa3B0LyRfMjMuSlBH',\n",
       " 'adPrice': '29998',\n",
       " 'adSegment': 'Car',\n",
       " 'adSpecificsFuel': 'DIESEL',\n",
       " 'adSpecificsHsn': '588',\n",
       " 'adSpecificsMake': 'Audi',\n",
       " 'adSpecificsMakeId': 1900,\n",
       " 'adSpecificsMakeModel': 'Audi Q7',\n",
       " 'adSpecificsMakeModelBase64': 'QXVkaSBRNw==',\n",
       " 'adSpecificsModel': 'Q7',\n",
       " 'adSpecificsModelDescription': 'Q7 3.0 TDI DPF quatt. tiptr. 7-Sitzer/Scheckheft',\n",
       " 'adSpecificsModelId': 15,\n",
       " 'adSpecificsTsn': 'ARQ',\n",
       " 'airbag': 'Front-, Seiten- und weitere Airbags',\n",
       " 'category': 'Limousine',\n",
       " 'climatisation': 'Klimaautomatik',\n",
       " 'countryVersion': 'No Information',\n",
       " 'cubicCapacity': '2.967\\xa0cm³',\n",
       " 'dealerCity': 'Berlin',\n",
       " 'dealerCountry': 'DE',\n",
       " 'dealerZip': '13127',\n",
       " 'description': 'Finanzierung auch ohne Anzahlung,auch für Selbstständige,Rentner und in schwierigen Fällen möglich !!!!!!!!!!\\n\\xa0Sonderpreis bis zum 30.07.2017\\nVERKAUF im KUNDENAUFTRAG !!!!!!!!\\nWunderschöner Audi Q7 mit Topausstattung\\nneuwertiger Zustand, topgepflegt\\n7-Sitzer\\nAutomatik/Tiptronic+Schaltwippen am Lenkrad\\nAllrad 4x4 Quattro\\nKlimaautomatik\\nNavigationssystem Audi original\\nLederausstattung beige\\nXenonscheinwerfer+SRA\\nTempomat\\nelektrische Sitze\\nSitzheizung\\nPDC\\xa0 hinten\\n10x Airbag\\nLeichtmetallfelgen 20 Zoll\\nMultifunktionslenkrad\\nABS / ESP\\nNebelscheinwerfer\\nTagfahrlicht\\nmetallic Lack\\nColorverglasung\\nelektrisch verstellbare Außenspiegel beheizt &\\nelektrisch anklappbar\\nRadio-CD mit Soundsystem\\n6 fach\\xa0 CD-Wechsler\\nServolenkung\\nZentralverriegelung mit Funkfernbedienung\\n4x elektrische Fensterheber\\nDachreling\\ngrüne Umweltplakette\\nlückenlos Scheckheftgepflegt, letzter Eintrag 07-2017\\nalle Schlüssel vorhanden (3)\\nAudifahrzeughistorie liegt vor\\nund vieles mehr......\\nInzahlungnahme und Finanzierung möglich, 36 Monate Garantie möglich,Irrtümer und Eingabefehler vorbehalten!, Händlergewerbesonderbarpreis und Aktionspreise wegen Bestandsräumung,Für die Richtigkeit und Vollständigkeit der gemachten Angaben, bitte vor Ort und Kauf selbst überzeugen!!Für gemachte Angaben keine Garantie, keine Gewährleistung!!\\n\\xa0Bitte keine....wir wiederholen KEINE \"was ist letzte Preis\" Anrufer !!\\n\\xa0\\nBei Fragen zu den Sonder- und Aktionspreisen sowie zu weiteren Fragen zur Ausstattung wenden Sie sich bitte vertrauensvoll an unser Verkaufspersonal unter 030/47476602.',\n",
       " 'doorCount': '4/5',\n",
       " 'emissionsSticker': '4 (Grün)',\n",
       " 'envkv.consumption': '≈\\u20097,4\\u2009l/100km (kombiniert)≈\\u20098,6\\u2009l/100km (innerorts)≈\\u20096,7\\u2009l/100km (außerorts)',\n",
       " 'envkv.emission': '≈\\u2009195\\u2009g/km (kombiniert)',\n",
       " 'featureVariants': {},\n",
       " 'features': 'Ausstattung, ABS, Allradantrieb, Bluetooth, Bordcomputer, CD-Spieler, Dachreling, Elektr. Fensterheber, Elektr. Seitenspiegel, Elektr. Sitzeinstellung, Elektr. Wegfahrsperre, ESP, Freisprecheinrichtung, Isofix (Kindersitzbefestigung), Lederausstattung, Leichtmetallfelgen, Lichtsensor, MP3-Schnittstelle, Multifunktionslenkrad, Navigationssystem, Nebelscheinwerfer, Partikelfilter, Regensensor, Scheckheftgepflegt, Servolenkung, Sitzheizung, Tagfahrlicht, Tempomat, Traktionskontrolle, Tuner/Radio, Xenonscheinwerfer, Zentralverriegelung',\n",
       " 'firstRegistration': '03/2013',\n",
       " 'fuel': 'Diesel',\n",
       " 'hu': '03/2019',\n",
       " 'interior': 'Vollleder, Beige',\n",
       " 'isDealer': True,\n",
       " 'manufacturerColorName': 'Nachtblaumetallic',\n",
       " 'mileage': '87.254\\xa0km',\n",
       " 'numSeats': '7',\n",
       " 'numberOfPreviousOwners': '2',\n",
       " 'parkAssist': 'No Information',\n",
       " 'power': '180\\xa0kW\\xa0(245\\xa0PS)',\n",
       " 'rbt-color': 'No Information',\n",
       " 'sellerType': 'DEALER',\n",
       " 'transmission': 'Automatik',\n",
       " 'usersIpAddress': '84.153.137.0'}"
      ]
     },
     "execution_count": 8,
     "metadata": {},
     "output_type": "execute_result"
    }
   ],
   "source": [
    "utils.getInfoFromPage(dataIDs[0][1])"
   ]
  },
  {
   "cell_type": "code",
   "execution_count": null,
   "metadata": {
    "collapsed": true
   },
   "outputs": [],
   "source": []
  },
  {
   "cell_type": "code",
   "execution_count": 159,
   "metadata": {
    "collapsed": false
   },
   "outputs": [
    {
     "data": {
      "text/plain": [
       "['241090027',\n",
       " 'http://suchen.mobile.de/fahrzeuge/details.html?id=241090027&damageUnrepaired=NO_DAMAGE_UNREPAIRED&sortOption.sortBy=creationTime&sortOption.sortOrder=DESCENDING&scopeId=C&isSearchRequest=true&pageNumber=1',\n",
       " ' href15hrefNeuhrefAudi A5 Sportback 3.0 TDI quattro S.line Kame Xe LedehrefInserat online seit 12.04.2017 15:11href20.990 €href19,00% MwSt.hrefEZ 11/2013, 151.963\\xa0km, 180\\xa0kW\\xa0(245\\xa0PS)hrefSportwagen / Coupé, Diesel, Automatik, 4/5 Türenhref≈\\u20095,8\\u2009l/100km (komb.), ≈\\u2009154\\u2009g CO₂/km (komb.)hrefCar Center Ganderkesee href(href18href)hrefDE-27777 Ganderkesee, HändlerhrefFinanzierunghref, hrefVersicherunghrefGeparkthrefParkenhrefKontakt',\n",
       " '12.04.2017']"
      ]
     },
     "execution_count": 159,
     "metadata": {},
     "output_type": "execute_result"
    }
   ],
   "source": [
    "dataIDs[1]"
   ]
  },
  {
   "cell_type": "code",
   "execution_count": 162,
   "metadata": {
    "collapsed": false
   },
   "outputs": [
    {
     "data": {
      "text/plain": [
       "'2017-04-12'"
      ]
     },
     "execution_count": 162,
     "metadata": {},
     "output_type": "execute_result"
    }
   ],
   "source": [
    "now = datetime.datetime.now()\n",
    "str(now.date())"
   ]
  },
  {
   "cell_type": "code",
   "execution_count": 154,
   "metadata": {
    "collapsed": false,
    "scrolled": true
   },
   "outputs": [
    {
     "data": {
      "text/plain": [
       "{'ad': {'condition': 'USED',\n",
       "  'currency': 'EUR',\n",
       "  'price': '12999',\n",
       "  'specifics': {'make': 'Toyota', 'model': 'RAV 4'}},\n",
       " 'adCondition': 'USED',\n",
       " 'adCurrency': 'EUR',\n",
       " 'adFirstRegMonth': '11',\n",
       " 'adFirstRegYear': '2011',\n",
       " 'adId': 238600200,\n",
       " 'adImage': 'http://i.ebayimg.com/00/s/OTAwWDE2MDA=/z/SskAAOSwol5YypUC/$_23.JPG',\n",
       " 'adImageBase64': 'aHR0cDovL2kuZWJheWltZy5jb20vMDAvcy9PVEF3V0RFMk1EQT0vei9Tc2tBQU9Td29sNVl5cFVDLyRfMjMuSlBH',\n",
       " 'adPrice': '12999',\n",
       " 'adSegment': 'Car',\n",
       " 'adSpecificsFuel': 'DIESEL',\n",
       " 'adSpecificsMake': 'Toyota',\n",
       " 'adSpecificsMakeId': 24100,\n",
       " 'adSpecificsMakeModel': 'Toyota RAV 4',\n",
       " 'adSpecificsMakeModelBase64': 'VG95b3RhIFJBViA0',\n",
       " 'adSpecificsModel': 'RAV 4',\n",
       " 'adSpecificsModelDescription': 'RAV 4 Executive Automatik 4x4',\n",
       " 'adSpecificsModelId': 28,\n",
       " 'adSpecificsVin': 'JTMBB31V90D088148',\n",
       " 'airbag': 'Front-, Seiten- und weitere Airbags',\n",
       " 'category': 'Geländewagen / Pickup',\n",
       " 'climatisation': 'Klimaautomatik',\n",
       " 'countryVersion': 'No Information',\n",
       " 'cubicCapacity': '2.231\\xa0cm³',\n",
       " 'dealerCity': 'Berlin',\n",
       " 'dealerCountry': 'DE',\n",
       " 'dealerZip': '12351',\n",
       " 'description': 'Scheckheft lückenlos gepflegt\\nRückfahrkamera im Spiegel\\nSonderausstattung:\\nMica-Lackierung\\nWeitere Ausstattung:\\nAirbag Beifahrerseite abschaltbar, Airbag Fahrer-/Beifahrerseite, Audiobedienung am Lenkrad, Audiosystem: Radio mit CD-Player und CD-Wechsler (6-fach), Außenspiegel elektr. anklappbar, Außenspiegel elektr. verstell- und heizbar, Außenspiegel lackiert, Automatische Stabilitäts-Control und Traktion (ASC + T), AUX-IN-Anschluss (AUX-IN), Einschaltautomatik für Fahrlicht, Fahrassistenz-System: Bergabfahrkontrolle (HDC / DAC), Fensterheber elektrisch vorn + hinten, Fernentriegelung Tankklappe, Freisprechanlage Bluetooth, Hecktür ohne Reserve-/Notrad, Heckzierblende verchromt, Innenspiegel mit Abblendautomatik, Isofix-Aufnahmen für Kindersitz, Karosserie: 5-türig, Klimaautomatik, Knieairbag Fahrerseite, Kopf-Airbag-System, Kotflügelverbreiterung, Kühlergrill mit Chromrand, Leder-Komfort-Paket, Lenkrad (Leder), Lenkrad mit Schaltwippen, Lenksäule (Lenkrad) verstellbar, LM-Felgen, Modelljahr 2010, Motor 2,2 Ltr. - 110 kW D-4D KAT, Radstand 2560 mm, Reifen-Reparaturkit, Schadstoffarm nach Abgasnorm Euro 5, Schalt-/Wählhebelgriff Leder, Scheibenwischer mit Regensensor, Schleudertrauma-Schutzsystem, Seitenairbag, Sicherheitsgurte vorn höhenverstellbar, Türgriffe außen Wagenfarbe, Verglasung hinten abgedunkelt, Wärmeschutzverglasung\\nweitere Extras vorhanden\\nFahrzeug befindet sich im guten Zustand\\nalle Angaben ohne Gewähr\\nVollfinanzierung und Inzahlungnahme aller Art möglich\\nSchreib- und Druckfehler vorbehalten\\n* Fahrzeug steht in der Johannisthaler Chaussee 415, * 12351 Berlin Filiale Buckow Telnr. 030/66707375\\nFaxnr. 030/66707374 Mobilnr. 0171/4943856\\n2x Autoplatz am Rathaus... Filiale Buckow,\\nFiliale Tempelhof. Für weitere Fragen bzw.\\nInformationen, stehen wir Ihnen gerne zur Verfügung.\\nRufen Sie uns an.\\nMfg Autoplatz am Rathaus',\n",
       " 'doorCount': '4/5',\n",
       " 'emissionsSticker': 'No Information',\n",
       " 'envkv.consumption': 'No Information',\n",
       " 'envkv.emission': 'No Information',\n",
       " 'featureVariants': {},\n",
       " 'features': 'Ausstattung, ABS, Allradantrieb, Bluetooth, Bordcomputer, CD-Spieler, Elektr. Fensterheber, Elektr. Seitenspiegel, Elektr. Sitzeinstellung, Elektr. Wegfahrsperre, Freisprecheinrichtung, Isofix (Kindersitzbefestigung), Lederausstattung, Leichtmetallfelgen, MP3-Schnittstelle, Multifunktionslenkrad, Nebelscheinwerfer, Nichtraucher-Fahrzeug, Partikelfilter, Regensensor, Scheckheftgepflegt, Servolenkung, Sitzheizung, Tempomat, Traktionskontrolle, Tuner/Radio, Zentralverriegelung',\n",
       " 'firstRegistration': '11/2011',\n",
       " 'firstSeen': '12.04.2017',\n",
       " 'fuel': 'Diesel',\n",
       " 'hu': '11/2018',\n",
       " 'interior': 'Vollleder, Grau',\n",
       " 'isDealer': True,\n",
       " 'lastSeen': '2017-04-12',\n",
       " 'manufacturerColorName': 'bronzebraun mica metallic',\n",
       " 'mileage': '122.000\\xa0km',\n",
       " 'numSeats': '5',\n",
       " 'numberOfPreviousOwners': '2',\n",
       " 'parkAssist': 'No Information',\n",
       " 'power': '110\\xa0kW\\xa0(150\\xa0PS)',\n",
       " 'rbt-color': 'No Information',\n",
       " 'sellerType': 'DEALER',\n",
       " 'transmission': 'Automatik',\n",
       " 'usersIpAddress': '104.121.151.0'}"
      ]
     },
     "execution_count": 154,
     "metadata": {},
     "output_type": "execute_result"
    }
   ],
   "source": [
    "allInfos['description'] = div.get_text(separator='\\n')\n",
    "allInfos['firstSeen'] = dataIDs[0][3]\n",
    "allInfos['lastSeen'] = str(datetime.datetime.now().date)\n",
    "allInfos"
   ]
  },
  {
   "cell_type": "code",
   "execution_count": 157,
   "metadata": {
    "collapsed": false,
    "scrolled": true
   },
   "outputs": [
    {
     "name": "stdout",
     "output_type": "stream",
     "text": [
      "ad {'price': '12999', 'currency': 'EUR', 'condition': 'USED', 'specifics': {'make': 'Toyota', 'model': 'RAV 4'}} <class 'dict'>\n",
      "isDealer True <class 'bool'>\n",
      "dealerCountry DE <class 'str'>\n",
      "dealerZip 12351 <class 'str'>\n",
      "dealerCity Berlin <class 'str'>\n",
      "adId 238600200 <class 'int'>\n",
      "adSegment Car <class 'str'>\n",
      "adCondition USED <class 'str'>\n",
      "adFirstRegYear 2011 <class 'str'>\n",
      "adFirstRegMonth 11 <class 'str'>\n",
      "adPrice 12999 <class 'str'>\n",
      "adCurrency EUR <class 'str'>\n",
      "adImage http://i.ebayimg.com/00/s/OTAwWDE2MDA=/z/SskAAOSwol5YypUC/$_23.JPG <class 'str'>\n",
      "adImageBase64 aHR0cDovL2kuZWJheWltZy5jb20vMDAvcy9PVEF3V0RFMk1EQT0vei9Tc2tBQU9Td29sNVl5cFVDLyRfMjMuSlBH <class 'str'>\n",
      "adSpecificsMake Toyota <class 'str'>\n",
      "adSpecificsMakeId 24100 <class 'int'>\n",
      "adSpecificsModel RAV 4 <class 'str'>\n",
      "adSpecificsModelId 28 <class 'int'>\n",
      "adSpecificsMakeModel Toyota RAV 4 <class 'str'>\n",
      "adSpecificsMakeModelBase64 VG95b3RhIFJBViA0 <class 'str'>\n",
      "adSpecificsModelDescription RAV 4 Executive Automatik 4x4 <class 'str'>\n",
      "adSpecificsFuel DIESEL <class 'str'>\n",
      "adSpecificsVin JTMBB31V90D088148 <class 'str'>\n",
      "usersIpAddress 104.121.151.0 <class 'str'>\n",
      "sellerType DEALER <class 'str'>\n",
      "featureVariants {} <class 'dict'>\n",
      "category Geländewagen / Pickup <class 'str'>\n",
      "countryVersion No Information <class 'str'>\n",
      "mileage 122.000 km <class 'str'>\n",
      "cubicCapacity 2.231 cm³ <class 'str'>\n",
      "power 110 kW (150 PS) <class 'str'>\n",
      "fuel Diesel <class 'str'>\n",
      "envkv.consumption No Information <class 'str'>\n",
      "envkv.emission No Information <class 'str'>\n",
      "numSeats 5 <class 'str'>\n",
      "doorCount 4/5 <class 'str'>\n",
      "transmission Automatik <class 'str'>\n",
      "emissionsSticker No Information <class 'str'>\n",
      "firstRegistration 11/2011 <class 'str'>\n",
      "numberOfPreviousOwners 2 <class 'str'>\n",
      "hu 11/2018 <class 'str'>\n",
      "climatisation Klimaautomatik <class 'str'>\n",
      "parkAssist No Information <class 'str'>\n",
      "airbag Front-, Seiten- und weitere Airbags <class 'str'>\n",
      "manufacturerColorName bronzebraun mica metallic <class 'str'>\n",
      "rbt-color No Information <class 'str'>\n",
      "interior Vollleder, Grau <class 'str'>\n",
      "features Ausstattung, ABS, Allradantrieb, Bluetooth, Bordcomputer, CD-Spieler, Elektr. Fensterheber, Elektr. Seitenspiegel, Elektr. Sitzeinstellung, Elektr. Wegfahrsperre, Freisprecheinrichtung, Isofix (Kindersitzbefestigung), Lederausstattung, Leichtmetallfelgen, MP3-Schnittstelle, Multifunktionslenkrad, Nebelscheinwerfer, Nichtraucher-Fahrzeug, Partikelfilter, Regensensor, Scheckheftgepflegt, Servolenkung, Sitzheizung, Tempomat, Traktionskontrolle, Tuner/Radio, Zentralverriegelung <class 'str'>\n",
      "description Scheckheft lückenlos gepflegt\n",
      "Rückfahrkamera im Spiegel\n",
      "Sonderausstattung:\n",
      "Mica-Lackierung\n",
      "Weitere Ausstattung:\n",
      "Airbag Beifahrerseite abschaltbar, Airbag Fahrer-/Beifahrerseite, Audiobedienung am Lenkrad, Audiosystem: Radio mit CD-Player und CD-Wechsler (6-fach), Außenspiegel elektr. anklappbar, Außenspiegel elektr. verstell- und heizbar, Außenspiegel lackiert, Automatische Stabilitäts-Control und Traktion (ASC + T), AUX-IN-Anschluss (AUX-IN), Einschaltautomatik für Fahrlicht, Fahrassistenz-System: Bergabfahrkontrolle (HDC / DAC), Fensterheber elektrisch vorn + hinten, Fernentriegelung Tankklappe, Freisprechanlage Bluetooth, Hecktür ohne Reserve-/Notrad, Heckzierblende verchromt, Innenspiegel mit Abblendautomatik, Isofix-Aufnahmen für Kindersitz, Karosserie: 5-türig, Klimaautomatik, Knieairbag Fahrerseite, Kopf-Airbag-System, Kotflügelverbreiterung, Kühlergrill mit Chromrand, Leder-Komfort-Paket, Lenkrad (Leder), Lenkrad mit Schaltwippen, Lenksäule (Lenkrad) verstellbar, LM-Felgen, Modelljahr 2010, Motor 2,2 Ltr. - 110 kW D-4D KAT, Radstand 2560 mm, Reifen-Reparaturkit, Schadstoffarm nach Abgasnorm Euro 5, Schalt-/Wählhebelgriff Leder, Scheibenwischer mit Regensensor, Schleudertrauma-Schutzsystem, Seitenairbag, Sicherheitsgurte vorn höhenverstellbar, Türgriffe außen Wagenfarbe, Verglasung hinten abgedunkelt, Wärmeschutzverglasung\n",
      "weitere Extras vorhanden\n",
      "Fahrzeug befindet sich im guten Zustand\n",
      "alle Angaben ohne Gewähr\n",
      "Vollfinanzierung und Inzahlungnahme aller Art möglich\n",
      "Schreib- und Druckfehler vorbehalten\n",
      "* Fahrzeug steht in der Johannisthaler Chaussee 415, * 12351 Berlin Filiale Buckow Telnr. 030/66707375\n",
      "Faxnr. 030/66707374 Mobilnr. 0171/4943856\n",
      "2x Autoplatz am Rathaus... Filiale Buckow,\n",
      "Filiale Tempelhof. Für weitere Fragen bzw.\n",
      "Informationen, stehen wir Ihnen gerne zur Verfügung.\n",
      "Rufen Sie uns an.\n",
      "Mfg Autoplatz am Rathaus <class 'str'>\n",
      "firstSeen 12.04.2017 <class 'str'>\n",
      "lastSeen 2017-04-12 <class 'str'>\n"
     ]
    }
   ],
   "source": [
    "for key, value in allInfos.items():\n",
    "    print( key, value, type(value) )"
   ]
  },
  {
   "cell_type": "markdown",
   "metadata": {},
   "source": [
    "## initiate Database"
   ]
  },
  {
   "cell_type": "code",
   "execution_count": 69,
   "metadata": {
    "collapsed": false
   },
   "outputs": [
    {
     "data": {
      "text/plain": [
       "'H:\\\\GitHub_Projects\\\\UsedCarStats'"
      ]
     },
     "execution_count": 69,
     "metadata": {},
     "output_type": "execute_result"
    }
   ],
   "source": [
    "%pwd"
   ]
  },
  {
   "cell_type": "code",
   "execution_count": 70,
   "metadata": {
    "collapsed": false
   },
   "outputs": [],
   "source": [
    "attributes = dict()\n",
    "for option in pagesConfig.options('dbInit'):\n",
    "    attributes[option] = pagesConfig.get('dbInit', option)\n",
    "    "
   ]
  },
  {
   "cell_type": "code",
   "execution_count": 152,
   "metadata": {
    "collapsed": false
   },
   "outputs": [
    {
     "name": "stdout",
     "output_type": "stream",
     "text": [
      "CREATE TABLE car ( adid INTEGER PRIMARY KEY, adcondition VARCHAR, adcurrency VARCHAR, adfirstregmonth INT, adfirstregyear INT, adprice FLOAT, adsegment VARCHAR, adspecificsfuel VARCHAR, adspecificshsn INT, adspecificsmake VARCHAR, adspecificsmakeid VARCHAR, adspecificsmakemodel VARCHAR, adspecificsmodel VARCHAR, adspecificsmodeldescription TEXT, adspecificsmodelid VARCHAR, dealercity VARCHAR, dealercountry VARCHAR, dealerzip INT, featurevariants TEXT, isdealer BOOLEAN, sellertype VARCHAR, usersipaddress VARCHAR, category VARCHAR, countryversion VARCHAR, mileage VARCHAR, cubiccapacity VARCHAR, power VARCHAR, fuel VARCHAR, fuelconsumption VARCHAR, emission VARCHAR, numseats INT, doorcount VARCHAR, transmission VARCHAR, emissionssticker VARCHAR, firstregistration VARCHAR, numberofpreviousowners INT, hu VARCHAR, climatisation VARCHAR, parkassist VARCHAR, airbag VARCHAR, manufacturercolorname VARCHAR, color VARCHAR, interior VARCHAR, features TEXT, description TEXT, firstseen DATE, lastseen DATE )\n"
     ]
    }
   ],
   "source": [
    "s = ''\n",
    "for key, val in attributes.items():\n",
    "    s += key + ' ' + val + ', '\n",
    "sql_create_command = '''CREATE TABLE car ( %s )''' %s[:-2]\n",
    "\n",
    "print(sql_create_command)"
   ]
  },
  {
   "cell_type": "code",
   "execution_count": null,
   "metadata": {
    "collapsed": true
   },
   "outputs": [],
   "source": [
    "connection = sqlite3.connect('src/dataBase/carStats.db')\n",
    "cursor = connection.cursor()\n",
    "\n",
    "# delete \n",
    "#cursor.execute(\"\"\"DROP TABLE car;\"\"\")\n",
    "\n",
    "#cursor.execute(sql_create_command)\n",
    "\n",
    "# never forget this, if you want the changes to be saved:\n",
    "#connection.commit()\n",
    "\n",
    "#connection.close()"
   ]
  },
  {
   "cell_type": "code",
   "execution_count": 236,
   "metadata": {
    "collapsed": false
   },
   "outputs": [
    {
     "data": {
      "text/plain": [
       "[('car',)]"
      ]
     },
     "execution_count": 236,
     "metadata": {},
     "output_type": "execute_result"
    }
   ],
   "source": [
    "cursor.execute(\"SELECT name FROM sqlite_master WHERE type='table';\")\n",
    "result = cursor.fetchall()\n",
    "result"
   ]
  },
  {
   "cell_type": "code",
   "execution_count": 238,
   "metadata": {
    "collapsed": false
   },
   "outputs": [
    {
     "data": {
      "text/plain": [
       "'car'"
      ]
     },
     "execution_count": 238,
     "metadata": {},
     "output_type": "execute_result"
    }
   ],
   "source": [
    "cursor.close"
   ]
  },
  {
   "cell_type": "code",
   "execution_count": 232,
   "metadata": {
    "collapsed": false,
    "scrolled": true
   },
   "outputs": [
    {
     "data": {
      "text/plain": [
       "[(140655129,\n",
       "  'USED',\n",
       "  'EUR',\n",
       "  6,\n",
       "  1999,\n",
       "  3940.0,\n",
       "  'Car',\n",
       "  'PETROL',\n",
       "  None,\n",
       "  'Smart',\n",
       "  '23000',\n",
       "  'Smart ForTwo',\n",
       "  'ForTwo',\n",
       "  'smart BRABUS LM-FELGEN / LEDER / GLASDACH',\n",
       "  '4',\n",
       "  'Köln - Poll',\n",
       "  'DE',\n",
       "  51105,\n",
       "  None,\n",
       "  'True',\n",
       "  'DEALER',\n",
       "  '84.153.140.0',\n",
       "  'Kleinwagen',\n",
       "  'No Information',\n",
       "  '72.050\\xa0km',\n",
       "  '599\\xa0cm³',\n",
       "  '40\\xa0kW\\xa0(54\\xa0PS)',\n",
       "  'Benzin',\n",
       "  None,\n",
       "  None,\n",
       "  2,\n",
       "  '2/3',\n",
       "  'Automatik',\n",
       "  '4 (Grün)',\n",
       "  '06/1999',\n",
       "  'No Information',\n",
       "  '09/2013',\n",
       "  'Klimaanlage',\n",
       "  'No Information',\n",
       "  'Front-Airbags',\n",
       "  'No Information',\n",
       "  None,\n",
       "  'Vollleder, Schwarz',\n",
       "  'Ausstattung, ABS, CD-Spieler, Elektr. Fensterheber, Elektr. Wegfahrsperre, Leichtmetallfelgen, Servolenkung, Tuner/Radio, Zentralverriegelung',\n",
       "  'BRABUS 15 Zoll Leichtmetallfelgen\\nneue Ganzjahresreifen 185/55R15 montiert\\nCarbonfolie beklebt\\nSportendschalldämpfer\\nEdelstahl Heckbügelrohr\\nPanoramaglasdach\\nSchaltwippen am Lenkrad\\nKlimaanlage\\nHalbautomatikgetriebe\\nZV mit Fernbedienung\\nFront-Airbags\\nZentralverriegelung inkl. Fernbedienung\\nPioneer Radio CD-Spieler mit MP3\\nColorverglasung\\nVERKAUF IM KUNDENAUFTRAG !!!\\nGarantieversicherung gegen Aufpreis möglich !!!\\nGerne nehmen wir auch Ihren Gebrauchten in Zahlung ! Außerdem bieten wir eine günstige Finanzierung, Leasing und Versicherung an. Sprechen Sie uns einfach an.',\n",
       "  None,\n",
       "  None)]"
      ]
     },
     "execution_count": 232,
     "metadata": {},
     "output_type": "execute_result"
    }
   ],
   "source": [
    "#cursor.execute(sql_create_command)\n",
    "cursor.execute('''SELECT * FROM car''')\n",
    "cursor.fetchall()"
   ]
  },
  {
   "cell_type": "code",
   "execution_count": 208,
   "metadata": {
    "collapsed": false,
    "scrolled": true
   },
   "outputs": [],
   "source": [
    "pageInfo = utils.getInfoFromPage('https://suchen.mobile.de/fahrzeuge/details.html?id=' + dataIDs[0])\n"
   ]
  },
  {
   "cell_type": "code",
   "execution_count": 209,
   "metadata": {
    "collapsed": false,
    "scrolled": true
   },
   "outputs": [
    {
     "name": "stdout",
     "output_type": "stream",
     "text": [
      "INSERT INTO car ( isDealer, dealerCountry, dealerZip, dealerCity, adId, adSegment, adCondition, adFirstRegYear, adFirstRegMonth, adPrice, adCurrency, adSpecificsMake, adSpecificsMakeId, adSpecificsModel, adSpecificsModelId, adSpecificsMakeModel, adSpecificsModelDescription, adSpecificsFuel, usersIpAddress, sellerType, category, countryVersion, mileage, cubicCapacity, power, fuel, numSeats, doorCount, transmission, emissionsSticker, firstRegistration, numberOfPreviousOwners, hu, climatisation, parkAssist, airbag, manufacturerColorName, interior, features, description ) VALUES ( \"True\", \"DE\", \"51105\", \"Köln - Poll\", \"140655129\", \"Car\", \"USED\", \"1999\", \"6\", \"3940\", \"EUR\", \"Smart\", \"23000\", \"ForTwo\", \"4\", \"Smart ForTwo\", \"smart BRABUS LM-FELGEN / LEDER / GLASDACH\", \"PETROL\", \"84.153.140.0\", \"DEALER\", \"Kleinwagen\", \"No Information\", \"72.050 km\", \"599 cm³\", \"40 kW (54 PS)\", \"Benzin\", \"2\", \"2/3\", \"Automatik\", \"4 (Grün)\", \"06/1999\", \"No Information\", \"09/2013\", \"Klimaanlage\", \"No Information\", \"Front-Airbags\", \"No Information\", \"Vollleder, Schwarz\", \"Ausstattung, ABS, CD-Spieler, Elektr. Fensterheber, Elektr. Wegfahrsperre, Leichtmetallfelgen, Servolenkung, Tuner/Radio, Zentralverriegelung\", \"BRABUS 15 Zoll Leichtmetallfelgen\n",
      "neue Ganzjahresreifen 185/55R15 montiert\n",
      "Carbonfolie beklebt\n",
      "Sportendschalldämpfer\n",
      "Edelstahl Heckbügelrohr\n",
      "Panoramaglasdach\n",
      "Schaltwippen am Lenkrad\n",
      "Klimaanlage\n",
      "Halbautomatikgetriebe\n",
      "ZV mit Fernbedienung\n",
      "Front-Airbags\n",
      "Zentralverriegelung inkl. Fernbedienung\n",
      "Pioneer Radio CD-Spieler mit MP3\n",
      "Colorverglasung\n",
      "VERKAUF IM KUNDENAUFTRAG !!!\n",
      "Garantieversicherung gegen Aufpreis möglich !!!\n",
      "Gerne nehmen wir auch Ihren Gebrauchten in Zahlung ! Außerdem bieten wir eine günstige Finanzierung, Leasing und Versicherung an. Sprechen Sie uns einfach an.\" );\n"
     ]
    }
   ],
   "source": [
    "def insertIntoDB(dictionary, superKey=''):\n",
    "    columns = ''\n",
    "    values = ''\n",
    "    for key, val in dictionary.items():\n",
    "        if type(val) == dict:\n",
    "            c, v = insertIntoDB(val, superKey=superKey + key)\n",
    "            columns += c\n",
    "            values += v\n",
    "        elif key.lower() in attributes.keys():\n",
    "            columns += superKey + key + ', '\n",
    "            values += '\"' + str(val) + '\"' + ', '\n",
    "\n",
    "\n",
    "    \n",
    "    return columns, values\n",
    "\n",
    "columns, values = insertIntoDB(pageInfo)\n",
    "    \n",
    "sql_insert_command = '''INSERT INTO car ( %s ) VALUES ( %s );''' %(columns[:-2], values[:-2])\n",
    "\n",
    "print(sql_insert_command)"
   ]
  },
  {
   "cell_type": "code",
   "execution_count": 223,
   "metadata": {
    "collapsed": false
   },
   "outputs": [
    {
     "data": {
      "text/plain": [
       "[]"
      ]
     },
     "execution_count": 223,
     "metadata": {},
     "output_type": "execute_result"
    }
   ],
   "source": [
    "cursor.execute(sql_insert_command)\n",
    "cursor.fetchall()"
   ]
  },
  {
   "cell_type": "code",
   "execution_count": 224,
   "metadata": {
    "collapsed": false
   },
   "outputs": [
    {
     "name": "stdout",
     "output_type": "stream",
     "text": [
      "[(140655129, 'USED', 'EUR', 6, 1999, 3940.0, 'Car', 'PETROL', None, 'Smart', '23000', 'Smart ForTwo', 'ForTwo', 'smart BRABUS LM-FELGEN / LEDER / GLASDACH', '4', 'Köln - Poll', 'DE', 51105, None, 'True', 'DEALER', '84.153.140.0', 'Kleinwagen', 'No Information', '72.050\\xa0km', '599\\xa0cm³', '40\\xa0kW\\xa0(54\\xa0PS)', 'Benzin', None, None, 2, '2/3', 'Automatik', '4 (Grün)', '06/1999', 'No Information', '09/2013', 'Klimaanlage', 'No Information', 'Front-Airbags', 'No Information', None, 'Vollleder, Schwarz', 'Ausstattung, ABS, CD-Spieler, Elektr. Fensterheber, Elektr. Wegfahrsperre, Leichtmetallfelgen, Servolenkung, Tuner/Radio, Zentralverriegelung', 'BRABUS 15 Zoll Leichtmetallfelgen\\nneue Ganzjahresreifen 185/55R15 montiert\\nCarbonfolie beklebt\\nSportendschalldämpfer\\nEdelstahl Heckbügelrohr\\nPanoramaglasdach\\nSchaltwippen am Lenkrad\\nKlimaanlage\\nHalbautomatikgetriebe\\nZV mit Fernbedienung\\nFront-Airbags\\nZentralverriegelung inkl. Fernbedienung\\nPioneer Radio CD-Spieler mit MP3\\nColorverglasung\\nVERKAUF IM KUNDENAUFTRAG !!!\\nGarantieversicherung gegen Aufpreis möglich !!!\\nGerne nehmen wir auch Ihren Gebrauchten in Zahlung ! Außerdem bieten wir eine günstige Finanzierung, Leasing und Versicherung an. Sprechen Sie uns einfach an.', None, None)]\n"
     ]
    }
   ],
   "source": [
    "#cursor.execute(\"DELETE FROM car;\")\n",
    "cursor.execute(\"SELECT * FROM car;\") \n",
    "#cursor.execute(\"\"\"DROP TABLE car;\"\"\")\n",
    "\n",
    "result = cursor.fetchall()\n",
    "print(result)"
   ]
  },
  {
   "cell_type": "code",
   "execution_count": 226,
   "metadata": {
    "collapsed": false,
    "scrolled": true
   },
   "outputs": [
    {
     "name": "stdout",
     "output_type": "stream",
     "text": [
      "adid\n",
      "adcondition\n",
      "adcurrency\n",
      "adfirstregmonth\n",
      "adfirstregyear\n",
      "adprice\n",
      "adsegment\n",
      "adspecificsfuel\n",
      "adspecificshsn\n",
      "adspecificsmake\n",
      "adspecificsmakeid\n",
      "adspecificsmakemodel\n",
      "adspecificsmodel\n",
      "adspecificsmodeldescription\n",
      "adspecificsmodelid\n",
      "dealercity\n",
      "dealercountry\n",
      "dealerzip\n",
      "featurevariants\n",
      "isdealer\n",
      "sellertype\n",
      "usersipaddress\n",
      "category\n",
      "countryversion\n",
      "mileage\n",
      "cubiccapacity\n",
      "power\n",
      "fuel\n",
      "fuelconsumption\n",
      "emission\n",
      "numseats\n",
      "doorcount\n",
      "transmission\n",
      "emissionssticker\n",
      "firstregistration\n",
      "numberofpreviousowners\n",
      "hu\n",
      "climatisation\n",
      "parkassist\n",
      "airbag\n",
      "manufacturercolorname\n",
      "color\n",
      "interior\n",
      "features\n",
      "description\n",
      "firstseen\n",
      "lastseen\n"
     ]
    }
   ],
   "source": [
    "for i in cursor.description:\n",
    "    print (i[0])"
   ]
  },
  {
   "cell_type": "code",
   "execution_count": 108,
   "metadata": {
    "collapsed": true
   },
   "outputs": [],
   "source": [
    "connection.close()"
   ]
  },
  {
   "cell_type": "code",
   "execution_count": null,
   "metadata": {
    "collapsed": true
   },
   "outputs": [],
   "source": []
  }
 ],
 "metadata": {
  "anaconda-cloud": {},
  "kernelspec": {
   "display_name": "Python 3",
   "language": "python",
   "name": "python3"
  },
  "language_info": {
   "codemirror_mode": {
    "name": "ipython",
    "version": 3
   },
   "file_extension": ".py",
   "mimetype": "text/x-python",
   "name": "python",
   "nbconvert_exporter": "python",
   "pygments_lexer": "ipython3",
   "version": "3.6.1"
  }
 },
 "nbformat": 4,
 "nbformat_minor": 1
}
