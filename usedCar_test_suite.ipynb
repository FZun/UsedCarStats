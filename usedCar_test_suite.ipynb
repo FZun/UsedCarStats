{
 "cells": [
  {
   "cell_type": "code",
   "execution_count": 1,
   "metadata": {
    "collapsed": false
   },
   "outputs": [],
   "source": [
    "# -*- coding: utf-8 -*-\n",
    "\n",
    "## standard packages\n",
    "import numpy as np\n",
    "import os\n",
    "import datetime\n",
    "\n",
    "## Config Parster for initiation\n",
    "import configparser\n",
    "\n",
    "## HTTP scraping packages\n",
    "from lxml import html\n",
    "import requests\n",
    "\n",
    "#import httplib2\n",
    "import urllib\n",
    "\n",
    "from bs4 import BeautifulSoup, SoupStrainer\n",
    "import json\n",
    "\n",
    "## Database\n",
    "import sqlite3\n",
    "\n",
    "from importlib import reload\n"
   ]
  },
  {
   "cell_type": "code",
   "execution_count": 202,
   "metadata": {
    "collapsed": false
   },
   "outputs": [
    {
     "data": {
      "text/plain": [
       "'/media/florian/Volume/GitHub_Projects/UsedCarStats'"
      ]
     },
     "execution_count": 202,
     "metadata": {},
     "output_type": "execute_result"
    }
   ],
   "source": [
    "os.getcwd()"
   ]
  },
  {
   "cell_type": "code",
   "execution_count": 203,
   "metadata": {
    "collapsed": false
   },
   "outputs": [
    {
     "data": {
      "text/plain": [
       "<module 'src.utils' from '/media/florian/Volume/GitHub_Projects/UsedCarStats/src/utils.py'>"
      ]
     },
     "execution_count": 203,
     "metadata": {},
     "output_type": "execute_result"
    }
   ],
   "source": [
    "import src.utils as utils\n",
    "reload(utils)"
   ]
  },
  {
   "cell_type": "code",
   "execution_count": 239,
   "metadata": {
    "collapsed": false,
    "scrolled": true
   },
   "outputs": [
    {
     "name": "stdout",
     "output_type": "stream",
     "text": [
      "WebPages\n",
      "additionalAdInfo\n",
      "dbFilepath\n",
      "dbInit\n"
     ]
    }
   ],
   "source": [
    "pagesConfig = configparser.ConfigParser()\n",
    "pagesConfig.read(\"config/siteSpecifics.ini\")\n",
    "\n",
    "for section in pagesConfig.sections():\n",
    "    print(section)\n",
    "    #for option in pagesConfig.options(section):\n",
    "        #print(option, pagesConfig.get(section, option))\n",
    "    #    print (section, option)"
   ]
  },
  {
   "cell_type": "code",
   "execution_count": 240,
   "metadata": {
    "collapsed": false
   },
   "outputs": [
    {
     "name": "stdout",
     "output_type": "stream",
     "text": [
      "http://suchen.mobile.de/fahrzeuge/search.html?scopeId=C&damageUnrepaired=NO_DAMAGE_UNREPAIRED&scopeId=C&isSearchRequest=true&sortOption.sortBy=creationTime&sortOption.sortOrder=DESCENDING&pageNumber=\n"
     ]
    }
   ],
   "source": [
    "searchPage = pagesConfig.get('WebPages', 'mobile.de')\n",
    "print(searchPage)"
   ]
  },
  {
   "cell_type": "code",
   "execution_count": 241,
   "metadata": {
    "collapsed": false
   },
   "outputs": [
    {
     "name": "stdout",
     "output_type": "stream",
     "text": [
      "http://suchen.mobile.de/fahrzeuge/details.html?id=\n"
     ]
    }
   ],
   "source": [
    "idPage = pagesConfig.get('WebPages', 'mobile.de_ID')\n",
    "print(idPage)"
   ]
  },
  {
   "cell_type": "code",
   "execution_count": 265,
   "metadata": {
    "collapsed": false
   },
   "outputs": [],
   "source": [
    "reload(utils)\n",
    "database.close()\n",
    "database = utils.DataBase(os.getcwd() + '/src/DataBase/carStats.db')\n",
    "database.connect()"
   ]
  },
  {
   "cell_type": "code",
   "execution_count": 266,
   "metadata": {
    "collapsed": false
   },
   "outputs": [
    {
     "data": {
      "text/plain": [
       "[('car',)]"
      ]
     },
     "execution_count": 266,
     "metadata": {},
     "output_type": "execute_result"
    }
   ],
   "source": [
    "#database.deleteAllContents('car')\n",
    "database.getTableNames()"
   ]
  },
  {
   "cell_type": "code",
   "execution_count": 267,
   "metadata": {
    "collapsed": true
   },
   "outputs": [],
   "source": [
    "database.save()"
   ]
  },
  {
   "cell_type": "code",
   "execution_count": 268,
   "metadata": {
    "collapsed": false,
    "scrolled": true
   },
   "outputs": [],
   "source": [
    "scraping = utils.htmlScraping(searchPage, idPage, database)"
   ]
  },
  {
   "cell_type": "code",
   "execution_count": 269,
   "metadata": {
    "collapsed": false,
    "scrolled": true
   },
   "outputs": [
    {
     "data": {
      "text/plain": [
       "[0, 200, 400]"
      ]
     },
     "execution_count": 269,
     "metadata": {},
     "output_type": "execute_result"
    }
   ],
   "source": [
    "scraping.setPriceStepList(0, 400, 200)\n",
    "priceStepList = scraping.getPriceStepList()\n",
    "priceStepList"
   ]
  },
  {
   "cell_type": "code",
   "execution_count": 270,
   "metadata": {
    "collapsed": false,
    "scrolled": true
   },
   "outputs": [
    {
     "name": "stdout",
     "output_type": "stream",
     "text": [
      "50 / 50, current price range: 0 - 200 Euros\n",
      " (768, 4)\n",
      "50 / 50, current price range: 200 - 400 Euros\n",
      " (943, 4)\n",
      "Error during getting Information from Page at: 844\n",
      "['247977330'\n",
      " 'https://suchen.mobile.de/fahrzeuge/details.html?id=247977330&damageUnrepaired=NO_DAMAGE_UNREPAIRED&isSearchRequest=true&maxPrice=400&minPrice=200&pageNumber=45&scopeId=C&sortOption.sortBy=creationTime&sortOption.sortOrder=DESCENDING'\n",
      " ' href13hrefRenault Twingo 1.2hrefInserat online seit 26.07.2017 15:21href380 €hrefEZ 11/1997, 196.000\\xa0km, 43\\xa0kW\\xa0(58\\xa0PS)hrefKleinwagen, hrefUnfallfreihref, Benzin, Schaltgetriebe, HU 11/2017, 2/3 Türenhref≈\\u20096,0\\u2009l/100km (komb.), ≈\\u2009143\\u2009g CO₂/km (komb.)hrefDE-49828 Lage, PrivatanbieterhrefFinanzierunghref, hrefVersicherunghrefGeparkthrefParkenhrefKontakt'\n",
      " '26.07.2017']\n",
      "Expecting value: line 1 column 2 (char 1)\n",
      "Error during translating/writing Information to DB at: 844\n",
      "['247977330'\n",
      " 'https://suchen.mobile.de/fahrzeuge/details.html?id=247977330&damageUnrepaired=NO_DAMAGE_UNREPAIRED&isSearchRequest=true&maxPrice=400&minPrice=200&pageNumber=45&scopeId=C&sortOption.sortBy=creationTime&sortOption.sortOrder=DESCENDING'\n",
      " ' href13hrefRenault Twingo 1.2hrefInserat online seit 26.07.2017 15:21href380 €hrefEZ 11/1997, 196.000\\xa0km, 43\\xa0kW\\xa0(58\\xa0PS)hrefKleinwagen, hrefUnfallfreihref, Benzin, Schaltgetriebe, HU 11/2017, 2/3 Türenhref≈\\u20096,0\\u2009l/100km (komb.), ≈\\u2009143\\u2009g CO₂/km (komb.)hrefDE-49828 Lage, PrivatanbieterhrefFinanzierunghref, hrefVersicherunghrefGeparkthrefParkenhrefKontakt'\n",
      " '26.07.2017']\n",
      "adFirstRegYear, adId, adSpecificsModel, dealerZip, emissionsSticker, cubicCapacity, emission, sellerType, dealerCity, lastSeen, description, interior, adSpecificsMakeId, parkAssist, adPrice, dealerCountry, climatisation, fuel, hu, countryVersion, isDealer, numberOfPreviousOwners, adSpecificsFuel, adFirstRegMonth, manufacturerColorName, doorCount, category, adCondition, firstRegistration, adSpecificsModelId, mileage, adSpecificsModelDescription, features, numSeats, adSpecificsMakeModel, adSegment, firstSeen, airbag, power, adCurrency, consumption, adSpecificsMake, transmission \"1995\", \"247980342\", \"A4\", \"73084\", \"No Information\", \"1.781 cm³\", \"≈ 204 g/km (kombiniert)\", \"FSBO\", \"Salach\", \"2017-08-06\", \"verkaufe Audi a4 1,8L Klimaautomatik ,halbleder kein TÜV fahrbereit \", \"No Information\", \"1900\", \"No Information\", \"250\", \"DE\", \"No Information\", \"Benzin\", \"No Information\", \"No Information\", \"False\", \"No Information\", \"PETROL\", \"7\", \"No Information\", \"4/5\", \"Limousine\", \"USED\", \"07/1995\", \"9\", \"187.000 km\", \"A4 1.8\", \"Ausstattung, ABS, Elektr. Fensterheber, Elektr. Wegfahrsperre, Leichtmetallfelgen, Servolenkung, Zentralverriegelung\", \"5\", \"Audi A4\", \"Car\", \"26.07.2017\", \"No Information\", \"92 kW (125 PS)\", \"EUR\", \"≈ 8,5 l/100km (kombiniert)≈ 12,1 l/100km (innerorts)≈ 6,5 l/100km (außerorts)\", \"Audi\", \"Schaltgetriebe\"\n",
      "UNIQUE constraint failed: car.adid\n",
      "943 / 943"
     ]
    }
   ],
   "source": [
    "scraping.autoScraping()"
   ]
  },
  {
   "cell_type": "code",
   "execution_count": 271,
   "metadata": {
    "collapsed": false
   },
   "outputs": [
    {
     "data": {
      "text/plain": [
       "1710"
      ]
     },
     "execution_count": 271,
     "metadata": {},
     "output_type": "execute_result"
    }
   ],
   "source": [
    "allData = database.execute(\"\"\"SELECT * from car\"\"\")\n",
    "len(allData)"
   ]
  },
  {
   "cell_type": "code",
   "execution_count": 278,
   "metadata": {
    "collapsed": false
   },
   "outputs": [
    {
     "data": {
      "text/plain": [
       "array(['1.242 cm³', 'Punto 1.2 SX,Klima', 'No Information', None,\n",
       "       '≈ 5,7 l/100km (kombiniert)≈ 7,3 l/100km (innerorts)≈ 4,8 l/100km (außerorts)',\n",
       "       'PETROL', 'Fiat', '02.08.2017', 'Klimaanlage', 'Frankfurt am Main',\n",
       "       'Keine TÜV ,servo ohne Funktion aber sehr leicht zu lenken,mit Klima und 4 Türig......\\nFest Preis !!!!!!!!!!!!!!!',\n",
       "       6, 'No Information', 250.0, '8800', '2017-08-06', 'Car', 'True',\n",
       "       'Benzin', 'Punto', 'Fiat Punto', '11/2016', '06/2001', 'EUR',\n",
       "       'No Information', 4136, 232620718,\n",
       "       'Front-, Seiten- und weitere Airbags', 'USED', 'DEALER', 1, None,\n",
       "       'Kleinwagen', '30', '193.000 km', '≈ 136 g/km (kombiniert)',\n",
       "       'Ausstattung, ABS, Elektr. Fensterheber, Elektr. Wegfahrsperre, Servolenkung, Tuner/Radio, Zentralverriegelung',\n",
       "       5, 'No Information', '4 (Grün)', 65933, 2001, '44 kW (60 PS)',\n",
       "       '4/5', 'DE', 'Schaltgetriebe'], dtype=object)"
      ]
     },
     "execution_count": 278,
     "metadata": {},
     "output_type": "execute_result"
    }
   ],
   "source": [
    "#allData = np.array(allData)\n",
    "allData[30]"
   ]
  },
  {
   "cell_type": "code",
   "execution_count": 276,
   "metadata": {
    "collapsed": false
   },
   "outputs": [
    {
     "data": {
      "text/plain": [
       "(('cubiccapacity', None, None, None, None, None, None),\n",
       " ('adspecificsmodeldescription', None, None, None, None, None, None),\n",
       " ('manufacturercolorname', None, None, None, None, None, None),\n",
       " ('featurevariants', None, None, None, None, None, None),\n",
       " ('consumption', None, None, None, None, None, None),\n",
       " ('adspecificsfuel', None, None, None, None, None, None),\n",
       " ('adspecificsmake', None, None, None, None, None, None),\n",
       " ('firstseen', None, None, None, None, None, None),\n",
       " ('climatisation', None, None, None, None, None, None),\n",
       " ('dealercity', None, None, None, None, None, None),\n",
       " ('description', None, None, None, None, None, None),\n",
       " ('adfirstregmonth', None, None, None, None, None, None),\n",
       " ('interior', None, None, None, None, None, None),\n",
       " ('adprice', None, None, None, None, None, None),\n",
       " ('adspecificsmakeid', None, None, None, None, None, None),\n",
       " ('lastseen', None, None, None, None, None, None),\n",
       " ('adsegment', None, None, None, None, None, None),\n",
       " ('isdealer', None, None, None, None, None, None),\n",
       " ('fuel', None, None, None, None, None, None),\n",
       " ('adspecificsmodel', None, None, None, None, None, None),\n",
       " ('adspecificsmakemodel', None, None, None, None, None, None),\n",
       " ('hu', None, None, None, None, None, None),\n",
       " ('firstregistration', None, None, None, None, None, None),\n",
       " ('adcurrency', None, None, None, None, None, None),\n",
       " ('parkassist', None, None, None, None, None, None),\n",
       " ('adspecificshsn', None, None, None, None, None, None),\n",
       " ('adid', None, None, None, None, None, None),\n",
       " ('airbag', None, None, None, None, None, None),\n",
       " ('adcondition', None, None, None, None, None, None),\n",
       " ('sellertype', None, None, None, None, None, None),\n",
       " ('numberofpreviousowners', None, None, None, None, None, None),\n",
       " ('color', None, None, None, None, None, None),\n",
       " ('category', None, None, None, None, None, None),\n",
       " ('adspecificsmodelid', None, None, None, None, None, None),\n",
       " ('mileage', None, None, None, None, None, None),\n",
       " ('emission', None, None, None, None, None, None),\n",
       " ('features', None, None, None, None, None, None),\n",
       " ('numseats', None, None, None, None, None, None),\n",
       " ('countryversion', None, None, None, None, None, None),\n",
       " ('emissionssticker', None, None, None, None, None, None),\n",
       " ('dealerzip', None, None, None, None, None, None),\n",
       " ('adfirstregyear', None, None, None, None, None, None),\n",
       " ('power', None, None, None, None, None, None),\n",
       " ('doorcount', None, None, None, None, None, None),\n",
       " ('dealercountry', None, None, None, None, None, None),\n",
       " ('transmission', None, None, None, None, None, None))"
      ]
     },
     "execution_count": 276,
     "metadata": {},
     "output_type": "execute_result"
    }
   ],
   "source": [
    "cursor = database.getCursor()\n",
    "cursor.description"
   ]
  },
  {
   "cell_type": "code",
   "execution_count": 153,
   "metadata": {
    "collapsed": false,
    "scrolled": true
   },
   "outputs": [
    {
     "name": "stdout",
     "output_type": "stream",
     "text": [
      "adFirstRegYear\n",
      "adId\n",
      "adSpecificsModel\n",
      "adImageBase64\n",
      "dealerZip\n",
      "emissionsSticker\n",
      "cubicCapacity\n",
      "envkv.emission\n",
      "sellerType\n",
      "dealerCity\n",
      "usersIpAddress\n",
      "featureVariants\n",
      "adImage\n",
      "description\n",
      "interior\n",
      "adSpecificsMakeId\n",
      "parkAssist\n",
      "adPrice\n",
      "dealerCountry\n",
      "climatisation\n",
      "fuel\n",
      "hu\n",
      "ad\n",
      "countryVersion\n",
      "isDealer\n",
      "rbt-color\n",
      "numberOfPreviousOwners\n",
      "adSpecificsFuel\n",
      "adFirstRegMonth\n",
      "manufacturerColorName\n",
      "doorCount\n",
      "category\n",
      "adCondition\n",
      "adSpecificsMakeModelBase64\n",
      "firstRegistration\n",
      "adSpecificsModelId\n",
      "mileage\n",
      "adSpecificsModelDescription\n",
      "features\n",
      "numSeats\n",
      "adSpecificsMakeModel\n",
      "adSegment\n",
      "airbag\n",
      "power\n",
      "adCurrency\n",
      "envkv.consumption\n",
      "adSpecificsMake\n",
      "transmission\n"
     ]
    }
   ],
   "source": [
    "for key in pageInfo.keys():\n",
    "    print(key)"
   ]
  },
  {
   "cell_type": "code",
   "execution_count": 145,
   "metadata": {
    "collapsed": false
   },
   "outputs": [
    {
     "data": {
      "text/plain": [
       "(31449, 1)"
      ]
     },
     "execution_count": 145,
     "metadata": {},
     "output_type": "execute_result"
    }
   ],
   "source": [
    "adIDList = np.array(database.execute(\"\"\"SELECT adID FROM car\"\"\"))\n",
    "adIDList.shape"
   ]
  },
  {
   "cell_type": "code",
   "execution_count": 146,
   "metadata": {
    "collapsed": false,
    "scrolled": false
   },
   "outputs": [
    {
     "data": {
      "text/plain": [
       "False"
      ]
     },
     "execution_count": 146,
     "metadata": {},
     "output_type": "execute_result"
    }
   ],
   "source": [
    "int('248421277') not in adIDList"
   ]
  },
  {
   "cell_type": "code",
   "execution_count": 147,
   "metadata": {
    "collapsed": true
   },
   "outputs": [],
   "source": [
    "database.save()\n",
    "#database.close()"
   ]
  },
  {
   "cell_type": "code",
   "execution_count": 148,
   "metadata": {
    "collapsed": false
   },
   "outputs": [
    {
     "ename": "ProgrammingError",
     "evalue": "Cannot operate on a closed database.",
     "output_type": "error",
     "traceback": [
      "\u001b[0;31m---------------------------------------------------------------------------\u001b[0m",
      "\u001b[0;31mProgrammingError\u001b[0m                          Traceback (most recent call last)",
      "\u001b[0;32m<ipython-input-148-7e64ebda44b4>\u001b[0m in \u001b[0;36m<module>\u001b[0;34m()\u001b[0m\n\u001b[0;32m----> 1\u001b[0;31m \u001b[0mdbDataIDs\u001b[0m \u001b[0;34m=\u001b[0m \u001b[0mnp\u001b[0m\u001b[0;34m.\u001b[0m\u001b[0marray\u001b[0m\u001b[0;34m(\u001b[0m\u001b[0mdatabase\u001b[0m\u001b[0;34m.\u001b[0m\u001b[0mexecute\u001b[0m\u001b[0;34m(\u001b[0m\u001b[0;34m\"\"\"SELECT adID from car\"\"\"\u001b[0m\u001b[0;34m)\u001b[0m\u001b[0;34m)\u001b[0m \u001b[0;31m# ToDo: make a variable out of the name of the DB\u001b[0m\u001b[0;34m\u001b[0m\u001b[0m\n\u001b[0m\u001b[1;32m      2\u001b[0m \u001b[0mdbDataIDs\u001b[0m\u001b[0;34m,\u001b[0m\u001b[0;34m\u001b[0m\u001b[0m\n",
      "\u001b[0;32m/media/florian/Volume/GitHub_Projects/UsedCarStats/src/utils.py\u001b[0m in \u001b[0;36mexecute\u001b[0;34m(self, executableString)\u001b[0m\n\u001b[1;32m     33\u001b[0m \u001b[0;34m\u001b[0m\u001b[0m\n\u001b[1;32m     34\u001b[0m     \u001b[0;32mdef\u001b[0m \u001b[0mexecute\u001b[0m\u001b[0;34m(\u001b[0m\u001b[0mself\u001b[0m\u001b[0;34m,\u001b[0m \u001b[0mexecutableString\u001b[0m\u001b[0;34m)\u001b[0m\u001b[0;34m:\u001b[0m\u001b[0;34m\u001b[0m\u001b[0m\n\u001b[0;32m---> 35\u001b[0;31m         \u001b[0mself\u001b[0m\u001b[0;34m.\u001b[0m\u001b[0m_cursor\u001b[0m\u001b[0;34m.\u001b[0m\u001b[0mexecute\u001b[0m\u001b[0;34m(\u001b[0m\u001b[0mexecutableString\u001b[0m\u001b[0;34m)\u001b[0m\u001b[0;34m\u001b[0m\u001b[0m\n\u001b[0m\u001b[1;32m     36\u001b[0m         \u001b[0;32mreturn\u001b[0m \u001b[0mself\u001b[0m\u001b[0;34m.\u001b[0m\u001b[0m_cursor\u001b[0m\u001b[0;34m.\u001b[0m\u001b[0mfetchall\u001b[0m\u001b[0;34m(\u001b[0m\u001b[0;34m)\u001b[0m\u001b[0;34m\u001b[0m\u001b[0m\n\u001b[1;32m     37\u001b[0m \u001b[0;34m\u001b[0m\u001b[0m\n",
      "\u001b[0;31mProgrammingError\u001b[0m: Cannot operate on a closed database."
     ]
    }
   ],
   "source": [
    "dbDataIDs = np.array(database.execute(\"\"\"SELECT adID from car\"\"\")) # ToDo: make a variable out of the name of the DB\n",
    "dbDataIDs"
   ]
  },
  {
   "cell_type": "code",
   "execution_count": 28,
   "metadata": {
    "collapsed": false
   },
   "outputs": [
    {
     "data": {
      "text/plain": [
       "True"
      ]
     },
     "execution_count": 28,
     "metadata": {},
     "output_type": "execute_result"
    }
   ],
   "source": [
    "int('248269787') in dbDataIDs"
   ]
  },
  {
   "cell_type": "code",
   "execution_count": 31,
   "metadata": {
    "collapsed": false
   },
   "outputs": [
    {
     "data": {
      "text/plain": [
       "array(['248269787', '248267306', '248264575', '248252813', '246252021',\n",
       "       '244467187', '248174697', '248171857', '248148941', '248144493',\n",
       "       '248109072', '248096330', '248043051', '248037885', '248023448',\n",
       "       '248023132', '247639279', '248001578', '247998463', '247956139',\n",
       "       '246383095', '247875251', '247874602', '247874018', '247843047',\n",
       "       '247836580', '247828802', '247795217', '247697745', '247604053',\n",
       "       '247592974', '247590114', '247589077', '247564920', '247525545',\n",
       "       '247524576', '247522826', '247431201', '247413157', '246551441',\n",
       "       '247393462', '247392745', '247355769', '247351657', '247322635',\n",
       "       '247320569', '247314188', '247301288', '247293613', '247251769',\n",
       "       '247236342', '247213399', '246890093', '246860053', '246806549',\n",
       "       '246795228', '246764470', '246741763', '246740939', '246703292',\n",
       "       '246612414', '246566321', '246496416', '246384941', '246367408',\n",
       "       '246354921', '246243883', '246188097', '246149836', '246112547',\n",
       "       '245940456', '245851845', '245830336', '245705074', '244712111',\n",
       "       '245678948', '245668074', '245668051', '245600976', '245494786',\n",
       "       '245435509', '245393991', '245350103', '245257980', '245212285',\n",
       "       '245212204', '245155231', '245060000', '244877156', '244777738',\n",
       "       '244620569', '236747339', '244199539', '244171583', '243770363',\n",
       "       '243560023', '243284212', '243273679', '243247055', '243147080',\n",
       "       '242693045', '242484138', '241051126', '239944377', '238344129',\n",
       "       '238011029', '227097070'],\n",
       "      dtype='<U423')"
      ]
     },
     "execution_count": 31,
     "metadata": {},
     "output_type": "execute_result"
    }
   ],
   "source": [
    "dataIDs[:, 0]"
   ]
  },
  {
   "cell_type": "code",
   "execution_count": 199,
   "metadata": {
    "collapsed": false
   },
   "outputs": [],
   "source": [
    "def insertIntoDB(dictionary, attributes, superKey=''):\n",
    "        \"\"\"\n",
    "            generate SQL String that still has to be executed\n",
    "            this string includes all the information in a proper format for the DB\n",
    "        \"\"\"\n",
    "        columns = ''\n",
    "        values = ''\n",
    "        for key, val in dictionary.items():\n",
    "            if type(val) == dict:\n",
    "                c, v = insertIntoDB(val, attributes, superKey=superKey + key)\n",
    "                columns += c\n",
    "                values += v\n",
    "            elif key.lower() in attributes.keys():\n",
    "                columns += superKey + key + ', '\n",
    "                values += '\"' + str(val).replace('\"', '*') + '\"' + ', '\n",
    "            #else:\n",
    "                #print(key, val)\n",
    "        \n",
    "        values = values.replace('\\xa0', ' ')\n",
    "        values = values.replace('\\u2009', ' ')\n",
    "        return columns[:-2], values[:-2]"
   ]
  },
  {
   "cell_type": "code",
   "execution_count": 200,
   "metadata": {
    "collapsed": false,
    "scrolled": true
   },
   "outputs": [
    {
     "data": {
      "text/plain": [
       "dict_keys(['cubiccapacity', 'adspecificsmodeldescription', 'manufacturercolorname', 'featurevariants', 'envkv.emission', 'adspecificsfuel', 'adspecificsmake', 'firstseen', 'climatisation', 'dealercity', 'description', 'adfirstregmonth', 'interior', 'adprice', 'adspecificsmakeid', 'lastseen', 'adsegment', 'isdealer', 'fuel', 'adspecificsmodel', 'adspecificsmakemodel', 'hu', 'firstregistration', 'adcurrency', 'parkassist', 'adspecificshsn', 'adid', 'airbag', 'adcondition', 'sellertype', 'numberofpreviousowners', 'color', 'category', 'adspecificsmodelid', 'mileage', 'features', 'numseats', 'countryversion', 'emissionssticker', 'dealerzip', 'adfirstregyear', 'power', 'doorcount', 'dealercountry', 'envkv.consumption', 'transmission'])"
      ]
     },
     "execution_count": 200,
     "metadata": {},
     "output_type": "execute_result"
    }
   ],
   "source": [
    "pagesConfig = configparser.ConfigParser()\n",
    "pagesConfig.read(\"config/siteSpecifics.ini\")\n",
    "attributes = dict()\n",
    "for option in pagesConfig.options('dbInit'):\n",
    "    attributes[option] = pagesConfig.get('dbInit', option)\n",
    "attributes.keys()"
   ]
  },
  {
   "cell_type": "code",
   "execution_count": 201,
   "metadata": {
    "collapsed": false,
    "scrolled": true
   },
   "outputs": [
    {
     "name": "stdout",
     "output_type": "stream",
     "text": [
      "('adFirstRegYear, adId, adSpecificsModel, dealerZip, emissionsSticker, cubicCapacity, envkv.emission, sellerType, dealerCity, description, interior, adSpecificsMakeId, parkAssist, adPrice, dealerCountry, climatisation, fuel, hu, countryVersion, isDealer, numberOfPreviousOwners, adSpecificsFuel, adFirstRegMonth, manufacturerColorName, doorCount, category, adCondition, firstRegistration, adSpecificsModelId, mileage, adSpecificsModelDescription, features, numSeats, adSpecificsMakeModel, adSegment, airbag, power, adCurrency, envkv.consumption, adSpecificsMake, transmission', '\"2000\", \"248479429\", \"Kangoo\", \"37339\", \"No Information\", \"1.870 cm³\", \"≈ 152 g/km (kombiniert)\", \"FSBO\", \"Teistungen\", \"Verkaufe hier meinen Renault, da ich mit bauen soweit fertig bin . Er ist fahrbereit, aber auch kein Neufahrzeug mehr. Einfach anschauen . Bei Fragen einfach Anrufen. \", \"Stoff, Grau\", \"20700\", \"No Information\", \"1000\", \"DE\", \"Klimaanlage\", \"Diesel\", \"No Information\", \"No Information\", \"False\", \"No Information\", \"DIESEL\", \"6\", \"No Information\", \"4/5\", \"Van / Minibus\", \"USED\", \"06/2000\", \"13\", \"243.000 km\", \"Kangoo 1.9 dTi\", \"Ausstattung, ABS, Anhängerkupplung, CD-Spieler, Dachreling, Elektr. Fensterheber, Elektr. Wegfahrsperre, Nebelscheinwerfer, Nichtraucher-Fahrzeug, Servolenkung, Tuner/Radio\", \"5\", \"Renault Kangoo\", \"Car\", \"No Information\", \"59 kW (80 PS)\", \"EUR\", \"≈ 5,7 l/100km (kombiniert)≈ 7,1 l/100km (innerorts)≈ 4,9 l/100km (außerorts)\", \"Renault\", \"Schaltgetriebe\"')\n"
     ]
    }
   ],
   "source": [
    "#pageInfo = scraping.getInfoFromPage(idPage + dataIDs[0][0])\n",
    "insertString = insertIntoDB(pageInfo, attributes)\n",
    "print(insertString)"
   ]
  },
  {
   "cell_type": "code",
   "execution_count": 198,
   "metadata": {
    "collapsed": false
   },
   "outputs": [
    {
     "data": {
      "text/plain": [
       "'\"2000\", \"248479429\", \"Kangoo\", \"37339\", \"No Information\", \"1.870\\xa0cm³\", \"≈ 152 g/km (kombiniert)\", \"FSBO\", \"Teistungen\", \"Verkaufe hier meinen Renault, da ich mit bauen soweit fertig bin . Er ist fahrbereit, aber auch kein Neufahrzeug mehr. Einfach anschauen . Bei Fragen einfach Anrufen. \", \"Stoff, Grau\", \"20700\", \"No Information\", \"1000\", \"DE\", \"Klimaanlage\", \"Diesel\", \"No Information\", \"No Information\", \"False\", \"No Information\", \"DIESEL\", \"6\", \"No Information\", \"4/5\", \"Van / Minibus\", \"USED\", \"06/2000\", \"13\", \"243.000\\xa0km\", \"Kangoo 1.9 dTi\", \"Ausstattung, ABS, Anhängerkupplung, CD-Spieler, Dachreling, Elektr. Fensterheber, Elektr. Wegfahrsperre, Nebelscheinwerfer, Nichtraucher-Fahrzeug, Servolenkung, Tuner/Radio\", \"5\", \"Renault Kangoo\", \"Car\", \"No Information\", \"59\\xa0kW\\xa0(80\\xa0PS)\", \"EUR\", \"≈ 5,7 l/100km (kombiniert)≈ 7,1 l/100km (innerorts)≈ 4,9 l/100km (außerorts)\", \"Renault\", \"Schaltgetriebe\"'"
      ]
     },
     "execution_count": 198,
     "metadata": {},
     "output_type": "execute_result"
    }
   ],
   "source": [
    "insertString[1].replace('\\u2009', ' ')"
   ]
  },
  {
   "cell_type": "markdown",
   "metadata": {},
   "source": [
    "## initiate Database"
   ]
  },
  {
   "cell_type": "code",
   "execution_count": null,
   "metadata": {
    "collapsed": true
   },
   "outputs": [],
   "source": [
    "#connection = sqlite3.connect('src/dataBase/carStats.db')\n",
    "#cursor = connection.cursor()\n",
    "\n",
    "# delete \n",
    "#cursor.execute(\"\"\"DROP TABLE car;\"\"\")\n",
    "\n",
    "#cursor.execute(sql_create_command)\n",
    "\n",
    "# never forget this, if you want the changes to be saved:\n",
    "#connection.commit()\n",
    "\n",
    "#connection.close()"
   ]
  },
  {
   "cell_type": "code",
   "execution_count": 69,
   "metadata": {
    "collapsed": false
   },
   "outputs": [
    {
     "data": {
      "text/plain": [
       "'H:\\\\GitHub_Projects\\\\UsedCarStats'"
      ]
     },
     "execution_count": 69,
     "metadata": {},
     "output_type": "execute_result"
    }
   ],
   "source": [
    "%pwd"
   ]
  },
  {
   "cell_type": "code",
   "execution_count": 90,
   "metadata": {
    "collapsed": false
   },
   "outputs": [
    {
     "data": {
      "text/plain": [
       "<module 'src.utils' from 'H:\\\\GitHub_Projects\\\\UsedCarStats\\\\src\\\\utils.py'>"
      ]
     },
     "execution_count": 90,
     "metadata": {},
     "output_type": "execute_result"
    }
   ],
   "source": [
    "from importlib import reload\n",
    "reload(utils)"
   ]
  },
  {
   "cell_type": "code",
   "execution_count": 21,
   "metadata": {
    "collapsed": false
   },
   "outputs": [],
   "source": [
    "#database.close()\n",
    "database = utils.DataBase(os.getcwd() + '/src/DataBase/carStats.db')"
   ]
  },
  {
   "cell_type": "code",
   "execution_count": 22,
   "metadata": {
    "collapsed": false
   },
   "outputs": [],
   "source": [
    "database.connect()"
   ]
  },
  {
   "cell_type": "code",
   "execution_count": 23,
   "metadata": {
    "collapsed": false
   },
   "outputs": [
    {
     "data": {
      "text/plain": [
       "[('car',)]"
      ]
     },
     "execution_count": 23,
     "metadata": {},
     "output_type": "execute_result"
    }
   ],
   "source": [
    "database.getTableNames()"
   ]
  },
  {
   "cell_type": "code",
   "execution_count": 38,
   "metadata": {
    "collapsed": false,
    "scrolled": true
   },
   "outputs": [
    {
     "data": {
      "text/plain": [
       "(130918008,\n",
       " 'USED',\n",
       " 'EUR',\n",
       " 12,\n",
       " 1992,\n",
       " 850.0,\n",
       " 'Car',\n",
       " 'PETROL',\n",
       " 588,\n",
       " 'Audi',\n",
       " '1900',\n",
       " 'Audi 80',\n",
       " '80',\n",
       " '80 B4 auch Tausch gegen ETS 250 !!!',\n",
       " '5',\n",
       " 'Jena',\n",
       " 'DE',\n",
       " 7749,\n",
       " None,\n",
       " 'True',\n",
       " 'DEALER',\n",
       " '84.153.133.0',\n",
       " 'Limousine',\n",
       " 'No Information',\n",
       " '141.650\\xa0km',\n",
       " '1.984\\xa0cm³',\n",
       " '66\\xa0kW\\xa0(90\\xa0PS)',\n",
       " 'Benzin',\n",
       " None,\n",
       " None,\n",
       " 5,\n",
       " '4/5',\n",
       " 'Schaltgetriebe',\n",
       " '4 (Grün)',\n",
       " '12/1992',\n",
       " 2,\n",
       " 'No Information',\n",
       " 'Keine Klimaanlage oder -automatik',\n",
       " 'No Information',\n",
       " 'No Information',\n",
       " 'Casablancaweiss',\n",
       " None,\n",
       " 'Stoff, Grau',\n",
       " 'Ausstattung, Leichtmetallfelgen, Schiebedach, Servolenkung, Zentralverriegelung',\n",
       " 'Deutsches Auto mit deutschen Papieren vom deutschen Autohandel ! Tachostand 141000 km, eine 5.Alufelge liegt im Kofferraum !\\n...Das waren wenigstens noch Auto`s-ohne anfällige Elektronik...\\nBenzinpumpe gerade erneuert ! läuft gut !\\nPreis mit neuem TüV=2.000,- € !\\xa0\\nOhne 999,- €!\\nDer tatsächliche,derzeitige Zustand weicht auf Grund der langen Standzeit\\xa0von den Bildern ab !\\nInzahlungnahme/Finanzierung/Tausch (auch gegen Oldtimer)möglich!\\nWeitere Fragen richten Sie bitte an unser Verkaufspersonal.Tel\\n.:0171/7301086 !\\nInzahlungnahme/Tausch/Finanzierung möglich,Bitte vereinbaren Sie einen Besichtigungs/Probefahrtstermin !!!Tausch am liebsten \\nOldtimer\\n,Zweirad,Dreirad,Vier-oder Kettenfahrzeuge,Motorschäden,Baumaschinen, \\nAnhänger,Landtechnik, Antquitäten,Kurioses... sowie \\nalles was fährt,schwimmt oder fliegt !!!\\ndas Angebot ist freibleibend,Irrtümer,Schreibfehler und Zwischenverkauf vorbehalten !\\n\\xa0Fz.Transport möglich(0,95 ct / Lastkilometer) !!!\\nBitte vereinbaren Sie unbedingt\\xa0einen Besichtigungs/Probefahrtstermin !!!\\nbin nicht immer vor Ort !\\n...weitere Fahrzeuge unter\\xa0\\n www.erfolglos.de\\xa0\\n\\xa0 !!!',\n",
       " '28.07.2017',\n",
       " '<built-in method date of datetime.datetime object at 0x000001B2C1EF9F58>')"
      ]
     },
     "execution_count": 38,
     "metadata": {},
     "output_type": "execute_result"
    }
   ],
   "source": [
    "cursor = database.getCursor()\n",
    "cursor.execute(\"\"\" SELECT * FROM car\"\"\")\n",
    "cursor.fetchone()"
   ]
  },
  {
   "cell_type": "code",
   "execution_count": 39,
   "metadata": {
    "collapsed": false,
    "scrolled": true
   },
   "outputs": [
    {
     "data": {
      "text/plain": [
       "(130918034,\n",
       " 'USED',\n",
       " 'EUR',\n",
       " 6,\n",
       " 1992,\n",
       " 1995.0,\n",
       " 'Car',\n",
       " 'PETROL',\n",
       " None,\n",
       " 'Mercedes-Benz',\n",
       " '17200',\n",
       " 'Mercedes-Benz 200',\n",
       " '200',\n",
       " '200 TE gegen Gebot !',\n",
       " '127',\n",
       " 'Jena',\n",
       " 'DE',\n",
       " 7749,\n",
       " None,\n",
       " 'True',\n",
       " 'DEALER',\n",
       " None,\n",
       " 'Kombi',\n",
       " 'No Information',\n",
       " '305.200\\xa0km',\n",
       " '2.000\\xa0cm³',\n",
       " '87\\xa0kW\\xa0(118\\xa0PS)',\n",
       " 'Benzin',\n",
       " None,\n",
       " None,\n",
       " 5,\n",
       " '4/5',\n",
       " 'Schaltgetriebe',\n",
       " '4 (Grün)',\n",
       " '06/1992',\n",
       " 2,\n",
       " 'No Information',\n",
       " 'Keine Klimaanlage oder -automatik',\n",
       " 'No Information',\n",
       " 'Front-Airbags',\n",
       " 'violett',\n",
       " None,\n",
       " 'Stoff, Schwarz',\n",
       " 'Ausstattung, ABS, Schiebedach, Servolenkung, Zentralverriegelung',\n",
       " 'An dem Fz.wurde in der letzten Zeit einiges erneuert-wie Benzinpumpe Mengenteiler...etc , \\xa0unverwüstliche,zuverlässige Fahrzeuge mit demnächst Kultstatus !!! 123 er in diesem Zustand haben`s schon geschafft !!!,Mein Einkaufspreis lag vor einiger Zeit über 2.500 ,- € ! Gesamtzustand:gut jedoch kein Neuwagen !\\nKlarlack löst sich etwas !\\nInzahlungnahme/Tausch möglich ! auch gegen Oldtimer oder alles was fährt,schwimmt oder fliegt !\\nBitte vereinbaren Sie einen Probefahrts/Besichtigungstermin !\\nBin nicht immer vor Ort !\\nIrrtümer/Zwischenverkauf vorbehalten !',\n",
       " '03.08.2017',\n",
       " '2017-08-04')"
      ]
     },
     "execution_count": 39,
     "metadata": {},
     "output_type": "execute_result"
    }
   ],
   "source": [
    "anAd = cursor.fetchone()\n",
    "anAd"
   ]
  },
  {
   "cell_type": "code",
   "execution_count": 40,
   "metadata": {
    "collapsed": false,
    "scrolled": true
   },
   "outputs": [
    {
     "name": "stdout",
     "output_type": "stream",
     "text": [
      "130918034 ('adid', None, None, None, None, None, None)\n",
      "USED ('adcondition', None, None, None, None, None, None)\n",
      "EUR ('adcurrency', None, None, None, None, None, None)\n",
      "6 ('adfirstregmonth', None, None, None, None, None, None)\n",
      "1992 ('adfirstregyear', None, None, None, None, None, None)\n",
      "1995.0 ('adprice', None, None, None, None, None, None)\n",
      "Car ('adsegment', None, None, None, None, None, None)\n",
      "PETROL ('adspecificsfuel', None, None, None, None, None, None)\n",
      "None ('adspecificshsn', None, None, None, None, None, None)\n",
      "Mercedes-Benz ('adspecificsmake', None, None, None, None, None, None)\n",
      "17200 ('adspecificsmakeid', None, None, None, None, None, None)\n",
      "Mercedes-Benz 200 ('adspecificsmakemodel', None, None, None, None, None, None)\n",
      "200 ('adspecificsmodel', None, None, None, None, None, None)\n",
      "200 TE gegen Gebot ! ('adspecificsmodeldescription', None, None, None, None, None, None)\n",
      "127 ('adspecificsmodelid', None, None, None, None, None, None)\n",
      "Jena ('dealercity', None, None, None, None, None, None)\n",
      "DE ('dealercountry', None, None, None, None, None, None)\n",
      "7749 ('dealerzip', None, None, None, None, None, None)\n",
      "None ('featurevariants', None, None, None, None, None, None)\n",
      "True ('isdealer', None, None, None, None, None, None)\n",
      "DEALER ('sellertype', None, None, None, None, None, None)\n",
      "None ('usersipaddress', None, None, None, None, None, None)\n",
      "Kombi ('category', None, None, None, None, None, None)\n",
      "No Information ('countryversion', None, None, None, None, None, None)\n",
      "305.200 km ('mileage', None, None, None, None, None, None)\n",
      "2.000 cm³ ('cubiccapacity', None, None, None, None, None, None)\n",
      "87 kW (118 PS) ('power', None, None, None, None, None, None)\n",
      "Benzin ('fuel', None, None, None, None, None, None)\n",
      "None ('fuelconsumption', None, None, None, None, None, None)\n",
      "None ('emission', None, None, None, None, None, None)\n",
      "5 ('numseats', None, None, None, None, None, None)\n",
      "4/5 ('doorcount', None, None, None, None, None, None)\n",
      "Schaltgetriebe ('transmission', None, None, None, None, None, None)\n",
      "4 (Grün) ('emissionssticker', None, None, None, None, None, None)\n",
      "06/1992 ('firstregistration', None, None, None, None, None, None)\n",
      "2 ('numberofpreviousowners', None, None, None, None, None, None)\n",
      "No Information ('hu', None, None, None, None, None, None)\n",
      "Keine Klimaanlage oder -automatik ('climatisation', None, None, None, None, None, None)\n",
      "No Information ('parkassist', None, None, None, None, None, None)\n",
      "Front-Airbags ('airbag', None, None, None, None, None, None)\n",
      "violett ('manufacturercolorname', None, None, None, None, None, None)\n",
      "None ('color', None, None, None, None, None, None)\n",
      "Stoff, Schwarz ('interior', None, None, None, None, None, None)\n",
      "Ausstattung, ABS, Schiebedach, Servolenkung, Zentralverriegelung ('features', None, None, None, None, None, None)\n",
      "An dem Fz.wurde in der letzten Zeit einiges erneuert-wie Benzinpumpe Mengenteiler...etc ,  unverwüstliche,zuverlässige Fahrzeuge mit demnächst Kultstatus !!! 123 er in diesem Zustand haben`s schon geschafft !!!,Mein Einkaufspreis lag vor einiger Zeit über 2.500 ,- € ! Gesamtzustand:gut jedoch kein Neuwagen !\n",
      "Klarlack löst sich etwas !\n",
      "Inzahlungnahme/Tausch möglich ! auch gegen Oldtimer oder alles was fährt,schwimmt oder fliegt !\n",
      "Bitte vereinbaren Sie einen Probefahrts/Besichtigungstermin !\n",
      "Bin nicht immer vor Ort !\n",
      "Irrtümer/Zwischenverkauf vorbehalten ! ('description', None, None, None, None, None, None)\n",
      "03.08.2017 ('firstseen', None, None, None, None, None, None)\n",
      "2017-08-04 ('lastseen', None, None, None, None, None, None)\n"
     ]
    }
   ],
   "source": [
    "descr = cursor.description\n",
    "for i in range(len(anAd)):\n",
    "    print( anAd[i], descr[i] )"
   ]
  },
  {
   "cell_type": "code",
   "execution_count": 46,
   "metadata": {
    "collapsed": false
   },
   "outputs": [
    {
     "data": {
      "text/plain": [
       "True"
      ]
     },
     "execution_count": 46,
     "metadata": {},
     "output_type": "execute_result"
    }
   ],
   "source": [
    "adIDList = database.execute(\"\"\"SELECT adID FROM car\"\"\")\n",
    "int(130918034) in np.array(adIDList)"
   ]
  },
  {
   "cell_type": "code",
   "execution_count": 24,
   "metadata": {
    "collapsed": false
   },
   "outputs": [],
   "source": [
    "cursor = database._cursor"
   ]
  },
  {
   "cell_type": "code",
   "execution_count": 22,
   "metadata": {
    "collapsed": false
   },
   "outputs": [
    {
     "data": {
      "text/plain": [
       "<sqlite3.Cursor at 0x240b9938570>"
      ]
     },
     "execution_count": 22,
     "metadata": {},
     "output_type": "execute_result"
    }
   ],
   "source": [
    "cursor.execute(\"\"\"SELECT adID FROM car\"\"\")\n",
    "#cursor.fetchall()"
   ]
  },
  {
   "cell_type": "code",
   "execution_count": 231,
   "metadata": {
    "collapsed": false
   },
   "outputs": [],
   "source": [
    "database.close()"
   ]
  },
  {
   "cell_type": "code",
   "execution_count": 232,
   "metadata": {
    "collapsed": false
   },
   "outputs": [
    {
     "data": {
      "text/plain": [
       "<module 'src.utils' from '/media/florian/Volume/GitHub_Projects/UsedCarStats/src/utils.py'>"
      ]
     },
     "execution_count": 232,
     "metadata": {},
     "output_type": "execute_result"
    }
   ],
   "source": [
    "reload(utils)"
   ]
  },
  {
   "cell_type": "code",
   "execution_count": 236,
   "metadata": {
    "collapsed": false,
    "scrolled": false
   },
   "outputs": [
    {
     "data": {
      "text/plain": [
       "[]"
      ]
     },
     "execution_count": 236,
     "metadata": {},
     "output_type": "execute_result"
    }
   ],
   "source": [
    "#database.deleteAllContents('car')\n",
    "database.getTableNames()"
   ]
  },
  {
   "cell_type": "code",
   "execution_count": 237,
   "metadata": {
    "collapsed": false
   },
   "outputs": [
    {
     "data": {
      "text/plain": [
       "(('name', None, None, None, None, None, None),)"
      ]
     },
     "execution_count": 237,
     "metadata": {},
     "output_type": "execute_result"
    }
   ],
   "source": [
    "cursor = database.getCursor()\n",
    "cursor.description"
   ]
  },
  {
   "cell_type": "code",
   "execution_count": 226,
   "metadata": {
    "collapsed": false
   },
   "outputs": [
    {
     "data": {
      "text/plain": [
       "<sqlite3.Cursor at 0x7fdab8863f10>"
      ]
     },
     "execution_count": 226,
     "metadata": {},
     "output_type": "execute_result"
    }
   ],
   "source": [
    "cursor.execute(\"\"\"DROP TABLE car;\"\"\")\n"
   ]
  },
  {
   "cell_type": "code",
   "execution_count": 242,
   "metadata": {
    "collapsed": false
   },
   "outputs": [],
   "source": [
    "attributes = dict()\n",
    "for option in pagesConfig.options('dbInit'):\n",
    "    attributes[option] = pagesConfig.get('dbInit', option)\n",
    "database.createTable('car', attributes)\n",
    "cursor = database.getCursor()\n",
    "cursor.description"
   ]
  },
  {
   "cell_type": "code",
   "execution_count": 243,
   "metadata": {
    "collapsed": false
   },
   "outputs": [
    {
     "data": {
      "text/plain": [
       "[('car',)]"
      ]
     },
     "execution_count": 243,
     "metadata": {},
     "output_type": "execute_result"
    }
   ],
   "source": [
    "database.getTableNames()"
   ]
  },
  {
   "cell_type": "code",
   "execution_count": 244,
   "metadata": {
    "collapsed": false
   },
   "outputs": [
    {
     "data": {
      "text/plain": [
       "[]"
      ]
     },
     "execution_count": 244,
     "metadata": {},
     "output_type": "execute_result"
    }
   ],
   "source": [
    "database.execute(\"\"\"SELECT * FROM car\"\"\")"
   ]
  },
  {
   "cell_type": "code",
   "execution_count": 104,
   "metadata": {
    "collapsed": false,
    "scrolled": true
   },
   "outputs": [
    {
     "data": {
      "text/plain": [
       "1421"
      ]
     },
     "execution_count": 104,
     "metadata": {},
     "output_type": "execute_result"
    }
   ],
   "source": [
    "result = database.execute(\"\"\"SELECT * FROM car\"\"\")\n",
    "len(result)"
   ]
  },
  {
   "cell_type": "code",
   "execution_count": 245,
   "metadata": {
    "collapsed": true
   },
   "outputs": [],
   "source": [
    "database.save()\n",
    "database.close()"
   ]
  },
  {
   "cell_type": "code",
   "execution_count": 25,
   "metadata": {
    "collapsed": false
   },
   "outputs": [
    {
     "data": {
      "text/plain": [
       "(('name', None, None, None, None, None, None),)"
      ]
     },
     "execution_count": 25,
     "metadata": {},
     "output_type": "execute_result"
    }
   ],
   "source": [
    "cursor = database.getCursor()\n",
    "cursor.description"
   ]
  },
  {
   "cell_type": "code",
   "execution_count": 14,
   "metadata": {
    "collapsed": false,
    "scrolled": true
   },
   "outputs": [
    {
     "name": "stdout",
     "output_type": "stream",
     "text": [
      "adid\n"
     ]
    }
   ],
   "source": [
    "for i in cursor.description:\n",
    "    print (i[0])"
   ]
  },
  {
   "cell_type": "code",
   "execution_count": 15,
   "metadata": {
    "collapsed": false
   },
   "outputs": [
    {
     "ename": "NameError",
     "evalue": "name 'connection' is not defined",
     "output_type": "error",
     "traceback": [
      "\u001b[0;31m---------------------------------------------------------------------------\u001b[0m",
      "\u001b[0;31mNameError\u001b[0m                                 Traceback (most recent call last)",
      "\u001b[0;32m<ipython-input-15-d4d86ed6fcd0>\u001b[0m in \u001b[0;36m<module>\u001b[0;34m()\u001b[0m\n\u001b[0;32m----> 1\u001b[0;31m \u001b[0mconnection\u001b[0m\u001b[0;34m.\u001b[0m\u001b[0mclose\u001b[0m\u001b[0;34m(\u001b[0m\u001b[0;34m)\u001b[0m\u001b[0;34m\u001b[0m\u001b[0m\n\u001b[0m",
      "\u001b[0;31mNameError\u001b[0m: name 'connection' is not defined"
     ]
    }
   ],
   "source": [
    "connection.close()"
   ]
  },
  {
   "cell_type": "code",
   "execution_count": null,
   "metadata": {
    "collapsed": true
   },
   "outputs": [],
   "source": []
  },
  {
   "cell_type": "markdown",
   "metadata": {},
   "source": [
    "## progressBar tests"
   ]
  },
  {
   "cell_type": "code",
   "execution_count": 100,
   "metadata": {
    "collapsed": false
   },
   "outputs": [
    {
     "name": "stdout",
     "output_type": "stream",
     "text": [
      "10 / 10"
     ]
    }
   ],
   "source": [
    "import sys, time\n",
    "reload(utils)\n",
    "pbar = utils.ProgressBar(10, 5)\n",
    "\n",
    "for i in range(10):\n",
    "    #print ('\\r', i)\n",
    "    pbar.update(i+1)\n",
    "    time.sleep(.1)\n",
    "\n"
   ]
  },
  {
   "cell_type": "code",
   "execution_count": null,
   "metadata": {
    "collapsed": true
   },
   "outputs": [],
   "source": []
  }
 ],
 "metadata": {
  "anaconda-cloud": {},
  "kernelspec": {
   "display_name": "Python [default]",
   "language": "python",
   "name": "python3"
  },
  "language_info": {
   "codemirror_mode": {
    "name": "ipython",
    "version": 3
   },
   "file_extension": ".py",
   "mimetype": "text/x-python",
   "name": "python",
   "nbconvert_exporter": "python",
   "pygments_lexer": "ipython3",
   "version": "3.5.2"
  }
 },
 "nbformat": 4,
 "nbformat_minor": 1
}
