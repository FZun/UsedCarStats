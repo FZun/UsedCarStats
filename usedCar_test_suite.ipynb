{
 "cells": [
  {
   "cell_type": "code",
   "execution_count": 1,
   "metadata": {
    "collapsed": false
   },
   "outputs": [],
   "source": [
    "# -*- coding: utf-8 -*-\n",
    "\n",
    "## standard packages\n",
    "import numpy as np\n",
    "import os\n",
    "import datetime\n",
    "\n",
    "## Config Parster for initiation\n",
    "import configparser\n",
    "\n",
    "## HTTP scraping packages\n",
    "from lxml import html\n",
    "import requests\n",
    "\n",
    "#import httplib2\n",
    "import urllib\n",
    "\n",
    "from bs4 import BeautifulSoup, SoupStrainer\n",
    "import json\n",
    "\n",
    "## Database\n",
    "import sqlite3\n",
    "\n",
    "from importlib import reload\n"
   ]
  },
  {
   "cell_type": "code",
   "execution_count": 2,
   "metadata": {
    "collapsed": false
   },
   "outputs": [
    {
     "data": {
      "text/plain": [
       "'/media/florian/Volume/GitHub_Projects/UsedCarStats'"
      ]
     },
     "execution_count": 2,
     "metadata": {},
     "output_type": "execute_result"
    }
   ],
   "source": [
    "os.getcwd()"
   ]
  },
  {
   "cell_type": "code",
   "execution_count": 3,
   "metadata": {
    "collapsed": false
   },
   "outputs": [
    {
     "data": {
      "text/plain": [
       "<module 'src.utils' from '/media/florian/Volume/GitHub_Projects/UsedCarStats/src/utils.py'>"
      ]
     },
     "execution_count": 3,
     "metadata": {},
     "output_type": "execute_result"
    }
   ],
   "source": [
    "import src.utils as utils\n",
    "reload(utils)"
   ]
  },
  {
   "cell_type": "markdown",
   "metadata": {},
   "source": [
    "First, let's get the specifics and urls saved in the config file"
   ]
  },
  {
   "cell_type": "code",
   "execution_count": 4,
   "metadata": {
    "collapsed": false,
    "scrolled": true
   },
   "outputs": [
    {
     "name": "stdout",
     "output_type": "stream",
     "text": [
      "WebPages\n",
      "additionalAdInfo\n",
      "dbFilepath\n",
      "dbInit\n"
     ]
    }
   ],
   "source": [
    "pagesConfig = configparser.ConfigParser()\n",
    "pagesConfig.read(\"config/siteSpecifics.ini\")\n",
    "\n",
    "for section in pagesConfig.sections():\n",
    "    print(section)\n",
    "    #for option in pagesConfig.options(section):\n",
    "        #print(option, pagesConfig.get(section, option))\n",
    "    #    print (section, option)"
   ]
  },
  {
   "cell_type": "code",
   "execution_count": 17,
   "metadata": {
    "collapsed": false
   },
   "outputs": [
    {
     "name": "stdout",
     "output_type": "stream",
     "text": [
      "http://suchen.mobile.de/fahrzeuge/search.html?scopeId=C&damageUnrepaired=NO_DAMAGE_UNREPAIRED&scopeId=C&isSearchRequest=true&sortOption.sortBy=creationTime&sortOption.sortOrder=DESCENDING&pageNumber=\n"
     ]
    }
   ],
   "source": [
    "searchPage = pagesConfig.get('WebPages', 'mobile.de')\n",
    "print(searchPage)"
   ]
  },
  {
   "cell_type": "code",
   "execution_count": 16,
   "metadata": {
    "collapsed": false
   },
   "outputs": [
    {
     "name": "stdout",
     "output_type": "stream",
     "text": [
      "http://suchen.mobile.de/fahrzeuge/details.html?id=\n"
     ]
    }
   ],
   "source": [
    "idPage = pagesConfig.get('WebPages', 'mobile.de_ID')\n",
    "print(idPage)"
   ]
  },
  {
   "cell_type": "markdown",
   "metadata": {},
   "source": [
    "connect to database"
   ]
  },
  {
   "cell_type": "code",
   "execution_count": 58,
   "metadata": {
    "collapsed": false
   },
   "outputs": [],
   "source": [
    "reload(utils)\n",
    "database.close()\n",
    "database = utils.DataBase(os.getcwd() + '/src/DataBase/carStats.db')\n",
    "database.connect()"
   ]
  },
  {
   "cell_type": "code",
   "execution_count": 59,
   "metadata": {
    "collapsed": false
   },
   "outputs": [
    {
     "data": {
      "text/plain": [
       "[('car',)]"
      ]
     },
     "execution_count": 59,
     "metadata": {},
     "output_type": "execute_result"
    }
   ],
   "source": [
    "#database.deleteAllContents('car')\n",
    "database.getTableNames()"
   ]
  },
  {
   "cell_type": "code",
   "execution_count": 60,
   "metadata": {
    "collapsed": true
   },
   "outputs": [],
   "source": [
    "database.save()"
   ]
  },
  {
   "cell_type": "markdown",
   "metadata": {},
   "source": [
    "initialize scraping object"
   ]
  },
  {
   "cell_type": "code",
   "execution_count": 61,
   "metadata": {
    "collapsed": false,
    "scrolled": true
   },
   "outputs": [],
   "source": [
    "scraping = utils.htmlScraping(searchPage, idPage, database)"
   ]
  },
  {
   "cell_type": "markdown",
   "metadata": {},
   "source": [
    "set scraping limits and stepsize"
   ]
  },
  {
   "cell_type": "code",
   "execution_count": 62,
   "metadata": {
    "collapsed": false,
    "scrolled": true
   },
   "outputs": [
    {
     "data": {
      "text/plain": [
       "[0, 200]"
      ]
     },
     "execution_count": 62,
     "metadata": {},
     "output_type": "execute_result"
    }
   ],
   "source": [
    "scraping.setPriceStepList(0, 200, 200)\n",
    "priceStepList = scraping.getPriceStepList()\n",
    "priceStepList"
   ]
  },
  {
   "cell_type": "markdown",
   "metadata": {},
   "source": [
    "run scraping"
   ]
  },
  {
   "cell_type": "code",
   "execution_count": 63,
   "metadata": {
    "collapsed": false
   },
   "outputs": [
    {
     "name": "stdout",
     "output_type": "stream",
     "text": [
      "50 / 50, current price range: 0 - 200 Euros\n",
      " (192, 4)\n",
      "192 / 192"
     ]
    }
   ],
   "source": [
    "scraping.autoScraping()"
   ]
  },
  {
   "cell_type": "code",
   "execution_count": 64,
   "metadata": {
    "collapsed": false
   },
   "outputs": [
    {
     "data": {
      "text/plain": [
       "1902"
      ]
     },
     "execution_count": 64,
     "metadata": {},
     "output_type": "execute_result"
    }
   ],
   "source": [
    "allData = database.execute(\"\"\"SELECT * from car\"\"\")\n",
    "len(allData)"
   ]
  },
  {
   "cell_type": "code",
   "execution_count": 65,
   "metadata": {
    "collapsed": false
   },
   "outputs": [
    {
     "data": {
      "text/plain": [
       "('1.119 cm³',\n",
       " 'Fiesta Classic',\n",
       " 'No Information',\n",
       " None,\n",
       " 'No Information',\n",
       " 'PETROL',\n",
       " 'Ford',\n",
       " '15.08.2017',\n",
       " 'No Information',\n",
       " 'bottrop',\n",
       " 'Verkaufe Ford Fiesta, das Auto läuft super und Reifen und Bremsen sind auch inordnung die Innenausstatung ist für ihr Alter auch  sehr gepflegt. ',\n",
       " 3,\n",
       " 'Stoff, Andere',\n",
       " 200.0,\n",
       " '9000',\n",
       " '2017-08-15',\n",
       " 'Car',\n",
       " 'False',\n",
       " 'Benzin',\n",
       " 'Fiesta',\n",
       " 'Ford Fiesta',\n",
       " '11/2017',\n",
       " '03/1996',\n",
       " 'EUR',\n",
       " 'No Information',\n",
       " None,\n",
       " 248931485,\n",
       " 'No Information',\n",
       " 'USED',\n",
       " 'FSBO',\n",
       " 'No Information',\n",
       " None,\n",
       " 'Kleinwagen',\n",
       " '19',\n",
       " '160.113 km',\n",
       " 'No Information',\n",
       " None,\n",
       " 5,\n",
       " 'No Information',\n",
       " '4 (Grün)',\n",
       " 46238,\n",
       " 1996,\n",
       " '37 kW (50 PS)',\n",
       " '2/3',\n",
       " 'DE',\n",
       " 'Schaltgetriebe')"
      ]
     },
     "execution_count": 65,
     "metadata": {},
     "output_type": "execute_result"
    }
   ],
   "source": [
    "#allData = np.array(allData)\n",
    "allData[1900]"
   ]
  },
  {
   "cell_type": "code",
   "execution_count": 66,
   "metadata": {
    "collapsed": false
   },
   "outputs": [
    {
     "data": {
      "text/plain": [
       "(('cubiccapacity', None, None, None, None, None, None),\n",
       " ('adspecificsmodeldescription', None, None, None, None, None, None),\n",
       " ('manufacturercolorname', None, None, None, None, None, None),\n",
       " ('featurevariants', None, None, None, None, None, None),\n",
       " ('consumption', None, None, None, None, None, None),\n",
       " ('adspecificsfuel', None, None, None, None, None, None),\n",
       " ('adspecificsmake', None, None, None, None, None, None),\n",
       " ('firstseen', None, None, None, None, None, None),\n",
       " ('climatisation', None, None, None, None, None, None),\n",
       " ('dealercity', None, None, None, None, None, None),\n",
       " ('description', None, None, None, None, None, None),\n",
       " ('adfirstregmonth', None, None, None, None, None, None),\n",
       " ('interior', None, None, None, None, None, None),\n",
       " ('adprice', None, None, None, None, None, None),\n",
       " ('adspecificsmakeid', None, None, None, None, None, None),\n",
       " ('lastseen', None, None, None, None, None, None),\n",
       " ('adsegment', None, None, None, None, None, None),\n",
       " ('isdealer', None, None, None, None, None, None),\n",
       " ('fuel', None, None, None, None, None, None),\n",
       " ('adspecificsmodel', None, None, None, None, None, None),\n",
       " ('adspecificsmakemodel', None, None, None, None, None, None),\n",
       " ('hu', None, None, None, None, None, None),\n",
       " ('firstregistration', None, None, None, None, None, None),\n",
       " ('adcurrency', None, None, None, None, None, None),\n",
       " ('parkassist', None, None, None, None, None, None),\n",
       " ('adspecificshsn', None, None, None, None, None, None),\n",
       " ('adid', None, None, None, None, None, None),\n",
       " ('airbag', None, None, None, None, None, None),\n",
       " ('adcondition', None, None, None, None, None, None),\n",
       " ('sellertype', None, None, None, None, None, None),\n",
       " ('numberofpreviousowners', None, None, None, None, None, None),\n",
       " ('color', None, None, None, None, None, None),\n",
       " ('category', None, None, None, None, None, None),\n",
       " ('adspecificsmodelid', None, None, None, None, None, None),\n",
       " ('mileage', None, None, None, None, None, None),\n",
       " ('emission', None, None, None, None, None, None),\n",
       " ('features', None, None, None, None, None, None),\n",
       " ('numseats', None, None, None, None, None, None),\n",
       " ('countryversion', None, None, None, None, None, None),\n",
       " ('emissionssticker', None, None, None, None, None, None),\n",
       " ('dealerzip', None, None, None, None, None, None),\n",
       " ('adfirstregyear', None, None, None, None, None, None),\n",
       " ('power', None, None, None, None, None, None),\n",
       " ('doorcount', None, None, None, None, None, None),\n",
       " ('dealercountry', None, None, None, None, None, None),\n",
       " ('transmission', None, None, None, None, None, None))"
      ]
     },
     "execution_count": 66,
     "metadata": {},
     "output_type": "execute_result"
    }
   ],
   "source": [
    "cursor = database.getCursor()\n",
    "cursor.description"
   ]
  },
  {
   "cell_type": "code",
   "execution_count": 69,
   "metadata": {
    "collapsed": true
   },
   "outputs": [],
   "source": [
    "database.save()\n",
    "#database.close()"
   ]
  },
  {
   "cell_type": "code",
   "execution_count": 70,
   "metadata": {
    "collapsed": false
   },
   "outputs": [
    {
     "data": {
      "text/plain": [
       "array([[138831035],\n",
       "       [195826833],\n",
       "       [202907657],\n",
       "       ..., \n",
       "       [248928887],\n",
       "       [248931485],\n",
       "       [248932279]])"
      ]
     },
     "execution_count": 70,
     "metadata": {},
     "output_type": "execute_result"
    }
   ],
   "source": [
    "dbDataIDs = np.array(database.execute(\"\"\"SELECT adID from car\"\"\")) # ToDo: make a variable out of the name of the DB\n",
    "dbDataIDs"
   ]
  },
  {
   "cell_type": "code",
   "execution_count": 73,
   "metadata": {
    "collapsed": false,
    "scrolled": true
   },
   "outputs": [
    {
     "data": {
      "text/plain": [
       "dict_keys(['lastseen', 'firstregistration', 'emission', 'transmission', 'cubiccapacity', 'category', 'features', 'adspecificsmodeldescription', 'manufacturercolorname', 'adid', 'doorcount', 'airbag', 'color', 'numseats', 'numberofpreviousowners', 'description', 'featurevariants', 'dealerzip', 'interior', 'adprice', 'sellertype', 'fuel', 'adspecificsmodelid', 'firstseen', 'mileage', 'dealercountry', 'adcondition', 'adspecificsmake', 'adspecificsmodel', 'parkassist', 'adspecificshsn', 'hu', 'isdealer', 'consumption', 'adspecificsmakemodel', 'emissionssticker', 'adsegment', 'adspecificsfuel', 'power', 'countryversion', 'adfirstregmonth', 'adcurrency', 'adspecificsmakeid', 'climatisation', 'adfirstregyear', 'dealercity'])"
      ]
     },
     "execution_count": 73,
     "metadata": {},
     "output_type": "execute_result"
    }
   ],
   "source": [
    "pagesConfig = configparser.ConfigParser()\n",
    "pagesConfig.read(\"config/siteSpecifics.ini\")\n",
    "attributes = dict()\n",
    "for option in pagesConfig.options('dbInit'):\n",
    "    attributes[option] = pagesConfig.get('dbInit', option)\n",
    "attributes.keys()"
   ]
  },
  {
   "cell_type": "code",
   "execution_count": null,
   "metadata": {
    "collapsed": true
   },
   "outputs": [],
   "source": []
  },
  {
   "cell_type": "code",
   "execution_count": null,
   "metadata": {
    "collapsed": true
   },
   "outputs": [],
   "source": []
  },
  {
   "cell_type": "markdown",
   "metadata": {},
   "source": [
    "### useful Database commands"
   ]
  },
  {
   "cell_type": "code",
   "execution_count": null,
   "metadata": {
    "collapsed": true
   },
   "outputs": [],
   "source": [
    "#connection = sqlite3.connect('src/dataBase/carStats.db')\n",
    "#cursor = connection.cursor()\n",
    "\n",
    "# delete \n",
    "#cursor.execute(\"\"\"DROP TABLE car;\"\"\")\n",
    "\n",
    "#cursor.execute(sql_create_command) -> create a proper 'create' command first\n",
    "#cursor.description\n",
    "\n",
    "# never forget this, if you want the changes to be saved:\n",
    "#connection.commit()\n",
    "\n",
    "#connection.close()"
   ]
  },
  {
   "cell_type": "code",
   "execution_count": null,
   "metadata": {
    "collapsed": true
   },
   "outputs": [],
   "source": []
  },
  {
   "cell_type": "markdown",
   "metadata": {},
   "source": [
    "## progressBar tests"
   ]
  },
  {
   "cell_type": "code",
   "execution_count": 100,
   "metadata": {
    "collapsed": false
   },
   "outputs": [
    {
     "name": "stdout",
     "output_type": "stream",
     "text": [
      "10 / 10"
     ]
    }
   ],
   "source": [
    "import sys, time\n",
    "reload(utils)\n",
    "pbar = utils.ProgressBar(10, 5)\n",
    "\n",
    "for i in range(10):\n",
    "    #print ('\\r', i)\n",
    "    pbar.update(i+1)\n",
    "    time.sleep(.1)\n",
    "\n"
   ]
  },
  {
   "cell_type": "code",
   "execution_count": null,
   "metadata": {
    "collapsed": true
   },
   "outputs": [],
   "source": []
  }
 ],
 "metadata": {
  "anaconda-cloud": {},
  "kernelspec": {
   "display_name": "Python [default]",
   "language": "python",
   "name": "python3"
  },
  "language_info": {
   "codemirror_mode": {
    "name": "ipython",
    "version": 3
   },
   "file_extension": ".py",
   "mimetype": "text/x-python",
   "name": "python",
   "nbconvert_exporter": "python",
   "pygments_lexer": "ipython3",
   "version": "3.5.2"
  }
 },
 "nbformat": 4,
 "nbformat_minor": 1
}
