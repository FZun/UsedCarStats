{
 "cells": [
  {
   "cell_type": "code",
   "execution_count": 1,
   "metadata": {
    "collapsed": false
   },
   "outputs": [],
   "source": [
    "# -*- coding: utf-8 -*-\n",
    "\n",
    "## standard packages\n",
    "import numpy as np\n",
    "import os\n",
    "import datetime\n",
    "\n",
    "## Config Parster for initiation\n",
    "import configparser\n",
    "\n",
    "## HTTP scraping packages\n",
    "from lxml import html\n",
    "import requests\n",
    "\n",
    "#import httplib2\n",
    "import urllib\n",
    "\n",
    "from bs4 import BeautifulSoup, SoupStrainer\n",
    "import json\n",
    "\n",
    "## Database\n",
    "import sqlite3\n",
    "\n",
    "from importlib import reload\n"
   ]
  },
  {
   "cell_type": "code",
   "execution_count": 2,
   "metadata": {
    "collapsed": false
   },
   "outputs": [
    {
     "data": {
      "text/plain": [
       "'/media/florian/Volume/GitHub_Projects/UsedCarStats'"
      ]
     },
     "execution_count": 2,
     "metadata": {},
     "output_type": "execute_result"
    }
   ],
   "source": [
    "os.getcwd()"
   ]
  },
  {
   "cell_type": "code",
   "execution_count": 3,
   "metadata": {
    "collapsed": false
   },
   "outputs": [],
   "source": [
    "import src.utils as utils"
   ]
  },
  {
   "cell_type": "code",
   "execution_count": 4,
   "metadata": {
    "collapsed": false,
    "scrolled": true
   },
   "outputs": [
    {
     "name": "stdout",
     "output_type": "stream",
     "text": [
      "WebPages\n",
      "additionalAdInfo\n",
      "dbFilepath\n",
      "dbInit\n"
     ]
    }
   ],
   "source": [
    "pagesConfig = configparser.ConfigParser()\n",
    "pagesConfig.read(\"config/siteSpecifics.ini\")\n",
    "\n",
    "for section in pagesConfig.sections():\n",
    "    print(section)\n",
    "    #for option in pagesConfig.options(section):\n",
    "        #print(option, pagesConfig.get(section, option))\n",
    "    #    print (section, option)"
   ]
  },
  {
   "cell_type": "code",
   "execution_count": 5,
   "metadata": {
    "collapsed": false
   },
   "outputs": [
    {
     "name": "stdout",
     "output_type": "stream",
     "text": [
      "http://suchen.mobile.de/fahrzeuge/search.html?scopeId=C&damageUnrepaired=NO_DAMAGE_UNREPAIRED&scopeId=C&isSearchRequest=true&sortOption.sortBy=creationTime&sortOption.sortOrder=DESCENDING&pageNumber=\n"
     ]
    }
   ],
   "source": [
    "searchPage = pagesConfig.get('WebPages', 'mobile.de')\n",
    "print(searchPage)"
   ]
  },
  {
   "cell_type": "code",
   "execution_count": 10,
   "metadata": {
    "collapsed": false
   },
   "outputs": [
    {
     "data": {
      "text/plain": [
       "<sqlite3.Connection at 0x7fdab9ae8b90>"
      ]
     },
     "execution_count": 10,
     "metadata": {},
     "output_type": "execute_result"
    }
   ],
   "source": [
    "sqlite3.connect(os.getcwd() + '/src/DataBase/carStats.db')"
   ]
  },
  {
   "cell_type": "code",
   "execution_count": null,
   "metadata": {
    "collapsed": true
   },
   "outputs": [],
   "source": []
  },
  {
   "cell_type": "code",
   "execution_count": 138,
   "metadata": {
    "collapsed": false,
    "scrolled": true
   },
   "outputs": [],
   "source": [
    "reload(utils)\n",
    "database.close()\n",
    "database = utils.DataBase(os.getcwd() + '/src/DataBase/carStats.db')\n",
    "\n",
    "scraping = utils.htmlScraping(searchPage, database)"
   ]
  },
  {
   "cell_type": "code",
   "execution_count": 139,
   "metadata": {
    "collapsed": false,
    "scrolled": true
   },
   "outputs": [
    {
     "data": {
      "text/plain": [
       "[900, 1200]"
      ]
     },
     "execution_count": 139,
     "metadata": {},
     "output_type": "execute_result"
    }
   ],
   "source": [
    "scraping.setPriceStepList(900, 1200, 300)\n",
    "scraping.getPriceStepList()"
   ]
  },
  {
   "cell_type": "code",
   "execution_count": 140,
   "metadata": {
    "collapsed": false,
    "scrolled": true
   },
   "outputs": [
    {
     "name": "stdout",
     "output_type": "stream",
     "text": [
      "36 / 50, current price range: 900 - 1200 Euros\n",
      " 248447671\n",
      "False\n",
      "50 / 50, current price range: 900 - 1200 Euros\n",
      " 248432821\n",
      "False\n",
      "\n",
      " (991, 4)\n"
     ]
    }
   ],
   "source": [
    "dataIDs = scraping.scrapeAdIDs()\n",
    "\n",
    "print(\"\\n\", dataIDs.shape)"
   ]
  },
  {
   "cell_type": "code",
   "execution_count": 141,
   "metadata": {
    "collapsed": false
   },
   "outputs": [
    {
     "data": {
      "text/plain": [
       "True"
      ]
     },
     "execution_count": 141,
     "metadata": {},
     "output_type": "execute_result"
    }
   ],
   "source": [
    "str(248478943) in dataIDs[:, 0]"
   ]
  },
  {
   "cell_type": "code",
   "execution_count": null,
   "metadata": {
    "collapsed": false
   },
   "outputs": [
    {
     "name": "stdout",
     "output_type": "stream",
     "text": [
      "http://suchen.mobile.de/fahrzeuge/details.html?id=\n"
     ]
    }
   ],
   "source": [
    "idPage = pagesConfig.get('WebPages', 'mobile.de_ID')\n",
    "print(idPage)"
   ]
  },
  {
   "cell_type": "code",
   "execution_count": null,
   "metadata": {
    "collapsed": false,
    "scrolled": true
   },
   "outputs": [
    {
     "name": "stdout",
     "output_type": "stream",
     "text": [
      "35 / 991"
     ]
    }
   ],
   "source": [
    "scraping.scrapeWithID(idPage)"
   ]
  },
  {
   "cell_type": "code",
   "execution_count": null,
   "metadata": {
    "collapsed": false
   },
   "outputs": [],
   "source": [
    "adIDList = np.array(database.execute(\"\"\"SELECT adID FROM car\"\"\"))\n",
    "adIDList.shape"
   ]
  },
  {
   "cell_type": "code",
   "execution_count": 73,
   "metadata": {
    "collapsed": false,
    "scrolled": false
   },
   "outputs": [
    {
     "data": {
      "text/plain": [
       "False"
      ]
     },
     "execution_count": 73,
     "metadata": {},
     "output_type": "execute_result"
    }
   ],
   "source": [
    "int('248421277') not in adIDList"
   ]
  },
  {
   "cell_type": "code",
   "execution_count": null,
   "metadata": {
    "collapsed": true
   },
   "outputs": [],
   "source": [
    "for ID in remainingIDs:\n",
    "    if ID not in adIDList:\n",
    "        print ID"
   ]
  },
  {
   "cell_type": "code",
   "execution_count": 63,
   "metadata": {
    "collapsed": true
   },
   "outputs": [],
   "source": [
    "database.save()\n",
    "#database.close()"
   ]
  },
  {
   "cell_type": "code",
   "execution_count": 22,
   "metadata": {
    "collapsed": false
   },
   "outputs": [
    {
     "data": {
      "text/plain": [
       "'UPDATE car SET lastSeen=2.3.4 WHERE adId=345'"
      ]
     },
     "execution_count": 22,
     "metadata": {},
     "output_type": "execute_result"
    }
   ],
   "source": [
    "\"\"\"UPDATE car SET lastSeen=%s WHERE adId=%s\"\"\" %(\"2.3.4\",345)"
   ]
  },
  {
   "cell_type": "code",
   "execution_count": 25,
   "metadata": {
    "collapsed": false
   },
   "outputs": [
    {
     "data": {
      "text/plain": [
       "array([[130918008],\n",
       "       [178042891],\n",
       "       [183396876],\n",
       "       ..., \n",
       "       [248395322],\n",
       "       [248395363],\n",
       "       [248395372]])"
      ]
     },
     "execution_count": 25,
     "metadata": {},
     "output_type": "execute_result"
    }
   ],
   "source": [
    "dbDataIDs = np.array(database.execute(\"\"\"SELECT adID from car\"\"\")) # ToDo: make a variable out of the name of the DB\n",
    "dbDataIDs, "
   ]
  },
  {
   "cell_type": "code",
   "execution_count": 28,
   "metadata": {
    "collapsed": false
   },
   "outputs": [
    {
     "data": {
      "text/plain": [
       "True"
      ]
     },
     "execution_count": 28,
     "metadata": {},
     "output_type": "execute_result"
    }
   ],
   "source": [
    "int('248269787') in dbDataIDs"
   ]
  },
  {
   "cell_type": "code",
   "execution_count": 31,
   "metadata": {
    "collapsed": false
   },
   "outputs": [
    {
     "data": {
      "text/plain": [
       "array(['248269787', '248267306', '248264575', '248252813', '246252021',\n",
       "       '244467187', '248174697', '248171857', '248148941', '248144493',\n",
       "       '248109072', '248096330', '248043051', '248037885', '248023448',\n",
       "       '248023132', '247639279', '248001578', '247998463', '247956139',\n",
       "       '246383095', '247875251', '247874602', '247874018', '247843047',\n",
       "       '247836580', '247828802', '247795217', '247697745', '247604053',\n",
       "       '247592974', '247590114', '247589077', '247564920', '247525545',\n",
       "       '247524576', '247522826', '247431201', '247413157', '246551441',\n",
       "       '247393462', '247392745', '247355769', '247351657', '247322635',\n",
       "       '247320569', '247314188', '247301288', '247293613', '247251769',\n",
       "       '247236342', '247213399', '246890093', '246860053', '246806549',\n",
       "       '246795228', '246764470', '246741763', '246740939', '246703292',\n",
       "       '246612414', '246566321', '246496416', '246384941', '246367408',\n",
       "       '246354921', '246243883', '246188097', '246149836', '246112547',\n",
       "       '245940456', '245851845', '245830336', '245705074', '244712111',\n",
       "       '245678948', '245668074', '245668051', '245600976', '245494786',\n",
       "       '245435509', '245393991', '245350103', '245257980', '245212285',\n",
       "       '245212204', '245155231', '245060000', '244877156', '244777738',\n",
       "       '244620569', '236747339', '244199539', '244171583', '243770363',\n",
       "       '243560023', '243284212', '243273679', '243247055', '243147080',\n",
       "       '242693045', '242484138', '241051126', '239944377', '238344129',\n",
       "       '238011029', '227097070'],\n",
       "      dtype='<U423')"
      ]
     },
     "execution_count": 31,
     "metadata": {},
     "output_type": "execute_result"
    }
   ],
   "source": [
    "dataIDs[:, 0]"
   ]
  },
  {
   "cell_type": "code",
   "execution_count": null,
   "metadata": {
    "collapsed": true
   },
   "outputs": [],
   "source": []
  },
  {
   "cell_type": "markdown",
   "metadata": {},
   "source": [
    "## initiate Database"
   ]
  },
  {
   "cell_type": "code",
   "execution_count": null,
   "metadata": {
    "collapsed": true
   },
   "outputs": [],
   "source": [
    "#connection = sqlite3.connect('src/dataBase/carStats.db')\n",
    "#cursor = connection.cursor()\n",
    "\n",
    "# delete \n",
    "#cursor.execute(\"\"\"DROP TABLE car;\"\"\")\n",
    "\n",
    "#cursor.execute(sql_create_command)\n",
    "\n",
    "# never forget this, if you want the changes to be saved:\n",
    "#connection.commit()\n",
    "\n",
    "#connection.close()"
   ]
  },
  {
   "cell_type": "code",
   "execution_count": 69,
   "metadata": {
    "collapsed": false
   },
   "outputs": [
    {
     "data": {
      "text/plain": [
       "'H:\\\\GitHub_Projects\\\\UsedCarStats'"
      ]
     },
     "execution_count": 69,
     "metadata": {},
     "output_type": "execute_result"
    }
   ],
   "source": [
    "%pwd"
   ]
  },
  {
   "cell_type": "code",
   "execution_count": 90,
   "metadata": {
    "collapsed": false
   },
   "outputs": [
    {
     "data": {
      "text/plain": [
       "<module 'src.utils' from 'H:\\\\GitHub_Projects\\\\UsedCarStats\\\\src\\\\utils.py'>"
      ]
     },
     "execution_count": 90,
     "metadata": {},
     "output_type": "execute_result"
    }
   ],
   "source": [
    "from importlib import reload\n",
    "reload(utils)"
   ]
  },
  {
   "cell_type": "code",
   "execution_count": 21,
   "metadata": {
    "collapsed": false
   },
   "outputs": [],
   "source": [
    "#database.close()\n",
    "database = utils.DataBase(os.getcwd() + '/src/DataBase/carStats.db')"
   ]
  },
  {
   "cell_type": "code",
   "execution_count": 22,
   "metadata": {
    "collapsed": false
   },
   "outputs": [],
   "source": [
    "database.connect()"
   ]
  },
  {
   "cell_type": "code",
   "execution_count": 23,
   "metadata": {
    "collapsed": false
   },
   "outputs": [
    {
     "data": {
      "text/plain": [
       "[('car',)]"
      ]
     },
     "execution_count": 23,
     "metadata": {},
     "output_type": "execute_result"
    }
   ],
   "source": [
    "database.getTableNames()"
   ]
  },
  {
   "cell_type": "code",
   "execution_count": 38,
   "metadata": {
    "collapsed": false,
    "scrolled": true
   },
   "outputs": [
    {
     "data": {
      "text/plain": [
       "(130918008,\n",
       " 'USED',\n",
       " 'EUR',\n",
       " 12,\n",
       " 1992,\n",
       " 850.0,\n",
       " 'Car',\n",
       " 'PETROL',\n",
       " 588,\n",
       " 'Audi',\n",
       " '1900',\n",
       " 'Audi 80',\n",
       " '80',\n",
       " '80 B4 auch Tausch gegen ETS 250 !!!',\n",
       " '5',\n",
       " 'Jena',\n",
       " 'DE',\n",
       " 7749,\n",
       " None,\n",
       " 'True',\n",
       " 'DEALER',\n",
       " '84.153.133.0',\n",
       " 'Limousine',\n",
       " 'No Information',\n",
       " '141.650\\xa0km',\n",
       " '1.984\\xa0cm³',\n",
       " '66\\xa0kW\\xa0(90\\xa0PS)',\n",
       " 'Benzin',\n",
       " None,\n",
       " None,\n",
       " 5,\n",
       " '4/5',\n",
       " 'Schaltgetriebe',\n",
       " '4 (Grün)',\n",
       " '12/1992',\n",
       " 2,\n",
       " 'No Information',\n",
       " 'Keine Klimaanlage oder -automatik',\n",
       " 'No Information',\n",
       " 'No Information',\n",
       " 'Casablancaweiss',\n",
       " None,\n",
       " 'Stoff, Grau',\n",
       " 'Ausstattung, Leichtmetallfelgen, Schiebedach, Servolenkung, Zentralverriegelung',\n",
       " 'Deutsches Auto mit deutschen Papieren vom deutschen Autohandel ! Tachostand 141000 km, eine 5.Alufelge liegt im Kofferraum !\\n...Das waren wenigstens noch Auto`s-ohne anfällige Elektronik...\\nBenzinpumpe gerade erneuert ! läuft gut !\\nPreis mit neuem TüV=2.000,- € !\\xa0\\nOhne 999,- €!\\nDer tatsächliche,derzeitige Zustand weicht auf Grund der langen Standzeit\\xa0von den Bildern ab !\\nInzahlungnahme/Finanzierung/Tausch (auch gegen Oldtimer)möglich!\\nWeitere Fragen richten Sie bitte an unser Verkaufspersonal.Tel\\n.:0171/7301086 !\\nInzahlungnahme/Tausch/Finanzierung möglich,Bitte vereinbaren Sie einen Besichtigungs/Probefahrtstermin !!!Tausch am liebsten \\nOldtimer\\n,Zweirad,Dreirad,Vier-oder Kettenfahrzeuge,Motorschäden,Baumaschinen, \\nAnhänger,Landtechnik, Antquitäten,Kurioses... sowie \\nalles was fährt,schwimmt oder fliegt !!!\\ndas Angebot ist freibleibend,Irrtümer,Schreibfehler und Zwischenverkauf vorbehalten !\\n\\xa0Fz.Transport möglich(0,95 ct / Lastkilometer) !!!\\nBitte vereinbaren Sie unbedingt\\xa0einen Besichtigungs/Probefahrtstermin !!!\\nbin nicht immer vor Ort !\\n...weitere Fahrzeuge unter\\xa0\\n www.erfolglos.de\\xa0\\n\\xa0 !!!',\n",
       " '28.07.2017',\n",
       " '<built-in method date of datetime.datetime object at 0x000001B2C1EF9F58>')"
      ]
     },
     "execution_count": 38,
     "metadata": {},
     "output_type": "execute_result"
    }
   ],
   "source": [
    "cursor = database.getCursor()\n",
    "cursor.execute(\"\"\" SELECT * FROM car\"\"\")\n",
    "cursor.fetchone()"
   ]
  },
  {
   "cell_type": "code",
   "execution_count": 39,
   "metadata": {
    "collapsed": false,
    "scrolled": true
   },
   "outputs": [
    {
     "data": {
      "text/plain": [
       "(130918034,\n",
       " 'USED',\n",
       " 'EUR',\n",
       " 6,\n",
       " 1992,\n",
       " 1995.0,\n",
       " 'Car',\n",
       " 'PETROL',\n",
       " None,\n",
       " 'Mercedes-Benz',\n",
       " '17200',\n",
       " 'Mercedes-Benz 200',\n",
       " '200',\n",
       " '200 TE gegen Gebot !',\n",
       " '127',\n",
       " 'Jena',\n",
       " 'DE',\n",
       " 7749,\n",
       " None,\n",
       " 'True',\n",
       " 'DEALER',\n",
       " None,\n",
       " 'Kombi',\n",
       " 'No Information',\n",
       " '305.200\\xa0km',\n",
       " '2.000\\xa0cm³',\n",
       " '87\\xa0kW\\xa0(118\\xa0PS)',\n",
       " 'Benzin',\n",
       " None,\n",
       " None,\n",
       " 5,\n",
       " '4/5',\n",
       " 'Schaltgetriebe',\n",
       " '4 (Grün)',\n",
       " '06/1992',\n",
       " 2,\n",
       " 'No Information',\n",
       " 'Keine Klimaanlage oder -automatik',\n",
       " 'No Information',\n",
       " 'Front-Airbags',\n",
       " 'violett',\n",
       " None,\n",
       " 'Stoff, Schwarz',\n",
       " 'Ausstattung, ABS, Schiebedach, Servolenkung, Zentralverriegelung',\n",
       " 'An dem Fz.wurde in der letzten Zeit einiges erneuert-wie Benzinpumpe Mengenteiler...etc , \\xa0unverwüstliche,zuverlässige Fahrzeuge mit demnächst Kultstatus !!! 123 er in diesem Zustand haben`s schon geschafft !!!,Mein Einkaufspreis lag vor einiger Zeit über 2.500 ,- € ! Gesamtzustand:gut jedoch kein Neuwagen !\\nKlarlack löst sich etwas !\\nInzahlungnahme/Tausch möglich ! auch gegen Oldtimer oder alles was fährt,schwimmt oder fliegt !\\nBitte vereinbaren Sie einen Probefahrts/Besichtigungstermin !\\nBin nicht immer vor Ort !\\nIrrtümer/Zwischenverkauf vorbehalten !',\n",
       " '03.08.2017',\n",
       " '2017-08-04')"
      ]
     },
     "execution_count": 39,
     "metadata": {},
     "output_type": "execute_result"
    }
   ],
   "source": [
    "anAd = cursor.fetchone()\n",
    "anAd"
   ]
  },
  {
   "cell_type": "code",
   "execution_count": 40,
   "metadata": {
    "collapsed": false
   },
   "outputs": [
    {
     "name": "stdout",
     "output_type": "stream",
     "text": [
      "130918034 ('adid', None, None, None, None, None, None)\n",
      "USED ('adcondition', None, None, None, None, None, None)\n",
      "EUR ('adcurrency', None, None, None, None, None, None)\n",
      "6 ('adfirstregmonth', None, None, None, None, None, None)\n",
      "1992 ('adfirstregyear', None, None, None, None, None, None)\n",
      "1995.0 ('adprice', None, None, None, None, None, None)\n",
      "Car ('adsegment', None, None, None, None, None, None)\n",
      "PETROL ('adspecificsfuel', None, None, None, None, None, None)\n",
      "None ('adspecificshsn', None, None, None, None, None, None)\n",
      "Mercedes-Benz ('adspecificsmake', None, None, None, None, None, None)\n",
      "17200 ('adspecificsmakeid', None, None, None, None, None, None)\n",
      "Mercedes-Benz 200 ('adspecificsmakemodel', None, None, None, None, None, None)\n",
      "200 ('adspecificsmodel', None, None, None, None, None, None)\n",
      "200 TE gegen Gebot ! ('adspecificsmodeldescription', None, None, None, None, None, None)\n",
      "127 ('adspecificsmodelid', None, None, None, None, None, None)\n",
      "Jena ('dealercity', None, None, None, None, None, None)\n",
      "DE ('dealercountry', None, None, None, None, None, None)\n",
      "7749 ('dealerzip', None, None, None, None, None, None)\n",
      "None ('featurevariants', None, None, None, None, None, None)\n",
      "True ('isdealer', None, None, None, None, None, None)\n",
      "DEALER ('sellertype', None, None, None, None, None, None)\n",
      "None ('usersipaddress', None, None, None, None, None, None)\n",
      "Kombi ('category', None, None, None, None, None, None)\n",
      "No Information ('countryversion', None, None, None, None, None, None)\n",
      "305.200 km ('mileage', None, None, None, None, None, None)\n",
      "2.000 cm³ ('cubiccapacity', None, None, None, None, None, None)\n",
      "87 kW (118 PS) ('power', None, None, None, None, None, None)\n",
      "Benzin ('fuel', None, None, None, None, None, None)\n",
      "None ('fuelconsumption', None, None, None, None, None, None)\n",
      "None ('emission', None, None, None, None, None, None)\n",
      "5 ('numseats', None, None, None, None, None, None)\n",
      "4/5 ('doorcount', None, None, None, None, None, None)\n",
      "Schaltgetriebe ('transmission', None, None, None, None, None, None)\n",
      "4 (Grün) ('emissionssticker', None, None, None, None, None, None)\n",
      "06/1992 ('firstregistration', None, None, None, None, None, None)\n",
      "2 ('numberofpreviousowners', None, None, None, None, None, None)\n",
      "No Information ('hu', None, None, None, None, None, None)\n",
      "Keine Klimaanlage oder -automatik ('climatisation', None, None, None, None, None, None)\n",
      "No Information ('parkassist', None, None, None, None, None, None)\n",
      "Front-Airbags ('airbag', None, None, None, None, None, None)\n",
      "violett ('manufacturercolorname', None, None, None, None, None, None)\n",
      "None ('color', None, None, None, None, None, None)\n",
      "Stoff, Schwarz ('interior', None, None, None, None, None, None)\n",
      "Ausstattung, ABS, Schiebedach, Servolenkung, Zentralverriegelung ('features', None, None, None, None, None, None)\n",
      "An dem Fz.wurde in der letzten Zeit einiges erneuert-wie Benzinpumpe Mengenteiler...etc ,  unverwüstliche,zuverlässige Fahrzeuge mit demnächst Kultstatus !!! 123 er in diesem Zustand haben`s schon geschafft !!!,Mein Einkaufspreis lag vor einiger Zeit über 2.500 ,- € ! Gesamtzustand:gut jedoch kein Neuwagen !\n",
      "Klarlack löst sich etwas !\n",
      "Inzahlungnahme/Tausch möglich ! auch gegen Oldtimer oder alles was fährt,schwimmt oder fliegt !\n",
      "Bitte vereinbaren Sie einen Probefahrts/Besichtigungstermin !\n",
      "Bin nicht immer vor Ort !\n",
      "Irrtümer/Zwischenverkauf vorbehalten ! ('description', None, None, None, None, None, None)\n",
      "03.08.2017 ('firstseen', None, None, None, None, None, None)\n",
      "2017-08-04 ('lastseen', None, None, None, None, None, None)\n"
     ]
    }
   ],
   "source": [
    "descr = cursor.description\n",
    "for i in range(len(anAd)):\n",
    "    print( anAd[i], descr[i] )"
   ]
  },
  {
   "cell_type": "code",
   "execution_count": 46,
   "metadata": {
    "collapsed": false
   },
   "outputs": [
    {
     "data": {
      "text/plain": [
       "True"
      ]
     },
     "execution_count": 46,
     "metadata": {},
     "output_type": "execute_result"
    }
   ],
   "source": [
    "adIDList = database.execute(\"\"\"SELECT adID FROM car\"\"\")\n",
    "int(130918034) in np.array(adIDList)"
   ]
  },
  {
   "cell_type": "code",
   "execution_count": 24,
   "metadata": {
    "collapsed": false
   },
   "outputs": [],
   "source": [
    "cursor = database._cursor"
   ]
  },
  {
   "cell_type": "code",
   "execution_count": 22,
   "metadata": {
    "collapsed": false
   },
   "outputs": [
    {
     "data": {
      "text/plain": [
       "<sqlite3.Cursor at 0x240b9938570>"
      ]
     },
     "execution_count": 22,
     "metadata": {},
     "output_type": "execute_result"
    }
   ],
   "source": [
    "cursor.execute(\"\"\"SELECT adID FROM car\"\"\")\n",
    "#cursor.fetchall()"
   ]
  },
  {
   "cell_type": "code",
   "execution_count": 28,
   "metadata": {
    "collapsed": false
   },
   "outputs": [],
   "source": [
    "database.close()"
   ]
  },
  {
   "cell_type": "code",
   "execution_count": null,
   "metadata": {
    "collapsed": true
   },
   "outputs": [],
   "source": []
  },
  {
   "cell_type": "code",
   "execution_count": 95,
   "metadata": {
    "collapsed": true
   },
   "outputs": [],
   "source": [
    "database.deleteAllContents()"
   ]
  },
  {
   "cell_type": "code",
   "execution_count": 96,
   "metadata": {
    "collapsed": false
   },
   "outputs": [],
   "source": [
    "cursor = database.getCursor()\n",
    "cursor.description"
   ]
  },
  {
   "cell_type": "code",
   "execution_count": 97,
   "metadata": {
    "collapsed": false
   },
   "outputs": [
    {
     "data": {
      "text/plain": [
       "<sqlite3.Cursor at 0x1b2c1f433b0>"
      ]
     },
     "execution_count": 97,
     "metadata": {},
     "output_type": "execute_result"
    }
   ],
   "source": [
    "cursor.execute(\"\"\"DROP TABLE car;\"\"\")\n"
   ]
  },
  {
   "cell_type": "code",
   "execution_count": 98,
   "metadata": {
    "collapsed": false
   },
   "outputs": [],
   "source": [
    "attributes = dict()\n",
    "for option in pagesConfig.options('dbInit'):\n",
    "    attributes[option] = pagesConfig.get('dbInit', option)\n",
    "database.createTable(attributes)\n",
    "cursor = database.getCursor()\n",
    "cursor.description"
   ]
  },
  {
   "cell_type": "code",
   "execution_count": 99,
   "metadata": {
    "collapsed": false
   },
   "outputs": [
    {
     "data": {
      "text/plain": [
       "[('car',)]"
      ]
     },
     "execution_count": 99,
     "metadata": {},
     "output_type": "execute_result"
    }
   ],
   "source": [
    "database.getTableNames()"
   ]
  },
  {
   "cell_type": "code",
   "execution_count": 100,
   "metadata": {
    "collapsed": false
   },
   "outputs": [
    {
     "data": {
      "text/plain": [
       "[]"
      ]
     },
     "execution_count": 100,
     "metadata": {},
     "output_type": "execute_result"
    }
   ],
   "source": [
    "database.execute(\"\"\"SELECT * FROM car\"\"\")"
   ]
  },
  {
   "cell_type": "code",
   "execution_count": 101,
   "metadata": {
    "collapsed": false
   },
   "outputs": [
    {
     "data": {
      "text/plain": [
       "(4874, 4)"
      ]
     },
     "execution_count": 101,
     "metadata": {},
     "output_type": "execute_result"
    }
   ],
   "source": [
    "dataIDs.shape"
   ]
  },
  {
   "cell_type": "code",
   "execution_count": 102,
   "metadata": {
    "collapsed": false,
    "scrolled": true
   },
   "outputs": [
    {
     "name": "stdout",
     "output_type": "stream",
     "text": [
      "20\n",
      "Expecting value: line 1 column 2 (char 1)\n",
      "62\n",
      "near \"Klimaautomatik\": syntax error\n",
      "97\n",
      "Expecting value: line 1 column 2 (char 1)\n",
      "105\n",
      "near \"7\": syntax error\n",
      "124\n",
      "Expecting value: line 1 column 2 (char 1)\n",
      "130\n",
      "Expecting value: line 1 column 2 (char 1)\n",
      "239\n",
      "Expecting value: line 1 column 2 (char 1)\n",
      "270\n",
      "Expecting value: line 1 column 2 (char 1)\n",
      "303\n",
      "Expecting value: line 1 column 2 (char 1)\n",
      "346\n",
      "Expecting value: line 1 column 2 (char 1)\n",
      "365\n",
      "Expecting value: line 1 column 2 (char 1)\n",
      "453\n",
      "Expecting value: line 1 column 2 (char 1)\n",
      "456\n",
      "Expecting value: line 1 column 2 (char 1)\n",
      "462\n",
      "near \"90657\": syntax error\n",
      "533\n",
      "Expecting value: line 1 column 2 (char 1)\n",
      "535\n",
      "Expecting value: line 1 column 2 (char 1)\n",
      "538\n",
      "Expecting value: line 1 column 2 (char 1)\n",
      "548\n",
      "Expecting value: line 1 column 2 (char 1)\n",
      "647\n",
      "near \"A\": syntax error\n",
      "649\n",
      "Expecting value: line 1 column 2 (char 1)\n",
      "769\n",
      "near \"Klima\": syntax error\n",
      "801\n",
      "Expecting value: line 1 column 2 (char 1)\n",
      "846\n",
      "Expecting value: line 1 column 2 (char 1)\n",
      "888\n",
      "Expecting value: line 1 column 2 (char 1)\n",
      "892\n",
      "Expecting value: line 1 column 2 (char 1)\n",
      "894\n",
      "Expecting value: line 1 column 2 (char 1)\n",
      "904\n",
      "Expecting value: line 1 column 2 (char 1)\n",
      "1007\n",
      "Expecting value: line 1 column 2 (char 1)\n",
      "1009\n",
      "Expecting value: line 1 column 2 (char 1)\n",
      "1012\n",
      "Expecting value: line 1 column 2 (char 1)\n",
      "1079\n",
      "near \"brillantsilber\": syntax error\n",
      "1081\n",
      "near \"ZOLL\": syntax error\n",
      "1094\n",
      "Expecting value: line 1 column 2 (char 1)\n",
      "1130\n",
      "near \"platingrau\": syntax error\n",
      "1169\n",
      "Expecting value: line 1 column 2 (char 1)\n",
      "1175\n",
      "near \"Gelbe\": syntax error\n",
      "1182\n",
      "Expecting value: line 1 column 2 (char 1)\n",
      "1229\n",
      "near \"B\": syntax error\n",
      "1285\n",
      "near \"LEMAN\": syntax error\n",
      "1287\n",
      "near \"MINERAL\": syntax error\n",
      "1295\n",
      "near \"brillantsilber\": syntax error\n",
      "1335\n",
      "Expecting value: line 1 column 2 (char 1)\n",
      "1354\n",
      "near \"Klima\": syntax error\n",
      "1369\n",
      "Expecting value: line 1 column 2 (char 1)\n",
      "1372\n",
      "Expecting value: line 1 column 2 (char 1)\n",
      "1419\n",
      "Expecting value: line 1 column 2 (char 1)\n",
      "1434\n",
      "near \"\", \"\": syntax error\n",
      "1458\n",
      "Expecting value: line 1 column 2 (char 1)\n"
     ]
    },
    {
     "ename": "KeyboardInterrupt",
     "evalue": "",
     "output_type": "error",
     "traceback": [
      "\u001b[1;31m---------------------------------------------------------------------------\u001b[0m",
      "\u001b[1;31mTypeError\u001b[0m                                 Traceback (most recent call last)",
      "\u001b[1;32mC:\\Users\\Florian\\Anaconda2\\envs\\ipykernel_py3\\lib\\site-packages\\requests\\packages\\urllib3\\connectionpool.py\u001b[0m in \u001b[0;36m_make_request\u001b[1;34m(self, conn, method, url, timeout, chunked, **httplib_request_kw)\u001b[0m\n\u001b[0;32m    378\u001b[0m             \u001b[1;32mtry\u001b[0m\u001b[1;33m:\u001b[0m  \u001b[1;31m# Python 2.7, use buffering of HTTP responses\u001b[0m\u001b[1;33m\u001b[0m\u001b[0m\n\u001b[1;32m--> 379\u001b[1;33m                 \u001b[0mhttplib_response\u001b[0m \u001b[1;33m=\u001b[0m \u001b[0mconn\u001b[0m\u001b[1;33m.\u001b[0m\u001b[0mgetresponse\u001b[0m\u001b[1;33m(\u001b[0m\u001b[0mbuffering\u001b[0m\u001b[1;33m=\u001b[0m\u001b[1;32mTrue\u001b[0m\u001b[1;33m)\u001b[0m\u001b[1;33m\u001b[0m\u001b[0m\n\u001b[0m\u001b[0;32m    380\u001b[0m             \u001b[1;32mexcept\u001b[0m \u001b[0mTypeError\u001b[0m\u001b[1;33m:\u001b[0m  \u001b[1;31m# Python 2.6 and older, Python 3\u001b[0m\u001b[1;33m\u001b[0m\u001b[0m\n",
      "\u001b[1;31mTypeError\u001b[0m: getresponse() got an unexpected keyword argument 'buffering'",
      "\nDuring handling of the above exception, another exception occurred:\n",
      "\u001b[1;31mKeyboardInterrupt\u001b[0m                         Traceback (most recent call last)",
      "\u001b[1;32m<ipython-input-102-89bd71f2dd30>\u001b[0m in \u001b[0;36m<module>\u001b[1;34m()\u001b[0m\n\u001b[0;32m     16\u001b[0m \u001b[1;32mfor\u001b[0m \u001b[0mi\u001b[0m \u001b[1;32min\u001b[0m \u001b[0mrange\u001b[0m\u001b[1;33m(\u001b[0m\u001b[0mdataIDs\u001b[0m\u001b[1;33m.\u001b[0m\u001b[0mshape\u001b[0m\u001b[1;33m[\u001b[0m\u001b[1;36m0\u001b[0m\u001b[1;33m]\u001b[0m\u001b[1;33m)\u001b[0m\u001b[1;33m:\u001b[0m\u001b[1;33m\u001b[0m\u001b[0m\n\u001b[0;32m     17\u001b[0m     \u001b[1;32mtry\u001b[0m\u001b[1;33m:\u001b[0m\u001b[1;33m\u001b[0m\u001b[0m\n\u001b[1;32m---> 18\u001b[1;33m         \u001b[0mallInfos\u001b[0m \u001b[1;33m=\u001b[0m \u001b[0mutils\u001b[0m\u001b[1;33m.\u001b[0m\u001b[0mgetInfoFromPage\u001b[0m\u001b[1;33m(\u001b[0m\u001b[0mdataIDs\u001b[0m\u001b[1;33m[\u001b[0m\u001b[0mi\u001b[0m\u001b[1;33m,\u001b[0m \u001b[1;36m1\u001b[0m\u001b[1;33m]\u001b[0m\u001b[1;33m)\u001b[0m\u001b[1;33m\u001b[0m\u001b[0m\n\u001b[0m\u001b[0;32m     19\u001b[0m         \u001b[0mallInfos\u001b[0m\u001b[1;33m[\u001b[0m\u001b[1;34m'firstSeen'\u001b[0m\u001b[1;33m]\u001b[0m \u001b[1;33m=\u001b[0m \u001b[0mdataIDs\u001b[0m\u001b[1;33m[\u001b[0m\u001b[0mi\u001b[0m\u001b[1;33m]\u001b[0m\u001b[1;33m[\u001b[0m\u001b[1;36m3\u001b[0m\u001b[1;33m]\u001b[0m\u001b[1;33m\u001b[0m\u001b[0m\n\u001b[0;32m     20\u001b[0m         \u001b[0mallInfos\u001b[0m\u001b[1;33m[\u001b[0m\u001b[1;34m'lastSeen'\u001b[0m\u001b[1;33m]\u001b[0m \u001b[1;33m=\u001b[0m \u001b[0mstr\u001b[0m\u001b[1;33m(\u001b[0m\u001b[0mdatetime\u001b[0m\u001b[1;33m.\u001b[0m\u001b[0mdatetime\u001b[0m\u001b[1;33m.\u001b[0m\u001b[0mnow\u001b[0m\u001b[1;33m(\u001b[0m\u001b[1;33m)\u001b[0m\u001b[1;33m.\u001b[0m\u001b[0mdate\u001b[0m\u001b[1;33m)\u001b[0m\u001b[1;33m\u001b[0m\u001b[0m\n",
      "\u001b[1;32mH:\\GitHub_Projects\\UsedCarStats\\src\\utils.py\u001b[0m in \u001b[0;36mgetInfoFromPage\u001b[1;34m(page)\u001b[0m\n\u001b[0;32m     81\u001b[0m     \u001b[1;31m# try to open web page\u001b[0m\u001b[1;33m\u001b[0m\u001b[1;33m\u001b[0m\u001b[0m\n\u001b[0;32m     82\u001b[0m     \u001b[1;32mtry\u001b[0m\u001b[1;33m:\u001b[0m\u001b[1;33m\u001b[0m\u001b[0m\n\u001b[1;32m---> 83\u001b[1;33m         \u001b[0mreq\u001b[0m \u001b[1;33m=\u001b[0m \u001b[0mrequests\u001b[0m\u001b[1;33m.\u001b[0m\u001b[0mget\u001b[0m\u001b[1;33m(\u001b[0m\u001b[0mpage\u001b[0m\u001b[1;33m)\u001b[0m\u001b[1;33m\u001b[0m\u001b[0m\n\u001b[0m\u001b[0;32m     84\u001b[0m         \u001b[0mresponse\u001b[0m \u001b[1;33m=\u001b[0m \u001b[0mreq\u001b[0m\u001b[1;33m.\u001b[0m\u001b[0mtext\u001b[0m\u001b[1;33m\u001b[0m\u001b[0m\n\u001b[0;32m     85\u001b[0m     \u001b[1;32mexcept\u001b[0m \u001b[0mException\u001b[0m \u001b[1;32mas\u001b[0m \u001b[0me\u001b[0m\u001b[1;33m:\u001b[0m\u001b[1;33m\u001b[0m\u001b[0m\n",
      "\u001b[1;32mC:\\Users\\Florian\\Anaconda2\\envs\\ipykernel_py3\\lib\\site-packages\\requests\\api.py\u001b[0m in \u001b[0;36mget\u001b[1;34m(url, params, **kwargs)\u001b[0m\n\u001b[0;32m     68\u001b[0m \u001b[1;33m\u001b[0m\u001b[0m\n\u001b[0;32m     69\u001b[0m     \u001b[0mkwargs\u001b[0m\u001b[1;33m.\u001b[0m\u001b[0msetdefault\u001b[0m\u001b[1;33m(\u001b[0m\u001b[1;34m'allow_redirects'\u001b[0m\u001b[1;33m,\u001b[0m \u001b[1;32mTrue\u001b[0m\u001b[1;33m)\u001b[0m\u001b[1;33m\u001b[0m\u001b[0m\n\u001b[1;32m---> 70\u001b[1;33m     \u001b[1;32mreturn\u001b[0m \u001b[0mrequest\u001b[0m\u001b[1;33m(\u001b[0m\u001b[1;34m'get'\u001b[0m\u001b[1;33m,\u001b[0m \u001b[0murl\u001b[0m\u001b[1;33m,\u001b[0m \u001b[0mparams\u001b[0m\u001b[1;33m=\u001b[0m\u001b[0mparams\u001b[0m\u001b[1;33m,\u001b[0m \u001b[1;33m**\u001b[0m\u001b[0mkwargs\u001b[0m\u001b[1;33m)\u001b[0m\u001b[1;33m\u001b[0m\u001b[0m\n\u001b[0m\u001b[0;32m     71\u001b[0m \u001b[1;33m\u001b[0m\u001b[0m\n\u001b[0;32m     72\u001b[0m \u001b[1;33m\u001b[0m\u001b[0m\n",
      "\u001b[1;32mC:\\Users\\Florian\\Anaconda2\\envs\\ipykernel_py3\\lib\\site-packages\\requests\\api.py\u001b[0m in \u001b[0;36mrequest\u001b[1;34m(method, url, **kwargs)\u001b[0m\n\u001b[0;32m     54\u001b[0m     \u001b[1;31m# cases, and look like a memory leak in others.\u001b[0m\u001b[1;33m\u001b[0m\u001b[1;33m\u001b[0m\u001b[0m\n\u001b[0;32m     55\u001b[0m     \u001b[1;32mwith\u001b[0m \u001b[0msessions\u001b[0m\u001b[1;33m.\u001b[0m\u001b[0mSession\u001b[0m\u001b[1;33m(\u001b[0m\u001b[1;33m)\u001b[0m \u001b[1;32mas\u001b[0m \u001b[0msession\u001b[0m\u001b[1;33m:\u001b[0m\u001b[1;33m\u001b[0m\u001b[0m\n\u001b[1;32m---> 56\u001b[1;33m         \u001b[1;32mreturn\u001b[0m \u001b[0msession\u001b[0m\u001b[1;33m.\u001b[0m\u001b[0mrequest\u001b[0m\u001b[1;33m(\u001b[0m\u001b[0mmethod\u001b[0m\u001b[1;33m=\u001b[0m\u001b[0mmethod\u001b[0m\u001b[1;33m,\u001b[0m \u001b[0murl\u001b[0m\u001b[1;33m=\u001b[0m\u001b[0murl\u001b[0m\u001b[1;33m,\u001b[0m \u001b[1;33m**\u001b[0m\u001b[0mkwargs\u001b[0m\u001b[1;33m)\u001b[0m\u001b[1;33m\u001b[0m\u001b[0m\n\u001b[0m\u001b[0;32m     57\u001b[0m \u001b[1;33m\u001b[0m\u001b[0m\n\u001b[0;32m     58\u001b[0m \u001b[1;33m\u001b[0m\u001b[0m\n",
      "\u001b[1;32mC:\\Users\\Florian\\Anaconda2\\envs\\ipykernel_py3\\lib\\site-packages\\requests\\sessions.py\u001b[0m in \u001b[0;36mrequest\u001b[1;34m(self, method, url, params, data, headers, cookies, files, auth, timeout, allow_redirects, proxies, hooks, stream, verify, cert, json)\u001b[0m\n\u001b[0;32m    486\u001b[0m         }\n\u001b[0;32m    487\u001b[0m         \u001b[0msend_kwargs\u001b[0m\u001b[1;33m.\u001b[0m\u001b[0mupdate\u001b[0m\u001b[1;33m(\u001b[0m\u001b[0msettings\u001b[0m\u001b[1;33m)\u001b[0m\u001b[1;33m\u001b[0m\u001b[0m\n\u001b[1;32m--> 488\u001b[1;33m         \u001b[0mresp\u001b[0m \u001b[1;33m=\u001b[0m \u001b[0mself\u001b[0m\u001b[1;33m.\u001b[0m\u001b[0msend\u001b[0m\u001b[1;33m(\u001b[0m\u001b[0mprep\u001b[0m\u001b[1;33m,\u001b[0m \u001b[1;33m**\u001b[0m\u001b[0msend_kwargs\u001b[0m\u001b[1;33m)\u001b[0m\u001b[1;33m\u001b[0m\u001b[0m\n\u001b[0m\u001b[0;32m    489\u001b[0m \u001b[1;33m\u001b[0m\u001b[0m\n\u001b[0;32m    490\u001b[0m         \u001b[1;32mreturn\u001b[0m \u001b[0mresp\u001b[0m\u001b[1;33m\u001b[0m\u001b[0m\n",
      "\u001b[1;32mC:\\Users\\Florian\\Anaconda2\\envs\\ipykernel_py3\\lib\\site-packages\\requests\\sessions.py\u001b[0m in \u001b[0;36msend\u001b[1;34m(self, request, **kwargs)\u001b[0m\n\u001b[0;32m    607\u001b[0m \u001b[1;33m\u001b[0m\u001b[0m\n\u001b[0;32m    608\u001b[0m         \u001b[1;31m# Send the request\u001b[0m\u001b[1;33m\u001b[0m\u001b[1;33m\u001b[0m\u001b[0m\n\u001b[1;32m--> 609\u001b[1;33m         \u001b[0mr\u001b[0m \u001b[1;33m=\u001b[0m \u001b[0madapter\u001b[0m\u001b[1;33m.\u001b[0m\u001b[0msend\u001b[0m\u001b[1;33m(\u001b[0m\u001b[0mrequest\u001b[0m\u001b[1;33m,\u001b[0m \u001b[1;33m**\u001b[0m\u001b[0mkwargs\u001b[0m\u001b[1;33m)\u001b[0m\u001b[1;33m\u001b[0m\u001b[0m\n\u001b[0m\u001b[0;32m    610\u001b[0m \u001b[1;33m\u001b[0m\u001b[0m\n\u001b[0;32m    611\u001b[0m         \u001b[1;31m# Total elapsed time of the request (approximately)\u001b[0m\u001b[1;33m\u001b[0m\u001b[1;33m\u001b[0m\u001b[0m\n",
      "\u001b[1;32mC:\\Users\\Florian\\Anaconda2\\envs\\ipykernel_py3\\lib\\site-packages\\requests\\adapters.py\u001b[0m in \u001b[0;36msend\u001b[1;34m(self, request, stream, timeout, verify, cert, proxies)\u001b[0m\n\u001b[0;32m    421\u001b[0m                     \u001b[0mdecode_content\u001b[0m\u001b[1;33m=\u001b[0m\u001b[1;32mFalse\u001b[0m\u001b[1;33m,\u001b[0m\u001b[1;33m\u001b[0m\u001b[0m\n\u001b[0;32m    422\u001b[0m                     \u001b[0mretries\u001b[0m\u001b[1;33m=\u001b[0m\u001b[0mself\u001b[0m\u001b[1;33m.\u001b[0m\u001b[0mmax_retries\u001b[0m\u001b[1;33m,\u001b[0m\u001b[1;33m\u001b[0m\u001b[0m\n\u001b[1;32m--> 423\u001b[1;33m                     \u001b[0mtimeout\u001b[0m\u001b[1;33m=\u001b[0m\u001b[0mtimeout\u001b[0m\u001b[1;33m\u001b[0m\u001b[0m\n\u001b[0m\u001b[0;32m    424\u001b[0m                 )\n\u001b[0;32m    425\u001b[0m \u001b[1;33m\u001b[0m\u001b[0m\n",
      "\u001b[1;32mC:\\Users\\Florian\\Anaconda2\\envs\\ipykernel_py3\\lib\\site-packages\\requests\\packages\\urllib3\\connectionpool.py\u001b[0m in \u001b[0;36murlopen\u001b[1;34m(self, method, url, body, headers, retries, redirect, assert_same_host, timeout, pool_timeout, release_conn, chunked, body_pos, **response_kw)\u001b[0m\n\u001b[0;32m    598\u001b[0m                                                   \u001b[0mtimeout\u001b[0m\u001b[1;33m=\u001b[0m\u001b[0mtimeout_obj\u001b[0m\u001b[1;33m,\u001b[0m\u001b[1;33m\u001b[0m\u001b[0m\n\u001b[0;32m    599\u001b[0m                                                   \u001b[0mbody\u001b[0m\u001b[1;33m=\u001b[0m\u001b[0mbody\u001b[0m\u001b[1;33m,\u001b[0m \u001b[0mheaders\u001b[0m\u001b[1;33m=\u001b[0m\u001b[0mheaders\u001b[0m\u001b[1;33m,\u001b[0m\u001b[1;33m\u001b[0m\u001b[0m\n\u001b[1;32m--> 600\u001b[1;33m                                                   chunked=chunked)\n\u001b[0m\u001b[0;32m    601\u001b[0m \u001b[1;33m\u001b[0m\u001b[0m\n\u001b[0;32m    602\u001b[0m             \u001b[1;31m# If we're going to release the connection in ``finally:``, then\u001b[0m\u001b[1;33m\u001b[0m\u001b[1;33m\u001b[0m\u001b[0m\n",
      "\u001b[1;32mC:\\Users\\Florian\\Anaconda2\\envs\\ipykernel_py3\\lib\\site-packages\\requests\\packages\\urllib3\\connectionpool.py\u001b[0m in \u001b[0;36m_make_request\u001b[1;34m(self, conn, method, url, timeout, chunked, **httplib_request_kw)\u001b[0m\n\u001b[0;32m    380\u001b[0m             \u001b[1;32mexcept\u001b[0m \u001b[0mTypeError\u001b[0m\u001b[1;33m:\u001b[0m  \u001b[1;31m# Python 2.6 and older, Python 3\u001b[0m\u001b[1;33m\u001b[0m\u001b[0m\n\u001b[0;32m    381\u001b[0m                 \u001b[1;32mtry\u001b[0m\u001b[1;33m:\u001b[0m\u001b[1;33m\u001b[0m\u001b[0m\n\u001b[1;32m--> 382\u001b[1;33m                     \u001b[0mhttplib_response\u001b[0m \u001b[1;33m=\u001b[0m \u001b[0mconn\u001b[0m\u001b[1;33m.\u001b[0m\u001b[0mgetresponse\u001b[0m\u001b[1;33m(\u001b[0m\u001b[1;33m)\u001b[0m\u001b[1;33m\u001b[0m\u001b[0m\n\u001b[0m\u001b[0;32m    383\u001b[0m                 \u001b[1;32mexcept\u001b[0m \u001b[0mException\u001b[0m \u001b[1;32mas\u001b[0m \u001b[0me\u001b[0m\u001b[1;33m:\u001b[0m\u001b[1;33m\u001b[0m\u001b[0m\n\u001b[0;32m    384\u001b[0m                     \u001b[1;31m# Remove the TypeError from the exception chain in Python 3;\u001b[0m\u001b[1;33m\u001b[0m\u001b[1;33m\u001b[0m\u001b[0m\n",
      "\u001b[1;32mC:\\Users\\Florian\\Anaconda2\\envs\\ipykernel_py3\\lib\\http\\client.py\u001b[0m in \u001b[0;36mgetresponse\u001b[1;34m(self)\u001b[0m\n\u001b[0;32m   1329\u001b[0m         \u001b[1;32mtry\u001b[0m\u001b[1;33m:\u001b[0m\u001b[1;33m\u001b[0m\u001b[0m\n\u001b[0;32m   1330\u001b[0m             \u001b[1;32mtry\u001b[0m\u001b[1;33m:\u001b[0m\u001b[1;33m\u001b[0m\u001b[0m\n\u001b[1;32m-> 1331\u001b[1;33m                 \u001b[0mresponse\u001b[0m\u001b[1;33m.\u001b[0m\u001b[0mbegin\u001b[0m\u001b[1;33m(\u001b[0m\u001b[1;33m)\u001b[0m\u001b[1;33m\u001b[0m\u001b[0m\n\u001b[0m\u001b[0;32m   1332\u001b[0m             \u001b[1;32mexcept\u001b[0m \u001b[0mConnectionError\u001b[0m\u001b[1;33m:\u001b[0m\u001b[1;33m\u001b[0m\u001b[0m\n\u001b[0;32m   1333\u001b[0m                 \u001b[0mself\u001b[0m\u001b[1;33m.\u001b[0m\u001b[0mclose\u001b[0m\u001b[1;33m(\u001b[0m\u001b[1;33m)\u001b[0m\u001b[1;33m\u001b[0m\u001b[0m\n",
      "\u001b[1;32mC:\\Users\\Florian\\Anaconda2\\envs\\ipykernel_py3\\lib\\http\\client.py\u001b[0m in \u001b[0;36mbegin\u001b[1;34m(self)\u001b[0m\n\u001b[0;32m    295\u001b[0m         \u001b[1;31m# read until we get a non-100 response\u001b[0m\u001b[1;33m\u001b[0m\u001b[1;33m\u001b[0m\u001b[0m\n\u001b[0;32m    296\u001b[0m         \u001b[1;32mwhile\u001b[0m \u001b[1;32mTrue\u001b[0m\u001b[1;33m:\u001b[0m\u001b[1;33m\u001b[0m\u001b[0m\n\u001b[1;32m--> 297\u001b[1;33m             \u001b[0mversion\u001b[0m\u001b[1;33m,\u001b[0m \u001b[0mstatus\u001b[0m\u001b[1;33m,\u001b[0m \u001b[0mreason\u001b[0m \u001b[1;33m=\u001b[0m \u001b[0mself\u001b[0m\u001b[1;33m.\u001b[0m\u001b[0m_read_status\u001b[0m\u001b[1;33m(\u001b[0m\u001b[1;33m)\u001b[0m\u001b[1;33m\u001b[0m\u001b[0m\n\u001b[0m\u001b[0;32m    298\u001b[0m             \u001b[1;32mif\u001b[0m \u001b[0mstatus\u001b[0m \u001b[1;33m!=\u001b[0m \u001b[0mCONTINUE\u001b[0m\u001b[1;33m:\u001b[0m\u001b[1;33m\u001b[0m\u001b[0m\n\u001b[0;32m    299\u001b[0m                 \u001b[1;32mbreak\u001b[0m\u001b[1;33m\u001b[0m\u001b[0m\n",
      "\u001b[1;32mC:\\Users\\Florian\\Anaconda2\\envs\\ipykernel_py3\\lib\\http\\client.py\u001b[0m in \u001b[0;36m_read_status\u001b[1;34m(self)\u001b[0m\n\u001b[0;32m    256\u001b[0m \u001b[1;33m\u001b[0m\u001b[0m\n\u001b[0;32m    257\u001b[0m     \u001b[1;32mdef\u001b[0m \u001b[0m_read_status\u001b[0m\u001b[1;33m(\u001b[0m\u001b[0mself\u001b[0m\u001b[1;33m)\u001b[0m\u001b[1;33m:\u001b[0m\u001b[1;33m\u001b[0m\u001b[0m\n\u001b[1;32m--> 258\u001b[1;33m         \u001b[0mline\u001b[0m \u001b[1;33m=\u001b[0m \u001b[0mstr\u001b[0m\u001b[1;33m(\u001b[0m\u001b[0mself\u001b[0m\u001b[1;33m.\u001b[0m\u001b[0mfp\u001b[0m\u001b[1;33m.\u001b[0m\u001b[0mreadline\u001b[0m\u001b[1;33m(\u001b[0m\u001b[0m_MAXLINE\u001b[0m \u001b[1;33m+\u001b[0m \u001b[1;36m1\u001b[0m\u001b[1;33m)\u001b[0m\u001b[1;33m,\u001b[0m \u001b[1;34m\"iso-8859-1\"\u001b[0m\u001b[1;33m)\u001b[0m\u001b[1;33m\u001b[0m\u001b[0m\n\u001b[0m\u001b[0;32m    259\u001b[0m         \u001b[1;32mif\u001b[0m \u001b[0mlen\u001b[0m\u001b[1;33m(\u001b[0m\u001b[0mline\u001b[0m\u001b[1;33m)\u001b[0m \u001b[1;33m>\u001b[0m \u001b[0m_MAXLINE\u001b[0m\u001b[1;33m:\u001b[0m\u001b[1;33m\u001b[0m\u001b[0m\n\u001b[0;32m    260\u001b[0m             \u001b[1;32mraise\u001b[0m \u001b[0mLineTooLong\u001b[0m\u001b[1;33m(\u001b[0m\u001b[1;34m\"status line\"\u001b[0m\u001b[1;33m)\u001b[0m\u001b[1;33m\u001b[0m\u001b[0m\n",
      "\u001b[1;32mC:\\Users\\Florian\\Anaconda2\\envs\\ipykernel_py3\\lib\\socket.py\u001b[0m in \u001b[0;36mreadinto\u001b[1;34m(self, b)\u001b[0m\n\u001b[0;32m    584\u001b[0m         \u001b[1;32mwhile\u001b[0m \u001b[1;32mTrue\u001b[0m\u001b[1;33m:\u001b[0m\u001b[1;33m\u001b[0m\u001b[0m\n\u001b[0;32m    585\u001b[0m             \u001b[1;32mtry\u001b[0m\u001b[1;33m:\u001b[0m\u001b[1;33m\u001b[0m\u001b[0m\n\u001b[1;32m--> 586\u001b[1;33m                 \u001b[1;32mreturn\u001b[0m \u001b[0mself\u001b[0m\u001b[1;33m.\u001b[0m\u001b[0m_sock\u001b[0m\u001b[1;33m.\u001b[0m\u001b[0mrecv_into\u001b[0m\u001b[1;33m(\u001b[0m\u001b[0mb\u001b[0m\u001b[1;33m)\u001b[0m\u001b[1;33m\u001b[0m\u001b[0m\n\u001b[0m\u001b[0;32m    587\u001b[0m             \u001b[1;32mexcept\u001b[0m \u001b[0mtimeout\u001b[0m\u001b[1;33m:\u001b[0m\u001b[1;33m\u001b[0m\u001b[0m\n\u001b[0;32m    588\u001b[0m                 \u001b[0mself\u001b[0m\u001b[1;33m.\u001b[0m\u001b[0m_timeout_occurred\u001b[0m \u001b[1;33m=\u001b[0m \u001b[1;32mTrue\u001b[0m\u001b[1;33m\u001b[0m\u001b[0m\n",
      "\u001b[1;32mC:\\Users\\Florian\\Anaconda2\\envs\\ipykernel_py3\\lib\\ssl.py\u001b[0m in \u001b[0;36mrecv_into\u001b[1;34m(self, buffer, nbytes, flags)\u001b[0m\n\u001b[0;32m   1000\u001b[0m                   \u001b[1;34m\"non-zero flags not allowed in calls to recv_into() on %s\"\u001b[0m \u001b[1;33m%\u001b[0m\u001b[1;33m\u001b[0m\u001b[0m\n\u001b[0;32m   1001\u001b[0m                   self.__class__)\n\u001b[1;32m-> 1002\u001b[1;33m             \u001b[1;32mreturn\u001b[0m \u001b[0mself\u001b[0m\u001b[1;33m.\u001b[0m\u001b[0mread\u001b[0m\u001b[1;33m(\u001b[0m\u001b[0mnbytes\u001b[0m\u001b[1;33m,\u001b[0m \u001b[0mbuffer\u001b[0m\u001b[1;33m)\u001b[0m\u001b[1;33m\u001b[0m\u001b[0m\n\u001b[0m\u001b[0;32m   1003\u001b[0m         \u001b[1;32melse\u001b[0m\u001b[1;33m:\u001b[0m\u001b[1;33m\u001b[0m\u001b[0m\n\u001b[0;32m   1004\u001b[0m             \u001b[1;32mreturn\u001b[0m \u001b[0msocket\u001b[0m\u001b[1;33m.\u001b[0m\u001b[0mrecv_into\u001b[0m\u001b[1;33m(\u001b[0m\u001b[0mself\u001b[0m\u001b[1;33m,\u001b[0m \u001b[0mbuffer\u001b[0m\u001b[1;33m,\u001b[0m \u001b[0mnbytes\u001b[0m\u001b[1;33m,\u001b[0m \u001b[0mflags\u001b[0m\u001b[1;33m)\u001b[0m\u001b[1;33m\u001b[0m\u001b[0m\n",
      "\u001b[1;32mC:\\Users\\Florian\\Anaconda2\\envs\\ipykernel_py3\\lib\\ssl.py\u001b[0m in \u001b[0;36mread\u001b[1;34m(self, len, buffer)\u001b[0m\n\u001b[0;32m    863\u001b[0m             \u001b[1;32mraise\u001b[0m \u001b[0mValueError\u001b[0m\u001b[1;33m(\u001b[0m\u001b[1;34m\"Read on closed or unwrapped SSL socket.\"\u001b[0m\u001b[1;33m)\u001b[0m\u001b[1;33m\u001b[0m\u001b[0m\n\u001b[0;32m    864\u001b[0m         \u001b[1;32mtry\u001b[0m\u001b[1;33m:\u001b[0m\u001b[1;33m\u001b[0m\u001b[0m\n\u001b[1;32m--> 865\u001b[1;33m             \u001b[1;32mreturn\u001b[0m \u001b[0mself\u001b[0m\u001b[1;33m.\u001b[0m\u001b[0m_sslobj\u001b[0m\u001b[1;33m.\u001b[0m\u001b[0mread\u001b[0m\u001b[1;33m(\u001b[0m\u001b[0mlen\u001b[0m\u001b[1;33m,\u001b[0m \u001b[0mbuffer\u001b[0m\u001b[1;33m)\u001b[0m\u001b[1;33m\u001b[0m\u001b[0m\n\u001b[0m\u001b[0;32m    866\u001b[0m         \u001b[1;32mexcept\u001b[0m \u001b[0mSSLError\u001b[0m \u001b[1;32mas\u001b[0m \u001b[0mx\u001b[0m\u001b[1;33m:\u001b[0m\u001b[1;33m\u001b[0m\u001b[0m\n\u001b[0;32m    867\u001b[0m             \u001b[1;32mif\u001b[0m \u001b[0mx\u001b[0m\u001b[1;33m.\u001b[0m\u001b[0margs\u001b[0m\u001b[1;33m[\u001b[0m\u001b[1;36m0\u001b[0m\u001b[1;33m]\u001b[0m \u001b[1;33m==\u001b[0m \u001b[0mSSL_ERROR_EOF\u001b[0m \u001b[1;32mand\u001b[0m \u001b[0mself\u001b[0m\u001b[1;33m.\u001b[0m\u001b[0msuppress_ragged_eofs\u001b[0m\u001b[1;33m:\u001b[0m\u001b[1;33m\u001b[0m\u001b[0m\n",
      "\u001b[1;32mC:\\Users\\Florian\\Anaconda2\\envs\\ipykernel_py3\\lib\\ssl.py\u001b[0m in \u001b[0;36mread\u001b[1;34m(self, len, buffer)\u001b[0m\n\u001b[0;32m    623\u001b[0m         \"\"\"\n\u001b[0;32m    624\u001b[0m         \u001b[1;32mif\u001b[0m \u001b[0mbuffer\u001b[0m \u001b[1;32mis\u001b[0m \u001b[1;32mnot\u001b[0m \u001b[1;32mNone\u001b[0m\u001b[1;33m:\u001b[0m\u001b[1;33m\u001b[0m\u001b[0m\n\u001b[1;32m--> 625\u001b[1;33m             \u001b[0mv\u001b[0m \u001b[1;33m=\u001b[0m \u001b[0mself\u001b[0m\u001b[1;33m.\u001b[0m\u001b[0m_sslobj\u001b[0m\u001b[1;33m.\u001b[0m\u001b[0mread\u001b[0m\u001b[1;33m(\u001b[0m\u001b[0mlen\u001b[0m\u001b[1;33m,\u001b[0m \u001b[0mbuffer\u001b[0m\u001b[1;33m)\u001b[0m\u001b[1;33m\u001b[0m\u001b[0m\n\u001b[0m\u001b[0;32m    626\u001b[0m         \u001b[1;32melse\u001b[0m\u001b[1;33m:\u001b[0m\u001b[1;33m\u001b[0m\u001b[0m\n\u001b[0;32m    627\u001b[0m             \u001b[0mv\u001b[0m \u001b[1;33m=\u001b[0m \u001b[0mself\u001b[0m\u001b[1;33m.\u001b[0m\u001b[0m_sslobj\u001b[0m\u001b[1;33m.\u001b[0m\u001b[0mread\u001b[0m\u001b[1;33m(\u001b[0m\u001b[0mlen\u001b[0m\u001b[1;33m)\u001b[0m\u001b[1;33m\u001b[0m\u001b[0m\n",
      "\u001b[1;31mKeyboardInterrupt\u001b[0m: "
     ]
    }
   ],
   "source": [
    "def insertIntoDB(dictionary, superKey=''):\n",
    "    columns = ''\n",
    "    values = ''\n",
    "    for key, val in dictionary.items():\n",
    "        if type(val) == dict:\n",
    "            c, v = insertIntoDB(val, superKey=superKey + key)\n",
    "            columns += c\n",
    "            values += v\n",
    "        elif key.lower() in attributes.keys():\n",
    "            columns += superKey + key + ', '\n",
    "            values += '\"' + str(val) + '\"' + ', '\n",
    "\n",
    "    \n",
    "    return columns, values\n",
    "\n",
    "for i in range(dataIDs.shape[0]):\n",
    "    try:\n",
    "        allInfos = utils.getInfoFromPage(dataIDs[i, 1])\n",
    "        allInfos['firstSeen'] = dataIDs[i][3]\n",
    "        allInfos['lastSeen'] = str(datetime.datetime.now().date)\n",
    "\n",
    "        columns, values = insertIntoDB(allInfos)\n",
    "\n",
    "        database.execute('''INSERT INTO car ( %s ) VALUES ( %s );''' %(columns[:-2], values[:-2]) )\n",
    "    except Exception as e:\n",
    "        print (i)\n",
    "        print (e)\n",
    "\n",
    "database.execute(\"\"\"SELECT * FROM car\"\"\")"
   ]
  },
  {
   "cell_type": "code",
   "execution_count": 104,
   "metadata": {
    "collapsed": false,
    "scrolled": true
   },
   "outputs": [
    {
     "data": {
      "text/plain": [
       "1421"
      ]
     },
     "execution_count": 104,
     "metadata": {},
     "output_type": "execute_result"
    }
   ],
   "source": [
    "result = database.execute(\"\"\"SELECT * FROM car\"\"\")\n",
    "len(result)"
   ]
  },
  {
   "cell_type": "code",
   "execution_count": 105,
   "metadata": {
    "collapsed": true
   },
   "outputs": [],
   "source": [
    "database.save()\n",
    "database.close()"
   ]
  },
  {
   "cell_type": "code",
   "execution_count": 25,
   "metadata": {
    "collapsed": false
   },
   "outputs": [
    {
     "data": {
      "text/plain": [
       "(('name', None, None, None, None, None, None),)"
      ]
     },
     "execution_count": 25,
     "metadata": {},
     "output_type": "execute_result"
    }
   ],
   "source": [
    "cursor = database.getCursor()\n",
    "cursor.description"
   ]
  },
  {
   "cell_type": "code",
   "execution_count": 14,
   "metadata": {
    "collapsed": false,
    "scrolled": true
   },
   "outputs": [
    {
     "name": "stdout",
     "output_type": "stream",
     "text": [
      "adid\n"
     ]
    }
   ],
   "source": [
    "for i in cursor.description:\n",
    "    print (i[0])"
   ]
  },
  {
   "cell_type": "code",
   "execution_count": 15,
   "metadata": {
    "collapsed": false
   },
   "outputs": [
    {
     "ename": "NameError",
     "evalue": "name 'connection' is not defined",
     "output_type": "error",
     "traceback": [
      "\u001b[0;31m---------------------------------------------------------------------------\u001b[0m",
      "\u001b[0;31mNameError\u001b[0m                                 Traceback (most recent call last)",
      "\u001b[0;32m<ipython-input-15-d4d86ed6fcd0>\u001b[0m in \u001b[0;36m<module>\u001b[0;34m()\u001b[0m\n\u001b[0;32m----> 1\u001b[0;31m \u001b[0mconnection\u001b[0m\u001b[0;34m.\u001b[0m\u001b[0mclose\u001b[0m\u001b[0;34m(\u001b[0m\u001b[0;34m)\u001b[0m\u001b[0;34m\u001b[0m\u001b[0m\n\u001b[0m",
      "\u001b[0;31mNameError\u001b[0m: name 'connection' is not defined"
     ]
    }
   ],
   "source": [
    "connection.close()"
   ]
  },
  {
   "cell_type": "code",
   "execution_count": null,
   "metadata": {
    "collapsed": true
   },
   "outputs": [],
   "source": []
  },
  {
   "cell_type": "markdown",
   "metadata": {},
   "source": [
    "## progressBar tests"
   ]
  },
  {
   "cell_type": "code",
   "execution_count": 100,
   "metadata": {
    "collapsed": false
   },
   "outputs": [
    {
     "name": "stdout",
     "output_type": "stream",
     "text": [
      "10 / 10"
     ]
    }
   ],
   "source": [
    "import sys, time\n",
    "reload(utils)\n",
    "pbar = utils.ProgressBar(10, 5)\n",
    "\n",
    "for i in range(10):\n",
    "    #print ('\\r', i)\n",
    "    pbar.update(i+1)\n",
    "    time.sleep(.1)\n",
    "\n"
   ]
  },
  {
   "cell_type": "code",
   "execution_count": null,
   "metadata": {
    "collapsed": true
   },
   "outputs": [],
   "source": []
  }
 ],
 "metadata": {
  "anaconda-cloud": {},
  "kernelspec": {
   "display_name": "Python [default]",
   "language": "python",
   "name": "python3"
  },
  "language_info": {
   "codemirror_mode": {
    "name": "ipython",
    "version": 3
   },
   "file_extension": ".py",
   "mimetype": "text/x-python",
   "name": "python",
   "nbconvert_exporter": "python",
   "pygments_lexer": "ipython3",
   "version": "3.5.2"
  }
 },
 "nbformat": 4,
 "nbformat_minor": 1
}
