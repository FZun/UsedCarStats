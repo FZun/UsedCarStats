{
 "cells": [
  {
   "cell_type": "code",
   "execution_count": 13,
   "metadata": {
    "collapsed": false
   },
   "outputs": [],
   "source": [
    "# -*- coding: utf-8 -*-\n",
    "\n",
    "## standard packages\n",
    "import numpy as np\n",
    "import os\n",
    "import datetime\n",
    "\n",
    "## Config Parster for initiation\n",
    "import configparser\n",
    "\n",
    "## HTTP scraping packages\n",
    "from lxml import html\n",
    "import requests\n",
    "\n",
    "#import httplib2\n",
    "import urllib\n",
    "\n",
    "from bs4 import BeautifulSoup, SoupStrainer\n",
    "import json\n",
    "\n",
    "## Database\n",
    "import sqlite3\n",
    "\n",
    "from importlib import reload\n"
   ]
  },
  {
   "cell_type": "code",
   "execution_count": 14,
   "metadata": {
    "collapsed": false
   },
   "outputs": [],
   "source": [
    "import src.utils as utils"
   ]
  },
  {
   "cell_type": "code",
   "execution_count": 9,
   "metadata": {
    "collapsed": false,
    "scrolled": true
   },
   "outputs": [
    {
     "name": "stdout",
     "output_type": "stream",
     "text": [
      "WebPages\n",
      "additionalAdInfo\n",
      "dbFilepath\n",
      "dbInit\n"
     ]
    }
   ],
   "source": [
    "pagesConfig = configparser.ConfigParser()\n",
    "pagesConfig.read(\"config/siteSpecifics.ini\")\n",
    "\n",
    "for section in pagesConfig.sections():\n",
    "    print(section)\n",
    "    #for option in pagesConfig.options(section):\n",
    "        #print(option, pagesConfig.get(section, option))\n",
    "    #    print (section, option)"
   ]
  },
  {
   "cell_type": "code",
   "execution_count": 10,
   "metadata": {
    "collapsed": false
   },
   "outputs": [
    {
     "name": "stdout",
     "output_type": "stream",
     "text": [
      "http://suchen.mobile.de/fahrzeuge/search.html?scopeId=C&damageUnrepaired=NO_DAMAGE_UNREPAIRED&scopeId=C&isSearchRequest=true&sortOption.sortBy=creationTime&sortOption.sortOrder=DESCENDING&pageNumber=\n"
     ]
    }
   ],
   "source": [
    "searchPage = pagesConfig.get('WebPages', 'mobile.de')\n",
    "print(searchPage)"
   ]
  },
  {
   "cell_type": "code",
   "execution_count": 52,
   "metadata": {
    "collapsed": false
   },
   "outputs": [],
   "source": [
    "reload(utils)\n",
    "database.close()\n",
    "database = utils.DataBase('src/dataBase/carStats.db')\n",
    "\n",
    "scraping = utils.htmlScraping(searchPage, database)"
   ]
  },
  {
   "cell_type": "code",
   "execution_count": 54,
   "metadata": {
    "collapsed": false
   },
   "outputs": [
    {
     "data": {
      "text/plain": [
       "[0, 300]"
      ]
     },
     "execution_count": 54,
     "metadata": {},
     "output_type": "execute_result"
    }
   ],
   "source": [
    "scraping.setPriceStepList(0, 300, 300)\n",
    "scraping.getPriceStepList()"
   ]
  },
  {
   "cell_type": "code",
   "execution_count": 55,
   "metadata": {
    "collapsed": false,
    "scrolled": true
   },
   "outputs": [
    {
     "name": "stdout",
     "output_type": "stream",
     "text": [
      "(971, 4)\n"
     ]
    }
   ],
   "source": [
    "dataIDs = scraping.scrapeAdIDs()\n",
    "print(dataIDs.shape)"
   ]
  },
  {
   "cell_type": "code",
   "execution_count": 56,
   "metadata": {
    "collapsed": false,
    "scrolled": true
   },
   "outputs": [
    {
     "name": "stdout",
     "output_type": "stream",
     "text": [
      "Error during translating/writing Information to DB at: 381\n",
      "['247880469'\n",
      " 'https://suchen.mobile.de/fahrzeuge/details.html?id=247880469&damageUnrepaired=NO_DAMAGE_UNREPAIRED&isSearchRequest=true&maxPrice=300&minPrice=0&pageNumber=21&scopeId=C&sortOption.sortBy=creationTime&sortOption.sortOrder=DESCENDING'\n",
      " ' href9hrefOpel Sintra \"GLS\"hrefInserat online seit 24.07.2017 16:19href299 €hrefEZ 03/1999, 339.000\\xa0km, 85\\xa0kW\\xa0(116\\xa0PS)hrefVan / Minibus, Diesel, Schaltgetriebe, 4/5 Türenhref≈\\u20097,9\\u2009l/100km (komb.), ≈\\u2009209\\u2009g CO₂/km (komb.)hrefAutomarkt Pershiahref(href3href)hrefDE-09120 Chemnitz, HändlerhrefFinanzierunghref, hrefVersicherunghrefGeparkthrefParkenhrefKontakt'\n",
      " '24.07.2017']\n",
      "near \"GLS\": syntax error\n",
      "Error during translating/writing Information to DB at: 435\n",
      "['245252846'\n",
      " 'https://suchen.mobile.de/fahrzeuge/details.html?id=245252846&damageUnrepaired=NO_DAMAGE_UNREPAIRED&isSearchRequest=true&maxPrice=300&minPrice=0&pageNumber=24&scopeId=C&sortOption.sortBy=creationTime&sortOption.sortOrder=DESCENDING'\n",
      " ' href11hrefFord Focus Trend \"Euro 3\"hrefInserat online seit 23.07.2017 12:28href299 €hrefEZ 04/1999, 180.500\\xa0km, 85\\xa0kW\\xa0(116\\xa0PS)hrefLimousine, Benzin, Schaltgetriebe, HU 04/2017, 2/3 Türenhref≈\\u20097,6\\u2009l/100km (komb.), ≈\\u2009181\\u2009g CO₂/km (komb.)hrefZimmermannhref(href41href)hrefDE-88046 Friedrichshafen, HändlerhrefFinanzierunghref, hrefVersicherunghrefGeparkthrefParkenhrefKontakt'\n",
      " '23.07.2017']\n",
      "near \"Euro\": syntax error\n",
      "Error during translating/writing Information to DB at: 842\n",
      "['247314271'\n",
      " 'https://suchen.mobile.de/fahrzeuge/details.html?id=247314271&damageUnrepaired=NO_DAMAGE_UNREPAIRED&isSearchRequest=true&maxPrice=300&minPrice=0&pageNumber=44&scopeId=C&sortOption.sortBy=creationTime&sortOption.sortOrder=DESCENDING'\n",
      " ' href15hrefSeat Toledo 1.6 Klima \"KEINE HU\"hrefInserat online seit 11.07.2017 19:50href300 €hrefEZ 07/1998, 173.883\\xa0km, 74\\xa0kW\\xa0(101\\xa0PS)hrefLimousine, Benzin, Schaltgetriebe, 4/5 Türenhref≈\\u20097,8\\u2009l/100km (komb.), ≈\\u2009187\\u2009g CO₂/km (komb.)hrefreduzierter FestpreishrefJ.A. Jedermann Automobile GmbHhrefDE-14480 Potsdam, HändlerhrefFinanzierunghref, hrefVersicherunghrefGeparkthrefParkenhrefKontakt'\n",
      " '11.07.2017']\n",
      "near \"KEINE\": syntax error\n",
      "Error during translating/writing Information to DB at: 907\n",
      "['246547178'\n",
      " 'https://suchen.mobile.de/fahrzeuge/details.html?id=246547178&damageUnrepaired=NO_DAMAGE_UNREPAIRED&isSearchRequest=true&maxPrice=300&minPrice=0&pageNumber=47&scopeId=C&sortOption.sortBy=creationTime&sortOption.sortOrder=DESCENDING'\n",
      " ' href12hrefCitroën Xantia 1.8 16V Millesime \"TÜV FÄLLIG\"hrefInserat online seit 10.07.2017 08:15href299 €hrefEZ 08/2000, 171.500\\xa0km, 81\\xa0kW\\xa0(110\\xa0PS)hrefLimousine, Benzin, Schaltgetriebe, HU 05/2017, 4/5 Türenhref≈\\u20098,2\\u2009l/100km (komb.), ≈\\u2009195\\u2009g CO₂/km (komb.)hrefFahrzeug Galerie Boostedthref(href19href)hrefDE-24598 Boostedt, HändlerhrefFinanzierunghref, hrefVersicherunghrefGeparkthrefParkenhrefKontakt'\n",
      " '10.07.2017']\n",
      "near \"TÜV\": syntax error\n",
      "Error during translating/writing Information to DB at: 970\n",
      "['241993395'\n",
      " 'https://suchen.mobile.de/fahrzeuge/details.html?id=241993395&damageUnrepaired=NO_DAMAGE_UNREPAIRED&isSearchRequest=true&maxPrice=300&minPrice=0&pageNumber=50&scopeId=C&sortOption.sortBy=creationTime&sortOption.sortOrder=DESCENDING&fnai=next'\n",
      " ' href9hrefMitsubishi Colt 1.3 Comfort \"EURO3\"\"151KM\"hrefInserat online seit 06.07.2017 20:26href149 €hrefEZ 02/2002, 151.000\\xa0km, 60\\xa0kW\\xa0(82\\xa0PS)hrefLimousine, hrefUnfallfreihref, Benzin, Schaltgetriebe, HU 05/2017, 2/3 Türenhref≈\\u20096,6\\u2009l/100km (komb.), ≈\\u2009156\\u2009g CO₂/km (komb.)hrefKfz-Handel Samir Ferhatovichref(href4href)hrefDE-83026 ROSENHEIM, HändlerhrefFinanzierunghref, hrefVersicherunghrefGeparkthrefParkenhrefKontakt'\n",
      " '06.07.2017']\n",
      "near \"EURO3\": syntax error\n"
     ]
    }
   ],
   "source": [
    "scraping.scrapeWithID()"
   ]
  },
  {
   "cell_type": "code",
   "execution_count": 57,
   "metadata": {
    "collapsed": true
   },
   "outputs": [],
   "source": [
    "someString = ' href11hrefFord Focus Trend \"Euro 3\"hrefInserat online seit 23.07.2017 12:28href299 €hrefEZ 04/1999, 180.500\\xa0km, 85\\xa0kW\\xa0(116\\xa0PS)hrefLimousine, Benzin, Schaltgetriebe, HU 04/2017, 2/3 Türenhref≈\\u20097,6\\u2009l/100km (komb.), ≈\\u2009181\\u2009g CO₂/km (komb.)hrefZimmermannhref(href41href)hrefDE-88046 Friedrichshafen, HändlerhrefFinanzierunghref, hrefVersicherunghrefGeparkthrefParkenhrefKontakt'"
   ]
  },
  {
   "cell_type": "code",
   "execution_count": 58,
   "metadata": {
    "collapsed": false
   },
   "outputs": [
    {
     "data": {
      "text/plain": [
       "' href11hrefFord Focus Trend **Euro 3**hrefInserat online seit 23.07.2017 12:28href299 €hrefEZ 04/1999, 180.500\\xa0km, 85\\xa0kW\\xa0(116\\xa0PS)hrefLimousine, Benzin, Schaltgetriebe, HU 04/2017, 2/3 Türenhref≈\\u20097,6\\u2009l/100km (komb.), ≈\\u2009181\\u2009g CO₂/km (komb.)hrefZimmermannhref(href41href)hrefDE-88046 Friedrichshafen, HändlerhrefFinanzierunghref, hrefVersicherunghrefGeparkthrefParkenhrefKontakt'"
      ]
     },
     "execution_count": 58,
     "metadata": {},
     "output_type": "execute_result"
    }
   ],
   "source": [
    "someString.replace('\"', '**')"
   ]
  },
  {
   "cell_type": "code",
   "execution_count": 39,
   "metadata": {
    "collapsed": false,
    "scrolled": true
   },
   "outputs": [
    {
     "name": "stdout",
     "output_type": "stream",
     "text": [
      "0 (107, 4)\n",
      "1 (763, 4)\n",
      "763\n"
     ]
    }
   ],
   "source": [
    "#payload = {'scopeId': ['C', 'C'],\n",
    "#           'damageUnrepaired': 'NO_DAMAGE_UNREPAIRED',\n",
    "#           'isSearchRequest': 'true',\n",
    "#           'sortOption.sortBy': 'creationTime',\n",
    "#           'sortOption.sortOrder': 'DESCENDING'}\n",
    "\n",
    "def getAdIdList(searchPage, priceStepList, DB):\n",
    "    payload=dict()\n",
    "    dataIDs = np.zeros([0, 4])\n",
    "    dbDataIDs = np.array(DB.execute(\"\"\"SELECT adID from car\"\"\")) # ToDo: make a variable out of the name of the DB\n",
    "\n",
    "    for step in range(len(priceStepList)-1):\n",
    "        payload['minPrice'] = priceStepList[step]\n",
    "        payload['maxPrice'] = priceStepList[step+1]\n",
    "\n",
    "        for i in range(50): # 50 is the maximum possible number of pages\n",
    "            payload['pageNumber'] = i+1\n",
    "            req = requests.get(searchPage, params=payload) # create searchPageURL\n",
    "\n",
    "            soup = BeautifulSoup(req.text, \"lxml\")\n",
    "            for link in soup.find_all('a'):\n",
    "                if link.has_attr('data-ad-id') and int(link['data-ad-id']) not in dbDataIDs:\n",
    "\n",
    "                    if dataIDs.shape[0] == 0 or link['data-ad-id'] not in dataIDs[:, 0]:\n",
    "                        onPos = link.get_text('href').find('online seit ')\n",
    "                        onlineSince = link.get_text('href')[onPos+12 : onPos+22]\n",
    "                        dataIDs = np.vstack([dataIDs, [link['data-ad-id'], link['href'], link.get_text('href'), onlineSince]])\n",
    "        print( step, dataIDs.shape )\n",
    "        \n",
    "    return dataIDs\n",
    "        \n",
    "        \n",
    "dataIDs = getAdIdList(searchPage, [0, 100, 200], database)\n",
    "print(len(dataIDs))"
   ]
  },
  {
   "cell_type": "code",
   "execution_count": 23,
   "metadata": {
    "collapsed": false
   },
   "outputs": [
    {
     "data": {
      "text/plain": [
       "array([[130918008],\n",
       "       [198987495],\n",
       "       [225012466],\n",
       "       ..., \n",
       "       [248088793],\n",
       "       [248088819],\n",
       "       [248088850]])"
      ]
     },
     "execution_count": 23,
     "metadata": {},
     "output_type": "execute_result"
    }
   ],
   "source": [
    "dbDataIDs = np.array(database.execute(\"\"\"SELECT adID from car\"\"\")) # ToDo: make a variable out of the name of the DB\n",
    "dbDataIDs"
   ]
  },
  {
   "cell_type": "code",
   "execution_count": 36,
   "metadata": {
    "collapsed": false
   },
   "outputs": [
    {
     "name": "stderr",
     "output_type": "stream",
     "text": [
      "C:\\Users\\Florian\\Anaconda2\\envs\\ipykernel_py3\\lib\\site-packages\\ipykernel_launcher.py:1: FutureWarning: elementwise comparison failed; returning scalar instead, but in the future will perform elementwise comparison\n",
      "  \"\"\"Entry point for launching an IPython kernel.\n"
     ]
    },
    {
     "data": {
      "text/plain": [
       "False"
      ]
     },
     "execution_count": 36,
     "metadata": {},
     "output_type": "execute_result"
    }
   ],
   "source": [
    "'248269787' in np.ones([0, 4])#dataIDs[:, 0]"
   ]
  },
  {
   "cell_type": "code",
   "execution_count": 31,
   "metadata": {
    "collapsed": false
   },
   "outputs": [
    {
     "data": {
      "text/plain": [
       "array(['248269787', '248267306', '248264575', '248252813', '246252021',\n",
       "       '244467187', '248174697', '248171857', '248148941', '248144493',\n",
       "       '248109072', '248096330', '248043051', '248037885', '248023448',\n",
       "       '248023132', '247639279', '248001578', '247998463', '247956139',\n",
       "       '246383095', '247875251', '247874602', '247874018', '247843047',\n",
       "       '247836580', '247828802', '247795217', '247697745', '247604053',\n",
       "       '247592974', '247590114', '247589077', '247564920', '247525545',\n",
       "       '247524576', '247522826', '247431201', '247413157', '246551441',\n",
       "       '247393462', '247392745', '247355769', '247351657', '247322635',\n",
       "       '247320569', '247314188', '247301288', '247293613', '247251769',\n",
       "       '247236342', '247213399', '246890093', '246860053', '246806549',\n",
       "       '246795228', '246764470', '246741763', '246740939', '246703292',\n",
       "       '246612414', '246566321', '246496416', '246384941', '246367408',\n",
       "       '246354921', '246243883', '246188097', '246149836', '246112547',\n",
       "       '245940456', '245851845', '245830336', '245705074', '244712111',\n",
       "       '245678948', '245668074', '245668051', '245600976', '245494786',\n",
       "       '245435509', '245393991', '245350103', '245257980', '245212285',\n",
       "       '245212204', '245155231', '245060000', '244877156', '244777738',\n",
       "       '244620569', '236747339', '244199539', '244171583', '243770363',\n",
       "       '243560023', '243284212', '243273679', '243247055', '243147080',\n",
       "       '242693045', '242484138', '241051126', '239944377', '238344129',\n",
       "       '238011029', '227097070'],\n",
       "      dtype='<U423')"
      ]
     },
     "execution_count": 31,
     "metadata": {},
     "output_type": "execute_result"
    }
   ],
   "source": [
    "dataIDs[:, 0]"
   ]
  },
  {
   "cell_type": "code",
   "execution_count": null,
   "metadata": {
    "collapsed": true
   },
   "outputs": [],
   "source": []
  },
  {
   "cell_type": "code",
   "execution_count": 35,
   "metadata": {
    "collapsed": false,
    "scrolled": true
   },
   "outputs": [],
   "source": [
    "allInfos = utils.getInfoFromPage(dataIDs[0, 1])"
   ]
  },
  {
   "cell_type": "code",
   "execution_count": 36,
   "metadata": {
    "collapsed": false
   },
   "outputs": [
    {
     "data": {
      "text/plain": [
       "'ich hatte ihn während meines Bauvorhabens, am Caddy funktioniert alles, aber der Rost hat ihn stark zugesetzt. deshalb an Bastler. Rest TÜV bis Oktober 2017. \\r\\nübrigens: http://www.bussgeld-info.de/bussgeldkatalog-tuev-papiere/\\r\\n2-4 Monate ohne TÜV 15€; 4-8 Monate 25€, ab 8 gibts Punkte ;-)\\r\\nAch und nur nebenbei für die Sparfüchse: oben steht Verbrauch 5,9l/100km, der fährt bei mir mit etwa 5,2 Liter\\r\\nDer Caddy ist angemeldet und kann mit meiner Zulassung gegen 100€ Kaution überführt werden.\\r\\nIch bin zurzeit in Elternzeit und daher fast immer Daheim. einfach anrufen'"
      ]
     },
     "execution_count": 36,
     "metadata": {},
     "output_type": "execute_result"
    }
   ],
   "source": [
    "allInfos['description']"
   ]
  },
  {
   "cell_type": "code",
   "execution_count": 37,
   "metadata": {
    "collapsed": false,
    "scrolled": true
   },
   "outputs": [
    {
     "data": {
      "text/plain": [
       "{'ad': {'condition': 'USED',\n",
       "  'currency': 'EUR',\n",
       "  'price': '399',\n",
       "  'specifics': {'make': 'Volkswagen', 'model': 'Caddy'}},\n",
       " 'adCondition': 'USED',\n",
       " 'adCurrency': 'EUR',\n",
       " 'adFirstRegMonth': '7',\n",
       " 'adFirstRegYear': '2000',\n",
       " 'adId': 248088793,\n",
       " 'adImage': 'https://i.ebayimg.com/00/s/OTAwWDE2MDA=/z/0N8AAOSwrk5Zey9u/$_23.JPG',\n",
       " 'adImageBase64': 'aHR0cHM6Ly9pLmViYXlpbWcuY29tLzAwL3MvT1RBd1dERTJNREE9L3ovME44QUFPU3dyazVaZXk5dS8k',\n",
       " 'adPrice': '399',\n",
       " 'adSegment': 'Car',\n",
       " 'adSpecificsFuel': 'DIESEL',\n",
       " 'adSpecificsMake': 'Volkswagen',\n",
       " 'adSpecificsMakeId': 25200,\n",
       " 'adSpecificsMakeModel': 'Volkswagen Caddy',\n",
       " 'adSpecificsMakeModelBase64': 'Vm9sa3N3YWdlbiBDYWRkeQ==',\n",
       " 'adSpecificsModel': 'Caddy',\n",
       " 'adSpecificsModelDescription': 'Caddy SDI 9K LKW',\n",
       " 'adSpecificsModelId': 9,\n",
       " 'airbag': 'No Information',\n",
       " 'category': 'Van / Minibus',\n",
       " 'climatisation': 'No Information',\n",
       " 'countryVersion': 'No Information',\n",
       " 'cubicCapacity': '1.896\\xa0cm³',\n",
       " 'dealerCity': 'Westhausen',\n",
       " 'dealerCountry': 'DE',\n",
       " 'dealerZip': '98663',\n",
       " 'description': 'ich hatte ihn während meines Bauvorhabens, am Caddy funktioniert alles, aber der Rost hat ihn stark zugesetzt. deshalb an Bastler. Rest TÜV bis Oktober 2017. \\r\\nübrigens: http://www.bussgeld-info.de/bussgeldkatalog-tuev-papiere/\\r\\n2-4 Monate ohne TÜV 15€; 4-8 Monate 25€, ab 8 gibts Punkte ;-)\\r\\nAch und nur nebenbei für die Sparfüchse: oben steht Verbrauch 5,9l/100km, der fährt bei mir mit etwa 5,2 Liter\\r\\nDer Caddy ist angemeldet und kann mit meiner Zulassung gegen 100€ Kaution überführt werden.\\r\\nIch bin zurzeit in Elternzeit und daher fast immer Daheim. einfach anrufen',\n",
       " 'doorCount': '2/3',\n",
       " 'emissionsSticker': 'No Information',\n",
       " 'envkv.consumption': '≈\\u20095,9\\u2009l/100km (kombiniert)≈\\u20097,5\\u2009l/100km (innerorts)≈\\u20095,0\\u2009l/100km (außerorts)',\n",
       " 'envkv.emission': '≈\\u2009159\\u2009g/km (kombiniert)',\n",
       " 'featureVariants': {},\n",
       " 'features': 'Ausstattung, Anhängerkupplung, Elektr. Wegfahrsperre, Servolenkung',\n",
       " 'firstRegistration': '07/2000',\n",
       " 'firstSeen': '28.07.2017',\n",
       " 'fuel': 'Diesel',\n",
       " 'hu': '11/2017',\n",
       " 'interior': 'Stoff, Grau',\n",
       " 'isDealer': False,\n",
       " 'lastSeen': '<built-in method date of datetime.datetime object at 0x000001B2C3581B70>',\n",
       " 'manufacturerColorName': 'No Information',\n",
       " 'mileage': '249.327\\xa0km',\n",
       " 'numSeats': '2',\n",
       " 'numberOfPreviousOwners': '4',\n",
       " 'parkAssist': 'No Information',\n",
       " 'power': '47\\xa0kW\\xa0(64\\xa0PS)',\n",
       " 'rbt-color': 'No Information',\n",
       " 'sellerType': 'FSBO',\n",
       " 'transmission': 'Schaltgetriebe',\n",
       " 'usersIpAddress': '84.153.133.0'}"
      ]
     },
     "execution_count": 37,
     "metadata": {},
     "output_type": "execute_result"
    }
   ],
   "source": [
    "allInfos['firstSeen'] = dataIDs[0][3]\n",
    "allInfos['lastSeen'] = str(datetime.datetime.now().date)\n",
    "allInfos"
   ]
  },
  {
   "cell_type": "code",
   "execution_count": null,
   "metadata": {
    "collapsed": true
   },
   "outputs": [],
   "source": []
  },
  {
   "cell_type": "code",
   "execution_count": 60,
   "metadata": {
    "collapsed": false
   },
   "outputs": [],
   "source": [
    "def getSourceCode(page):\n",
    "\n",
    "    # try to open web page\n",
    "    try:\n",
    "        req = requests.get(page)\n",
    "        response = req.text\n",
    "    except Exception as e:\n",
    "        return \"Loading the web page has failed: \", e\n",
    "\n",
    "    # initialize soup\n",
    "    soup = BeautifulSoup(response, 'lxml')\n",
    "    siteInfo = soup.decode()\n",
    "    \n",
    "    return soup, siteInfo\n",
    "\n",
    "soup, sourceCode = getSourceCode(searchPage+'2')"
   ]
  },
  {
   "cell_type": "code",
   "execution_count": 61,
   "metadata": {
    "collapsed": false,
    "scrolled": false
   },
   "outputs": [
    {
     "name": "stdout",
     "output_type": "stream",
     "text": [
      "n></li><li class=\"pref-next u-valign-sub\"><span class=\"btn btn--orange btn--s next-resultitems-page rbt-page-forward\" data-href=\"https://suchen.mobile.de/fahrzeuge/search.html?damageUnrepaired=NO_DAMAGE_UNREPAIRED&amp;isSearchRequest=true&amp;pageNumber=3&amp;scopeId=C&amp;sortOption.sortBy=creationTime&amp;sortOption.sortOrder=DESCENDING\" data-target=\"default\" data-touch=\"link\" title=\"Zur nächsten Seite\">Weitere Treffer<i class=\"gicon-next-white-s icon--s\"></i></span></li></ul></div></div>\n",
      "<div class=\"adv D_88_LOWER_SBANNER_de\" id=\"D_88_LOWER_SBANNER\">\n",
      "<div class=\"ad_container\" id=\"D_88_LOWER_SBANNER-container\" style=\"width:auto\">\n",
      "<script type=\"text/javascript\">\n",
      "            googletag.cmd.push(function() {\n",
      "                googletag.display('D_88_LOWER_SBANNER-container');\n",
      "            });\n",
      "        </script>\n",
      "</div>\n",
      "</div>\n",
      "<div class=\"cBox cBox--content\" id=\"motorTalkPromoBox\"><div class=\"cBox-header\"><h2 class=\"h3\">MOTOR-TALK</h2><hr/></div><div class=\"cBox-body\"><div class=\"g-row\"><div class=\"g-col-8\"><h3 class=\"promo u-margin-bottom-18\">Alles rund ums Auto und Antworten auf Deine Frag\n"
     ]
    }
   ],
   "source": [
    "position = sourceCode.find('rbt-page-forward')\n",
    "print(sourceCode[position-100:position+1000])"
   ]
  },
  {
   "cell_type": "code",
   "execution_count": 78,
   "metadata": {
    "collapsed": false,
    "scrolled": true
   },
   "outputs": [
    {
     "name": "stdout",
     "output_type": "stream",
     "text": [
      "{'class': ['claim']}\n",
      "{}\n",
      "{'class': ['header-nav-link', 'header-nav-link-toggle', 'mde-react-header__dropdown-toggle'], 'data-se': 'header-nav-link-toggle__hdsrch', 'tabindex': '0', 'data-js-header-toggle': 'true'}\n",
      "{'class': ['font-gibson-semibold']}\n",
      "{'class': ['header-nav-link', 'header-nav-link-toggle', 'mde-react-header__dropdown-toggle'], 'data-se': 'header-nav-link-toggle__hdoff', 'tabindex': '0', 'data-js-header-toggle': 'true'}\n",
      "{'class': ['font-gibson-semibold']}\n",
      "{'class': ['header-nav-link', 'header-nav-link-toggle', 'mde-react-header__dropdown-toggle'], 'data-se': 'header-nav-link-toggle__hdinf', 'tabindex': '0', 'data-js-header-toggle': 'true'}\n",
      "{'class': ['font-gibson-semibold']}\n",
      "{'class': ['header-meta-action', 'header-meta-action-toggle', 'mde-react-header__dropdown-toggle'], 'data-js-header-toggle': 'true', 'tabindex': '0', 'data-se': 'header-meta__dealer-menu'}\n",
      "{}\n",
      "{'class': ['header-meta-action', 'header-meta-action-toggle', 'mde-react-header__dropdown-toggle'], 'data-js-header-toggle': 'true', 'tabindex': '0', 'data-se': 'header-meta-action-toggle__language'}\n",
      "{}\n",
      "{}\n",
      "{'id': 'hdmy', 'class': ['header-meta-action', 'header-meta-action-toggle', 'mde-react-header__dropdown-toggle'], 'data-js-header-toggle': 'true', 'tabindex': '0', 'data-se': 'header-meta-action-toggle__my-mobile-link'}\n",
      "{}\n",
      "{'class': ['u-margin-right-9', 'rbt-social-share'], 'data-social-share-widget': ''}\n",
      "{'class': ['saveSearchLink']}\n",
      "{'class': ['savedSearchSuccess', 'u-text-green', 'u-hide']}\n",
      "{'class': ['cBox-btn-close', 'btn--close']}\n",
      "{'class': ['link']}\n",
      "{'class': ['link']}\n",
      "{'class': ['hit-counter']}\n",
      "{'class': ['link']}\n",
      "{'class': ['link']}\n",
      "{'class': ['link']}\n",
      "{'class': ['link']}\n",
      "{'class': ['link']}\n",
      "{'class': ['color-selected', 'BEIGE']}\n",
      "{'class': ['color-selected', 'BLACK']}\n",
      "{'class': ['color-selected', 'BLUE']}\n",
      "{'class': ['color-selected', 'BROWN']}\n",
      "{'class': ['color-selected', 'GOLD']}\n",
      "{'class': ['color-selected', 'GREEN']}\n",
      "{'class': ['color-selected', 'GREY']}\n",
      "{'class': ['color-selected', 'ORANGE']}\n",
      "{'class': ['color-selected', 'PURPLE']}\n",
      "{'class': ['color-selected', 'RED']}\n",
      "{'class': ['color-selected', 'SILVER']}\n",
      "{'class': ['color-selected', 'WHITE']}\n",
      "{'class': ['color-selected', 'YELLOW']}\n",
      "{'class': ['tooltip-wrapper'], 'data-tooltip': 'seller-rating-info', 'data-position': 'top', 'data-alignment': 'left'}\n",
      "{'class': ['u-margin-right-9']}\n",
      "{'class': ['star-rating-s', 'u-valign-middle', 'u-margin-right-9'], 'data-rating': '3'}\n",
      "{'class': ['u-margin-right-9']}\n",
      "{'class': ['star-rating-s', 'u-valign-middle', 'u-margin-right-9'], 'data-rating': '4'}\n",
      "{'class': ['star-rating-s', 'u-valign-middle', 'u-margin-right-9'], 'data-rating': '5'}\n",
      "{'class': ['hit-counter']}\n",
      "{'class': ['cBox-make-model-wrapper'], 'data-unselectedtext': 'Beliebig'}\n",
      "{'id': 'count'}\n",
      "{'id': 'count'}\n",
      "{'class': ['hit-counter']}\n",
      "{'class': ['hit-counter']}\n",
      "{'class': ['hit-counter']}\n",
      "{'class': ['hit-counter']}\n",
      "{'class': ['label-text']}\n",
      "{'class': ['label-text']}\n",
      "{'class': ['label-text']}\n",
      "{'class': ['label-text']}\n",
      "{'class': ['label-text']}\n",
      "{'class': ['label-text']}\n",
      "{'class': ['label-text']}\n",
      "{'class': ['label-text']}\n",
      "{'class': ['hit-counter']}\n",
      "{'class': ['hit-counter']}\n",
      "{'class': ['label-text']}\n",
      "{'class': ['video-display', 'u-text-orange']}\n",
      "{'class': ['numImages-display', 'u-text-white']}\n",
      "{'class': ['h3', 'u-text-break-word']}\n",
      "{'class': ['u-block', 'u-pad-top-9', 'rbt-onlineSince']}\n",
      "{'class': ['h3', 'u-block']}\n",
      "{'class': ['u-block']}\n",
      "{'class': ['u-margin-right-9']}\n",
      "{'class': ['mde-rating', 'mde-rating--s']}\n",
      "{'class': ['star-rating-s', 'u-valign-middle', 'u-margin-right-9'], 'data-rating': '3.9'}\n",
      "{'class': ['amount-of-ratings']}\n",
      "{'class': ['link--muted', 'rbt-financing-link'], 'data-touch': 'link', 'data-href': 'https://suchen.mobile.de/fahrzeuge/financingLandingpage.html?id=242218273&entrypoint=vehicle-search', 'data-target': 'blank'}\n",
      "{'class': ['link--muted', 'rbt-insurance-link'], 'data-touch': 'link', 'data-href': 'https://suchen.mobile.de/fahrzeuge/insuranceLandingpage.html?id=242218273&entrypoint=vehicle-search', 'data-target': 'blank'}\n",
      "{'class': ['btn', 'btn--success', 'btn--unpark', 'btn--s']}\n",
      "{'class': ['btn', 'btn--muted', 'btn--park', 'btn--s']}\n",
      "{'class': ['btn', 'btn--orange', 'btn--s', 'contact-button', 'mailCtaEventTrigger'], 'title': 'E-Mail senden', 'data-touch': 'link', 'data-href': 'https://suchen.mobile.de/fahrzeuge/details.html?id=242218273&damageUnrepaired=NO_DAMAGE_UNREPAIRED&isSearchRequest=true&pageNumber=2&scopeId=C&sortOption.sortBy=creationTime&sortOption.sortOrder=DESCENDING&action=topOfPage&top=1 : 1#scrollTo=contact-form', 'data-target': 'default'}\n",
      "{}\n",
      "{'class': ['btn', 'btn--s', 'btn--carousel-control']}\n",
      "{'class': ['btn', 'btn--s', 'btn--carousel-control']}\n",
      "{'class': ['numImages-display', 'u-text-white']}\n",
      "{'class': ['new-headline-label']}\n",
      "{'class': ['h3', 'u-text-break-word']}\n",
      "{'class': ['u-block', 'u-pad-top-9', 'rbt-onlineSince']}\n",
      "{'class': ['h3', 'u-block']}\n",
      "{'class': ['link--muted', 'rbt-financing-link'], 'data-touch': 'link', 'data-href': 'https://suchen.mobile.de/fahrzeuge/financingLandingpage.html?id=248271940&entrypoint=vehicle-search', 'data-target': 'blank'}\n",
      "{'class': ['link--muted', 'rbt-insurance-link'], 'data-touch': 'link', 'data-href': 'https://suchen.mobile.de/fahrzeuge/insuranceLandingpage.html?id=248271940&entrypoint=vehicle-search', 'data-target': 'blank'}\n",
      "{'class': ['btn', 'btn--success', 'btn--unpark', 'btn--s']}\n",
      "{'class': ['btn', 'btn--muted', 'btn--park', 'btn--s']}\n",
      "{'class': ['btn', 'btn--orange', 'btn--s', 'contact-button', 'mailCtaEventTrigger'], 'title': 'E-Mail senden', 'data-touch': 'link', 'data-href': 'https://suchen.mobile.de/fahrzeuge/details.html?id=248271940&damageUnrepaired=NO_DAMAGE_UNREPAIRED&isSearchRequest=true&pageNumber=2&scopeId=C&sortOption.sortBy=creationTime&sortOption.sortOrder=DESCENDING&fnai=prev#scrollTo=contact-form', 'data-target': 'default'}\n",
      "{'class': ['numImages-display', 'u-text-white']}\n",
      "{'class': ['new-headline-label']}\n",
      "{'class': ['h3', 'u-text-break-word']}\n",
      "{'class': ['u-block', 'u-pad-top-9', 'rbt-onlineSince']}\n",
      "{'class': ['h3', 'u-block']}\n",
      "{'class': ['u-margin-right-9']}\n",
      "{'class': ['mde-rating', 'mde-rating--s']}\n",
      "{'class': ['star-rating-s', 'u-valign-middle', 'u-margin-right-9'], 'data-rating': '5'}\n",
      "{'class': ['amount-of-ratings']}\n",
      "{'class': ['link--muted', 'rbt-financing-link'], 'data-touch': 'link', 'data-href': 'https://suchen.mobile.de/fahrzeuge/financingLandingpage.html?id=248271939&entrypoint=vehicle-search', 'data-target': 'blank'}\n",
      "{'class': ['link--muted', 'rbt-insurance-link'], 'data-touch': 'link', 'data-href': 'https://suchen.mobile.de/fahrzeuge/insuranceLandingpage.html?id=248271939&entrypoint=vehicle-search', 'data-target': 'blank'}\n",
      "{'class': ['btn', 'btn--success', 'btn--unpark', 'btn--s']}\n",
      "{'class': ['btn', 'btn--muted', 'btn--park', 'btn--s']}\n",
      "{'class': ['btn', 'btn--orange', 'btn--s', 'contact-button', 'mailCtaEventTrigger'], 'title': 'E-Mail senden', 'data-touch': 'link', 'data-href': 'https://suchen.mobile.de/fahrzeuge/details.html?id=248271939&damageUnrepaired=NO_DAMAGE_UNREPAIRED&isSearchRequest=true&pageNumber=2&scopeId=C&sortOption.sortBy=creationTime&sortOption.sortOrder=DESCENDING#scrollTo=contact-form', 'data-target': 'default'}\n",
      "{'class': ['numImages-display', 'u-text-white']}\n",
      "{'class': ['new-headline-label']}\n",
      "{'class': ['h3', 'u-text-break-word']}\n",
      "{'class': ['u-block', 'u-pad-top-9', 'rbt-onlineSince']}\n",
      "{'class': ['h3', 'u-block']}\n",
      "{'class': ['link--muted', 'rbt-financing-link'], 'data-touch': 'link', 'data-href': 'https://suchen.mobile.de/fahrzeuge/financingLandingpage.html?id=248271938&entrypoint=vehicle-search', 'data-target': 'blank'}\n",
      "{'class': ['link--muted', 'rbt-insurance-link'], 'data-touch': 'link', 'data-href': 'https://suchen.mobile.de/fahrzeuge/insuranceLandingpage.html?id=248271938&entrypoint=vehicle-search', 'data-target': 'blank'}\n",
      "{'class': ['btn', 'btn--success', 'btn--unpark', 'btn--s']}\n",
      "{'class': ['btn', 'btn--muted', 'btn--park', 'btn--s']}\n",
      "{'class': ['btn', 'btn--orange', 'btn--s', 'contact-button', 'mailCtaEventTrigger'], 'title': 'E-Mail senden', 'data-touch': 'link', 'data-href': 'https://suchen.mobile.de/fahrzeuge/details.html?id=248271938&damageUnrepaired=NO_DAMAGE_UNREPAIRED&isSearchRequest=true&pageNumber=2&scopeId=C&sortOption.sortBy=creationTime&sortOption.sortOrder=DESCENDING#scrollTo=contact-form', 'data-target': 'default'}\n",
      "{'class': ['numImages-display', 'u-text-white']}\n",
      "{'class': ['new-headline-label']}\n",
      "{'class': ['h3', 'u-text-break-word']}\n",
      "{'class': ['u-block', 'u-pad-top-9', 'rbt-onlineSince']}\n",
      "{'class': ['h3', 'u-block']}\n",
      "{'class': ['u-margin-right-9']}\n",
      "{'class': ['mde-rating', 'mde-rating--s']}\n",
      "{'class': ['star-rating-s', 'u-valign-middle', 'u-margin-right-9'], 'data-rating': '5'}\n",
      "{'class': ['amount-of-ratings']}\n",
      "{'class': ['link--muted', 'rbt-financing-link'], 'data-touch': 'link', 'data-href': 'https://suchen.mobile.de/fahrzeuge/financingLandingpage.html?id=248271937&entrypoint=vehicle-search', 'data-target': 'blank'}\n",
      "{'class': ['link--muted', 'rbt-insurance-link'], 'data-touch': 'link', 'data-href': 'https://suchen.mobile.de/fahrzeuge/insuranceLandingpage.html?id=248271937&entrypoint=vehicle-search', 'data-target': 'blank'}\n",
      "{'class': ['btn', 'btn--success', 'btn--unpark', 'btn--s']}\n",
      "{'class': ['btn', 'btn--muted', 'btn--park', 'btn--s']}\n",
      "{'class': ['btn', 'btn--orange', 'btn--s', 'contact-button', 'mailCtaEventTrigger'], 'title': 'E-Mail senden', 'data-touch': 'link', 'data-href': 'https://suchen.mobile.de/fahrzeuge/details.html?id=248271937&damageUnrepaired=NO_DAMAGE_UNREPAIRED&isSearchRequest=true&pageNumber=2&scopeId=C&sortOption.sortBy=creationTime&sortOption.sortOrder=DESCENDING#scrollTo=contact-form', 'data-target': 'default'}\n",
      "{'class': ['numImages-display', 'u-text-white']}\n",
      "{'class': ['new-headline-label']}\n",
      "{'class': ['h3', 'u-text-break-word']}\n",
      "{'class': ['u-block', 'u-pad-top-9', 'rbt-onlineSince']}\n",
      "{'class': ['h3', 'u-block']}\n",
      "{'class': ['link--muted', 'rbt-financing-link'], 'data-touch': 'link', 'data-href': 'https://suchen.mobile.de/fahrzeuge/financingLandingpage.html?id=248271936&entrypoint=vehicle-search', 'data-target': 'blank'}\n",
      "{'class': ['link--muted', 'rbt-insurance-link'], 'data-touch': 'link', 'data-href': 'https://suchen.mobile.de/fahrzeuge/insuranceLandingpage.html?id=248271936&entrypoint=vehicle-search', 'data-target': 'blank'}\n",
      "{'class': ['btn', 'btn--success', 'btn--unpark', 'btn--s']}\n",
      "{'class': ['btn', 'btn--muted', 'btn--park', 'btn--s']}\n",
      "{'class': ['btn', 'btn--orange', 'btn--s', 'contact-button', 'mailCtaEventTrigger'], 'title': 'E-Mail senden', 'data-touch': 'link', 'data-href': 'https://suchen.mobile.de/fahrzeuge/details.html?id=248271936&damageUnrepaired=NO_DAMAGE_UNREPAIRED&isSearchRequest=true&pageNumber=2&scopeId=C&sortOption.sortBy=creationTime&sortOption.sortOrder=DESCENDING#scrollTo=contact-form', 'data-target': 'default'}\n",
      "{'class': ['numImages-display', 'u-text-white']}\n",
      "{'class': ['new-headline-label']}\n",
      "{'class': ['h3', 'u-text-break-word']}\n",
      "{'class': ['u-block', 'u-pad-top-9', 'rbt-onlineSince']}\n",
      "{'class': ['h3', 'u-block']}\n",
      "{'class': ['link--muted', 'rbt-financing-link'], 'data-touch': 'link', 'data-href': 'https://suchen.mobile.de/fahrzeuge/financingLandingpage.html?id=248271935&entrypoint=vehicle-search', 'data-target': 'blank'}\n",
      "{'class': ['link--muted', 'rbt-insurance-link'], 'data-touch': 'link', 'data-href': 'https://suchen.mobile.de/fahrzeuge/insuranceLandingpage.html?id=248271935&entrypoint=vehicle-search', 'data-target': 'blank'}\n",
      "{'class': ['btn', 'btn--success', 'btn--unpark', 'btn--s']}\n",
      "{'class': ['btn', 'btn--muted', 'btn--park', 'btn--s']}\n",
      "{'class': ['btn', 'btn--orange', 'btn--s', 'contact-button', 'mailCtaEventTrigger'], 'title': 'E-Mail senden', 'data-touch': 'link', 'data-href': 'https://suchen.mobile.de/fahrzeuge/details.html?id=248271935&damageUnrepaired=NO_DAMAGE_UNREPAIRED&isSearchRequest=true&pageNumber=2&scopeId=C&sortOption.sortBy=creationTime&sortOption.sortOrder=DESCENDING#scrollTo=contact-form', 'data-target': 'default'}\n",
      "{'class': ['numImages-display', 'u-text-white']}\n",
      "{'class': ['new-headline-label']}\n",
      "{'class': ['h3', 'u-text-break-word']}\n",
      "{'class': ['u-block', 'u-pad-top-9', 'rbt-onlineSince']}\n",
      "{'class': ['h3', 'u-block']}\n",
      "{'class': ['u-margin-right-9']}\n",
      "{'class': ['mde-rating', 'mde-rating--s']}\n",
      "{'class': ['star-rating-s', 'u-valign-middle', 'u-margin-right-9'], 'data-rating': '5'}\n",
      "{'class': ['amount-of-ratings']}\n",
      "{'class': ['link--muted', 'rbt-financing-link'], 'data-touch': 'link', 'data-href': 'https://suchen.mobile.de/fahrzeuge/financingLandingpage.html?id=248271933&entrypoint=vehicle-search', 'data-target': 'blank'}\n",
      "{'class': ['link--muted', 'rbt-insurance-link'], 'data-touch': 'link', 'data-href': 'https://suchen.mobile.de/fahrzeuge/insuranceLandingpage.html?id=248271933&entrypoint=vehicle-search', 'data-target': 'blank'}\n",
      "{'class': ['btn', 'btn--success', 'btn--unpark', 'btn--s']}\n",
      "{'class': ['btn', 'btn--muted', 'btn--park', 'btn--s']}\n",
      "{'class': ['btn', 'btn--orange', 'btn--s', 'contact-button', 'mailCtaEventTrigger'], 'title': 'E-Mail senden', 'data-touch': 'link', 'data-href': 'https://suchen.mobile.de/fahrzeuge/details.html?id=248271933&damageUnrepaired=NO_DAMAGE_UNREPAIRED&isSearchRequest=true&pageNumber=2&scopeId=C&sortOption.sortBy=creationTime&sortOption.sortOrder=DESCENDING#scrollTo=contact-form', 'data-target': 'default'}\n",
      "{'class': ['numImages-display', 'u-text-white']}\n",
      "{'class': ['new-headline-label']}\n",
      "{'class': ['h3', 'u-text-break-word']}\n",
      "{'class': ['u-block', 'u-pad-top-9', 'rbt-onlineSince']}\n",
      "{'class': ['h3', 'u-block']}\n",
      "{'class': ['u-margin-right-9']}\n",
      "{'class': ['mde-rating', 'mde-rating--s']}\n",
      "{'class': ['star-rating-s', 'u-valign-middle', 'u-margin-right-9'], 'data-rating': '5'}\n",
      "{'class': ['amount-of-ratings']}\n",
      "{'class': ['link--muted', 'rbt-financing-link'], 'data-touch': 'link', 'data-href': 'https://suchen.mobile.de/fahrzeuge/financingLandingpage.html?id=248271932&entrypoint=vehicle-search', 'data-target': 'blank'}\n",
      "{'class': ['link--muted', 'rbt-insurance-link'], 'data-touch': 'link', 'data-href': 'https://suchen.mobile.de/fahrzeuge/insuranceLandingpage.html?id=248271932&entrypoint=vehicle-search', 'data-target': 'blank'}\n",
      "{'class': ['btn', 'btn--success', 'btn--unpark', 'btn--s']}\n",
      "{'class': ['btn', 'btn--muted', 'btn--park', 'btn--s']}\n",
      "{'class': ['btn', 'btn--orange', 'btn--s', 'contact-button', 'mailCtaEventTrigger'], 'title': 'E-Mail senden', 'data-touch': 'link', 'data-href': 'https://suchen.mobile.de/fahrzeuge/details.html?id=248271932&damageUnrepaired=NO_DAMAGE_UNREPAIRED&isSearchRequest=true&pageNumber=2&scopeId=C&sortOption.sortBy=creationTime&sortOption.sortOrder=DESCENDING#scrollTo=contact-form', 'data-target': 'default'}\n",
      "{'class': ['numImages-display', 'u-text-white']}\n",
      "{'class': ['new-headline-label']}\n",
      "{'class': ['h3', 'u-text-break-word']}\n",
      "{'class': ['u-block', 'u-pad-top-9', 'rbt-onlineSince']}\n",
      "{'class': ['h3', 'u-block']}\n",
      "{'class': ['link--muted', 'rbt-financing-link'], 'data-touch': 'link', 'data-href': 'https://suchen.mobile.de/fahrzeuge/financingLandingpage.html?id=248271931&entrypoint=vehicle-search', 'data-target': 'blank'}\n",
      "{'class': ['link--muted', 'rbt-insurance-link'], 'data-touch': 'link', 'data-href': 'https://suchen.mobile.de/fahrzeuge/insuranceLandingpage.html?id=248271931&entrypoint=vehicle-search', 'data-target': 'blank'}\n",
      "{'class': ['btn', 'btn--success', 'btn--unpark', 'btn--s']}\n",
      "{'class': ['btn', 'btn--muted', 'btn--park', 'btn--s']}\n",
      "{'class': ['btn', 'btn--orange', 'btn--s', 'contact-button', 'mailCtaEventTrigger'], 'title': 'E-Mail senden', 'data-touch': 'link', 'data-href': 'https://suchen.mobile.de/fahrzeuge/details.html?id=248271931&damageUnrepaired=NO_DAMAGE_UNREPAIRED&isSearchRequest=true&pageNumber=2&scopeId=C&sortOption.sortBy=creationTime&sortOption.sortOrder=DESCENDING#scrollTo=contact-form', 'data-target': 'default'}\n",
      "{'class': ['new-headline-label']}\n",
      "{'class': ['h3', 'u-text-break-word']}\n",
      "{'class': ['u-block', 'u-pad-top-9', 'rbt-onlineSince']}\n",
      "{'class': ['h3', 'u-block']}\n",
      "{'class': ['u-block']}\n",
      "{'class': ['u-margin-right-9']}\n",
      "{'class': ['mde-rating', 'mde-rating--s']}\n",
      "{'class': ['star-rating-s', 'u-valign-middle', 'u-margin-right-9'], 'data-rating': '4.8'}\n",
      "{'class': ['amount-of-ratings']}\n",
      "{'class': ['link--muted', 'rbt-financing-link'], 'data-touch': 'link', 'data-href': 'https://suchen.mobile.de/fahrzeuge/financingLandingpage.html?id=248271930&entrypoint=vehicle-search', 'data-target': 'blank'}\n",
      "{'class': ['link--muted', 'rbt-insurance-link'], 'data-touch': 'link', 'data-href': 'https://suchen.mobile.de/fahrzeuge/insuranceLandingpage.html?id=248271930&entrypoint=vehicle-search', 'data-target': 'blank'}\n",
      "{'class': ['btn', 'btn--success', 'btn--unpark', 'btn--s']}\n",
      "{'class': ['btn', 'btn--muted', 'btn--park', 'btn--s']}\n",
      "{'class': ['btn', 'btn--orange', 'btn--s', 'contact-button', 'mailCtaEventTrigger'], 'title': 'E-Mail senden', 'data-touch': 'link', 'data-href': 'https://suchen.mobile.de/fahrzeuge/details.html?id=248271930&damageUnrepaired=NO_DAMAGE_UNREPAIRED&isSearchRequest=true&pageNumber=2&scopeId=C&sortOption.sortBy=creationTime&sortOption.sortOrder=DESCENDING#scrollTo=contact-form', 'data-target': 'default'}\n",
      "{'class': ['numImages-display', 'u-text-white']}\n",
      "{'class': ['new-headline-label']}\n",
      "{'class': ['h3', 'u-text-break-word']}\n",
      "{'class': ['u-block', 'u-pad-top-9', 'rbt-onlineSince']}\n",
      "{'class': ['h3', 'u-block']}\n",
      "{'class': ['u-margin-right-9']}\n",
      "{'class': ['mde-rating', 'mde-rating--s']}\n",
      "{'class': ['star-rating-s', 'u-valign-middle', 'u-margin-right-9'], 'data-rating': '5'}\n",
      "{'class': ['amount-of-ratings']}\n",
      "{'class': ['link--muted', 'rbt-financing-link'], 'data-touch': 'link', 'data-href': 'https://suchen.mobile.de/fahrzeuge/financingLandingpage.html?id=248271929&entrypoint=vehicle-search', 'data-target': 'blank'}\n",
      "{'class': ['link--muted', 'rbt-insurance-link'], 'data-touch': 'link', 'data-href': 'https://suchen.mobile.de/fahrzeuge/insuranceLandingpage.html?id=248271929&entrypoint=vehicle-search', 'data-target': 'blank'}\n",
      "{'class': ['btn', 'btn--success', 'btn--unpark', 'btn--s']}\n",
      "{'class': ['btn', 'btn--muted', 'btn--park', 'btn--s']}\n",
      "{'class': ['btn', 'btn--orange', 'btn--s', 'contact-button', 'mailCtaEventTrigger'], 'title': 'E-Mail senden', 'data-touch': 'link', 'data-href': 'https://suchen.mobile.de/fahrzeuge/details.html?id=248271929&damageUnrepaired=NO_DAMAGE_UNREPAIRED&isSearchRequest=true&pageNumber=2&scopeId=C&sortOption.sortBy=creationTime&sortOption.sortOrder=DESCENDING#scrollTo=contact-form', 'data-target': 'default'}\n",
      "{'class': ['numImages-display', 'u-text-white']}\n",
      "{'class': ['new-headline-label']}\n",
      "{'class': ['h3', 'u-text-break-word']}\n",
      "{'class': ['u-block', 'u-pad-top-9', 'rbt-onlineSince']}\n",
      "{'class': ['h3', 'u-block']}\n",
      "{'class': ['link--muted', 'rbt-financing-link'], 'data-touch': 'link', 'data-href': 'https://suchen.mobile.de/fahrzeuge/financingLandingpage.html?id=248271927&entrypoint=vehicle-search', 'data-target': 'blank'}\n",
      "{'class': ['link--muted', 'rbt-insurance-link'], 'data-touch': 'link', 'data-href': 'https://suchen.mobile.de/fahrzeuge/insuranceLandingpage.html?id=248271927&entrypoint=vehicle-search', 'data-target': 'blank'}\n",
      "{'class': ['btn', 'btn--success', 'btn--unpark', 'btn--s']}\n",
      "{'class': ['btn', 'btn--muted', 'btn--park', 'btn--s']}\n",
      "{'class': ['btn', 'btn--orange', 'btn--s', 'contact-button', 'mailCtaEventTrigger'], 'title': 'E-Mail senden', 'data-touch': 'link', 'data-href': 'https://suchen.mobile.de/fahrzeuge/details.html?id=248271927&damageUnrepaired=NO_DAMAGE_UNREPAIRED&isSearchRequest=true&pageNumber=2&scopeId=C&sortOption.sortBy=creationTime&sortOption.sortOrder=DESCENDING#scrollTo=contact-form', 'data-target': 'default'}\n",
      "{'class': ['numImages-display', 'u-text-white']}\n",
      "{'class': ['new-headline-label']}\n",
      "{'class': ['h3', 'u-text-break-word']}\n",
      "{'class': ['u-block', 'u-pad-top-9', 'rbt-onlineSince']}\n",
      "{'class': ['h3', 'u-block']}\n",
      "{'class': ['u-margin-right-9']}\n",
      "{'class': ['mde-rating', 'mde-rating--s']}\n",
      "{'class': ['star-rating-s', 'u-valign-middle', 'u-margin-right-9'], 'data-rating': '5'}\n",
      "{'class': ['amount-of-ratings']}\n",
      "{'class': ['link--muted', 'rbt-financing-link'], 'data-touch': 'link', 'data-href': 'https://suchen.mobile.de/fahrzeuge/financingLandingpage.html?id=248271926&entrypoint=vehicle-search', 'data-target': 'blank'}\n",
      "{'class': ['link--muted', 'rbt-insurance-link'], 'data-touch': 'link', 'data-href': 'https://suchen.mobile.de/fahrzeuge/insuranceLandingpage.html?id=248271926&entrypoint=vehicle-search', 'data-target': 'blank'}\n",
      "{'class': ['btn', 'btn--success', 'btn--unpark', 'btn--s']}\n",
      "{'class': ['btn', 'btn--muted', 'btn--park', 'btn--s']}\n",
      "{'class': ['btn', 'btn--orange', 'btn--s', 'contact-button', 'mailCtaEventTrigger'], 'title': 'E-Mail senden', 'data-touch': 'link', 'data-href': 'https://suchen.mobile.de/fahrzeuge/details.html?id=248271926&damageUnrepaired=NO_DAMAGE_UNREPAIRED&isSearchRequest=true&pageNumber=2&scopeId=C&sortOption.sortBy=creationTime&sortOption.sortOrder=DESCENDING#scrollTo=contact-form', 'data-target': 'default'}\n",
      "{'class': ['numImages-display', 'u-text-white']}\n",
      "{'class': ['new-headline-label']}\n",
      "{'class': ['h3', 'u-text-break-word']}\n",
      "{'class': ['u-block', 'u-pad-top-9', 'rbt-onlineSince']}\n",
      "{'class': ['h3', 'u-block']}\n",
      "{'class': ['link--muted', 'rbt-financing-link'], 'data-touch': 'link', 'data-href': 'https://suchen.mobile.de/fahrzeuge/financingLandingpage.html?id=248271925&entrypoint=vehicle-search', 'data-target': 'blank'}\n",
      "{'class': ['link--muted', 'rbt-insurance-link'], 'data-touch': 'link', 'data-href': 'https://suchen.mobile.de/fahrzeuge/insuranceLandingpage.html?id=248271925&entrypoint=vehicle-search', 'data-target': 'blank'}\n",
      "{'class': ['btn', 'btn--success', 'btn--unpark', 'btn--s']}\n",
      "{'class': ['btn', 'btn--muted', 'btn--park', 'btn--s']}\n",
      "{'class': ['btn', 'btn--orange', 'btn--s', 'contact-button', 'mailCtaEventTrigger'], 'title': 'E-Mail senden', 'data-touch': 'link', 'data-href': 'https://suchen.mobile.de/fahrzeuge/details.html?id=248271925&damageUnrepaired=NO_DAMAGE_UNREPAIRED&isSearchRequest=true&pageNumber=2&scopeId=C&sortOption.sortBy=creationTime&sortOption.sortOrder=DESCENDING#scrollTo=contact-form', 'data-target': 'default'}\n",
      "{'class': ['numImages-display', 'u-text-white']}\n",
      "{'class': ['new-headline-label']}\n",
      "{'class': ['h3', 'u-text-break-word']}\n",
      "{'class': ['u-block', 'u-pad-top-9', 'rbt-onlineSince']}\n",
      "{'class': ['h3', 'u-block']}\n",
      "{'class': ['u-block']}\n",
      "{'class': ['u-margin-right-9']}\n",
      "{'class': ['mde-rating', 'mde-rating--s']}\n",
      "{'class': ['star-rating-s', 'u-valign-middle', 'u-margin-right-9'], 'data-rating': '5'}\n",
      "{'class': ['amount-of-ratings']}\n",
      "{'class': ['link--muted', 'rbt-financing-link'], 'data-touch': 'link', 'data-href': 'https://suchen.mobile.de/fahrzeuge/financingLandingpage.html?id=248271924&entrypoint=vehicle-search', 'data-target': 'blank'}\n",
      "{'class': ['link--muted', 'rbt-insurance-link'], 'data-touch': 'link', 'data-href': 'https://suchen.mobile.de/fahrzeuge/insuranceLandingpage.html?id=248271924&entrypoint=vehicle-search', 'data-target': 'blank'}\n",
      "{'class': ['btn', 'btn--success', 'btn--unpark', 'btn--s']}\n",
      "{'class': ['btn', 'btn--muted', 'btn--park', 'btn--s']}\n",
      "{'class': ['btn', 'btn--orange', 'btn--s', 'contact-button', 'mailCtaEventTrigger'], 'title': 'E-Mail senden', 'data-touch': 'link', 'data-href': 'https://suchen.mobile.de/fahrzeuge/details.html?id=248271924&damageUnrepaired=NO_DAMAGE_UNREPAIRED&isSearchRequest=true&pageNumber=2&scopeId=C&sortOption.sortBy=creationTime&sortOption.sortOrder=DESCENDING#scrollTo=contact-form', 'data-target': 'default'}\n",
      "{'class': ['numImages-display', 'u-text-white']}\n",
      "{'class': ['new-headline-label']}\n",
      "{'class': ['h3', 'u-text-break-word']}\n",
      "{'class': ['u-block', 'u-pad-top-9', 'rbt-onlineSince']}\n",
      "{'class': ['h3', 'u-block']}\n",
      "{'class': ['u-margin-right-9']}\n",
      "{'class': ['mde-rating', 'mde-rating--s']}\n",
      "{'class': ['star-rating-s', 'u-valign-middle', 'u-margin-right-9'], 'data-rating': '3.8'}\n",
      "{'class': ['amount-of-ratings']}\n",
      "{'class': ['link--muted', 'rbt-financing-link'], 'data-touch': 'link', 'data-href': 'https://suchen.mobile.de/fahrzeuge/financingLandingpage.html?id=248271923&entrypoint=vehicle-search', 'data-target': 'blank'}\n",
      "{'class': ['link--muted', 'rbt-insurance-link'], 'data-touch': 'link', 'data-href': 'https://suchen.mobile.de/fahrzeuge/insuranceLandingpage.html?id=248271923&entrypoint=vehicle-search', 'data-target': 'blank'}\n",
      "{'class': ['btn', 'btn--success', 'btn--unpark', 'btn--s']}\n",
      "{'class': ['btn', 'btn--muted', 'btn--park', 'btn--s']}\n",
      "{'class': ['btn', 'btn--orange', 'btn--s', 'contact-button', 'mailCtaEventTrigger'], 'title': 'E-Mail senden', 'data-touch': 'link', 'data-href': 'https://suchen.mobile.de/fahrzeuge/details.html?id=248271923&damageUnrepaired=NO_DAMAGE_UNREPAIRED&isSearchRequest=true&pageNumber=2&scopeId=C&sortOption.sortBy=creationTime&sortOption.sortOrder=DESCENDING#scrollTo=contact-form', 'data-target': 'default'}\n",
      "{'class': ['numImages-display', 'u-text-white']}\n",
      "{'class': ['new-headline-label']}\n",
      "{'class': ['h3', 'u-text-break-word']}\n",
      "{'class': ['u-block', 'u-pad-top-9', 'rbt-onlineSince']}\n",
      "{'class': ['h3', 'u-block']}\n",
      "{'class': ['u-block']}\n",
      "{'class': ['btn', 'btn--icon-grey-100'], 'title': 'Mercedes-Benz Junge Sterne Transporter'}\n",
      "{'class': ['u-margin-right-9']}\n",
      "{'class': ['mde-rating', 'mde-rating--s']}\n",
      "{'class': ['star-rating-s', 'u-valign-middle', 'u-margin-right-9'], 'data-rating': '4.3'}\n",
      "{'class': ['amount-of-ratings']}\n",
      "{'class': ['link--muted', 'rbt-financing-link'], 'data-touch': 'link', 'data-href': 'https://suchen.mobile.de/fahrzeuge/financingLandingpage.html?id=248271922&entrypoint=vehicle-search', 'data-target': 'blank'}\n",
      "{'class': ['link--muted', 'rbt-insurance-link'], 'data-touch': 'link', 'data-href': 'https://suchen.mobile.de/fahrzeuge/insuranceLandingpage.html?id=248271922&entrypoint=vehicle-search', 'data-target': 'blank'}\n",
      "{'class': ['btn', 'btn--success', 'btn--unpark', 'btn--s']}\n",
      "{'class': ['btn', 'btn--muted', 'btn--park', 'btn--s']}\n",
      "{'class': ['btn', 'btn--orange', 'btn--s', 'contact-button', 'mailCtaEventTrigger'], 'title': 'E-Mail senden', 'data-touch': 'link', 'data-href': 'https://suchen.mobile.de/fahrzeuge/details.html?id=248271922&damageUnrepaired=NO_DAMAGE_UNREPAIRED&isSearchRequest=true&pageNumber=2&scopeId=C&sortOption.sortBy=creationTime&sortOption.sortOrder=DESCENDING#scrollTo=contact-form', 'data-target': 'default'}\n",
      "{'class': ['numImages-display', 'u-text-white']}\n",
      "{'class': ['new-headline-label']}\n",
      "{'class': ['h3', 'u-text-break-word']}\n",
      "{'class': ['u-block', 'u-pad-top-9', 'rbt-onlineSince']}\n",
      "{'class': ['h3', 'u-block']}\n",
      "{'class': ['u-block']}\n",
      "{'class': ['btn', 'btn--icon-grey-100'], 'title': 'Mercedes-Benz Junge Sterne Transporter'}\n",
      "{'class': ['u-margin-right-9']}\n",
      "{'class': ['mde-rating', 'mde-rating--s']}\n",
      "{'class': ['star-rating-s', 'u-valign-middle', 'u-margin-right-9'], 'data-rating': '4.4'}\n",
      "{'class': ['amount-of-ratings']}\n",
      "{'class': ['link--muted', 'rbt-financing-link'], 'data-touch': 'link', 'data-href': 'https://suchen.mobile.de/fahrzeuge/financingLandingpage.html?id=248271921&entrypoint=vehicle-search', 'data-target': 'blank'}\n",
      "{'class': ['link--muted', 'rbt-insurance-link'], 'data-touch': 'link', 'data-href': 'https://suchen.mobile.de/fahrzeuge/insuranceLandingpage.html?id=248271921&entrypoint=vehicle-search', 'data-target': 'blank'}\n",
      "{'class': ['btn', 'btn--success', 'btn--unpark', 'btn--s']}\n",
      "{'class': ['btn', 'btn--muted', 'btn--park', 'btn--s']}\n",
      "{'class': ['btn', 'btn--orange', 'btn--s', 'contact-button', 'mailCtaEventTrigger'], 'title': 'E-Mail senden', 'data-touch': 'link', 'data-href': 'https://suchen.mobile.de/fahrzeuge/details.html?id=248271921&damageUnrepaired=NO_DAMAGE_UNREPAIRED&isSearchRequest=true&pageNumber=2&scopeId=C&sortOption.sortBy=creationTime&sortOption.sortOrder=DESCENDING#scrollTo=contact-form', 'data-target': 'default'}\n",
      "{'class': ['numImages-display', 'u-text-white']}\n",
      "{'class': ['new-headline-label']}\n",
      "{'class': ['h3', 'u-text-break-word']}\n",
      "{'class': ['u-block', 'u-pad-top-9', 'rbt-onlineSince']}\n",
      "{'class': ['h3', 'u-block']}\n",
      "{'class': ['u-margin-right-9']}\n",
      "{'class': ['mde-rating', 'mde-rating--s']}\n",
      "{'class': ['star-rating-s', 'u-valign-middle', 'u-margin-right-9'], 'data-rating': '5'}\n",
      "{'class': ['amount-of-ratings']}\n",
      "{'class': ['link--muted', 'rbt-financing-link'], 'data-touch': 'link', 'data-href': 'https://suchen.mobile.de/fahrzeuge/financingLandingpage.html?id=248271920&entrypoint=vehicle-search', 'data-target': 'blank'}\n",
      "{'class': ['link--muted', 'rbt-insurance-link'], 'data-touch': 'link', 'data-href': 'https://suchen.mobile.de/fahrzeuge/insuranceLandingpage.html?id=248271920&entrypoint=vehicle-search', 'data-target': 'blank'}\n",
      "{'class': ['btn', 'btn--success', 'btn--unpark', 'btn--s']}\n",
      "{'class': ['btn', 'btn--muted', 'btn--park', 'btn--s']}\n",
      "{'class': ['btn', 'btn--orange', 'btn--s', 'contact-button', 'mailCtaEventTrigger'], 'title': 'E-Mail senden', 'data-touch': 'link', 'data-href': 'https://suchen.mobile.de/fahrzeuge/details.html?id=248271920&damageUnrepaired=NO_DAMAGE_UNREPAIRED&isSearchRequest=true&pageNumber=2&scopeId=C&sortOption.sortBy=creationTime&sortOption.sortOrder=DESCENDING#scrollTo=contact-form', 'data-target': 'default'}\n",
      "{'class': ['numImages-display', 'u-text-white']}\n",
      "{'class': ['new-headline-label']}\n",
      "{'class': ['h3', 'u-text-break-word']}\n",
      "{'class': ['u-block', 'u-pad-top-9', 'rbt-onlineSince']}\n",
      "{'class': ['h3', 'u-block']}\n",
      "{'class': ['link--muted', 'rbt-financing-link'], 'data-touch': 'link', 'data-href': 'https://suchen.mobile.de/fahrzeuge/financingLandingpage.html?id=248271919&entrypoint=vehicle-search', 'data-target': 'blank'}\n",
      "{'class': ['link--muted', 'rbt-insurance-link'], 'data-touch': 'link', 'data-href': 'https://suchen.mobile.de/fahrzeuge/insuranceLandingpage.html?id=248271919&entrypoint=vehicle-search', 'data-target': 'blank'}\n",
      "{'class': ['btn', 'btn--success', 'btn--unpark', 'btn--s']}\n",
      "{'class': ['btn', 'btn--muted', 'btn--park', 'btn--s']}\n",
      "{'class': ['btn', 'btn--orange', 'btn--s', 'contact-button', 'mailCtaEventTrigger'], 'title': 'E-Mail senden', 'data-touch': 'link', 'data-href': 'https://suchen.mobile.de/fahrzeuge/details.html?id=248271919&damageUnrepaired=NO_DAMAGE_UNREPAIRED&isSearchRequest=true&pageNumber=2&scopeId=C&sortOption.sortBy=creationTime&sortOption.sortOrder=DESCENDING&fnai=next#scrollTo=contact-form', 'data-target': 'default'}\n",
      "{'class': ['btn', 'btn--muted', 'btn--s', 'prev-resultitems-page', 'rbt-page-back'], 'title': 'Eine Seite zurück', 'data-touch': 'link', 'data-href': 'https://suchen.mobile.de/fahrzeuge/search.html?damageUnrepaired=NO_DAMAGE_UNREPAIRED&isSearchRequest=true&pageNumber=1&scopeId=C&sortOption.sortBy=creationTime&sortOption.sortOrder=DESCENDING', 'data-target': 'default'}\n",
      "{'id': 'rbt-p-1', 'class': ['btn', 'btn--muted', 'btn--s'], 'title': 'Gehe zu Seite 1', 'data-touch': 'link', 'data-href': 'https://suchen.mobile.de/fahrzeuge/search.html?damageUnrepaired=NO_DAMAGE_UNREPAIRED&isSearchRequest=true&pageNumber=1&scopeId=C&sortOption.sortBy=creationTime&sortOption.sortOrder=DESCENDING', 'data-target': 'default'}\n",
      "{'id': 'rbt-p-2', 'class': ['btn', 'btn--muted', 'btn--s', 'disabled'], 'title': 'Gehe zu Seite 2', 'data-touch': 'link', 'data-href': 'https://suchen.mobile.de/fahrzeuge/search.html?damageUnrepaired=NO_DAMAGE_UNREPAIRED&isSearchRequest=true&pageNumber=2&scopeId=C&sortOption.sortBy=creationTime&sortOption.sortOrder=DESCENDING', 'data-target': 'default'}\n",
      "{'id': 'rbt-p-3', 'class': ['btn', 'btn--muted', 'btn--s'], 'title': 'Gehe zu Seite 3', 'data-touch': 'link', 'data-href': 'https://suchen.mobile.de/fahrzeuge/search.html?damageUnrepaired=NO_DAMAGE_UNREPAIRED&isSearchRequest=true&pageNumber=3&scopeId=C&sortOption.sortBy=creationTime&sortOption.sortOrder=DESCENDING', 'data-target': 'default'}\n",
      "{'id': 'rbt-p-4', 'class': ['btn', 'btn--muted', 'btn--s'], 'title': 'Gehe zu Seite 4', 'data-touch': 'link', 'data-href': 'https://suchen.mobile.de/fahrzeuge/search.html?damageUnrepaired=NO_DAMAGE_UNREPAIRED&isSearchRequest=true&pageNumber=4&scopeId=C&sortOption.sortBy=creationTime&sortOption.sortOrder=DESCENDING', 'data-target': 'default'}\n",
      "{'class': ['btn', 'btn--muted', 'btn--s'], 'title': 'Gehe zu Seite 50', 'data-touch': 'link', 'data-href': 'https://suchen.mobile.de/fahrzeuge/search.html?damageUnrepaired=NO_DAMAGE_UNREPAIRED&isSearchRequest=true&pageNumber=50&scopeId=C&sortOption.sortBy=creationTime&sortOption.sortOrder=DESCENDING', 'data-target': 'default'}\n",
      "{'class': ['btn', 'btn--orange', 'btn--s', 'next-resultitems-page', 'rbt-page-forward'], 'title': 'Zur nächsten Seite', 'data-touch': 'link', 'data-href': 'https://suchen.mobile.de/fahrzeuge/search.html?damageUnrepaired=NO_DAMAGE_UNREPAIRED&isSearchRequest=true&pageNumber=3&scopeId=C&sortOption.sortBy=creationTime&sortOption.sortOrder=DESCENDING', 'data-target': 'default'}\n",
      "{'class': ['btn', 'btn--orange', 'btn--l', 'u-full-width'], 'id': 'motorTalkPromoBoxLink'}\n",
      "{'class': ['btn', 'btn--link-hidden', 'btn--s', 'btn--icon-s'], 'data-se': 'footer__print-btn'}\n",
      "{}\n",
      "{}\n",
      "{}\n",
      "{'class': ['cBox-btn-close', 'btn--close']}\n"
     ]
    }
   ],
   "source": [
    "#soup.find(attr={'class':\"btn btn--orange btn--s next-resultitems-page rbt-page-forward\"})\n",
    "for link in soup.find_all('span'):\n",
    "    #if link.has_attr(\"rbt-page-forward\"):\n",
    "    print (link.attrs)"
   ]
  },
  {
   "cell_type": "code",
   "execution_count": 74,
   "metadata": {
    "collapsed": false
   },
   "outputs": [
    {
     "data": {
      "text/plain": [
       "{'class': ['link--hidden'], 'data-se': 'footer-small__DesktopVersion'}"
      ]
     },
     "execution_count": 74,
     "metadata": {},
     "output_type": "execute_result"
    }
   ],
   "source": [
    "link.attrs"
   ]
  },
  {
   "cell_type": "markdown",
   "metadata": {},
   "source": [
    "## initiate Database"
   ]
  },
  {
   "cell_type": "code",
   "execution_count": null,
   "metadata": {
    "collapsed": true
   },
   "outputs": [],
   "source": [
    "#connection = sqlite3.connect('src/dataBase/carStats.db')\n",
    "#cursor = connection.cursor()\n",
    "\n",
    "# delete \n",
    "#cursor.execute(\"\"\"DROP TABLE car;\"\"\")\n",
    "\n",
    "#cursor.execute(sql_create_command)\n",
    "\n",
    "# never forget this, if you want the changes to be saved:\n",
    "#connection.commit()\n",
    "\n",
    "#connection.close()"
   ]
  },
  {
   "cell_type": "code",
   "execution_count": 69,
   "metadata": {
    "collapsed": false
   },
   "outputs": [
    {
     "data": {
      "text/plain": [
       "'H:\\\\GitHub_Projects\\\\UsedCarStats'"
      ]
     },
     "execution_count": 69,
     "metadata": {},
     "output_type": "execute_result"
    }
   ],
   "source": [
    "%pwd"
   ]
  },
  {
   "cell_type": "code",
   "execution_count": 90,
   "metadata": {
    "collapsed": false
   },
   "outputs": [
    {
     "data": {
      "text/plain": [
       "<module 'src.utils' from 'H:\\\\GitHub_Projects\\\\UsedCarStats\\\\src\\\\utils.py'>"
      ]
     },
     "execution_count": 90,
     "metadata": {},
     "output_type": "execute_result"
    }
   ],
   "source": [
    "from importlib import reload\n",
    "reload(utils)"
   ]
  },
  {
   "cell_type": "code",
   "execution_count": 29,
   "metadata": {
    "collapsed": true
   },
   "outputs": [],
   "source": [
    "#database.close()\n",
    "database = utils.DataBase('src/dataBase/carStats.db')"
   ]
  },
  {
   "cell_type": "code",
   "execution_count": 30,
   "metadata": {
    "collapsed": false
   },
   "outputs": [],
   "source": [
    "database.connect()"
   ]
  },
  {
   "cell_type": "code",
   "execution_count": 31,
   "metadata": {
    "collapsed": false
   },
   "outputs": [
    {
     "data": {
      "text/plain": [
       "[('car',)]"
      ]
     },
     "execution_count": 31,
     "metadata": {},
     "output_type": "execute_result"
    }
   ],
   "source": [
    "database.getTableNames()"
   ]
  },
  {
   "cell_type": "code",
   "execution_count": 32,
   "metadata": {
    "collapsed": false
   },
   "outputs": [
    {
     "data": {
      "text/plain": [
       "True"
      ]
     },
     "execution_count": 32,
     "metadata": {},
     "output_type": "execute_result"
    }
   ],
   "source": [
    "adIDList = database.execute(\"\"\"SELECT adID FROM car\"\"\")\n",
    "231941829 in np.array(adIDList)"
   ]
  },
  {
   "cell_type": "code",
   "execution_count": 19,
   "metadata": {
    "collapsed": false
   },
   "outputs": [],
   "source": [
    "cursor = database._cursor"
   ]
  },
  {
   "cell_type": "code",
   "execution_count": 22,
   "metadata": {
    "collapsed": false
   },
   "outputs": [
    {
     "data": {
      "text/plain": [
       "<sqlite3.Cursor at 0x240b9938570>"
      ]
     },
     "execution_count": 22,
     "metadata": {},
     "output_type": "execute_result"
    }
   ],
   "source": [
    "cursor.execute(\"\"\"SELECT adID FROM car\"\"\")\n",
    "#cursor.fetchall()"
   ]
  },
  {
   "cell_type": "code",
   "execution_count": 28,
   "metadata": {
    "collapsed": false
   },
   "outputs": [],
   "source": [
    "database.close()"
   ]
  },
  {
   "cell_type": "code",
   "execution_count": null,
   "metadata": {
    "collapsed": true
   },
   "outputs": [],
   "source": []
  },
  {
   "cell_type": "code",
   "execution_count": 95,
   "metadata": {
    "collapsed": true
   },
   "outputs": [],
   "source": [
    "database.deleteAllContents()"
   ]
  },
  {
   "cell_type": "code",
   "execution_count": 96,
   "metadata": {
    "collapsed": false
   },
   "outputs": [],
   "source": [
    "cursor = database.getCursor()\n",
    "cursor.description"
   ]
  },
  {
   "cell_type": "code",
   "execution_count": 97,
   "metadata": {
    "collapsed": false
   },
   "outputs": [
    {
     "data": {
      "text/plain": [
       "<sqlite3.Cursor at 0x1b2c1f433b0>"
      ]
     },
     "execution_count": 97,
     "metadata": {},
     "output_type": "execute_result"
    }
   ],
   "source": [
    "cursor.execute(\"\"\"DROP TABLE car;\"\"\")\n"
   ]
  },
  {
   "cell_type": "code",
   "execution_count": 98,
   "metadata": {
    "collapsed": false
   },
   "outputs": [],
   "source": [
    "attributes = dict()\n",
    "for option in pagesConfig.options('dbInit'):\n",
    "    attributes[option] = pagesConfig.get('dbInit', option)\n",
    "database.createTable(attributes)\n",
    "cursor = database.getCursor()\n",
    "cursor.description"
   ]
  },
  {
   "cell_type": "code",
   "execution_count": 99,
   "metadata": {
    "collapsed": false
   },
   "outputs": [
    {
     "data": {
      "text/plain": [
       "[('car',)]"
      ]
     },
     "execution_count": 99,
     "metadata": {},
     "output_type": "execute_result"
    }
   ],
   "source": [
    "database.getTableNames()"
   ]
  },
  {
   "cell_type": "code",
   "execution_count": 100,
   "metadata": {
    "collapsed": false
   },
   "outputs": [
    {
     "data": {
      "text/plain": [
       "[]"
      ]
     },
     "execution_count": 100,
     "metadata": {},
     "output_type": "execute_result"
    }
   ],
   "source": [
    "database.execute(\"\"\"SELECT * FROM car\"\"\")"
   ]
  },
  {
   "cell_type": "code",
   "execution_count": 101,
   "metadata": {
    "collapsed": false
   },
   "outputs": [
    {
     "data": {
      "text/plain": [
       "(4874, 4)"
      ]
     },
     "execution_count": 101,
     "metadata": {},
     "output_type": "execute_result"
    }
   ],
   "source": [
    "dataIDs.shape"
   ]
  },
  {
   "cell_type": "code",
   "execution_count": 102,
   "metadata": {
    "collapsed": false,
    "scrolled": true
   },
   "outputs": [
    {
     "name": "stdout",
     "output_type": "stream",
     "text": [
      "20\n",
      "Expecting value: line 1 column 2 (char 1)\n",
      "62\n",
      "near \"Klimaautomatik\": syntax error\n",
      "97\n",
      "Expecting value: line 1 column 2 (char 1)\n",
      "105\n",
      "near \"7\": syntax error\n",
      "124\n",
      "Expecting value: line 1 column 2 (char 1)\n",
      "130\n",
      "Expecting value: line 1 column 2 (char 1)\n",
      "239\n",
      "Expecting value: line 1 column 2 (char 1)\n",
      "270\n",
      "Expecting value: line 1 column 2 (char 1)\n",
      "303\n",
      "Expecting value: line 1 column 2 (char 1)\n",
      "346\n",
      "Expecting value: line 1 column 2 (char 1)\n",
      "365\n",
      "Expecting value: line 1 column 2 (char 1)\n",
      "453\n",
      "Expecting value: line 1 column 2 (char 1)\n",
      "456\n",
      "Expecting value: line 1 column 2 (char 1)\n",
      "462\n",
      "near \"90657\": syntax error\n",
      "533\n",
      "Expecting value: line 1 column 2 (char 1)\n",
      "535\n",
      "Expecting value: line 1 column 2 (char 1)\n",
      "538\n",
      "Expecting value: line 1 column 2 (char 1)\n",
      "548\n",
      "Expecting value: line 1 column 2 (char 1)\n",
      "647\n",
      "near \"A\": syntax error\n",
      "649\n",
      "Expecting value: line 1 column 2 (char 1)\n",
      "769\n",
      "near \"Klima\": syntax error\n",
      "801\n",
      "Expecting value: line 1 column 2 (char 1)\n",
      "846\n",
      "Expecting value: line 1 column 2 (char 1)\n",
      "888\n",
      "Expecting value: line 1 column 2 (char 1)\n",
      "892\n",
      "Expecting value: line 1 column 2 (char 1)\n",
      "894\n",
      "Expecting value: line 1 column 2 (char 1)\n",
      "904\n",
      "Expecting value: line 1 column 2 (char 1)\n",
      "1007\n",
      "Expecting value: line 1 column 2 (char 1)\n",
      "1009\n",
      "Expecting value: line 1 column 2 (char 1)\n",
      "1012\n",
      "Expecting value: line 1 column 2 (char 1)\n",
      "1079\n",
      "near \"brillantsilber\": syntax error\n",
      "1081\n",
      "near \"ZOLL\": syntax error\n",
      "1094\n",
      "Expecting value: line 1 column 2 (char 1)\n",
      "1130\n",
      "near \"platingrau\": syntax error\n",
      "1169\n",
      "Expecting value: line 1 column 2 (char 1)\n",
      "1175\n",
      "near \"Gelbe\": syntax error\n",
      "1182\n",
      "Expecting value: line 1 column 2 (char 1)\n",
      "1229\n",
      "near \"B\": syntax error\n",
      "1285\n",
      "near \"LEMAN\": syntax error\n",
      "1287\n",
      "near \"MINERAL\": syntax error\n",
      "1295\n",
      "near \"brillantsilber\": syntax error\n",
      "1335\n",
      "Expecting value: line 1 column 2 (char 1)\n",
      "1354\n",
      "near \"Klima\": syntax error\n",
      "1369\n",
      "Expecting value: line 1 column 2 (char 1)\n",
      "1372\n",
      "Expecting value: line 1 column 2 (char 1)\n",
      "1419\n",
      "Expecting value: line 1 column 2 (char 1)\n",
      "1434\n",
      "near \"\", \"\": syntax error\n",
      "1458\n",
      "Expecting value: line 1 column 2 (char 1)\n"
     ]
    },
    {
     "ename": "KeyboardInterrupt",
     "evalue": "",
     "output_type": "error",
     "traceback": [
      "\u001b[1;31m---------------------------------------------------------------------------\u001b[0m",
      "\u001b[1;31mTypeError\u001b[0m                                 Traceback (most recent call last)",
      "\u001b[1;32mC:\\Users\\Florian\\Anaconda2\\envs\\ipykernel_py3\\lib\\site-packages\\requests\\packages\\urllib3\\connectionpool.py\u001b[0m in \u001b[0;36m_make_request\u001b[1;34m(self, conn, method, url, timeout, chunked, **httplib_request_kw)\u001b[0m\n\u001b[0;32m    378\u001b[0m             \u001b[1;32mtry\u001b[0m\u001b[1;33m:\u001b[0m  \u001b[1;31m# Python 2.7, use buffering of HTTP responses\u001b[0m\u001b[1;33m\u001b[0m\u001b[0m\n\u001b[1;32m--> 379\u001b[1;33m                 \u001b[0mhttplib_response\u001b[0m \u001b[1;33m=\u001b[0m \u001b[0mconn\u001b[0m\u001b[1;33m.\u001b[0m\u001b[0mgetresponse\u001b[0m\u001b[1;33m(\u001b[0m\u001b[0mbuffering\u001b[0m\u001b[1;33m=\u001b[0m\u001b[1;32mTrue\u001b[0m\u001b[1;33m)\u001b[0m\u001b[1;33m\u001b[0m\u001b[0m\n\u001b[0m\u001b[0;32m    380\u001b[0m             \u001b[1;32mexcept\u001b[0m \u001b[0mTypeError\u001b[0m\u001b[1;33m:\u001b[0m  \u001b[1;31m# Python 2.6 and older, Python 3\u001b[0m\u001b[1;33m\u001b[0m\u001b[0m\n",
      "\u001b[1;31mTypeError\u001b[0m: getresponse() got an unexpected keyword argument 'buffering'",
      "\nDuring handling of the above exception, another exception occurred:\n",
      "\u001b[1;31mKeyboardInterrupt\u001b[0m                         Traceback (most recent call last)",
      "\u001b[1;32m<ipython-input-102-89bd71f2dd30>\u001b[0m in \u001b[0;36m<module>\u001b[1;34m()\u001b[0m\n\u001b[0;32m     16\u001b[0m \u001b[1;32mfor\u001b[0m \u001b[0mi\u001b[0m \u001b[1;32min\u001b[0m \u001b[0mrange\u001b[0m\u001b[1;33m(\u001b[0m\u001b[0mdataIDs\u001b[0m\u001b[1;33m.\u001b[0m\u001b[0mshape\u001b[0m\u001b[1;33m[\u001b[0m\u001b[1;36m0\u001b[0m\u001b[1;33m]\u001b[0m\u001b[1;33m)\u001b[0m\u001b[1;33m:\u001b[0m\u001b[1;33m\u001b[0m\u001b[0m\n\u001b[0;32m     17\u001b[0m     \u001b[1;32mtry\u001b[0m\u001b[1;33m:\u001b[0m\u001b[1;33m\u001b[0m\u001b[0m\n\u001b[1;32m---> 18\u001b[1;33m         \u001b[0mallInfos\u001b[0m \u001b[1;33m=\u001b[0m \u001b[0mutils\u001b[0m\u001b[1;33m.\u001b[0m\u001b[0mgetInfoFromPage\u001b[0m\u001b[1;33m(\u001b[0m\u001b[0mdataIDs\u001b[0m\u001b[1;33m[\u001b[0m\u001b[0mi\u001b[0m\u001b[1;33m,\u001b[0m \u001b[1;36m1\u001b[0m\u001b[1;33m]\u001b[0m\u001b[1;33m)\u001b[0m\u001b[1;33m\u001b[0m\u001b[0m\n\u001b[0m\u001b[0;32m     19\u001b[0m         \u001b[0mallInfos\u001b[0m\u001b[1;33m[\u001b[0m\u001b[1;34m'firstSeen'\u001b[0m\u001b[1;33m]\u001b[0m \u001b[1;33m=\u001b[0m \u001b[0mdataIDs\u001b[0m\u001b[1;33m[\u001b[0m\u001b[0mi\u001b[0m\u001b[1;33m]\u001b[0m\u001b[1;33m[\u001b[0m\u001b[1;36m3\u001b[0m\u001b[1;33m]\u001b[0m\u001b[1;33m\u001b[0m\u001b[0m\n\u001b[0;32m     20\u001b[0m         \u001b[0mallInfos\u001b[0m\u001b[1;33m[\u001b[0m\u001b[1;34m'lastSeen'\u001b[0m\u001b[1;33m]\u001b[0m \u001b[1;33m=\u001b[0m \u001b[0mstr\u001b[0m\u001b[1;33m(\u001b[0m\u001b[0mdatetime\u001b[0m\u001b[1;33m.\u001b[0m\u001b[0mdatetime\u001b[0m\u001b[1;33m.\u001b[0m\u001b[0mnow\u001b[0m\u001b[1;33m(\u001b[0m\u001b[1;33m)\u001b[0m\u001b[1;33m.\u001b[0m\u001b[0mdate\u001b[0m\u001b[1;33m)\u001b[0m\u001b[1;33m\u001b[0m\u001b[0m\n",
      "\u001b[1;32mH:\\GitHub_Projects\\UsedCarStats\\src\\utils.py\u001b[0m in \u001b[0;36mgetInfoFromPage\u001b[1;34m(page)\u001b[0m\n\u001b[0;32m     81\u001b[0m     \u001b[1;31m# try to open web page\u001b[0m\u001b[1;33m\u001b[0m\u001b[1;33m\u001b[0m\u001b[0m\n\u001b[0;32m     82\u001b[0m     \u001b[1;32mtry\u001b[0m\u001b[1;33m:\u001b[0m\u001b[1;33m\u001b[0m\u001b[0m\n\u001b[1;32m---> 83\u001b[1;33m         \u001b[0mreq\u001b[0m \u001b[1;33m=\u001b[0m \u001b[0mrequests\u001b[0m\u001b[1;33m.\u001b[0m\u001b[0mget\u001b[0m\u001b[1;33m(\u001b[0m\u001b[0mpage\u001b[0m\u001b[1;33m)\u001b[0m\u001b[1;33m\u001b[0m\u001b[0m\n\u001b[0m\u001b[0;32m     84\u001b[0m         \u001b[0mresponse\u001b[0m \u001b[1;33m=\u001b[0m \u001b[0mreq\u001b[0m\u001b[1;33m.\u001b[0m\u001b[0mtext\u001b[0m\u001b[1;33m\u001b[0m\u001b[0m\n\u001b[0;32m     85\u001b[0m     \u001b[1;32mexcept\u001b[0m \u001b[0mException\u001b[0m \u001b[1;32mas\u001b[0m \u001b[0me\u001b[0m\u001b[1;33m:\u001b[0m\u001b[1;33m\u001b[0m\u001b[0m\n",
      "\u001b[1;32mC:\\Users\\Florian\\Anaconda2\\envs\\ipykernel_py3\\lib\\site-packages\\requests\\api.py\u001b[0m in \u001b[0;36mget\u001b[1;34m(url, params, **kwargs)\u001b[0m\n\u001b[0;32m     68\u001b[0m \u001b[1;33m\u001b[0m\u001b[0m\n\u001b[0;32m     69\u001b[0m     \u001b[0mkwargs\u001b[0m\u001b[1;33m.\u001b[0m\u001b[0msetdefault\u001b[0m\u001b[1;33m(\u001b[0m\u001b[1;34m'allow_redirects'\u001b[0m\u001b[1;33m,\u001b[0m \u001b[1;32mTrue\u001b[0m\u001b[1;33m)\u001b[0m\u001b[1;33m\u001b[0m\u001b[0m\n\u001b[1;32m---> 70\u001b[1;33m     \u001b[1;32mreturn\u001b[0m \u001b[0mrequest\u001b[0m\u001b[1;33m(\u001b[0m\u001b[1;34m'get'\u001b[0m\u001b[1;33m,\u001b[0m \u001b[0murl\u001b[0m\u001b[1;33m,\u001b[0m \u001b[0mparams\u001b[0m\u001b[1;33m=\u001b[0m\u001b[0mparams\u001b[0m\u001b[1;33m,\u001b[0m \u001b[1;33m**\u001b[0m\u001b[0mkwargs\u001b[0m\u001b[1;33m)\u001b[0m\u001b[1;33m\u001b[0m\u001b[0m\n\u001b[0m\u001b[0;32m     71\u001b[0m \u001b[1;33m\u001b[0m\u001b[0m\n\u001b[0;32m     72\u001b[0m \u001b[1;33m\u001b[0m\u001b[0m\n",
      "\u001b[1;32mC:\\Users\\Florian\\Anaconda2\\envs\\ipykernel_py3\\lib\\site-packages\\requests\\api.py\u001b[0m in \u001b[0;36mrequest\u001b[1;34m(method, url, **kwargs)\u001b[0m\n\u001b[0;32m     54\u001b[0m     \u001b[1;31m# cases, and look like a memory leak in others.\u001b[0m\u001b[1;33m\u001b[0m\u001b[1;33m\u001b[0m\u001b[0m\n\u001b[0;32m     55\u001b[0m     \u001b[1;32mwith\u001b[0m \u001b[0msessions\u001b[0m\u001b[1;33m.\u001b[0m\u001b[0mSession\u001b[0m\u001b[1;33m(\u001b[0m\u001b[1;33m)\u001b[0m \u001b[1;32mas\u001b[0m \u001b[0msession\u001b[0m\u001b[1;33m:\u001b[0m\u001b[1;33m\u001b[0m\u001b[0m\n\u001b[1;32m---> 56\u001b[1;33m         \u001b[1;32mreturn\u001b[0m \u001b[0msession\u001b[0m\u001b[1;33m.\u001b[0m\u001b[0mrequest\u001b[0m\u001b[1;33m(\u001b[0m\u001b[0mmethod\u001b[0m\u001b[1;33m=\u001b[0m\u001b[0mmethod\u001b[0m\u001b[1;33m,\u001b[0m \u001b[0murl\u001b[0m\u001b[1;33m=\u001b[0m\u001b[0murl\u001b[0m\u001b[1;33m,\u001b[0m \u001b[1;33m**\u001b[0m\u001b[0mkwargs\u001b[0m\u001b[1;33m)\u001b[0m\u001b[1;33m\u001b[0m\u001b[0m\n\u001b[0m\u001b[0;32m     57\u001b[0m \u001b[1;33m\u001b[0m\u001b[0m\n\u001b[0;32m     58\u001b[0m \u001b[1;33m\u001b[0m\u001b[0m\n",
      "\u001b[1;32mC:\\Users\\Florian\\Anaconda2\\envs\\ipykernel_py3\\lib\\site-packages\\requests\\sessions.py\u001b[0m in \u001b[0;36mrequest\u001b[1;34m(self, method, url, params, data, headers, cookies, files, auth, timeout, allow_redirects, proxies, hooks, stream, verify, cert, json)\u001b[0m\n\u001b[0;32m    486\u001b[0m         }\n\u001b[0;32m    487\u001b[0m         \u001b[0msend_kwargs\u001b[0m\u001b[1;33m.\u001b[0m\u001b[0mupdate\u001b[0m\u001b[1;33m(\u001b[0m\u001b[0msettings\u001b[0m\u001b[1;33m)\u001b[0m\u001b[1;33m\u001b[0m\u001b[0m\n\u001b[1;32m--> 488\u001b[1;33m         \u001b[0mresp\u001b[0m \u001b[1;33m=\u001b[0m \u001b[0mself\u001b[0m\u001b[1;33m.\u001b[0m\u001b[0msend\u001b[0m\u001b[1;33m(\u001b[0m\u001b[0mprep\u001b[0m\u001b[1;33m,\u001b[0m \u001b[1;33m**\u001b[0m\u001b[0msend_kwargs\u001b[0m\u001b[1;33m)\u001b[0m\u001b[1;33m\u001b[0m\u001b[0m\n\u001b[0m\u001b[0;32m    489\u001b[0m \u001b[1;33m\u001b[0m\u001b[0m\n\u001b[0;32m    490\u001b[0m         \u001b[1;32mreturn\u001b[0m \u001b[0mresp\u001b[0m\u001b[1;33m\u001b[0m\u001b[0m\n",
      "\u001b[1;32mC:\\Users\\Florian\\Anaconda2\\envs\\ipykernel_py3\\lib\\site-packages\\requests\\sessions.py\u001b[0m in \u001b[0;36msend\u001b[1;34m(self, request, **kwargs)\u001b[0m\n\u001b[0;32m    607\u001b[0m \u001b[1;33m\u001b[0m\u001b[0m\n\u001b[0;32m    608\u001b[0m         \u001b[1;31m# Send the request\u001b[0m\u001b[1;33m\u001b[0m\u001b[1;33m\u001b[0m\u001b[0m\n\u001b[1;32m--> 609\u001b[1;33m         \u001b[0mr\u001b[0m \u001b[1;33m=\u001b[0m \u001b[0madapter\u001b[0m\u001b[1;33m.\u001b[0m\u001b[0msend\u001b[0m\u001b[1;33m(\u001b[0m\u001b[0mrequest\u001b[0m\u001b[1;33m,\u001b[0m \u001b[1;33m**\u001b[0m\u001b[0mkwargs\u001b[0m\u001b[1;33m)\u001b[0m\u001b[1;33m\u001b[0m\u001b[0m\n\u001b[0m\u001b[0;32m    610\u001b[0m \u001b[1;33m\u001b[0m\u001b[0m\n\u001b[0;32m    611\u001b[0m         \u001b[1;31m# Total elapsed time of the request (approximately)\u001b[0m\u001b[1;33m\u001b[0m\u001b[1;33m\u001b[0m\u001b[0m\n",
      "\u001b[1;32mC:\\Users\\Florian\\Anaconda2\\envs\\ipykernel_py3\\lib\\site-packages\\requests\\adapters.py\u001b[0m in \u001b[0;36msend\u001b[1;34m(self, request, stream, timeout, verify, cert, proxies)\u001b[0m\n\u001b[0;32m    421\u001b[0m                     \u001b[0mdecode_content\u001b[0m\u001b[1;33m=\u001b[0m\u001b[1;32mFalse\u001b[0m\u001b[1;33m,\u001b[0m\u001b[1;33m\u001b[0m\u001b[0m\n\u001b[0;32m    422\u001b[0m                     \u001b[0mretries\u001b[0m\u001b[1;33m=\u001b[0m\u001b[0mself\u001b[0m\u001b[1;33m.\u001b[0m\u001b[0mmax_retries\u001b[0m\u001b[1;33m,\u001b[0m\u001b[1;33m\u001b[0m\u001b[0m\n\u001b[1;32m--> 423\u001b[1;33m                     \u001b[0mtimeout\u001b[0m\u001b[1;33m=\u001b[0m\u001b[0mtimeout\u001b[0m\u001b[1;33m\u001b[0m\u001b[0m\n\u001b[0m\u001b[0;32m    424\u001b[0m                 )\n\u001b[0;32m    425\u001b[0m \u001b[1;33m\u001b[0m\u001b[0m\n",
      "\u001b[1;32mC:\\Users\\Florian\\Anaconda2\\envs\\ipykernel_py3\\lib\\site-packages\\requests\\packages\\urllib3\\connectionpool.py\u001b[0m in \u001b[0;36murlopen\u001b[1;34m(self, method, url, body, headers, retries, redirect, assert_same_host, timeout, pool_timeout, release_conn, chunked, body_pos, **response_kw)\u001b[0m\n\u001b[0;32m    598\u001b[0m                                                   \u001b[0mtimeout\u001b[0m\u001b[1;33m=\u001b[0m\u001b[0mtimeout_obj\u001b[0m\u001b[1;33m,\u001b[0m\u001b[1;33m\u001b[0m\u001b[0m\n\u001b[0;32m    599\u001b[0m                                                   \u001b[0mbody\u001b[0m\u001b[1;33m=\u001b[0m\u001b[0mbody\u001b[0m\u001b[1;33m,\u001b[0m \u001b[0mheaders\u001b[0m\u001b[1;33m=\u001b[0m\u001b[0mheaders\u001b[0m\u001b[1;33m,\u001b[0m\u001b[1;33m\u001b[0m\u001b[0m\n\u001b[1;32m--> 600\u001b[1;33m                                                   chunked=chunked)\n\u001b[0m\u001b[0;32m    601\u001b[0m \u001b[1;33m\u001b[0m\u001b[0m\n\u001b[0;32m    602\u001b[0m             \u001b[1;31m# If we're going to release the connection in ``finally:``, then\u001b[0m\u001b[1;33m\u001b[0m\u001b[1;33m\u001b[0m\u001b[0m\n",
      "\u001b[1;32mC:\\Users\\Florian\\Anaconda2\\envs\\ipykernel_py3\\lib\\site-packages\\requests\\packages\\urllib3\\connectionpool.py\u001b[0m in \u001b[0;36m_make_request\u001b[1;34m(self, conn, method, url, timeout, chunked, **httplib_request_kw)\u001b[0m\n\u001b[0;32m    380\u001b[0m             \u001b[1;32mexcept\u001b[0m \u001b[0mTypeError\u001b[0m\u001b[1;33m:\u001b[0m  \u001b[1;31m# Python 2.6 and older, Python 3\u001b[0m\u001b[1;33m\u001b[0m\u001b[0m\n\u001b[0;32m    381\u001b[0m                 \u001b[1;32mtry\u001b[0m\u001b[1;33m:\u001b[0m\u001b[1;33m\u001b[0m\u001b[0m\n\u001b[1;32m--> 382\u001b[1;33m                     \u001b[0mhttplib_response\u001b[0m \u001b[1;33m=\u001b[0m \u001b[0mconn\u001b[0m\u001b[1;33m.\u001b[0m\u001b[0mgetresponse\u001b[0m\u001b[1;33m(\u001b[0m\u001b[1;33m)\u001b[0m\u001b[1;33m\u001b[0m\u001b[0m\n\u001b[0m\u001b[0;32m    383\u001b[0m                 \u001b[1;32mexcept\u001b[0m \u001b[0mException\u001b[0m \u001b[1;32mas\u001b[0m \u001b[0me\u001b[0m\u001b[1;33m:\u001b[0m\u001b[1;33m\u001b[0m\u001b[0m\n\u001b[0;32m    384\u001b[0m                     \u001b[1;31m# Remove the TypeError from the exception chain in Python 3;\u001b[0m\u001b[1;33m\u001b[0m\u001b[1;33m\u001b[0m\u001b[0m\n",
      "\u001b[1;32mC:\\Users\\Florian\\Anaconda2\\envs\\ipykernel_py3\\lib\\http\\client.py\u001b[0m in \u001b[0;36mgetresponse\u001b[1;34m(self)\u001b[0m\n\u001b[0;32m   1329\u001b[0m         \u001b[1;32mtry\u001b[0m\u001b[1;33m:\u001b[0m\u001b[1;33m\u001b[0m\u001b[0m\n\u001b[0;32m   1330\u001b[0m             \u001b[1;32mtry\u001b[0m\u001b[1;33m:\u001b[0m\u001b[1;33m\u001b[0m\u001b[0m\n\u001b[1;32m-> 1331\u001b[1;33m                 \u001b[0mresponse\u001b[0m\u001b[1;33m.\u001b[0m\u001b[0mbegin\u001b[0m\u001b[1;33m(\u001b[0m\u001b[1;33m)\u001b[0m\u001b[1;33m\u001b[0m\u001b[0m\n\u001b[0m\u001b[0;32m   1332\u001b[0m             \u001b[1;32mexcept\u001b[0m \u001b[0mConnectionError\u001b[0m\u001b[1;33m:\u001b[0m\u001b[1;33m\u001b[0m\u001b[0m\n\u001b[0;32m   1333\u001b[0m                 \u001b[0mself\u001b[0m\u001b[1;33m.\u001b[0m\u001b[0mclose\u001b[0m\u001b[1;33m(\u001b[0m\u001b[1;33m)\u001b[0m\u001b[1;33m\u001b[0m\u001b[0m\n",
      "\u001b[1;32mC:\\Users\\Florian\\Anaconda2\\envs\\ipykernel_py3\\lib\\http\\client.py\u001b[0m in \u001b[0;36mbegin\u001b[1;34m(self)\u001b[0m\n\u001b[0;32m    295\u001b[0m         \u001b[1;31m# read until we get a non-100 response\u001b[0m\u001b[1;33m\u001b[0m\u001b[1;33m\u001b[0m\u001b[0m\n\u001b[0;32m    296\u001b[0m         \u001b[1;32mwhile\u001b[0m \u001b[1;32mTrue\u001b[0m\u001b[1;33m:\u001b[0m\u001b[1;33m\u001b[0m\u001b[0m\n\u001b[1;32m--> 297\u001b[1;33m             \u001b[0mversion\u001b[0m\u001b[1;33m,\u001b[0m \u001b[0mstatus\u001b[0m\u001b[1;33m,\u001b[0m \u001b[0mreason\u001b[0m \u001b[1;33m=\u001b[0m \u001b[0mself\u001b[0m\u001b[1;33m.\u001b[0m\u001b[0m_read_status\u001b[0m\u001b[1;33m(\u001b[0m\u001b[1;33m)\u001b[0m\u001b[1;33m\u001b[0m\u001b[0m\n\u001b[0m\u001b[0;32m    298\u001b[0m             \u001b[1;32mif\u001b[0m \u001b[0mstatus\u001b[0m \u001b[1;33m!=\u001b[0m \u001b[0mCONTINUE\u001b[0m\u001b[1;33m:\u001b[0m\u001b[1;33m\u001b[0m\u001b[0m\n\u001b[0;32m    299\u001b[0m                 \u001b[1;32mbreak\u001b[0m\u001b[1;33m\u001b[0m\u001b[0m\n",
      "\u001b[1;32mC:\\Users\\Florian\\Anaconda2\\envs\\ipykernel_py3\\lib\\http\\client.py\u001b[0m in \u001b[0;36m_read_status\u001b[1;34m(self)\u001b[0m\n\u001b[0;32m    256\u001b[0m \u001b[1;33m\u001b[0m\u001b[0m\n\u001b[0;32m    257\u001b[0m     \u001b[1;32mdef\u001b[0m \u001b[0m_read_status\u001b[0m\u001b[1;33m(\u001b[0m\u001b[0mself\u001b[0m\u001b[1;33m)\u001b[0m\u001b[1;33m:\u001b[0m\u001b[1;33m\u001b[0m\u001b[0m\n\u001b[1;32m--> 258\u001b[1;33m         \u001b[0mline\u001b[0m \u001b[1;33m=\u001b[0m \u001b[0mstr\u001b[0m\u001b[1;33m(\u001b[0m\u001b[0mself\u001b[0m\u001b[1;33m.\u001b[0m\u001b[0mfp\u001b[0m\u001b[1;33m.\u001b[0m\u001b[0mreadline\u001b[0m\u001b[1;33m(\u001b[0m\u001b[0m_MAXLINE\u001b[0m \u001b[1;33m+\u001b[0m \u001b[1;36m1\u001b[0m\u001b[1;33m)\u001b[0m\u001b[1;33m,\u001b[0m \u001b[1;34m\"iso-8859-1\"\u001b[0m\u001b[1;33m)\u001b[0m\u001b[1;33m\u001b[0m\u001b[0m\n\u001b[0m\u001b[0;32m    259\u001b[0m         \u001b[1;32mif\u001b[0m \u001b[0mlen\u001b[0m\u001b[1;33m(\u001b[0m\u001b[0mline\u001b[0m\u001b[1;33m)\u001b[0m \u001b[1;33m>\u001b[0m \u001b[0m_MAXLINE\u001b[0m\u001b[1;33m:\u001b[0m\u001b[1;33m\u001b[0m\u001b[0m\n\u001b[0;32m    260\u001b[0m             \u001b[1;32mraise\u001b[0m \u001b[0mLineTooLong\u001b[0m\u001b[1;33m(\u001b[0m\u001b[1;34m\"status line\"\u001b[0m\u001b[1;33m)\u001b[0m\u001b[1;33m\u001b[0m\u001b[0m\n",
      "\u001b[1;32mC:\\Users\\Florian\\Anaconda2\\envs\\ipykernel_py3\\lib\\socket.py\u001b[0m in \u001b[0;36mreadinto\u001b[1;34m(self, b)\u001b[0m\n\u001b[0;32m    584\u001b[0m         \u001b[1;32mwhile\u001b[0m \u001b[1;32mTrue\u001b[0m\u001b[1;33m:\u001b[0m\u001b[1;33m\u001b[0m\u001b[0m\n\u001b[0;32m    585\u001b[0m             \u001b[1;32mtry\u001b[0m\u001b[1;33m:\u001b[0m\u001b[1;33m\u001b[0m\u001b[0m\n\u001b[1;32m--> 586\u001b[1;33m                 \u001b[1;32mreturn\u001b[0m \u001b[0mself\u001b[0m\u001b[1;33m.\u001b[0m\u001b[0m_sock\u001b[0m\u001b[1;33m.\u001b[0m\u001b[0mrecv_into\u001b[0m\u001b[1;33m(\u001b[0m\u001b[0mb\u001b[0m\u001b[1;33m)\u001b[0m\u001b[1;33m\u001b[0m\u001b[0m\n\u001b[0m\u001b[0;32m    587\u001b[0m             \u001b[1;32mexcept\u001b[0m \u001b[0mtimeout\u001b[0m\u001b[1;33m:\u001b[0m\u001b[1;33m\u001b[0m\u001b[0m\n\u001b[0;32m    588\u001b[0m                 \u001b[0mself\u001b[0m\u001b[1;33m.\u001b[0m\u001b[0m_timeout_occurred\u001b[0m \u001b[1;33m=\u001b[0m \u001b[1;32mTrue\u001b[0m\u001b[1;33m\u001b[0m\u001b[0m\n",
      "\u001b[1;32mC:\\Users\\Florian\\Anaconda2\\envs\\ipykernel_py3\\lib\\ssl.py\u001b[0m in \u001b[0;36mrecv_into\u001b[1;34m(self, buffer, nbytes, flags)\u001b[0m\n\u001b[0;32m   1000\u001b[0m                   \u001b[1;34m\"non-zero flags not allowed in calls to recv_into() on %s\"\u001b[0m \u001b[1;33m%\u001b[0m\u001b[1;33m\u001b[0m\u001b[0m\n\u001b[0;32m   1001\u001b[0m                   self.__class__)\n\u001b[1;32m-> 1002\u001b[1;33m             \u001b[1;32mreturn\u001b[0m \u001b[0mself\u001b[0m\u001b[1;33m.\u001b[0m\u001b[0mread\u001b[0m\u001b[1;33m(\u001b[0m\u001b[0mnbytes\u001b[0m\u001b[1;33m,\u001b[0m \u001b[0mbuffer\u001b[0m\u001b[1;33m)\u001b[0m\u001b[1;33m\u001b[0m\u001b[0m\n\u001b[0m\u001b[0;32m   1003\u001b[0m         \u001b[1;32melse\u001b[0m\u001b[1;33m:\u001b[0m\u001b[1;33m\u001b[0m\u001b[0m\n\u001b[0;32m   1004\u001b[0m             \u001b[1;32mreturn\u001b[0m \u001b[0msocket\u001b[0m\u001b[1;33m.\u001b[0m\u001b[0mrecv_into\u001b[0m\u001b[1;33m(\u001b[0m\u001b[0mself\u001b[0m\u001b[1;33m,\u001b[0m \u001b[0mbuffer\u001b[0m\u001b[1;33m,\u001b[0m \u001b[0mnbytes\u001b[0m\u001b[1;33m,\u001b[0m \u001b[0mflags\u001b[0m\u001b[1;33m)\u001b[0m\u001b[1;33m\u001b[0m\u001b[0m\n",
      "\u001b[1;32mC:\\Users\\Florian\\Anaconda2\\envs\\ipykernel_py3\\lib\\ssl.py\u001b[0m in \u001b[0;36mread\u001b[1;34m(self, len, buffer)\u001b[0m\n\u001b[0;32m    863\u001b[0m             \u001b[1;32mraise\u001b[0m \u001b[0mValueError\u001b[0m\u001b[1;33m(\u001b[0m\u001b[1;34m\"Read on closed or unwrapped SSL socket.\"\u001b[0m\u001b[1;33m)\u001b[0m\u001b[1;33m\u001b[0m\u001b[0m\n\u001b[0;32m    864\u001b[0m         \u001b[1;32mtry\u001b[0m\u001b[1;33m:\u001b[0m\u001b[1;33m\u001b[0m\u001b[0m\n\u001b[1;32m--> 865\u001b[1;33m             \u001b[1;32mreturn\u001b[0m \u001b[0mself\u001b[0m\u001b[1;33m.\u001b[0m\u001b[0m_sslobj\u001b[0m\u001b[1;33m.\u001b[0m\u001b[0mread\u001b[0m\u001b[1;33m(\u001b[0m\u001b[0mlen\u001b[0m\u001b[1;33m,\u001b[0m \u001b[0mbuffer\u001b[0m\u001b[1;33m)\u001b[0m\u001b[1;33m\u001b[0m\u001b[0m\n\u001b[0m\u001b[0;32m    866\u001b[0m         \u001b[1;32mexcept\u001b[0m \u001b[0mSSLError\u001b[0m \u001b[1;32mas\u001b[0m \u001b[0mx\u001b[0m\u001b[1;33m:\u001b[0m\u001b[1;33m\u001b[0m\u001b[0m\n\u001b[0;32m    867\u001b[0m             \u001b[1;32mif\u001b[0m \u001b[0mx\u001b[0m\u001b[1;33m.\u001b[0m\u001b[0margs\u001b[0m\u001b[1;33m[\u001b[0m\u001b[1;36m0\u001b[0m\u001b[1;33m]\u001b[0m \u001b[1;33m==\u001b[0m \u001b[0mSSL_ERROR_EOF\u001b[0m \u001b[1;32mand\u001b[0m \u001b[0mself\u001b[0m\u001b[1;33m.\u001b[0m\u001b[0msuppress_ragged_eofs\u001b[0m\u001b[1;33m:\u001b[0m\u001b[1;33m\u001b[0m\u001b[0m\n",
      "\u001b[1;32mC:\\Users\\Florian\\Anaconda2\\envs\\ipykernel_py3\\lib\\ssl.py\u001b[0m in \u001b[0;36mread\u001b[1;34m(self, len, buffer)\u001b[0m\n\u001b[0;32m    623\u001b[0m         \"\"\"\n\u001b[0;32m    624\u001b[0m         \u001b[1;32mif\u001b[0m \u001b[0mbuffer\u001b[0m \u001b[1;32mis\u001b[0m \u001b[1;32mnot\u001b[0m \u001b[1;32mNone\u001b[0m\u001b[1;33m:\u001b[0m\u001b[1;33m\u001b[0m\u001b[0m\n\u001b[1;32m--> 625\u001b[1;33m             \u001b[0mv\u001b[0m \u001b[1;33m=\u001b[0m \u001b[0mself\u001b[0m\u001b[1;33m.\u001b[0m\u001b[0m_sslobj\u001b[0m\u001b[1;33m.\u001b[0m\u001b[0mread\u001b[0m\u001b[1;33m(\u001b[0m\u001b[0mlen\u001b[0m\u001b[1;33m,\u001b[0m \u001b[0mbuffer\u001b[0m\u001b[1;33m)\u001b[0m\u001b[1;33m\u001b[0m\u001b[0m\n\u001b[0m\u001b[0;32m    626\u001b[0m         \u001b[1;32melse\u001b[0m\u001b[1;33m:\u001b[0m\u001b[1;33m\u001b[0m\u001b[0m\n\u001b[0;32m    627\u001b[0m             \u001b[0mv\u001b[0m \u001b[1;33m=\u001b[0m \u001b[0mself\u001b[0m\u001b[1;33m.\u001b[0m\u001b[0m_sslobj\u001b[0m\u001b[1;33m.\u001b[0m\u001b[0mread\u001b[0m\u001b[1;33m(\u001b[0m\u001b[0mlen\u001b[0m\u001b[1;33m)\u001b[0m\u001b[1;33m\u001b[0m\u001b[0m\n",
      "\u001b[1;31mKeyboardInterrupt\u001b[0m: "
     ]
    }
   ],
   "source": [
    "def insertIntoDB(dictionary, superKey=''):\n",
    "    columns = ''\n",
    "    values = ''\n",
    "    for key, val in dictionary.items():\n",
    "        if type(val) == dict:\n",
    "            c, v = insertIntoDB(val, superKey=superKey + key)\n",
    "            columns += c\n",
    "            values += v\n",
    "        elif key.lower() in attributes.keys():\n",
    "            columns += superKey + key + ', '\n",
    "            values += '\"' + str(val) + '\"' + ', '\n",
    "\n",
    "    \n",
    "    return columns, values\n",
    "\n",
    "for i in range(dataIDs.shape[0]):\n",
    "    try:\n",
    "        allInfos = utils.getInfoFromPage(dataIDs[i, 1])\n",
    "        allInfos['firstSeen'] = dataIDs[i][3]\n",
    "        allInfos['lastSeen'] = str(datetime.datetime.now().date)\n",
    "\n",
    "        columns, values = insertIntoDB(allInfos)\n",
    "\n",
    "        database.execute('''INSERT INTO car ( %s ) VALUES ( %s );''' %(columns[:-2], values[:-2]) )\n",
    "    except Exception as e:\n",
    "        print (i)\n",
    "        print (e)\n",
    "\n",
    "database.execute(\"\"\"SELECT * FROM car\"\"\")"
   ]
  },
  {
   "cell_type": "code",
   "execution_count": 104,
   "metadata": {
    "collapsed": false,
    "scrolled": true
   },
   "outputs": [
    {
     "data": {
      "text/plain": [
       "1421"
      ]
     },
     "execution_count": 104,
     "metadata": {},
     "output_type": "execute_result"
    }
   ],
   "source": [
    "result = database.execute(\"\"\"SELECT * FROM car\"\"\")\n",
    "len(result)"
   ]
  },
  {
   "cell_type": "code",
   "execution_count": 105,
   "metadata": {
    "collapsed": true
   },
   "outputs": [],
   "source": [
    "database.save()\n",
    "database.close()"
   ]
  },
  {
   "cell_type": "code",
   "execution_count": 88,
   "metadata": {
    "collapsed": false
   },
   "outputs": [
    {
     "data": {
      "text/plain": [
       "{'ad': {'condition': 'USED',\n",
       "  'currency': 'EUR',\n",
       "  'price': '990',\n",
       "  'specifics': {'make': 'Opel', 'model': 'Astra'}},\n",
       " 'adCondition': 'USED',\n",
       " 'adCurrency': 'EUR',\n",
       " 'adFirstRegMonth': '3',\n",
       " 'adFirstRegYear': '1996',\n",
       " 'adId': 248086929,\n",
       " 'adImage': 'https://i.ebayimg.com/00/s/MTIwMFgxNjAw/z/s0QAAOSwv89ZezGz/$_23.JPG',\n",
       " 'adImageBase64': 'aHR0cHM6Ly9pLmViYXlpbWcuY29tLzAwL3MvTVRJd01GZ3hOakF3L3ovczBRQUFPU3d2ODlaZXpHei8k',\n",
       " 'adPrice': '990',\n",
       " 'adSegment': 'Car',\n",
       " 'adSpecificsFuel': 'PETROL',\n",
       " 'adSpecificsHsn': '35',\n",
       " 'adSpecificsMake': 'Opel',\n",
       " 'adSpecificsMakeId': 19000,\n",
       " 'adSpecificsMakeModel': 'Opel Astra',\n",
       " 'adSpecificsMakeModelBase64': 'T3BlbCBBc3RyYQ==',\n",
       " 'adSpecificsModel': 'Astra',\n",
       " 'adSpecificsModelDescription': 'Astra Caravan 1,6 GL SSD, TÜV 07/2019',\n",
       " 'adSpecificsModelId': 5,\n",
       " 'adSpecificsTsn': '321',\n",
       " 'airbag': 'Front-Airbags',\n",
       " 'category': 'Kombi',\n",
       " 'climatisation': 'No Information',\n",
       " 'countryVersion': 'No Information',\n",
       " 'cubicCapacity': '1.598\\xa0cm³',\n",
       " 'dealerCity': 'Asperg/Ludwigsburg bei Stuttgart',\n",
       " 'dealerCountry': 'DE',\n",
       " 'dealerZip': '71679',\n",
       " 'description': 'Nichtraucherfahrzeug\\nTÜV 07/2019\\nschadstoffarm nach D3 (grüne Plakette)\\nGlasschiebe-/Hebedach\\nFrontairbags\\nRadio-Cassette \"Blaupunkt\"\\nColorverglasung\\nZentralverriegelung\\nNebelscheinwerfer\\nMittelarmlehne\\nDachreling\\nKopfstützen hinten\\nRücksitzlehne geteilt umlegbar\\nÄnderungen, Irrtümer und Zwischenverkauf vorbehalten (MB)',\n",
       " 'doorCount': '4/5',\n",
       " 'emissionsSticker': '4 (Grün)',\n",
       " 'envkv.consumption': 'No Information',\n",
       " 'envkv.emission': 'No Information',\n",
       " 'featureVariants': {},\n",
       " 'features': 'Ausstattung, Dachreling, Elektr. Wegfahrsperre, Nebelscheinwerfer, Nichtraucher-Fahrzeug, Schiebedach, Servolenkung, Skisack, Tuner/Radio, Zentralverriegelung',\n",
       " 'firstRegistration': '03/1996',\n",
       " 'firstSeen': '28.07.2017',\n",
       " 'fuel': 'Benzin',\n",
       " 'hu': '07/2019',\n",
       " 'interior': 'No Information',\n",
       " 'isDealer': True,\n",
       " 'lastSeen': '<built-in method date of datetime.datetime object at 0x000001B2C28565A8>',\n",
       " 'manufacturerColorName': 'No Information',\n",
       " 'mileage': '160.000\\xa0km',\n",
       " 'numSeats': '5',\n",
       " 'numberOfPreviousOwners': '1',\n",
       " 'parkAssist': 'No Information',\n",
       " 'power': '55\\xa0kW\\xa0(75\\xa0PS)',\n",
       " 'rbt-color': 'No Information',\n",
       " 'sellerType': 'DEALER',\n",
       " 'transmission': 'Schaltgetriebe',\n",
       " 'usersIpAddress': '84.153.133.0'}"
      ]
     },
     "execution_count": 88,
     "metadata": {},
     "output_type": "execute_result"
    }
   ],
   "source": [
    "i = 42\n",
    "allInfos = utils.getInfoFromPage(dataIDs[i, 1])\n",
    "allInfos['firstSeen'] = dataIDs[i][3]\n",
    "allInfos['lastSeen'] = str(datetime.datetime.now().date)\n",
    "allInfos"
   ]
  },
  {
   "cell_type": "code",
   "execution_count": 86,
   "metadata": {
    "collapsed": false
   },
   "outputs": [
    {
     "name": "stdout",
     "output_type": "stream",
     "text": [
      "https://suchen.mobile.de/fahrzeuge/details.html?id=248088646&damageUnrepaired=NO_DAMAGE_UNREPAIRED&isSearchRequest=true&maxPrice=1000&minPrice=0&pageNumber=1&scopeId=C&sortOption.sortBy=creationTime&sortOption.sortOrder=DESCENDING\n"
     ]
    }
   ],
   "source": [
    "print(dataIDs[i, 1])"
   ]
  },
  {
   "cell_type": "code",
   "execution_count": 78,
   "metadata": {
    "collapsed": false
   },
   "outputs": [
    {
     "data": {
      "text/plain": [
       "(('adid', None, None, None, None, None, None),\n",
       " ('adcondition', None, None, None, None, None, None),\n",
       " ('adcurrency', None, None, None, None, None, None),\n",
       " ('adfirstregmonth', None, None, None, None, None, None),\n",
       " ('adfirstregyear', None, None, None, None, None, None),\n",
       " ('adprice', None, None, None, None, None, None),\n",
       " ('adsegment', None, None, None, None, None, None),\n",
       " ('adspecificsfuel', None, None, None, None, None, None),\n",
       " ('adspecificshsn', None, None, None, None, None, None),\n",
       " ('adspecificsmake', None, None, None, None, None, None),\n",
       " ('adspecificsmakeid', None, None, None, None, None, None),\n",
       " ('adspecificsmakemodel', None, None, None, None, None, None),\n",
       " ('adspecificsmodel', None, None, None, None, None, None),\n",
       " ('adspecificsmodeldescription', None, None, None, None, None, None),\n",
       " ('adspecificsmodelid', None, None, None, None, None, None),\n",
       " ('dealercity', None, None, None, None, None, None),\n",
       " ('dealercountry', None, None, None, None, None, None),\n",
       " ('dealerzip', None, None, None, None, None, None),\n",
       " ('featurevariants', None, None, None, None, None, None),\n",
       " ('isdealer', None, None, None, None, None, None),\n",
       " ('sellertype', None, None, None, None, None, None),\n",
       " ('usersipaddress', None, None, None, None, None, None),\n",
       " ('category', None, None, None, None, None, None),\n",
       " ('countryversion', None, None, None, None, None, None),\n",
       " ('mileage', None, None, None, None, None, None),\n",
       " ('cubiccapacity', None, None, None, None, None, None),\n",
       " ('power', None, None, None, None, None, None),\n",
       " ('fuel', None, None, None, None, None, None),\n",
       " ('fuelconsumption', None, None, None, None, None, None),\n",
       " ('emission', None, None, None, None, None, None),\n",
       " ('numseats', None, None, None, None, None, None),\n",
       " ('doorcount', None, None, None, None, None, None),\n",
       " ('transmission', None, None, None, None, None, None),\n",
       " ('emissionssticker', None, None, None, None, None, None),\n",
       " ('firstregistration', None, None, None, None, None, None),\n",
       " ('numberofpreviousowners', None, None, None, None, None, None),\n",
       " ('hu', None, None, None, None, None, None),\n",
       " ('climatisation', None, None, None, None, None, None),\n",
       " ('parkassist', None, None, None, None, None, None),\n",
       " ('airbag', None, None, None, None, None, None),\n",
       " ('manufacturercolorname', None, None, None, None, None, None),\n",
       " ('color', None, None, None, None, None, None),\n",
       " ('interior', None, None, None, None, None, None),\n",
       " ('features', None, None, None, None, None, None),\n",
       " ('description', None, None, None, None, None, None),\n",
       " ('firstseen', None, None, None, None, None, None),\n",
       " ('lastseen', None, None, None, None, None, None))"
      ]
     },
     "execution_count": 78,
     "metadata": {},
     "output_type": "execute_result"
    }
   ],
   "source": [
    "cursor = database.getCursor()\n",
    "cursor.description"
   ]
  },
  {
   "cell_type": "code",
   "execution_count": 226,
   "metadata": {
    "collapsed": false,
    "scrolled": true
   },
   "outputs": [
    {
     "name": "stdout",
     "output_type": "stream",
     "text": [
      "adid\n",
      "adcondition\n",
      "adcurrency\n",
      "adfirstregmonth\n",
      "adfirstregyear\n",
      "adprice\n",
      "adsegment\n",
      "adspecificsfuel\n",
      "adspecificshsn\n",
      "adspecificsmake\n",
      "adspecificsmakeid\n",
      "adspecificsmakemodel\n",
      "adspecificsmodel\n",
      "adspecificsmodeldescription\n",
      "adspecificsmodelid\n",
      "dealercity\n",
      "dealercountry\n",
      "dealerzip\n",
      "featurevariants\n",
      "isdealer\n",
      "sellertype\n",
      "usersipaddress\n",
      "category\n",
      "countryversion\n",
      "mileage\n",
      "cubiccapacity\n",
      "power\n",
      "fuel\n",
      "fuelconsumption\n",
      "emission\n",
      "numseats\n",
      "doorcount\n",
      "transmission\n",
      "emissionssticker\n",
      "firstregistration\n",
      "numberofpreviousowners\n",
      "hu\n",
      "climatisation\n",
      "parkassist\n",
      "airbag\n",
      "manufacturercolorname\n",
      "color\n",
      "interior\n",
      "features\n",
      "description\n",
      "firstseen\n",
      "lastseen\n"
     ]
    }
   ],
   "source": [
    "for i in cursor.description:\n",
    "    print (i[0])"
   ]
  },
  {
   "cell_type": "code",
   "execution_count": 108,
   "metadata": {
    "collapsed": true
   },
   "outputs": [],
   "source": [
    "connection.close()"
   ]
  },
  {
   "cell_type": "code",
   "execution_count": null,
   "metadata": {
    "collapsed": true
   },
   "outputs": [],
   "source": []
  }
 ],
 "metadata": {
  "anaconda-cloud": {},
  "kernelspec": {
   "display_name": "Python 3",
   "language": "python",
   "name": "python3"
  },
  "language_info": {
   "codemirror_mode": {
    "name": "ipython",
    "version": 3
   },
   "file_extension": ".py",
   "mimetype": "text/x-python",
   "name": "python",
   "nbconvert_exporter": "python",
   "pygments_lexer": "ipython3",
   "version": "3.6.2"
  }
 },
 "nbformat": 4,
 "nbformat_minor": 1
}
