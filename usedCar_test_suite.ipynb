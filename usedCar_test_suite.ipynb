{
 "cells": [
  {
   "cell_type": "code",
   "execution_count": 1,
   "metadata": {
    "collapsed": false
   },
   "outputs": [],
   "source": [
    "# -*- coding: utf-8 -*-\n",
    "\n",
    "## standard packages\n",
    "import numpy as np\n",
    "import os\n",
    "import datetime\n",
    "\n",
    "## Config Parster for initiation\n",
    "import configparser\n",
    "\n",
    "## HTTP scraping packages\n",
    "from lxml import html\n",
    "import requests\n",
    "\n",
    "#import httplib2\n",
    "import urllib\n",
    "\n",
    "from bs4 import BeautifulSoup, SoupStrainer\n",
    "import json\n",
    "\n",
    "## Database\n",
    "import sqlite3\n",
    "\n",
    "from importlib import reload\n"
   ]
  },
  {
   "cell_type": "code",
   "execution_count": 2,
   "metadata": {
    "collapsed": false
   },
   "outputs": [
    {
     "data": {
      "text/plain": [
       "'/media/florian/Volume/GitHub_Projects/UsedCarStats'"
      ]
     },
     "execution_count": 2,
     "metadata": {},
     "output_type": "execute_result"
    }
   ],
   "source": [
    "os.getcwd()"
   ]
  },
  {
   "cell_type": "code",
   "execution_count": 3,
   "metadata": {
    "collapsed": false
   },
   "outputs": [
    {
     "data": {
      "text/plain": [
       "<module 'src.utils' from '/media/florian/Volume/GitHub_Projects/UsedCarStats/src/utils.py'>"
      ]
     },
     "execution_count": 3,
     "metadata": {},
     "output_type": "execute_result"
    }
   ],
   "source": [
    "import src.utils as utils\n",
    "reload(utils)"
   ]
  },
  {
   "cell_type": "markdown",
   "metadata": {},
   "source": [
    "First, let's get the specifics and urls saved in the config file"
   ]
  },
  {
   "cell_type": "code",
   "execution_count": 4,
   "metadata": {
    "collapsed": false,
    "scrolled": true
   },
   "outputs": [
    {
     "name": "stdout",
     "output_type": "stream",
     "text": [
      "WebPages\n",
      "additionalAdInfo\n",
      "dbFilepath\n",
      "dbInit\n"
     ]
    }
   ],
   "source": [
    "pagesConfig = configparser.ConfigParser()\n",
    "pagesConfig.read(\"config/siteSpecifics.ini\")\n",
    "\n",
    "for section in pagesConfig.sections():\n",
    "    print(section)\n",
    "    #for option in pagesConfig.options(section):\n",
    "        #print(option, pagesConfig.get(section, option))\n",
    "    #    print (section, option)"
   ]
  },
  {
   "cell_type": "code",
   "execution_count": 5,
   "metadata": {
    "collapsed": false
   },
   "outputs": [
    {
     "name": "stdout",
     "output_type": "stream",
     "text": [
      "http://suchen.mobile.de/fahrzeuge/search.html?damageUnrepaired=NO_DAMAGE_UNREPAIRED&scopeId=C&isSearchRequest=true&sortOption.sortBy=creationTime&sortOption.sortOrder=DESCENDING&pageNumber=\n"
     ]
    }
   ],
   "source": [
    "searchPage = pagesConfig.get('WebPages', 'mobile.de')\n",
    "print(searchPage)"
   ]
  },
  {
   "cell_type": "code",
   "execution_count": 6,
   "metadata": {
    "collapsed": false
   },
   "outputs": [
    {
     "name": "stdout",
     "output_type": "stream",
     "text": [
      "http://suchen.mobile.de/fahrzeuge/details.html?id=\n"
     ]
    }
   ],
   "source": [
    "idPage = pagesConfig.get('WebPages', 'mobile.de_ID')\n",
    "print(idPage)"
   ]
  },
  {
   "cell_type": "markdown",
   "metadata": {},
   "source": [
    "connect to database"
   ]
  },
  {
   "cell_type": "code",
   "execution_count": 8,
   "metadata": {
    "collapsed": false
   },
   "outputs": [],
   "source": [
    "reload(utils)\n",
    "#database.close()\n",
    "database = utils.DataBase(os.getcwd() + '/src/DataBase/carStats.db')\n",
    "database.connect()"
   ]
  },
  {
   "cell_type": "code",
   "execution_count": 9,
   "metadata": {
    "collapsed": false
   },
   "outputs": [
    {
     "data": {
      "text/plain": [
       "[('car',)]"
      ]
     },
     "execution_count": 9,
     "metadata": {},
     "output_type": "execute_result"
    }
   ],
   "source": [
    "#database.deleteAllContents('car')\n",
    "database.getTableNames()"
   ]
  },
  {
   "cell_type": "code",
   "execution_count": 10,
   "metadata": {
    "collapsed": true
   },
   "outputs": [],
   "source": [
    "database.save()"
   ]
  },
  {
   "cell_type": "markdown",
   "metadata": {},
   "source": [
    "initialize scraping object"
   ]
  },
  {
   "cell_type": "code",
   "execution_count": 11,
   "metadata": {
    "collapsed": false,
    "scrolled": true
   },
   "outputs": [],
   "source": [
    "scraping = utils.htmlScraping(searchPage, idPage, database)"
   ]
  },
  {
   "cell_type": "markdown",
   "metadata": {},
   "source": [
    "set scraping limits and stepsize"
   ]
  },
  {
   "cell_type": "code",
   "execution_count": 12,
   "metadata": {
    "collapsed": false
   },
   "outputs": [
    {
     "data": {
      "text/plain": [
       "251"
      ]
     },
     "execution_count": 12,
     "metadata": {},
     "output_type": "execute_result"
    }
   ],
   "source": [
    "scraping.setPriceStepList(0, 50000, 200)\n",
    "priceStepList = scraping.getPriceStepList()\n",
    "len(priceStepList)"
   ]
  },
  {
   "cell_type": "code",
   "execution_count": 99,
   "metadata": {
    "collapsed": false
   },
   "outputs": [
    {
     "data": {
      "text/plain": [
       "41.666666666666664"
      ]
     },
     "execution_count": 99,
     "metadata": {},
     "output_type": "execute_result"
    }
   ],
   "source": [
    "250*10/60."
   ]
  },
  {
   "cell_type": "markdown",
   "metadata": {},
   "source": [
    "run scraping"
   ]
  },
  {
   "cell_type": "code",
   "execution_count": 13,
   "metadata": {
    "collapsed": false,
    "scrolled": true
   },
   "outputs": [
    {
     "name": "stdout",
     "output_type": "stream",
     "text": [
      "50 / 50, current price range: 0 - 200 Euros\n",
      " (70, 4)\n",
      "50 / 50, current price range: 200 - 400 Euros\n",
      " (311, 4)\n",
      "50 / 50, current price range: 400 - 600 Euros\n",
      " (956, 4)\n",
      "Error during getting Information from Page at: 18\n",
      "249121154\n",
      "Expecting value: line 1 column 2 (char 1)\n",
      "Error during translating/writing Information to DB at: 18\n",
      "249121154\n",
      "'NoneType' object has no attribute 'items'\n",
      "Error during getting Information from Page at: 494\n",
      "249058940\n",
      "Expecting value: line 1 column 2 (char 1)\n",
      "Error during translating/writing Information to DB at: 494\n",
      "249058940\n",
      "'NoneType' object has no attribute 'items'\n",
      "Error during getting Information from Page at: 933\n",
      "249000584\n",
      "Expecting value: line 1 column 2 (char 1)\n",
      "Error during translating/writing Information to DB at: 933\n",
      "249000584\n",
      "'NoneType' object has no attribute 'items'\n",
      "50 / 50, current price range: 600 - 800 Euros\n",
      " (848, 4)\n",
      "Error during getting Information from Page at: 612\n",
      "249058863\n",
      "Expecting value: line 1 column 2 (char 1)\n",
      "Error during translating/writing Information to DB at: 612\n",
      "249058863\n",
      "'NoneType' object has no attribute 'items'\n",
      "50 / 50, current price range: 800 - 1000 Euros\n",
      " (889, 4)\n",
      "50 / 50, current price range: 1000 - 1200 Euros\n",
      " (848, 4)\n",
      "50 / 50, current price range: 1200 - 1400 Euros\n",
      " (720, 4)\n",
      "Error during getting Information from Page at: 345\n",
      "249093096\n",
      "Expecting value: line 1 column 2 (char 1)\n",
      "Error during translating/writing Information to DB at: 345\n",
      "249093096\n",
      "'NoneType' object has no attribute 'items'\n",
      "50 / 50, current price range: 1400 - 1600 Euros\n",
      " (898, 4)\n",
      "50 / 50, current price range: 1600 - 1800 Euros\n",
      " (854, 4)\n",
      "Error during getting Information from Page at: 40\n",
      "249124284\n",
      "Expecting value: line 1 column 2 (char 1)\n",
      "Error during translating/writing Information to DB at: 40\n",
      "249124284\n",
      "'NoneType' object has no attribute 'items'\n",
      "Error during getting Information from Page at: 549\n",
      "249075596\n",
      "Expecting value: line 1 column 2 (char 1)\n",
      "Error during translating/writing Information to DB at: 549\n",
      "249075596\n",
      "'NoneType' object has no attribute 'items'\n",
      "Error during getting Information from Page at: 786\n",
      "249048722\n",
      "Expecting value: line 1 column 2 (char 1)\n",
      "Error during translating/writing Information to DB at: 786\n",
      "249048722\n",
      "'NoneType' object has no attribute 'items'\n",
      "Error during getting Information from Page at: 831\n",
      "249044817\n",
      "Expecting value: line 1 column 2 (char 1)\n",
      "Error during translating/writing Information to DB at: 831\n",
      "249044817\n",
      "'NoneType' object has no attribute 'items'\n",
      "50 / 50, current price range: 1800 - 2000 Euros\n",
      " (884, 4)\n",
      "50 / 50, current price range: 2000 - 2200 Euros\n",
      " (885, 4)\n",
      "Error during getting Information from Page at: 664\n",
      "249024055\n",
      "Expecting value: line 1 column 2 (char 1)\n",
      "Error during translating/writing Information to DB at: 664\n",
      "249024055\n",
      "'NoneType' object has no attribute 'items'\n",
      "50 / 50, current price range: 2200 - 2400 Euros\n",
      " (741, 4)\n",
      "1 / 7410\n",
      "Error during getting Information from Page at: 256\n",
      "249100892\n",
      "Expecting value: line 1 column 2 (char 1)\n",
      "Error during translating/writing Information to DB at: 256\n",
      "249100892\n",
      "'NoneType' object has no attribute 'items'\n",
      "Error during getting Information from Page at: 465\n",
      "249072819\n",
      "Expecting value: line 1 column 2 (char 1)\n",
      "Error during translating/writing Information to DB at: 465\n",
      "249072819\n",
      "'NoneType' object has no attribute 'items'\n",
      "Error during getting Information from Page at: 490\n",
      "249067482\n",
      "Expecting value: line 1 column 2 (char 1)\n",
      "Error during translating/writing Information to DB at: 490\n",
      "249067482\n",
      "'NoneType' object has no attribute 'items'\n",
      "50 / 50, current price range: 2400 - 2600 Euros\n",
      " (893, 4)\n",
      "Error during getting Information from Page at: 796\n",
      "249059510\n",
      "Expecting value: line 1 column 2 (char 1)\n",
      "Error during translating/writing Information to DB at: 796\n",
      "249059510\n",
      "'NoneType' object has no attribute 'items'\n",
      "50 / 50, current price range: 2600 - 2800 Euros\n",
      " (880, 4)\n",
      "50 / 50, current price range: 2800 - 3000 Euros\n",
      " (874, 4)\n",
      "50 / 50, current price range: 3000 - 3200 Euros\n",
      " (752, 4)\n",
      "Error during getting Information from Page at: 244\n",
      "249071427\n",
      "Expecting value: line 1 column 2 (char 1)\n",
      "Error during translating/writing Information to DB at: 244\n",
      "249071427\n",
      "'NoneType' object has no attribute 'items'\n",
      "50 / 50, current price range: 3200 - 3400 Euros\n",
      " (719, 4)\n",
      "50 / 50, current price range: 3400 - 3600 Euros\n",
      " (906, 4)\n",
      "50 / 50, current price range: 3600 - 3800 Euros\n",
      " (904, 4)\n",
      "50 / 50, current price range: 3800 - 4000 Euros\n",
      " (901, 4)\n",
      "Error during getting Information from Page at: 882\n",
      "249087741\n",
      "Expecting value: line 1 column 2 (char 1)\n",
      "Error during translating/writing Information to DB at: 882\n",
      "249087741\n",
      "'NoneType' object has no attribute 'items'\n",
      "50 / 50, current price range: 4000 - 4200 Euros\n",
      " (503, 4)\n",
      "50 / 50, current price range: 4200 - 4400 Euros\n",
      " (708, 4)\n",
      "Error during getting Information from Page at: 453\n",
      "242911022\n",
      "Expecting value: line 1 column 2 (char 1)\n",
      "Error during translating/writing Information to DB at: 453\n",
      "242911022\n",
      "'NoneType' object has no attribute 'items'\n",
      "Error during getting Information from Page at: 465\n",
      "249031834\n",
      "Expecting value: line 1 column 2 (char 1)\n",
      "Error during translating/writing Information to DB at: 465\n",
      "249031834\n",
      "'NoneType' object has no attribute 'items'\n",
      "Error during getting Information from Page at: 480\n",
      "249027314\n",
      "Expecting value: line 1 column 2 (char 1)\n",
      "Error during translating/writing Information to DB at: 480\n",
      "249027314\n",
      "'NoneType' object has no attribute 'items'\n",
      "Error during getting Information from Page at: 546\n",
      "249006220\n",
      "Expecting value: line 1 column 2 (char 1)\n",
      "Error during translating/writing Information to DB at: 546\n",
      "249006220\n",
      "'NoneType' object has no attribute 'items'\n",
      "Error during getting Information from Page at: 562\n",
      "249002675\n",
      "Expecting value: line 1 column 2 (char 1)\n",
      "Error during translating/writing Information to DB at: 562\n",
      "249002675\n",
      "'NoneType' object has no attribute 'items'\n",
      "Error during getting Information from Page at: 563\n",
      "247542209\n",
      "Expecting value: line 1 column 2 (char 1)\n",
      "Error during translating/writing Information to DB at: 563\n",
      "247542209\n",
      "'NoneType' object has no attribute 'items'\n",
      "Error during getting Information from Page at: 613\n",
      "248993963\n",
      "Expecting value: line 1 column 2 (char 1)\n",
      "Error during translating/writing Information to DB at: 613\n",
      "248993963\n",
      "'NoneType' object has no attribute 'items'\n",
      "Error during getting Information from Page at: 615\n",
      "248993844\n",
      "Expecting value: line 1 column 2 (char 1)\n",
      "Error during translating/writing Information to DB at: 615\n",
      "248993844\n",
      "'NoneType' object has no attribute 'items'\n",
      "Error during getting Information from Page at: 616\n",
      "248993606\n",
      "Expecting value: line 1 column 2 (char 1)\n",
      "Error during translating/writing Information to DB at: 616\n",
      "248993606\n",
      "'NoneType' object has no attribute 'items'\n",
      "50 / 50, current price range: 4400 - 4600 Euros\n",
      " (875, 4)\n",
      "50 / 50, current price range: 4600 - 4800 Euros\n",
      " (863, 4)\n",
      "50 / 50, current price range: 4800 - 5000 Euros\n",
      " (896, 4)\n",
      "50 / 50, current price range: 5000 - 5200 Euros\n",
      " (433, 4)\n",
      "50 / 50, current price range: 5200 - 5400 Euros\n",
      " (545, 4)\n",
      "50 / 50, current price range: 5400 - 5600 Euros\n",
      " (906, 4)\n",
      "Error during getting Information from Page at: 572\n",
      "249057653\n",
      "Expecting value: line 1 column 2 (char 1)\n",
      "Error during translating/writing Information to DB at: 572\n",
      "249057653\n",
      "'NoneType' object has no attribute 'items'\n",
      "50 / 50, current price range: 5600 - 5800 Euros\n",
      " (750, 4)\n",
      "Error during getting Information from Page at: 388\n",
      "249053129\n",
      "Expecting value: line 1 column 2 (char 1)\n",
      "Error during translating/writing Information to DB at: 388\n",
      "249053129\n",
      "'NoneType' object has no attribute 'items'\n",
      "50 / 50, current price range: 5800 - 6000 Euros\n",
      " (922, 4)\n",
      "50 / 50, current price range: 6000 - 6200 Euros\n",
      " (406, 4)\n",
      "50 / 50, current price range: 6200 - 6400 Euros\n",
      " (566, 4)\n",
      "50 / 50, current price range: 6400 - 6600 Euros\n",
      " (910, 4)\n",
      "50 / 50, current price range: 6600 - 6800 Euros\n",
      " (703, 4)\n",
      "50 / 50, current price range: 6800 - 7000 Euros\n",
      " (911, 4)\n",
      "50 / 50, current price range: 7000 - 7200 Euros\n",
      " (411, 4)\n",
      "50 / 50, current price range: 7200 - 7400 Euros\n",
      " (516, 4)\n",
      "50 / 50, current price range: 7400 - 7600 Euros\n",
      " (901, 4)\n",
      "50 / 50, current price range: 7600 - 7800 Euros\n",
      " (679, 4)\n",
      "Error during getting Information from Page at: 153\n",
      "249104407\n",
      "Expecting value: line 1 column 2 (char 1)\n",
      "Error during translating/writing Information to DB at: 153\n",
      "249104407\n",
      "'NoneType' object has no attribute 'items'\n",
      "50 / 50, current price range: 7800 - 8000 Euros\n",
      " (918, 4)\n",
      "50 / 50, current price range: 8000 - 8200 Euros\n",
      " (354, 4)\n",
      "50 / 50, current price range: 8200 - 8400 Euros\n",
      " (546, 4)\n",
      "50 / 50, current price range: 8400 - 8600 Euros\n",
      " (905, 4)\n",
      "50 / 50, current price range: 8600 - 8800 Euros\n",
      " (916, 4)\n",
      "Error during getting Information from Page at: 231\n",
      "249089607\n",
      "Expecting value: line 1 column 2 (char 1)\n",
      "Error during translating/writing Information to DB at: 231\n",
      "249089607\n",
      "'NoneType' object has no attribute 'items'\n",
      "Error during getting Information from Page at: 298\n",
      "249065051\n",
      "Expecting value: line 1 column 2 (char 1)\n",
      "Error during translating/writing Information to DB at: 298\n",
      "249065051\n",
      "'NoneType' object has no attribute 'items'\n",
      "Error during getting Information from Page at: 354\n",
      "249048341\n",
      "Expecting value: line 1 column 2 (char 1)\n",
      "Error during translating/writing Information to DB at: 354\n",
      "249048341\n",
      "'NoneType' object has no attribute 'items'\n",
      "Error during getting Information from Page at: 358\n",
      "237477118\n",
      "Expecting value: line 1 column 2 (char 1)\n",
      "Error during translating/writing Information to DB at: 358\n",
      "237477118\n",
      "'NoneType' object has no attribute 'items'\n",
      "Error during getting Information from Page at: 375\n",
      "249042809\n",
      "Expecting value: line 1 column 2 (char 1)\n",
      "Error during translating/writing Information to DB at: 375\n",
      "249042809\n",
      "'NoneType' object has no attribute 'items'\n",
      "Error during getting Information from Page at: 387\n",
      "249040933\n",
      "Expecting value: line 1 column 2 (char 1)\n",
      "Error during translating/writing Information to DB at: 387\n",
      "249040933\n",
      "'NoneType' object has no attribute 'items'\n",
      "Error during getting Information from Page at: 388\n",
      "246439115\n",
      "Expecting value: line 1 column 2 (char 1)\n",
      "Error during translating/writing Information to DB at: 388\n",
      "246439115\n",
      "'NoneType' object has no attribute 'items'\n",
      "Error during getting Information from Page at: 407\n",
      "249033879\n",
      "Expecting value: line 1 column 2 (char 1)\n",
      "Error during translating/writing Information to DB at: 407\n",
      "249033879\n",
      "'NoneType' object has no attribute 'items'\n",
      "Error during getting Information from Page at: 632\n",
      "247062102\n",
      "Expecting value: line 1 column 2 (char 1)\n",
      "Error during translating/writing Information to DB at: 632\n",
      "247062102\n",
      "'NoneType' object has no attribute 'items'\n",
      "Error during getting Information from Page at: 649\n",
      "245637670\n",
      "Expecting value: line 1 column 2 (char 1)\n",
      "Error during translating/writing Information to DB at: 649\n",
      "245637670\n",
      "'NoneType' object has no attribute 'items'\n",
      "50 / 50, current price range: 8800 - 9000 Euros\n",
      " (948, 4)\n",
      "50 / 50, current price range: 9000 - 9200 Euros\n",
      " (943, 4)\n",
      "1 / 9430\n",
      "50 / 50, current price range: 9200 - 9400 Euros\n",
      " (833, 4)\n",
      "50 / 50, current price range: 9400 - 9600 Euros\n",
      " (954, 4)\n",
      "50 / 50, current price range: 9600 - 9800 Euros\n",
      " (966, 4)\n",
      "50 / 50, current price range: 9800 - 10000 Euros\n",
      " (957, 4)\n",
      "3 / 50, current price range: 10000 - 10200 Euros"
     ]
    },
    {
     "ename": "KeyboardInterrupt",
     "evalue": "",
     "output_type": "error",
     "traceback": [
      "\u001b[0;31m---------------------------------------------------------------------------\u001b[0m",
      "\u001b[0;31mKeyboardInterrupt\u001b[0m                         Traceback (most recent call last)",
      "\u001b[0;32m<ipython-input-13-1fda1d61ea82>\u001b[0m in \u001b[0;36m<module>\u001b[0;34m()\u001b[0m\n\u001b[0;32m----> 1\u001b[0;31m \u001b[0mscraping\u001b[0m\u001b[0;34m.\u001b[0m\u001b[0mautoScraping\u001b[0m\u001b[0;34m(\u001b[0m\u001b[0;34m)\u001b[0m\u001b[0;34m\u001b[0m\u001b[0m\n\u001b[0m",
      "\u001b[0;32m/media/florian/Volume/GitHub_Projects/UsedCarStats/src/utils.py\u001b[0m in \u001b[0;36mautoScraping\u001b[0;34m(self)\u001b[0m\n\u001b[1;32m    123\u001b[0m             \u001b[0mmaxPrice\u001b[0m \u001b[0;34m=\u001b[0m \u001b[0mself\u001b[0m\u001b[0;34m.\u001b[0m\u001b[0m_priceStepList\u001b[0m\u001b[0;34m[\u001b[0m\u001b[0mi\u001b[0m\u001b[0;34m+\u001b[0m\u001b[0;36m1\u001b[0m\u001b[0;34m]\u001b[0m\u001b[0;34m\u001b[0m\u001b[0m\n\u001b[1;32m    124\u001b[0m \u001b[0;34m\u001b[0m\u001b[0m\n\u001b[0;32m--> 125\u001b[0;31m             \u001b[0madIDList\u001b[0m \u001b[0;34m=\u001b[0m \u001b[0mself\u001b[0m\u001b[0;34m.\u001b[0m\u001b[0mscrapeAdIDs\u001b[0m\u001b[0;34m(\u001b[0m\u001b[0mminPrice\u001b[0m\u001b[0;34m,\u001b[0m \u001b[0mmaxPrice\u001b[0m\u001b[0;34m)\u001b[0m\u001b[0;34m\u001b[0m\u001b[0m\n\u001b[0m\u001b[1;32m    126\u001b[0m             \u001b[0mprint\u001b[0m\u001b[0;34m(\u001b[0m\u001b[0;34m\"\\n\"\u001b[0m\u001b[0;34m,\u001b[0m \u001b[0madIDList\u001b[0m\u001b[0;34m.\u001b[0m\u001b[0mshape\u001b[0m\u001b[0;34m)\u001b[0m\u001b[0;34m\u001b[0m\u001b[0m\n\u001b[1;32m    127\u001b[0m             \u001b[0mself\u001b[0m\u001b[0;34m.\u001b[0m\u001b[0mscrapeWithID\u001b[0m\u001b[0;34m(\u001b[0m\u001b[0meraseIDList\u001b[0m\u001b[0;34m=\u001b[0m\u001b[0;32mTrue\u001b[0m\u001b[0;34m)\u001b[0m\u001b[0;34m\u001b[0m\u001b[0m\n",
      "\u001b[0;32m/media/florian/Volume/GitHub_Projects/UsedCarStats/src/utils.py\u001b[0m in \u001b[0;36mscrapeAdIDs\u001b[0;34m(self, minPrice, maxPrice)\u001b[0m\n\u001b[1;32m    151\u001b[0m             \u001b[0mpayload\u001b[0m\u001b[0;34m[\u001b[0m\u001b[0;34m'pageNumber'\u001b[0m\u001b[0;34m]\u001b[0m \u001b[0;34m=\u001b[0m \u001b[0mi\u001b[0m\u001b[0;34m+\u001b[0m\u001b[0;36m1\u001b[0m\u001b[0;34m\u001b[0m\u001b[0m\n\u001b[1;32m    152\u001b[0m             \u001b[0mreq\u001b[0m \u001b[0;34m=\u001b[0m \u001b[0mrequests\u001b[0m\u001b[0;34m.\u001b[0m\u001b[0mget\u001b[0m\u001b[0;34m(\u001b[0m\u001b[0mself\u001b[0m\u001b[0;34m.\u001b[0m\u001b[0m_pageBase\u001b[0m\u001b[0;34m,\u001b[0m \u001b[0mparams\u001b[0m\u001b[0;34m=\u001b[0m\u001b[0mpayload\u001b[0m\u001b[0;34m,\u001b[0m \u001b[0mheaders\u001b[0m\u001b[0;34m=\u001b[0m\u001b[0mself\u001b[0m\u001b[0;34m.\u001b[0m\u001b[0m_headers\u001b[0m\u001b[0;34m)\u001b[0m \u001b[0;31m# create searchPageURL\u001b[0m\u001b[0;34m\u001b[0m\u001b[0m\n\u001b[0;32m--> 153\u001b[0;31m             \u001b[0msoup\u001b[0m \u001b[0;34m=\u001b[0m \u001b[0mBeautifulSoup\u001b[0m\u001b[0;34m(\u001b[0m\u001b[0mreq\u001b[0m\u001b[0;34m.\u001b[0m\u001b[0mtext\u001b[0m\u001b[0;34m,\u001b[0m \u001b[0;34m\"lxml\"\u001b[0m\u001b[0;34m)\u001b[0m\u001b[0;34m\u001b[0m\u001b[0m\n\u001b[0m\u001b[1;32m    154\u001b[0m             \u001b[0;32mfor\u001b[0m \u001b[0mlink\u001b[0m \u001b[0;32min\u001b[0m \u001b[0msoup\u001b[0m\u001b[0;34m.\u001b[0m\u001b[0mfind_all\u001b[0m\u001b[0;34m(\u001b[0m\u001b[0;34m'a'\u001b[0m\u001b[0;34m)\u001b[0m\u001b[0;34m:\u001b[0m \u001b[0;31m# find all links\u001b[0m\u001b[0;34m\u001b[0m\u001b[0m\n\u001b[1;32m    155\u001b[0m                 \u001b[0;32mif\u001b[0m \u001b[0mlink\u001b[0m\u001b[0;34m.\u001b[0m\u001b[0mhas_attr\u001b[0m\u001b[0;34m(\u001b[0m\u001b[0;34m'data-ad-id'\u001b[0m\u001b[0;34m)\u001b[0m\u001b[0;34m:\u001b[0m\u001b[0;34m\u001b[0m\u001b[0m\n",
      "\u001b[0;32m/home/florian/anaconda3/lib/python3.5/site-packages/bs4/__init__.py\u001b[0m in \u001b[0;36m__init__\u001b[0;34m(self, markup, features, builder, parse_only, from_encoding, exclude_encodings, **kwargs)\u001b[0m\n\u001b[1;32m    226\u001b[0m             \u001b[0mself\u001b[0m\u001b[0;34m.\u001b[0m\u001b[0mreset\u001b[0m\u001b[0;34m(\u001b[0m\u001b[0;34m)\u001b[0m\u001b[0;34m\u001b[0m\u001b[0m\n\u001b[1;32m    227\u001b[0m             \u001b[0;32mtry\u001b[0m\u001b[0;34m:\u001b[0m\u001b[0;34m\u001b[0m\u001b[0m\n\u001b[0;32m--> 228\u001b[0;31m                 \u001b[0mself\u001b[0m\u001b[0;34m.\u001b[0m\u001b[0m_feed\u001b[0m\u001b[0;34m(\u001b[0m\u001b[0;34m)\u001b[0m\u001b[0;34m\u001b[0m\u001b[0m\n\u001b[0m\u001b[1;32m    229\u001b[0m                 \u001b[0;32mbreak\u001b[0m\u001b[0;34m\u001b[0m\u001b[0m\n\u001b[1;32m    230\u001b[0m             \u001b[0;32mexcept\u001b[0m \u001b[0mParserRejectedMarkup\u001b[0m\u001b[0;34m:\u001b[0m\u001b[0;34m\u001b[0m\u001b[0m\n",
      "\u001b[0;32m/home/florian/anaconda3/lib/python3.5/site-packages/bs4/__init__.py\u001b[0m in \u001b[0;36m_feed\u001b[0;34m(self)\u001b[0m\n\u001b[1;32m    287\u001b[0m         \u001b[0mself\u001b[0m\u001b[0;34m.\u001b[0m\u001b[0mbuilder\u001b[0m\u001b[0;34m.\u001b[0m\u001b[0mreset\u001b[0m\u001b[0;34m(\u001b[0m\u001b[0;34m)\u001b[0m\u001b[0;34m\u001b[0m\u001b[0m\n\u001b[1;32m    288\u001b[0m \u001b[0;34m\u001b[0m\u001b[0m\n\u001b[0;32m--> 289\u001b[0;31m         \u001b[0mself\u001b[0m\u001b[0;34m.\u001b[0m\u001b[0mbuilder\u001b[0m\u001b[0;34m.\u001b[0m\u001b[0mfeed\u001b[0m\u001b[0;34m(\u001b[0m\u001b[0mself\u001b[0m\u001b[0;34m.\u001b[0m\u001b[0mmarkup\u001b[0m\u001b[0;34m)\u001b[0m\u001b[0;34m\u001b[0m\u001b[0m\n\u001b[0m\u001b[1;32m    290\u001b[0m         \u001b[0;31m# Close out any unfinished strings and close all the open tags.\u001b[0m\u001b[0;34m\u001b[0m\u001b[0;34m\u001b[0m\u001b[0m\n\u001b[1;32m    291\u001b[0m         \u001b[0mself\u001b[0m\u001b[0;34m.\u001b[0m\u001b[0mendData\u001b[0m\u001b[0;34m(\u001b[0m\u001b[0;34m)\u001b[0m\u001b[0;34m\u001b[0m\u001b[0m\n",
      "\u001b[0;32m/home/florian/anaconda3/lib/python3.5/site-packages/bs4/builder/_lxml.py\u001b[0m in \u001b[0;36mfeed\u001b[0;34m(self, markup)\u001b[0m\n\u001b[1;32m    248\u001b[0m         \u001b[0;32mtry\u001b[0m\u001b[0;34m:\u001b[0m\u001b[0;34m\u001b[0m\u001b[0m\n\u001b[1;32m    249\u001b[0m             \u001b[0mself\u001b[0m\u001b[0;34m.\u001b[0m\u001b[0mparser\u001b[0m \u001b[0;34m=\u001b[0m \u001b[0mself\u001b[0m\u001b[0;34m.\u001b[0m\u001b[0mparser_for\u001b[0m\u001b[0;34m(\u001b[0m\u001b[0mencoding\u001b[0m\u001b[0;34m)\u001b[0m\u001b[0;34m\u001b[0m\u001b[0m\n\u001b[0;32m--> 250\u001b[0;31m             \u001b[0mself\u001b[0m\u001b[0;34m.\u001b[0m\u001b[0mparser\u001b[0m\u001b[0;34m.\u001b[0m\u001b[0mfeed\u001b[0m\u001b[0;34m(\u001b[0m\u001b[0mmarkup\u001b[0m\u001b[0;34m)\u001b[0m\u001b[0;34m\u001b[0m\u001b[0m\n\u001b[0m\u001b[1;32m    251\u001b[0m             \u001b[0mself\u001b[0m\u001b[0;34m.\u001b[0m\u001b[0mparser\u001b[0m\u001b[0;34m.\u001b[0m\u001b[0mclose\u001b[0m\u001b[0;34m(\u001b[0m\u001b[0;34m)\u001b[0m\u001b[0;34m\u001b[0m\u001b[0m\n\u001b[1;32m    252\u001b[0m         \u001b[0;32mexcept\u001b[0m \u001b[0;34m(\u001b[0m\u001b[0mUnicodeDecodeError\u001b[0m\u001b[0;34m,\u001b[0m \u001b[0mLookupError\u001b[0m\u001b[0;34m,\u001b[0m \u001b[0metree\u001b[0m\u001b[0;34m.\u001b[0m\u001b[0mParserError\u001b[0m\u001b[0;34m)\u001b[0m \u001b[0;32mas\u001b[0m \u001b[0me\u001b[0m\u001b[0;34m:\u001b[0m\u001b[0;34m\u001b[0m\u001b[0m\n",
      "\u001b[0;32msrc/lxml/parser.pxi\u001b[0m in \u001b[0;36mlxml.etree._FeedParser.feed (src/lxml/lxml.etree.c:112202)\u001b[0;34m()\u001b[0m\n",
      "\u001b[0;32msrc/lxml/parser.pxi\u001b[0m in \u001b[0;36mlxml.etree._FeedParser.feed (src/lxml/lxml.etree.c:112077)\u001b[0;34m()\u001b[0m\n",
      "\u001b[0;32msrc/lxml/parsertarget.pxi\u001b[0m in \u001b[0;36mlxml.etree._TargetParserContext._handleParseResult (src/lxml/lxml.etree.c:128526)\u001b[0;34m()\u001b[0m\n",
      "\u001b[0;32msrc/lxml/parsertarget.pxi\u001b[0m in \u001b[0;36mlxml.etree._TargetParserContext._handleParseResult (src/lxml/lxml.etree.c:128396)\u001b[0;34m()\u001b[0m\n",
      "\u001b[0;32msrc/lxml/lxml.etree.pyx\u001b[0m in \u001b[0;36mlxml.etree._ExceptionContext._raise_if_stored (src/lxml/lxml.etree.c:10741)\u001b[0;34m()\u001b[0m\n",
      "\u001b[0;32msrc/lxml/saxparser.pxi\u001b[0m in \u001b[0;36mlxml.etree._handleSaxTargetStartNoNs (src/lxml/lxml.etree.c:121065)\u001b[0;34m()\u001b[0m\n",
      "\u001b[0;32msrc/lxml/saxparser.pxi\u001b[0m in \u001b[0;36mlxml.etree._callTargetSaxStart (src/lxml/lxml.etree.c:121259)\u001b[0;34m()\u001b[0m\n",
      "\u001b[0;32msrc/lxml/parsertarget.pxi\u001b[0m in \u001b[0;36mlxml.etree._PythonSaxParserTarget._handleSaxStart (src/lxml/lxml.etree.c:127508)\u001b[0;34m()\u001b[0m\n",
      "\u001b[0;32m/home/florian/anaconda3/lib/python3.5/site-packages/bs4/builder/_lxml.py\u001b[0m in \u001b[0;36mstart\u001b[0;34m(self, name, attrs, nsmap)\u001b[0m\n\u001b[1;32m    181\u001b[0m         \u001b[0mnamespace\u001b[0m\u001b[0;34m,\u001b[0m \u001b[0mname\u001b[0m \u001b[0;34m=\u001b[0m \u001b[0mself\u001b[0m\u001b[0;34m.\u001b[0m\u001b[0m_getNsTag\u001b[0m\u001b[0;34m(\u001b[0m\u001b[0mname\u001b[0m\u001b[0;34m)\u001b[0m\u001b[0;34m\u001b[0m\u001b[0m\n\u001b[1;32m    182\u001b[0m         \u001b[0mnsprefix\u001b[0m \u001b[0;34m=\u001b[0m \u001b[0mself\u001b[0m\u001b[0;34m.\u001b[0m\u001b[0m_prefix_for_namespace\u001b[0m\u001b[0;34m(\u001b[0m\u001b[0mnamespace\u001b[0m\u001b[0;34m)\u001b[0m\u001b[0;34m\u001b[0m\u001b[0m\n\u001b[0;32m--> 183\u001b[0;31m         \u001b[0mself\u001b[0m\u001b[0;34m.\u001b[0m\u001b[0msoup\u001b[0m\u001b[0;34m.\u001b[0m\u001b[0mhandle_starttag\u001b[0m\u001b[0;34m(\u001b[0m\u001b[0mname\u001b[0m\u001b[0;34m,\u001b[0m \u001b[0mnamespace\u001b[0m\u001b[0;34m,\u001b[0m \u001b[0mnsprefix\u001b[0m\u001b[0;34m,\u001b[0m \u001b[0mattrs\u001b[0m\u001b[0;34m)\u001b[0m\u001b[0;34m\u001b[0m\u001b[0m\n\u001b[0m\u001b[1;32m    184\u001b[0m \u001b[0;34m\u001b[0m\u001b[0m\n\u001b[1;32m    185\u001b[0m     \u001b[0;32mdef\u001b[0m \u001b[0m_prefix_for_namespace\u001b[0m\u001b[0;34m(\u001b[0m\u001b[0mself\u001b[0m\u001b[0;34m,\u001b[0m \u001b[0mnamespace\u001b[0m\u001b[0;34m)\u001b[0m\u001b[0;34m:\u001b[0m\u001b[0;34m\u001b[0m\u001b[0m\n",
      "\u001b[0;32m/home/florian/anaconda3/lib/python3.5/site-packages/bs4/__init__.py\u001b[0m in \u001b[0;36mhandle_starttag\u001b[0;34m(self, name, namespace, nsprefix, attrs)\u001b[0m\n\u001b[1;32m    463\u001b[0m \u001b[0;34m\u001b[0m\u001b[0m\n\u001b[1;32m    464\u001b[0m         tag = Tag(self, self.builder, name, namespace, nsprefix, attrs,\n\u001b[0;32m--> 465\u001b[0;31m                   self.currentTag, self._most_recent_element)\n\u001b[0m\u001b[1;32m    466\u001b[0m         \u001b[0;32mif\u001b[0m \u001b[0mtag\u001b[0m \u001b[0;32mis\u001b[0m \u001b[0;32mNone\u001b[0m\u001b[0;34m:\u001b[0m\u001b[0;34m\u001b[0m\u001b[0m\n\u001b[1;32m    467\u001b[0m             \u001b[0;32mreturn\u001b[0m \u001b[0mtag\u001b[0m\u001b[0;34m\u001b[0m\u001b[0m\n",
      "\u001b[0;31mKeyboardInterrupt\u001b[0m: "
     ]
    }
   ],
   "source": [
    "scraping.autoScraping()"
   ]
  },
  {
   "cell_type": "code",
   "execution_count": null,
   "metadata": {
    "collapsed": true
   },
   "outputs": [],
   "source": [
    "database.save()\n",
    "database.close()"
   ]
  },
  {
   "cell_type": "code",
   "execution_count": 97,
   "metadata": {
    "collapsed": false
   },
   "outputs": [
    {
     "data": {
      "text/plain": [
       "2540"
      ]
     },
     "execution_count": 97,
     "metadata": {},
     "output_type": "execute_result"
    }
   ],
   "source": [
    "allData = database.execute(\"\"\"SELECT * from car\"\"\")\n",
    "len(allData)"
   ]
  },
  {
   "cell_type": "code",
   "execution_count": 65,
   "metadata": {
    "collapsed": false,
    "scrolled": true
   },
   "outputs": [
    {
     "data": {
      "text/plain": [
       "('1.119 cm³',\n",
       " 'Fiesta Classic',\n",
       " 'No Information',\n",
       " None,\n",
       " 'No Information',\n",
       " 'PETROL',\n",
       " 'Ford',\n",
       " '15.08.2017',\n",
       " 'No Information',\n",
       " 'bottrop',\n",
       " 'Verkaufe Ford Fiesta, das Auto läuft super und Reifen und Bremsen sind auch inordnung die Innenausstatung ist für ihr Alter auch  sehr gepflegt. ',\n",
       " 3,\n",
       " 'Stoff, Andere',\n",
       " 200.0,\n",
       " '9000',\n",
       " '2017-08-15',\n",
       " 'Car',\n",
       " 'False',\n",
       " 'Benzin',\n",
       " 'Fiesta',\n",
       " 'Ford Fiesta',\n",
       " '11/2017',\n",
       " '03/1996',\n",
       " 'EUR',\n",
       " 'No Information',\n",
       " None,\n",
       " 248931485,\n",
       " 'No Information',\n",
       " 'USED',\n",
       " 'FSBO',\n",
       " 'No Information',\n",
       " None,\n",
       " 'Kleinwagen',\n",
       " '19',\n",
       " '160.113 km',\n",
       " 'No Information',\n",
       " None,\n",
       " 5,\n",
       " 'No Information',\n",
       " '4 (Grün)',\n",
       " 46238,\n",
       " 1996,\n",
       " '37 kW (50 PS)',\n",
       " '2/3',\n",
       " 'DE',\n",
       " 'Schaltgetriebe')"
      ]
     },
     "execution_count": 65,
     "metadata": {},
     "output_type": "execute_result"
    }
   ],
   "source": [
    "#allData = np.array(allData)\n",
    "allData[1900]"
   ]
  },
  {
   "cell_type": "code",
   "execution_count": 66,
   "metadata": {
    "collapsed": false
   },
   "outputs": [
    {
     "data": {
      "text/plain": [
       "(('cubiccapacity', None, None, None, None, None, None),\n",
       " ('adspecificsmodeldescription', None, None, None, None, None, None),\n",
       " ('manufacturercolorname', None, None, None, None, None, None),\n",
       " ('featurevariants', None, None, None, None, None, None),\n",
       " ('consumption', None, None, None, None, None, None),\n",
       " ('adspecificsfuel', None, None, None, None, None, None),\n",
       " ('adspecificsmake', None, None, None, None, None, None),\n",
       " ('firstseen', None, None, None, None, None, None),\n",
       " ('climatisation', None, None, None, None, None, None),\n",
       " ('dealercity', None, None, None, None, None, None),\n",
       " ('description', None, None, None, None, None, None),\n",
       " ('adfirstregmonth', None, None, None, None, None, None),\n",
       " ('interior', None, None, None, None, None, None),\n",
       " ('adprice', None, None, None, None, None, None),\n",
       " ('adspecificsmakeid', None, None, None, None, None, None),\n",
       " ('lastseen', None, None, None, None, None, None),\n",
       " ('adsegment', None, None, None, None, None, None),\n",
       " ('isdealer', None, None, None, None, None, None),\n",
       " ('fuel', None, None, None, None, None, None),\n",
       " ('adspecificsmodel', None, None, None, None, None, None),\n",
       " ('adspecificsmakemodel', None, None, None, None, None, None),\n",
       " ('hu', None, None, None, None, None, None),\n",
       " ('firstregistration', None, None, None, None, None, None),\n",
       " ('adcurrency', None, None, None, None, None, None),\n",
       " ('parkassist', None, None, None, None, None, None),\n",
       " ('adspecificshsn', None, None, None, None, None, None),\n",
       " ('adid', None, None, None, None, None, None),\n",
       " ('airbag', None, None, None, None, None, None),\n",
       " ('adcondition', None, None, None, None, None, None),\n",
       " ('sellertype', None, None, None, None, None, None),\n",
       " ('numberofpreviousowners', None, None, None, None, None, None),\n",
       " ('color', None, None, None, None, None, None),\n",
       " ('category', None, None, None, None, None, None),\n",
       " ('adspecificsmodelid', None, None, None, None, None, None),\n",
       " ('mileage', None, None, None, None, None, None),\n",
       " ('emission', None, None, None, None, None, None),\n",
       " ('features', None, None, None, None, None, None),\n",
       " ('numseats', None, None, None, None, None, None),\n",
       " ('countryversion', None, None, None, None, None, None),\n",
       " ('emissionssticker', None, None, None, None, None, None),\n",
       " ('dealerzip', None, None, None, None, None, None),\n",
       " ('adfirstregyear', None, None, None, None, None, None),\n",
       " ('power', None, None, None, None, None, None),\n",
       " ('doorcount', None, None, None, None, None, None),\n",
       " ('dealercountry', None, None, None, None, None, None),\n",
       " ('transmission', None, None, None, None, None, None))"
      ]
     },
     "execution_count": 66,
     "metadata": {},
     "output_type": "execute_result"
    }
   ],
   "source": [
    "cursor = database.getCursor()\n",
    "cursor.description"
   ]
  },
  {
   "cell_type": "code",
   "execution_count": 69,
   "metadata": {
    "collapsed": true
   },
   "outputs": [],
   "source": [
    "database.save()\n",
    "#database.close()"
   ]
  },
  {
   "cell_type": "code",
   "execution_count": 70,
   "metadata": {
    "collapsed": false
   },
   "outputs": [
    {
     "data": {
      "text/plain": [
       "array([[138831035],\n",
       "       [195826833],\n",
       "       [202907657],\n",
       "       ..., \n",
       "       [248928887],\n",
       "       [248931485],\n",
       "       [248932279]])"
      ]
     },
     "execution_count": 70,
     "metadata": {},
     "output_type": "execute_result"
    }
   ],
   "source": [
    "dbDataIDs = np.array(database.execute(\"\"\"SELECT adID from car\"\"\")) # ToDo: make a variable out of the name of the DB\n",
    "dbDataIDs"
   ]
  },
  {
   "cell_type": "code",
   "execution_count": 73,
   "metadata": {
    "collapsed": false,
    "scrolled": true
   },
   "outputs": [
    {
     "data": {
      "text/plain": [
       "dict_keys(['lastseen', 'firstregistration', 'emission', 'transmission', 'cubiccapacity', 'category', 'features', 'adspecificsmodeldescription', 'manufacturercolorname', 'adid', 'doorcount', 'airbag', 'color', 'numseats', 'numberofpreviousowners', 'description', 'featurevariants', 'dealerzip', 'interior', 'adprice', 'sellertype', 'fuel', 'adspecificsmodelid', 'firstseen', 'mileage', 'dealercountry', 'adcondition', 'adspecificsmake', 'adspecificsmodel', 'parkassist', 'adspecificshsn', 'hu', 'isdealer', 'consumption', 'adspecificsmakemodel', 'emissionssticker', 'adsegment', 'adspecificsfuel', 'power', 'countryversion', 'adfirstregmonth', 'adcurrency', 'adspecificsmakeid', 'climatisation', 'adfirstregyear', 'dealercity'])"
      ]
     },
     "execution_count": 73,
     "metadata": {},
     "output_type": "execute_result"
    }
   ],
   "source": [
    "pagesConfig = configparser.ConfigParser()\n",
    "pagesConfig.read(\"config/siteSpecifics.ini\")\n",
    "attributes = dict()\n",
    "for option in pagesConfig.options('dbInit'):\n",
    "    attributes[option] = pagesConfig.get('dbInit', option)\n",
    "attributes.keys()"
   ]
  },
  {
   "cell_type": "code",
   "execution_count": null,
   "metadata": {
    "collapsed": true
   },
   "outputs": [],
   "source": []
  },
  {
   "cell_type": "code",
   "execution_count": null,
   "metadata": {
    "collapsed": true
   },
   "outputs": [],
   "source": []
  },
  {
   "cell_type": "markdown",
   "metadata": {},
   "source": [
    "### useful Database commands"
   ]
  },
  {
   "cell_type": "code",
   "execution_count": null,
   "metadata": {
    "collapsed": true
   },
   "outputs": [],
   "source": [
    "#connection = sqlite3.connect('src/dataBase/carStats.db')\n",
    "#cursor = connection.cursor()\n",
    "\n",
    "# delete \n",
    "#cursor.execute(\"\"\"DROP TABLE car;\"\"\")\n",
    "\n",
    "#cursor.execute(sql_create_command) -> create a proper 'create' command first\n",
    "#cursor.description\n",
    "\n",
    "# never forget this, if you want the changes to be saved:\n",
    "#connection.commit()\n",
    "\n",
    "#connection.close()"
   ]
  },
  {
   "cell_type": "code",
   "execution_count": null,
   "metadata": {
    "collapsed": true
   },
   "outputs": [],
   "source": []
  },
  {
   "cell_type": "markdown",
   "metadata": {},
   "source": [
    "## progressBar tests"
   ]
  },
  {
   "cell_type": "code",
   "execution_count": 100,
   "metadata": {
    "collapsed": false
   },
   "outputs": [
    {
     "name": "stdout",
     "output_type": "stream",
     "text": [
      "10 / 10"
     ]
    }
   ],
   "source": [
    "import sys, time\n",
    "reload(utils)\n",
    "pbar = utils.ProgressBar(10, 5)\n",
    "\n",
    "for i in range(10):\n",
    "    #print ('\\r', i)\n",
    "    pbar.update(i+1)\n",
    "    time.sleep(.1)\n",
    "\n"
   ]
  },
  {
   "cell_type": "code",
   "execution_count": null,
   "metadata": {
    "collapsed": true
   },
   "outputs": [],
   "source": []
  }
 ],
 "metadata": {
  "anaconda-cloud": {},
  "kernelspec": {
   "display_name": "Python [default]",
   "language": "python",
   "name": "python3"
  },
  "language_info": {
   "codemirror_mode": {
    "name": "ipython",
    "version": 3
   },
   "file_extension": ".py",
   "mimetype": "text/x-python",
   "name": "python",
   "nbconvert_exporter": "python",
   "pygments_lexer": "ipython3",
   "version": "3.5.2"
  }
 },
 "nbformat": 4,
 "nbformat_minor": 1
}
