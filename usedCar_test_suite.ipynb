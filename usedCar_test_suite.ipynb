{
 "cells": [
  {
   "cell_type": "code",
   "execution_count": 116,
   "metadata": {
    "collapsed": false
   },
   "outputs": [],
   "source": [
    "# -*- coding: utf-8 -*-\n",
    "\n",
    "## standard packages\n",
    "import numpy as np\n",
    "import os\n",
    "import datetime\n",
    "\n",
    "## Config Parster for initiation\n",
    "import configparser\n",
    "\n",
    "## HTTP scraping packages\n",
    "from lxml import html\n",
    "import requests\n",
    "\n",
    "#import httplib2\n",
    "import urllib\n",
    "\n",
    "from bs4 import BeautifulSoup, SoupStrainer\n",
    "import json\n",
    "\n",
    "## Database\n",
    "import sqlite3"
   ]
  },
  {
   "cell_type": "code",
   "execution_count": 46,
   "metadata": {
    "collapsed": false
   },
   "outputs": [
    {
     "name": "stdout",
     "output_type": "stream",
     "text": [
      "WebPages\n",
      "dbInit\n"
     ]
    }
   ],
   "source": [
    "pagesConfig = configparser.ConfigParser()\n",
    "pagesConfig.read(\"config/siteSpecifics.ini\")\n",
    "\n",
    "for section in pagesConfig.sections():\n",
    "    print(section)\n",
    "    #for option in pagesConfig.options(section):\n",
    "    #    print(option, pagesConfig.get(section, option))"
   ]
  },
  {
   "cell_type": "code",
   "execution_count": 47,
   "metadata": {
    "collapsed": false
   },
   "outputs": [
    {
     "name": "stdout",
     "output_type": "stream",
     "text": [
      "http://suchen.mobile.de/fahrzeuge/search.html?scopeId=C&damageUnrepaired=NO_DAMAGE_UNREPAIRED&scopeId=C&isSearchRequest=true&sortOption.sortBy=creationTime&sortOption.sortOrder=DESCENDING&pageNumber=\n"
     ]
    }
   ],
   "source": [
    "searchPage = pagesConfig.get('WebPages', 'mobile.de')\n",
    "print(searchPage)"
   ]
  },
  {
   "cell_type": "code",
   "execution_count": 139,
   "metadata": {
    "collapsed": true
   },
   "outputs": [
    {
     "name": "stdout",
     "output_type": "stream",
     "text": [
      "241606138\n",
      "http://suchen.mobile.de/fahrzeuge/details.html?id=241606138&damageUnrepaired=NO_DAMAGE_UNREPAIRED&sortOption.sortBy=creationTime&sortOption.sortOrder=DESCENDING&scopeId=C&isSearchRequest=true&pageNumber=1&fnai=prev\n",
      " href11hrefNeuhrefFord Mondeo 1.8 GhiahrefInserat online seit 12.04.2017 15:11href2.999 €hrefEZ 04/2005, 151.000 km, 96 kW (131 PS)hrefLimousine, href ...\n",
      "12.04.2017\n",
      "\n",
      "241090027\n",
      "http://suchen.mobile.de/fahrzeuge/details.html?id=241090027&damageUnrepaired=NO_DAMAGE_UNREPAIRED&sortOption.sortBy=creationTime&sortOption.sortOrder=DESCENDING&scopeId=C&isSearchRequest=true&pageNumber=1\n",
      " href15hrefNeuhrefAudi A5 Sportback 3.0 TDI quattro S.line Kame Xe LedehrefInserat online seit 12.04.2017 15:11href20.990 €href19,00% MwSt.hrefEZ 11/2 ...\n",
      "12.04.2017\n",
      "\n",
      "241777162\n",
      "http://suchen.mobile.de/fahrzeuge/details.html?id=241777162&damageUnrepaired=NO_DAMAGE_UNREPAIRED&sortOption.sortBy=creationTime&sortOption.sortOrder=DESCENDING&scopeId=C&isSearchRequest=true&pageNumber=1\n",
      " href20hrefNeuhrefBMW 525i*Klimaaut*Leder*NaviProf*PDC*Sitzh*LM*HiFIhrefInserat online seit 12.04.2017 15:11href9.500 €hrefEZ 01/2006, 134.000 km, 160 ...\n",
      "12.04.2017\n",
      "\n",
      "240608317\n",
      "http://suchen.mobile.de/fahrzeuge/details.html?id=240608317&damageUnrepaired=NO_DAMAGE_UNREPAIRED&sortOption.sortBy=creationTime&sortOption.sortOrder=DESCENDING&scopeId=C&isSearchRequest=true&pageNumber=1&action=topInCategory\n",
      " hrefVideohref href12hrefMercedes-Benz Vito113 Mix/L EFFECT*Xenon*Klima*Sthzg*AHK*Comf.hrefInserat online seit 08.03.2017 15:07href27.369 €href19,00%  ...\n",
      "08.03.2017\n",
      "\n",
      "241951555\n",
      "http://suchen.mobile.de/fahrzeuge/details.html?id=241951555&damageUnrepaired=NO_DAMAGE_UNREPAIRED&sortOption.sortBy=creationTime&sortOption.sortOrder=DESCENDING&scopeId=C&isSearchRequest=true&pageNumber=1&action=topInCategory\n",
      " href14hrefVolvo V70 T5  Automatik - Navi - Teilleder - TelefonhrefInserat online seit 02.04.2017 16:33href5.950 €hrefEZ 12/2001, 132.000 km, 184 kW ( ...\n",
      "02.04.2017\n",
      "\n",
      "236099056\n",
      "http://suchen.mobile.de/fahrzeuge/details.html?id=236099056&damageUnrepaired=NO_DAMAGE_UNREPAIRED&sortOption.sortBy=creationTime&sortOption.sortOrder=DESCENDING&scopeId=C&isSearchRequest=true&pageNumber=1&action=topInCategory\n",
      " href14hrefNeuhrefFord Mondeo  Titanium  * Winter  Paket * AHK hrefInserat online seit 11.04.2017 17:22href13.790 €href19,00% MwSt.hrefEZ 05/2013, 107 ...\n",
      "11.04.2017\n",
      "\n",
      "241726524\n",
      "http://suchen.mobile.de/fahrzeuge/details.html?id=241726524&damageUnrepaired=NO_DAMAGE_UNREPAIRED&sortOption.sortBy=creationTime&sortOption.sortOrder=DESCENDING&scopeId=C&isSearchRequest=true&pageNumber=1\n",
      " href20hrefNeuhrefBMW 530D*Aut*Leder*NaviProf*Panorama*Xenon*HiFi*PDChrefInserat online seit 12.04.2017 15:11href12.900 €hrefEZ 01/2007, 118.000 km, 1 ...\n",
      "12.04.2017\n",
      "\n",
      "241982288\n",
      "http://suchen.mobile.de/fahrzeuge/details.html?id=241982288&damageUnrepaired=NO_DAMAGE_UNREPAIRED&sortOption.sortBy=creationTime&sortOption.sortOrder=DESCENDING&scopeId=C&isSearchRequest=true&pageNumber=1\n",
      " href20hrefNeuhrefBMW 525d*Leder*NaviProf*Klimaaut*Xenon*GSD*PDC*LMhrefInserat online seit 12.04.2017 15:11href12.700 €hrefEZ 10/2007, 116.000 km, 145 ...\n",
      "12.04.2017\n",
      "\n",
      "239211871\n",
      "http://suchen.mobile.de/fahrzeuge/details.html?id=239211871&damageUnrepaired=NO_DAMAGE_UNREPAIRED&sortOption.sortBy=creationTime&sortOption.sortOrder=DESCENDING&scopeId=C&isSearchRequest=true&pageNumber=1\n",
      " href9hrefNeuhrefFord Fiesta  Automatik 1.Hand 28900km TÜV:03/2019hrefInserat online seit 12.04.2017 15:11href4.999 €hrefEZ 06/2006, 28.969 km, 59 kW  ...\n",
      "12.04.2017\n",
      "\n",
      "240700954\n",
      "http://suchen.mobile.de/fahrzeuge/details.html?id=240700954&damageUnrepaired=NO_DAMAGE_UNREPAIRED&sortOption.sortBy=creationTime&sortOption.sortOrder=DESCENDING&scopeId=C&isSearchRequest=true&pageNumber=1\n",
      " href13hrefNeuhrefRenault Twingo 1.2   *AUTOMATIK *FALTDACH * erst 70Tkm*hrefInserat online seit 12.04.2017 15:11href1.690 €hrefEZ 04/1998, 70.000 km, ...\n",
      "12.04.2017\n",
      "\n",
      "238122645\n",
      "http://suchen.mobile.de/fahrzeuge/details.html?id=238122645&damageUnrepaired=NO_DAMAGE_UNREPAIRED&sortOption.sortBy=creationTime&sortOption.sortOrder=DESCENDING&scopeId=C&isSearchRequest=true&pageNumber=1\n",
      " href20hrefNeuhrefBMW 335i*M Sportpaket*Leder*NaviProf*HiFi*LOGIC7*XenhrefInserat online seit 12.04.2017 15:11href20.900 €hrefEZ 11/2006, 55.000 km, 2 ...\n",
      "12.04.2017\n",
      "\n",
      "241044914\n",
      "http://suchen.mobile.de/fahrzeuge/details.html?id=241044914&damageUnrepaired=NO_DAMAGE_UNREPAIRED&sortOption.sortBy=creationTime&sortOption.sortOrder=DESCENDING&scopeId=C&isSearchRequest=true&pageNumber=1\n",
      " href20hrefNeuhrefBMW 330D*M Sport Paket*Leder*Navi*Xenon*PDC*LM 19hrefInserat online seit 12.04.2017 15:11href21.900 €hrefEZ 05/2009, 90.000 km, 180  ...\n",
      "12.04.2017\n",
      "\n",
      "241469455\n",
      "http://suchen.mobile.de/fahrzeuge/details.html?id=241469455&damageUnrepaired=NO_DAMAGE_UNREPAIRED&sortOption.sortBy=creationTime&sortOption.sortOrder=DESCENDING&scopeId=C&isSearchRequest=true&pageNumber=1\n",
      " href20hrefNeuhrefBMW 320D*Sport Line*NaviProf*Head*Klimaaut*PDC*SitzhhrefInserat online seit 12.04.2017 15:11href21.900 €href19,00% MwSt.hrefEZ 01/20 ...\n",
      "12.04.2017\n",
      "\n",
      "235953623\n",
      "http://suchen.mobile.de/fahrzeuge/details.html?id=235953623&damageUnrepaired=NO_DAMAGE_UNREPAIRED&sortOption.sortBy=creationTime&sortOption.sortOrder=DESCENDING&scopeId=C&isSearchRequest=true&pageNumber=1\n",
      " href15hrefNeuhrefOpel CORSA D EDITION 111 JAHRE KLIMA AHK GRA SCHECKH.hrefInserat online seit 12.04.2017 15:10href4.500 €hrefEZ 08/2010, 111.376 km,  ...\n",
      "12.04.2017\n",
      "\n",
      "240977925\n",
      "http://suchen.mobile.de/fahrzeuge/details.html?id=240977925&damageUnrepaired=NO_DAMAGE_UNREPAIRED&sortOption.sortBy=creationTime&sortOption.sortOrder=DESCENDING&scopeId=C&isSearchRequest=true&pageNumber=1\n",
      " href15hrefNeuhrefMitsubishi ASX 2.2 DI-D Instyle 4WD Autom. Xen/Nav/PanD/AHKhrefInserat online seit 12.04.2017 15:10href19.890 €href19,00% MwSt.hrefE ...\n",
      "12.04.2017\n",
      "\n",
      "239764594\n",
      "http://suchen.mobile.de/fahrzeuge/details.html?id=239764594&damageUnrepaired=NO_DAMAGE_UNREPAIRED&sortOption.sortBy=creationTime&sortOption.sortOrder=DESCENDING&scopeId=C&isSearchRequest=true&pageNumber=1\n",
      " href17hrefNeuhrefBMW 320d*Klimaaut*GSD*Xenon*PDC*Advantage Paket*1HanhrefInserat online seit 12.04.2017 15:10href10.500 €hrefEZ 07/2008, 97.000 km, 1 ...\n",
      "12.04.2017\n",
      "\n",
      "239984833\n",
      "http://suchen.mobile.de/fahrzeuge/details.html?id=239984833&damageUnrepaired=NO_DAMAGE_UNREPAIRED&sortOption.sortBy=creationTime&sortOption.sortOrder=DESCENDING&scopeId=C&isSearchRequest=true&pageNumber=1\n",
      " href20hrefNeuhrefBMW 320D*Aut*Moder Line*NaviPRof*PDC*Klima*LM 17hrefInserat online seit 12.04.2017 15:10href19.500 €href19,00% MwSt.hrefEZ 01/2014,  ...\n",
      "12.04.2017\n",
      "\n",
      "237515632\n",
      "http://suchen.mobile.de/fahrzeuge/details.html?id=237515632&damageUnrepaired=NO_DAMAGE_UNREPAIRED&sortOption.sortBy=creationTime&sortOption.sortOrder=DESCENDING&scopeId=C&isSearchRequest=true&pageNumber=1\n",
      " href8hrefNeuhrefBMW 420d xDrive Gran Coupé Sport Line Head-Up XenonhrefInserat online seit 12.04.2017 15:10href31.700 €hrefEZ 04/2015, 66.280 km, 140 ...\n",
      "12.04.2017\n",
      "\n",
      "242520656\n",
      "http://suchen.mobile.de/fahrzeuge/details.html?id=242520656&damageUnrepaired=NO_DAMAGE_UNREPAIRED&sortOption.sortBy=creationTime&sortOption.sortOrder=DESCENDING&scopeId=C&isSearchRequest=true&pageNumber=1\n",
      "NeuhrefHyundai Tucson 2.0 2WD GLS KLIMA/AHHÄNGERKUPPLUNGhrefInserat online seit 12.04.2017 15:10href7.990 €hrefEZ 01/2008, 47.270 km, 104 kW (141 PS)h ...\n",
      "12.04.2017\n",
      "\n",
      "242520654\n",
      "http://suchen.mobile.de/fahrzeuge/details.html?id=242520654&damageUnrepaired=NO_DAMAGE_UNREPAIRED&sortOption.sortBy=creationTime&sortOption.sortOrder=DESCENDING&scopeId=C&isSearchRequest=true&pageNumber=1\n",
      " href5hrefNeuhrefRenault Grand Scenic dCi 110 FAP Privelege, KLIMA, NAVIhrefInserat online seit 12.04.2017 15:10href6.100 €hrefEZ 10/2011, 121.583 km, ...\n",
      "12.04.2017\n",
      "\n",
      "242520653\n",
      "http://suchen.mobile.de/fahrzeuge/details.html?id=242520653&damageUnrepaired=NO_DAMAGE_UNREPAIRED&sortOption.sortBy=creationTime&sortOption.sortOrder=DESCENDING&scopeId=C&isSearchRequest=true&pageNumber=1\n",
      " href15hrefNeuhrefBMW 316ihrefInserat online seit 12.04.2017 15:10href3.450 €hrefEZ 06/2002, 97.179 km, 85 kW (116 PS)hrefLimousine, hrefUnfallfreihre ...\n",
      "12.04.2017\n",
      "\n",
      "242520652\n",
      "http://suchen.mobile.de/fahrzeuge/details.html?id=242520652&damageUnrepaired=NO_DAMAGE_UNREPAIRED&sortOption.sortBy=creationTime&sortOption.sortOrder=DESCENDING&scopeId=C&isSearchRequest=true&pageNumber=1\n",
      " href8hrefNeuhrefSeat Leon StellahrefInserat online seit 12.04.2017 15:10href3.450 €hrefEZ 08/2005, 181.500 km, 77 kW (105 PS)hrefLimousine, hrefUnfal ...\n",
      "12.04.2017\n",
      "\n",
      "242520651\n",
      "http://suchen.mobile.de/fahrzeuge/details.html?id=242520651&damageUnrepaired=NO_DAMAGE_UNREPAIRED&sortOption.sortBy=creationTime&sortOption.sortOrder=DESCENDING&scopeId=C&isSearchRequest=true&pageNumber=1&fnai=next\n",
      " href4hrefNeuhrefVolkswagen Comfortline hrefInserat online seit 12.04.2017 15:10href6.500 €hrefEZ 09/2009, 232.000 km, 81 kW (110 PS)hrefKombi, Diesel ...\n",
      "12.04.2017\n",
      "\n"
     ]
    }
   ],
   "source": [
    "http = urllib\n",
    "response = http.request.urlopen(searchPage)\n",
    "\n",
    "dataIDs = list()\n",
    "        \n",
    "soup = BeautifulSoup(response, \"lxml\") # put search page in beautiful soup strainer,\n",
    "dataIDs = list()\n",
    "for link in soup.find_all('a'): # save all links in the search page that have an ad-id (i.e. they are not an ad)\\n\",\n",
    "    if link.has_attr('data-ad-id'):\n",
    "        print(link['data-ad-id'])\n",
    "        print(link['href'])\n",
    "        print(link.get_text('href')[:150] + \" ...\")\n",
    "        \n",
    "        onPos = link.get_text('href').find('online seit ')\n",
    "        onlineSince = link.get_text('href')[onPos+12 : onPos+22]\n",
    "        \n",
    "        print(onlineSince)\n",
    "        print()\n",
    "        dataIDs.append([link['data-ad-id'], link['href'], link.get_text('href'), onlineSince])\n"
   ]
  },
  {
   "cell_type": "code",
   "execution_count": 113,
   "metadata": {
    "collapsed": false
   },
   "outputs": [
    {
     "data": {
      "text/plain": [
       "'http://suchen.mobile.de/fahrzeuge/details.html?id=238600200&isSearchRequest=true&damageUnrepaired=NO_DAMAGE_UNREPAIRED&sortOption.sortOrder=DESCENDING&scopeId=C&sortOption.sortBy=creationTime&pageNumber=1&fnai=prev'"
      ]
     },
     "execution_count": 113,
     "metadata": {},
     "output_type": "execute_result"
    }
   ],
   "source": [
    "dataIDs[0][1]"
   ]
  },
  {
   "cell_type": "code",
   "execution_count": 114,
   "metadata": {
    "collapsed": false
   },
   "outputs": [],
   "source": [
    "resp2 = http.request.urlopen(dataIDs[0][1])\n",
    "soup2 = BeautifulSoup(resp2, 'lxml')\n",
    "site2 = soup2.decode()"
   ]
  },
  {
   "cell_type": "code",
   "execution_count": 117,
   "metadata": {
    "collapsed": false,
    "scrolled": true
   },
   "outputs": [
    {
     "data": {
      "text/plain": [
       "{'ad': {'condition': 'USED',\n",
       "  'currency': 'EUR',\n",
       "  'price': '12999',\n",
       "  'specifics': {'make': 'Toyota', 'model': 'RAV 4'}},\n",
       " 'adCondition': 'USED',\n",
       " 'adCurrency': 'EUR',\n",
       " 'adFirstRegMonth': '11',\n",
       " 'adFirstRegYear': '2011',\n",
       " 'adId': 238600200,\n",
       " 'adImage': 'http://i.ebayimg.com/00/s/OTAwWDE2MDA=/z/SskAAOSwol5YypUC/$_23.JPG',\n",
       " 'adImageBase64': 'aHR0cDovL2kuZWJheWltZy5jb20vMDAvcy9PVEF3V0RFMk1EQT0vei9Tc2tBQU9Td29sNVl5cFVDLyRfMjMuSlBH',\n",
       " 'adPrice': '12999',\n",
       " 'adSegment': 'Car',\n",
       " 'adSpecificsFuel': 'DIESEL',\n",
       " 'adSpecificsMake': 'Toyota',\n",
       " 'adSpecificsMakeId': 24100,\n",
       " 'adSpecificsMakeModel': 'Toyota RAV 4',\n",
       " 'adSpecificsMakeModelBase64': 'VG95b3RhIFJBViA0',\n",
       " 'adSpecificsModel': 'RAV 4',\n",
       " 'adSpecificsModelDescription': 'RAV 4 Executive Automatik 4x4',\n",
       " 'adSpecificsModelId': 28,\n",
       " 'adSpecificsVin': 'JTMBB31V90D088148',\n",
       " 'dealerCity': 'Berlin',\n",
       " 'dealerCountry': 'DE',\n",
       " 'dealerZip': '12351',\n",
       " 'featureVariants': {},\n",
       " 'isDealer': True,\n",
       " 'sellerType': 'DEALER',\n",
       " 'usersIpAddress': '104.121.151.0'}"
      ]
     },
     "execution_count": 117,
     "metadata": {},
     "output_type": "execute_result"
    }
   ],
   "source": [
    "someval = site2.find('mobile.dart.setAdData')\n",
    "finalVal = site2[someval:].find('\\n')\n",
    "stringDict = site2[someval + 22 : someval + finalVal-2]\n",
    "#stringDict\n",
    "json_acceptable_string = stringDict.replace(\"'\", \"\\\"\")\n",
    "d = json.loads(json_acceptable_string)\n",
    "d"
   ]
  },
  {
   "cell_type": "code",
   "execution_count": 118,
   "metadata": {
    "collapsed": true
   },
   "outputs": [],
   "source": [
    "categories = ['rbt-category-v', \n",
    "              'rbt-countryVersion-v',\n",
    "              'rbt-mileage-v',\n",
    "              'rbt-cubicCapacity-v',\n",
    "              'rbt-power-v',\n",
    "              'rbt-fuel-v',\n",
    "              'rbt-envkv.consumption-v',\n",
    "              'rbt-envkv.emission-v',\n",
    "              'rbt-numSeats-v',\n",
    "              'rbt-doorCount-v',\n",
    "              'rbt-transmission-v',\n",
    "              'rbt-emissionsSticker-v',\n",
    "              'rbt-firstRegistration-v',\n",
    "              'rbt-numberOfPreviousOwners-v',\n",
    "              'rbt-hu-v',\n",
    "              'rbt-climatisation-v',\n",
    "              'rbt-parkAssist-v',\n",
    "              'rbt-airbag-v',\n",
    "              'rbt-manufacturerColorName-v',\n",
    "              'rbt-rbt-color-v',\n",
    "              'rbt-interior-v',\n",
    "              'rbt-features'\n",
    "              ]"
   ]
  },
  {
   "cell_type": "code",
   "execution_count": 119,
   "metadata": {
    "collapsed": false,
    "scrolled": true
   },
   "outputs": [],
   "source": [
    "resp2 = http.request.urlopen(dataIDs[0][1])\n",
    "\n",
    "soup = BeautifulSoup(resp2, \"lxml\")"
   ]
  },
  {
   "cell_type": "code",
   "execution_count": 120,
   "metadata": {
    "collapsed": false,
    "scrolled": true
   },
   "outputs": [
    {
     "name": "stdout",
     "output_type": "stream",
     "text": [
      "                      category Geländewagen / Pickup\n",
      "                countryVersion NO INFORMATION\n",
      "                       mileage 122.000 km\n",
      "                 cubicCapacity 2.231 cm³\n",
      "                         power 110 kW (150 PS)\n",
      "                          fuel Diesel\n",
      "             envkv.consumption NO INFORMATION\n",
      "                envkv.emission NO INFORMATION\n",
      "                      numSeats 5\n",
      "                     doorCount 4/5\n",
      "                  transmission Automatik\n",
      "              emissionsSticker NO INFORMATION\n",
      "             firstRegistration 11/2011\n",
      "        numberOfPreviousOwners 2\n",
      "                            hu 11/2018\n",
      "                 climatisation Klimaautomatik\n",
      "                    parkAssist NO INFORMATION\n",
      "                        airbag Front-, Seiten- und weitere Airbags\n",
      "         manufacturerColorName bronzebraun mica metallic\n",
      "                     rbt-color NO INFORMATION\n",
      "                      interior Vollleder, Grau\n",
      "                      features Ausstattung, ABS, Allradantrieb, Bluetooth, Bordcomputer, CD-Spieler, Elektr. Fensterheber, Elektr. Seitenspiegel, Elektr. Sitzeinstellung, Elektr. Wegfahrsperre, Freisprecheinrichtung, Isofix (Kindersitzbefestigung), Lederausstattung, Leichtmetallfelgen, MP3-Schnittstelle, Multifunktionslenkrad, Nebelscheinwerfer, Nichtraucher-Fahrzeug, Partikelfilter, Regensensor, Scheckheftgepflegt, Servolenkung, Sitzheizung, Tempomat, Traktionskontrolle, Tuner/Radio, Zentralverriegelung\n"
     ]
    }
   ],
   "source": [
    "#soup = BeautifulSoup(resp2, \"lxml\")\n",
    "d2 = dict()\n",
    "for cat in categories:\n",
    "    try:\n",
    "        div = soup.find('div', id=cat)\n",
    "        output = div.get_text()\n",
    "        #output = ''.join(map(str, div.contents))\n",
    "        #output.replace('<strong>', '').replace('</strong>', '')\n",
    "        #output = output.replace('<div class=\"u-margin-bottom-9\">', '').replace('</div>', ' ')\n",
    "        \n",
    "        if cat=='rbt-features':\n",
    "            output = div.get_text(separator=', ')\n",
    "            cat = 'rbt-features  '\n",
    "            \n",
    "        print ( \"%30s\" %cat[4:-2], output )\n",
    "        d2[cat[4:-2]] = output\n",
    "        \n",
    "    except:\n",
    "        print ( \"%30s\" %cat[4:-2], 'NO INFORMATION' )\n",
    "        d2[cat[4:-2]] = 'No Information'"
   ]
  },
  {
   "cell_type": "code",
   "execution_count": 122,
   "metadata": {
    "collapsed": false
   },
   "outputs": [
    {
     "name": "stdout",
     "output_type": "stream",
     "text": [
      "Scheckheft lückenlos gepflegt\n",
      "Rückfahrkamera im Spiegel\n",
      "Sonderausstattung:\n",
      "Mica-Lackierung\n",
      "Weitere Ausstattung:\n",
      "Airbag Beifahrerseite abschaltbar, Airbag Fahrer-/Beifahrerseite, Audiobedienung am Lenkrad, Audiosystem: Radio mit CD-Player und CD-Wechsler (6-fach), Außenspiegel elektr. anklappbar, Außenspiegel elektr. verstell- und heizbar, Außenspiegel lackiert, Automatische Stabilitäts-Control und Traktion (ASC + T), AUX-IN-Anschluss (AUX-IN), Einschaltautomatik für Fahrlicht, Fahrassistenz-System: Bergabfahrkontrolle (HDC / DAC), Fensterheber elektrisch vorn + hinten, Fernentriegelung Tankklappe, Freisprechanlage Bluetooth, Hecktür ohne Reserve-/Notrad, Heckzierblende verchromt, Innenspiegel mit Abblendautomatik, Isofix-Aufnahmen für Kindersitz, Karosserie: 5-türig, Klimaautomatik, Knieairbag Fahrerseite, Kopf-Airbag-System, Kotflügelverbreiterung, Kühlergrill mit Chromrand, Leder-Komfort-Paket, Lenkrad (Leder), Lenkrad mit Schaltwippen, Lenksäule (Lenkrad) verstellbar, LM-Felgen, Modelljahr 2010, Motor 2,2 Ltr. - 110 kW D-4D KAT, Radstand 2560 mm, Reifen-Reparaturkit, Schadstoffarm nach Abgasnorm Euro 5, Schalt-/Wählhebelgriff Leder, Scheibenwischer mit Regensensor, Schleudertrauma-Schutzsystem, Seitenairbag, Sicherheitsgurte vorn höhenverstellbar, Türgriffe außen Wagenfarbe, Verglasung hinten abgedunkelt, Wärmeschutzverglasung\n",
      "weitere Extras vorhanden\n",
      "Fahrzeug befindet sich im guten Zustand\n",
      "alle Angaben ohne Gewähr\n",
      "Vollfinanzierung und Inzahlungnahme aller Art möglich\n",
      "Schreib- und Druckfehler vorbehalten\n",
      "* Fahrzeug steht in der Johannisthaler Chaussee 415, * 12351 Berlin Filiale Buckow Telnr. 030/66707375\n",
      "Faxnr. 030/66707374 Mobilnr. 0171/4943856\n",
      "2x Autoplatz am Rathaus... Filiale Buckow,\n",
      "Filiale Tempelhof. Für weitere Fragen bzw.\n",
      "Informationen, stehen wir Ihnen gerne zur Verfügung.\n",
      "Rufen Sie uns an.\n",
      "Mfg Autoplatz am Rathaus\n"
     ]
    }
   ],
   "source": [
    "#div = soup2.find('div', id='g-col-12 description')\n",
    "div = soup2.find(attrs={\"class\": \"g-col-12 description\"})\n",
    "#print(div)\n",
    "#output = ''.join(map(str, div.contents))\n",
    "#output.replace('<strong>', '').replace('</strong>', '')\n",
    "#output = output.replace('<div class=\"u-margin-bottom-9\">', '').replace('</div>', '')\n",
    "print(div.get_text(separator='\\n'))"
   ]
  },
  {
   "cell_type": "code",
   "execution_count": 125,
   "metadata": {
    "collapsed": false
   },
   "outputs": [],
   "source": [
    "allInfos = {**d, **d2}"
   ]
  },
  {
   "cell_type": "code",
   "execution_count": 159,
   "metadata": {
    "collapsed": false
   },
   "outputs": [
    {
     "data": {
      "text/plain": [
       "['241090027',\n",
       " 'http://suchen.mobile.de/fahrzeuge/details.html?id=241090027&damageUnrepaired=NO_DAMAGE_UNREPAIRED&sortOption.sortBy=creationTime&sortOption.sortOrder=DESCENDING&scopeId=C&isSearchRequest=true&pageNumber=1',\n",
       " ' href15hrefNeuhrefAudi A5 Sportback 3.0 TDI quattro S.line Kame Xe LedehrefInserat online seit 12.04.2017 15:11href20.990 €href19,00% MwSt.hrefEZ 11/2013, 151.963\\xa0km, 180\\xa0kW\\xa0(245\\xa0PS)hrefSportwagen / Coupé, Diesel, Automatik, 4/5 Türenhref≈\\u20095,8\\u2009l/100km (komb.), ≈\\u2009154\\u2009g CO₂/km (komb.)hrefCar Center Ganderkesee href(href18href)hrefDE-27777 Ganderkesee, HändlerhrefFinanzierunghref, hrefVersicherunghrefGeparkthrefParkenhrefKontakt',\n",
       " '12.04.2017']"
      ]
     },
     "execution_count": 159,
     "metadata": {},
     "output_type": "execute_result"
    }
   ],
   "source": [
    "dataIDs[1]"
   ]
  },
  {
   "cell_type": "code",
   "execution_count": 162,
   "metadata": {
    "collapsed": false
   },
   "outputs": [
    {
     "data": {
      "text/plain": [
       "'2017-04-12'"
      ]
     },
     "execution_count": 162,
     "metadata": {},
     "output_type": "execute_result"
    }
   ],
   "source": [
    "now = datetime.datetime.now()\n",
    "str(now.date())"
   ]
  },
  {
   "cell_type": "code",
   "execution_count": 154,
   "metadata": {
    "collapsed": false,
    "scrolled": true
   },
   "outputs": [
    {
     "data": {
      "text/plain": [
       "{'ad': {'condition': 'USED',\n",
       "  'currency': 'EUR',\n",
       "  'price': '12999',\n",
       "  'specifics': {'make': 'Toyota', 'model': 'RAV 4'}},\n",
       " 'adCondition': 'USED',\n",
       " 'adCurrency': 'EUR',\n",
       " 'adFirstRegMonth': '11',\n",
       " 'adFirstRegYear': '2011',\n",
       " 'adId': 238600200,\n",
       " 'adImage': 'http://i.ebayimg.com/00/s/OTAwWDE2MDA=/z/SskAAOSwol5YypUC/$_23.JPG',\n",
       " 'adImageBase64': 'aHR0cDovL2kuZWJheWltZy5jb20vMDAvcy9PVEF3V0RFMk1EQT0vei9Tc2tBQU9Td29sNVl5cFVDLyRfMjMuSlBH',\n",
       " 'adPrice': '12999',\n",
       " 'adSegment': 'Car',\n",
       " 'adSpecificsFuel': 'DIESEL',\n",
       " 'adSpecificsMake': 'Toyota',\n",
       " 'adSpecificsMakeId': 24100,\n",
       " 'adSpecificsMakeModel': 'Toyota RAV 4',\n",
       " 'adSpecificsMakeModelBase64': 'VG95b3RhIFJBViA0',\n",
       " 'adSpecificsModel': 'RAV 4',\n",
       " 'adSpecificsModelDescription': 'RAV 4 Executive Automatik 4x4',\n",
       " 'adSpecificsModelId': 28,\n",
       " 'adSpecificsVin': 'JTMBB31V90D088148',\n",
       " 'airbag': 'Front-, Seiten- und weitere Airbags',\n",
       " 'category': 'Geländewagen / Pickup',\n",
       " 'climatisation': 'Klimaautomatik',\n",
       " 'countryVersion': 'No Information',\n",
       " 'cubicCapacity': '2.231\\xa0cm³',\n",
       " 'dealerCity': 'Berlin',\n",
       " 'dealerCountry': 'DE',\n",
       " 'dealerZip': '12351',\n",
       " 'description': 'Scheckheft lückenlos gepflegt\\nRückfahrkamera im Spiegel\\nSonderausstattung:\\nMica-Lackierung\\nWeitere Ausstattung:\\nAirbag Beifahrerseite abschaltbar, Airbag Fahrer-/Beifahrerseite, Audiobedienung am Lenkrad, Audiosystem: Radio mit CD-Player und CD-Wechsler (6-fach), Außenspiegel elektr. anklappbar, Außenspiegel elektr. verstell- und heizbar, Außenspiegel lackiert, Automatische Stabilitäts-Control und Traktion (ASC + T), AUX-IN-Anschluss (AUX-IN), Einschaltautomatik für Fahrlicht, Fahrassistenz-System: Bergabfahrkontrolle (HDC / DAC), Fensterheber elektrisch vorn + hinten, Fernentriegelung Tankklappe, Freisprechanlage Bluetooth, Hecktür ohne Reserve-/Notrad, Heckzierblende verchromt, Innenspiegel mit Abblendautomatik, Isofix-Aufnahmen für Kindersitz, Karosserie: 5-türig, Klimaautomatik, Knieairbag Fahrerseite, Kopf-Airbag-System, Kotflügelverbreiterung, Kühlergrill mit Chromrand, Leder-Komfort-Paket, Lenkrad (Leder), Lenkrad mit Schaltwippen, Lenksäule (Lenkrad) verstellbar, LM-Felgen, Modelljahr 2010, Motor 2,2 Ltr. - 110 kW D-4D KAT, Radstand 2560 mm, Reifen-Reparaturkit, Schadstoffarm nach Abgasnorm Euro 5, Schalt-/Wählhebelgriff Leder, Scheibenwischer mit Regensensor, Schleudertrauma-Schutzsystem, Seitenairbag, Sicherheitsgurte vorn höhenverstellbar, Türgriffe außen Wagenfarbe, Verglasung hinten abgedunkelt, Wärmeschutzverglasung\\nweitere Extras vorhanden\\nFahrzeug befindet sich im guten Zustand\\nalle Angaben ohne Gewähr\\nVollfinanzierung und Inzahlungnahme aller Art möglich\\nSchreib- und Druckfehler vorbehalten\\n* Fahrzeug steht in der Johannisthaler Chaussee 415, * 12351 Berlin Filiale Buckow Telnr. 030/66707375\\nFaxnr. 030/66707374 Mobilnr. 0171/4943856\\n2x Autoplatz am Rathaus... Filiale Buckow,\\nFiliale Tempelhof. Für weitere Fragen bzw.\\nInformationen, stehen wir Ihnen gerne zur Verfügung.\\nRufen Sie uns an.\\nMfg Autoplatz am Rathaus',\n",
       " 'doorCount': '4/5',\n",
       " 'emissionsSticker': 'No Information',\n",
       " 'envkv.consumption': 'No Information',\n",
       " 'envkv.emission': 'No Information',\n",
       " 'featureVariants': {},\n",
       " 'features': 'Ausstattung, ABS, Allradantrieb, Bluetooth, Bordcomputer, CD-Spieler, Elektr. Fensterheber, Elektr. Seitenspiegel, Elektr. Sitzeinstellung, Elektr. Wegfahrsperre, Freisprecheinrichtung, Isofix (Kindersitzbefestigung), Lederausstattung, Leichtmetallfelgen, MP3-Schnittstelle, Multifunktionslenkrad, Nebelscheinwerfer, Nichtraucher-Fahrzeug, Partikelfilter, Regensensor, Scheckheftgepflegt, Servolenkung, Sitzheizung, Tempomat, Traktionskontrolle, Tuner/Radio, Zentralverriegelung',\n",
       " 'firstRegistration': '11/2011',\n",
       " 'firstSeen': '12.04.2017',\n",
       " 'fuel': 'Diesel',\n",
       " 'hu': '11/2018',\n",
       " 'interior': 'Vollleder, Grau',\n",
       " 'isDealer': True,\n",
       " 'lastSeen': '2017-04-12',\n",
       " 'manufacturerColorName': 'bronzebraun mica metallic',\n",
       " 'mileage': '122.000\\xa0km',\n",
       " 'numSeats': '5',\n",
       " 'numberOfPreviousOwners': '2',\n",
       " 'parkAssist': 'No Information',\n",
       " 'power': '110\\xa0kW\\xa0(150\\xa0PS)',\n",
       " 'rbt-color': 'No Information',\n",
       " 'sellerType': 'DEALER',\n",
       " 'transmission': 'Automatik',\n",
       " 'usersIpAddress': '104.121.151.0'}"
      ]
     },
     "execution_count": 154,
     "metadata": {},
     "output_type": "execute_result"
    }
   ],
   "source": [
    "allInfos['description'] = div.get_text(separator='\\n')\n",
    "allInfos['firstSeen'] = dataIDs[0][3]\n",
    "allInfos['lastSeen'] = str(datetime.datetime.now().date)\n",
    "allInfos"
   ]
  },
  {
   "cell_type": "code",
   "execution_count": 157,
   "metadata": {
    "collapsed": false,
    "scrolled": true
   },
   "outputs": [
    {
     "name": "stdout",
     "output_type": "stream",
     "text": [
      "ad {'price': '12999', 'currency': 'EUR', 'condition': 'USED', 'specifics': {'make': 'Toyota', 'model': 'RAV 4'}} <class 'dict'>\n",
      "isDealer True <class 'bool'>\n",
      "dealerCountry DE <class 'str'>\n",
      "dealerZip 12351 <class 'str'>\n",
      "dealerCity Berlin <class 'str'>\n",
      "adId 238600200 <class 'int'>\n",
      "adSegment Car <class 'str'>\n",
      "adCondition USED <class 'str'>\n",
      "adFirstRegYear 2011 <class 'str'>\n",
      "adFirstRegMonth 11 <class 'str'>\n",
      "adPrice 12999 <class 'str'>\n",
      "adCurrency EUR <class 'str'>\n",
      "adImage http://i.ebayimg.com/00/s/OTAwWDE2MDA=/z/SskAAOSwol5YypUC/$_23.JPG <class 'str'>\n",
      "adImageBase64 aHR0cDovL2kuZWJheWltZy5jb20vMDAvcy9PVEF3V0RFMk1EQT0vei9Tc2tBQU9Td29sNVl5cFVDLyRfMjMuSlBH <class 'str'>\n",
      "adSpecificsMake Toyota <class 'str'>\n",
      "adSpecificsMakeId 24100 <class 'int'>\n",
      "adSpecificsModel RAV 4 <class 'str'>\n",
      "adSpecificsModelId 28 <class 'int'>\n",
      "adSpecificsMakeModel Toyota RAV 4 <class 'str'>\n",
      "adSpecificsMakeModelBase64 VG95b3RhIFJBViA0 <class 'str'>\n",
      "adSpecificsModelDescription RAV 4 Executive Automatik 4x4 <class 'str'>\n",
      "adSpecificsFuel DIESEL <class 'str'>\n",
      "adSpecificsVin JTMBB31V90D088148 <class 'str'>\n",
      "usersIpAddress 104.121.151.0 <class 'str'>\n",
      "sellerType DEALER <class 'str'>\n",
      "featureVariants {} <class 'dict'>\n",
      "category Geländewagen / Pickup <class 'str'>\n",
      "countryVersion No Information <class 'str'>\n",
      "mileage 122.000 km <class 'str'>\n",
      "cubicCapacity 2.231 cm³ <class 'str'>\n",
      "power 110 kW (150 PS) <class 'str'>\n",
      "fuel Diesel <class 'str'>\n",
      "envkv.consumption No Information <class 'str'>\n",
      "envkv.emission No Information <class 'str'>\n",
      "numSeats 5 <class 'str'>\n",
      "doorCount 4/5 <class 'str'>\n",
      "transmission Automatik <class 'str'>\n",
      "emissionsSticker No Information <class 'str'>\n",
      "firstRegistration 11/2011 <class 'str'>\n",
      "numberOfPreviousOwners 2 <class 'str'>\n",
      "hu 11/2018 <class 'str'>\n",
      "climatisation Klimaautomatik <class 'str'>\n",
      "parkAssist No Information <class 'str'>\n",
      "airbag Front-, Seiten- und weitere Airbags <class 'str'>\n",
      "manufacturerColorName bronzebraun mica metallic <class 'str'>\n",
      "rbt-color No Information <class 'str'>\n",
      "interior Vollleder, Grau <class 'str'>\n",
      "features Ausstattung, ABS, Allradantrieb, Bluetooth, Bordcomputer, CD-Spieler, Elektr. Fensterheber, Elektr. Seitenspiegel, Elektr. Sitzeinstellung, Elektr. Wegfahrsperre, Freisprecheinrichtung, Isofix (Kindersitzbefestigung), Lederausstattung, Leichtmetallfelgen, MP3-Schnittstelle, Multifunktionslenkrad, Nebelscheinwerfer, Nichtraucher-Fahrzeug, Partikelfilter, Regensensor, Scheckheftgepflegt, Servolenkung, Sitzheizung, Tempomat, Traktionskontrolle, Tuner/Radio, Zentralverriegelung <class 'str'>\n",
      "description Scheckheft lückenlos gepflegt\n",
      "Rückfahrkamera im Spiegel\n",
      "Sonderausstattung:\n",
      "Mica-Lackierung\n",
      "Weitere Ausstattung:\n",
      "Airbag Beifahrerseite abschaltbar, Airbag Fahrer-/Beifahrerseite, Audiobedienung am Lenkrad, Audiosystem: Radio mit CD-Player und CD-Wechsler (6-fach), Außenspiegel elektr. anklappbar, Außenspiegel elektr. verstell- und heizbar, Außenspiegel lackiert, Automatische Stabilitäts-Control und Traktion (ASC + T), AUX-IN-Anschluss (AUX-IN), Einschaltautomatik für Fahrlicht, Fahrassistenz-System: Bergabfahrkontrolle (HDC / DAC), Fensterheber elektrisch vorn + hinten, Fernentriegelung Tankklappe, Freisprechanlage Bluetooth, Hecktür ohne Reserve-/Notrad, Heckzierblende verchromt, Innenspiegel mit Abblendautomatik, Isofix-Aufnahmen für Kindersitz, Karosserie: 5-türig, Klimaautomatik, Knieairbag Fahrerseite, Kopf-Airbag-System, Kotflügelverbreiterung, Kühlergrill mit Chromrand, Leder-Komfort-Paket, Lenkrad (Leder), Lenkrad mit Schaltwippen, Lenksäule (Lenkrad) verstellbar, LM-Felgen, Modelljahr 2010, Motor 2,2 Ltr. - 110 kW D-4D KAT, Radstand 2560 mm, Reifen-Reparaturkit, Schadstoffarm nach Abgasnorm Euro 5, Schalt-/Wählhebelgriff Leder, Scheibenwischer mit Regensensor, Schleudertrauma-Schutzsystem, Seitenairbag, Sicherheitsgurte vorn höhenverstellbar, Türgriffe außen Wagenfarbe, Verglasung hinten abgedunkelt, Wärmeschutzverglasung\n",
      "weitere Extras vorhanden\n",
      "Fahrzeug befindet sich im guten Zustand\n",
      "alle Angaben ohne Gewähr\n",
      "Vollfinanzierung und Inzahlungnahme aller Art möglich\n",
      "Schreib- und Druckfehler vorbehalten\n",
      "* Fahrzeug steht in der Johannisthaler Chaussee 415, * 12351 Berlin Filiale Buckow Telnr. 030/66707375\n",
      "Faxnr. 030/66707374 Mobilnr. 0171/4943856\n",
      "2x Autoplatz am Rathaus... Filiale Buckow,\n",
      "Filiale Tempelhof. Für weitere Fragen bzw.\n",
      "Informationen, stehen wir Ihnen gerne zur Verfügung.\n",
      "Rufen Sie uns an.\n",
      "Mfg Autoplatz am Rathaus <class 'str'>\n",
      "firstSeen 12.04.2017 <class 'str'>\n",
      "lastSeen 2017-04-12 <class 'str'>\n"
     ]
    }
   ],
   "source": [
    "for key, value in allInfos.items():\n",
    "    print( key, value, type(value) )"
   ]
  },
  {
   "cell_type": "markdown",
   "metadata": {},
   "source": [
    "## initiate Database"
   ]
  },
  {
   "cell_type": "code",
   "execution_count": 38,
   "metadata": {
    "collapsed": false
   },
   "outputs": [
    {
     "data": {
      "text/plain": [
       "'H:\\\\GitHub_Projects\\\\UsedCarStats'"
      ]
     },
     "execution_count": 38,
     "metadata": {},
     "output_type": "execute_result"
    }
   ],
   "source": [
    "%pwd"
   ]
  },
  {
   "cell_type": "code",
   "execution_count": 48,
   "metadata": {
    "collapsed": false
   },
   "outputs": [],
   "source": [
    "attributes = dict()\n",
    "for option in pagesConfig.options('dbInit'):\n",
    "    attributes[option] = pagesConfig.get('dbInit', option)\n",
    "    "
   ]
  },
  {
   "cell_type": "code",
   "execution_count": 86,
   "metadata": {
    "collapsed": false
   },
   "outputs": [
    {
     "name": "stdout",
     "output_type": "stream",
     "text": [
      "CREATE TABLE car ( adid INTEGER PRIMARY KEY, adcondition VARCHAR(), adcurrency VARCHAR(), adfirstregmonth INT, adfirstregyear INT, adprice FLOAT, adsegment VARCHAR(), adspecificsfuel VARCHAR(), adspecificshsn INT, adspecificsmake VARCHAR(), adspecificsmakeid VARCHAR(), adspecificsmakemodel VARCHAR(), adspecificsmodel VARCHAR(), adspecificsmodeldescription TEXT, adspecificsmodelid VARCHAR(), dealercity VARCHAR(), dealercountry VARCHAR(), dealerzip INT, featurevariants TEXT, isdealer BOOLEAN, sellertype VARCHAR(), usersipaddress VARCHAR(), category VARCHAR(), countryversion VARCHAR(), mileage VARCHAR(), cubiccapacity VARCHAR(), power VARCHAR(), fuel VARCHAR(), fuelconsumption VARCHAR(), emission VARCHAR(), numseats INT, doorcount VARCHAR(), transmission VARCHAR(), emissionssticker VARCHAR(), firstregistration VARCHAR(), numberofpreviousowners INT, hu VARCHAR(), climatisation VARCHAR(), parkassist VARCHAR(), airbag VARCHAR(), manufacturercolorname VARCHAR(), color VARCHAR(), interior VARCHAR(), features TEXT, description TEXT, firstseen DATE, lastseen DATE )\n"
     ]
    }
   ],
   "source": [
    "s = ''\n",
    "for key, val in attributes.items():\n",
    "    s += key + ' ' + val + ', '\n",
    "sql_create_command = '''CREATE TABLE car ( %s )''' %s[:-2]\n",
    "\n",
    "print(sql_create_command)"
   ]
  },
  {
   "cell_type": "code",
   "execution_count": 102,
   "metadata": {
    "collapsed": false
   },
   "outputs": [],
   "source": [
    "connection = sqlite3.connect('src/dataBase/carStats.db')"
   ]
  },
  {
   "cell_type": "code",
   "execution_count": 100,
   "metadata": {
    "collapsed": false
   },
   "outputs": [],
   "source": [
    "cursor = connection.cursor()\n",
    "\n",
    "# delete \n",
    "#cursor.execute(\"\"\"DROP TABLE stocks;\"\"\")\n",
    "\n",
    "\n",
    "cursor.execute(sql_create_command)\n",
    "\n",
    "# never forget this, if you want the changes to be saved:\n",
    "connection.commit()\n",
    "\n",
    "connection.close()"
   ]
  },
  {
   "cell_type": "code",
   "execution_count": 103,
   "metadata": {
    "collapsed": false
   },
   "outputs": [
    {
     "data": {
      "text/plain": [
       "<sqlite3.Cursor at 0x1c816325180>"
      ]
     },
     "execution_count": 103,
     "metadata": {},
     "output_type": "execute_result"
    }
   ],
   "source": [
    "cursor = connection.cursor()\n",
    "cursor.execute(\"\"\"SELECT * FROM car\"\"\")"
   ]
  },
  {
   "cell_type": "code",
   "execution_count": 106,
   "metadata": {
    "collapsed": false
   },
   "outputs": [
    {
     "name": "stdout",
     "output_type": "stream",
     "text": [
      "<sqlite3.Cursor object at 0x000001C816325180>\n"
     ]
    }
   ],
   "source": [
    "print(cursor.execute(\"\"\"SELECT * FROM car\"\"\"))"
   ]
  },
  {
   "cell_type": "code",
   "execution_count": 14,
   "metadata": {
    "collapsed": false
   },
   "outputs": [
    {
     "name": "stdout",
     "output_type": "stream",
     "text": [
      "INSERT INTO car (adId, fname, lname, gender, birth_date)\n",
      "    VALUES (NULL, \"William\", \"Shakespeare\", \"m\", \"1961-10-25\");\n",
      "INSERT INTO car (adId, fname, lname, gender, birth_date)\n",
      "    VALUES (NULL, \"Frank\", \"Schiller\", \"m\", \"1955-08-17\");\n",
      "INSERT INTO car (adId, fname, lname, gender, birth_date)\n",
      "    VALUES (NULL, \"Jane\", \"Wall\", \"f\", \"1989-03-14\");\n"
     ]
    }
   ],
   "source": [
    "someData = [ (\"William\", \"Shakespeare\", \"m\", \"1961-10-25\"),\n",
    "               (\"Frank\", \"Schiller\", \"m\", \"1955-08-17\"),\n",
    "               (\"Jane\", \"Wall\", \"f\", \"1989-03-14\")]\n",
    "\n",
    "for p in someData:\n",
    "    format_str = \"\"\"INSERT INTO car (adId, fname, lname, gender, birth_date)\n",
    "    VALUES (NULL, \"{first}\", \"{last}\", \"{gender}\", \"{birthdate}\");\"\"\"\n",
    "\n",
    "    sql_command = format_str.format(first=p[0], last=p[1], gender=p[2], birthdate = p[3])\n",
    "    cursor.execute(sql_command)"
   ]
  },
  {
   "cell_type": "code",
   "execution_count": 15,
   "metadata": {
    "collapsed": false
   },
   "outputs": [
    {
     "name": "stdout",
     "output_type": "stream",
     "text": [
      "INSERT INTO car (adId, fname, lname, gender, birth_date)\n",
      "    VALUES (NULL, \"{first}\", \"{last}\", \"{gender}\", \"{birthdate}\");\n",
      "\n",
      "INSERT INTO car (adId, fname, lname, gender, birth_date)\n",
      "    VALUES (NULL, \"Jane\", \"Wall\", \"f\", \"1989-03-14\");\n"
     ]
    }
   ],
   "source": [
    "print format_str\n",
    "print\n",
    "print sql_command\n"
   ]
  },
  {
   "cell_type": "code",
   "execution_count": 107,
   "metadata": {
    "collapsed": false
   },
   "outputs": [
    {
     "name": "stdout",
     "output_type": "stream",
     "text": [
      "fetchall:\n",
      "\n",
      "fetch one:\n",
      "None\n"
     ]
    }
   ],
   "source": [
    "cursor.execute(\"SELECT * FROM car\") \n",
    "print(\"fetchall:\")\n",
    "result = cursor.fetchall() \n",
    "for r in result:\n",
    "    print(r)\n",
    "cursor.execute(\"SELECT * FROM car\") \n",
    "\n",
    "print(\"\\nfetch one:\")\n",
    "res = cursor.fetchone() \n",
    "print(res)"
   ]
  },
  {
   "cell_type": "code",
   "execution_count": 108,
   "metadata": {
    "collapsed": true
   },
   "outputs": [],
   "source": [
    "connection.close()"
   ]
  },
  {
   "cell_type": "code",
   "execution_count": null,
   "metadata": {
    "collapsed": true
   },
   "outputs": [],
   "source": []
  }
 ],
 "metadata": {
  "anaconda-cloud": {},
  "kernelspec": {
   "display_name": "Python 3",
   "language": "python",
   "name": "python3"
  },
  "language_info": {
   "codemirror_mode": {
    "name": "ipython",
    "version": 3
   },
   "file_extension": ".py",
   "mimetype": "text/x-python",
   "name": "python",
   "nbconvert_exporter": "python",
   "pygments_lexer": "ipython3",
   "version": "3.6.1"
  }
 },
 "nbformat": 4,
 "nbformat_minor": 1
}
