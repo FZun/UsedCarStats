{
 "cells": [
  {
   "cell_type": "code",
   "execution_count": 1,
   "metadata": {
    "collapsed": false
   },
   "outputs": [],
   "source": [
    "# -*- coding: utf-8 -*-\n",
    "\n",
    "## standard packages\n",
    "import numpy as np\n",
    "import os\n",
    "\n",
    "# HTTP scraping packages\n",
    "from lxml import html\n",
    "import requests\n",
    "\n",
    "#import httplib2\n",
    "import urllib\n",
    "\n",
    "from bs4 import BeautifulSoup, SoupStrainer\n",
    "#import json\n",
    "\n",
    "## Database\n",
    "import sqlite3"
   ]
  },
  {
   "cell_type": "code",
   "execution_count": 2,
   "metadata": {
    "collapsed": false
   },
   "outputs": [
    {
     "name": "stdout",
     "output_type": "stream",
     "text": [
      "http://suchen.mobile.de/fahrzeuge/search.html?scopeId=C&damageUnrepaired=NO_DAMAGE_UNREPAIRED&scopeId=C&isSearchRequest=true&sortOption.sortBy=creationTime&sortOption.sortOrder=DESCENDING&pageNumber=1\n"
     ]
    }
   ],
   "source": [
    "# mobile.de\n",
    "baseLink1 = 'http://suchen.mobile.de/fahrzeuge/search.html?scopeId=C&damageUnrepaired=NO_DAMAGE_UNREPAIRED'\n",
    "baseLink2 = '&scopeId=C&isSearchRequest=true&sortOption.sortBy=creationTime&sortOption.sortOrder=DESCENDING'\n",
    "pageLink = '&pageNumber='\n",
    "searchPage = baseLink1 + baseLink2 + pageLink + '1'\n",
    "print(searchPage)"
   ]
  },
  {
   "cell_type": "code",
   "execution_count": null,
   "metadata": {
    "collapsed": true
   },
   "outputs": [],
   "source": []
  },
  {
   "cell_type": "code",
   "execution_count": 7,
   "metadata": {
    "collapsed": false
   },
   "outputs": [
    {
     "name": "stdout",
     "output_type": "stream",
     "text": [
      "241594583\n",
      "http://suchen.mobile.de/fahrzeuge/details.html?id=241594583&sortOption.sortOrder=DESCENDING&damageUnrepaired=NO_DAMAGE_UNREPAIRED&sortOption.sortBy=creationTime&isSearchRequest=true&scopeId=C&pageNumber=1&fnai=prev&action=eyeCatcher\n",
      " hrefVideohref href26hrefNeuhrefAudi A6 Lim. 2.8 FSI,LED Scheinwerfer,NavigationhrefInserat online s ...\n",
      "\n",
      "235792210\n",
      "http://suchen.mobile.de/fahrzeuge/details.html?id=235792210&sortOption.sortOrder=DESCENDING&damageUnrepaired=NO_DAMAGE_UNREPAIRED&sortOption.sortBy=creationTime&isSearchRequest=true&scopeId=C&pageNumber=1\n",
      " hrefVideohref href18hrefNeuhrefSkoda Octavia 1.4 Limo*Active*G-TEC*CNG GAS*Garantie*hrefInserat onl ...\n",
      "\n",
      "238872491\n",
      "http://suchen.mobile.de/fahrzeuge/details.html?id=238872491&sortOption.sortOrder=DESCENDING&damageUnrepaired=NO_DAMAGE_UNREPAIRED&sortOption.sortBy=creationTime&isSearchRequest=true&scopeId=C&pageNumber=1\n",
      " href13hrefNeuhrefVolkswagen Golf VI GTI TOP Zustand! TÜV NeuhrefInserat online seit 10.04.2017 15:1 ...\n",
      "\n",
      "222382024\n",
      "http://suchen.mobile.de/fahrzeuge/details.html?id=222382024&sortOption.sortOrder=DESCENDING&damageUnrepaired=NO_DAMAGE_UNREPAIRED&sortOption.sortBy=creationTime&isSearchRequest=true&scopeId=C&pageNumber=1&action=topInCategory\n",
      " hrefVideohref href12hrefFord Galaxy 2.0 TDCi Titanium 7-Sitzer Sony Navi*XenohrefInserat online sei ...\n",
      "\n",
      "235728324\n",
      "http://suchen.mobile.de/fahrzeuge/details.html?id=235728324&sortOption.sortOrder=DESCENDING&damageUnrepaired=NO_DAMAGE_UNREPAIRED&sortOption.sortBy=creationTime&isSearchRequest=true&scopeId=C&pageNumber=1&action=topInCategory\n",
      " href15hrefFord EcoSport Titanium, Bluet*Sitzh*PDC*5J.G.*LederhrefInserat online seit 27.03.2017 11: ...\n",
      "\n",
      "241395782\n",
      "http://suchen.mobile.de/fahrzeuge/details.html?id=241395782&sortOption.sortOrder=DESCENDING&damageUnrepaired=NO_DAMAGE_UNREPAIRED&sortOption.sortBy=creationTime&isSearchRequest=true&scopeId=C&pageNumber=1&action=topInCategory\n",
      " href15hrefFiat 500 C 1.2 8V Riva Edition Nr. 53/500 Tages-Zul. hrefInserat online seit 23.03.2017 1 ...\n",
      "\n",
      "242394166\n",
      "http://suchen.mobile.de/fahrzeuge/details.html?id=242394166&sortOption.sortOrder=DESCENDING&damageUnrepaired=NO_DAMAGE_UNREPAIRED&sortOption.sortBy=creationTime&isSearchRequest=true&scopeId=C&pageNumber=1\n",
      " href12hrefNeuhrefBMW 320 AHK Navi Parksensoren Klima Xenon TempomathrefInserat online seit 10.04.20 ...\n",
      "\n",
      "242394163\n",
      "http://suchen.mobile.de/fahrzeuge/details.html?id=242394163&sortOption.sortOrder=DESCENDING&damageUnrepaired=NO_DAMAGE_UNREPAIRED&sortOption.sortBy=creationTime&isSearchRequest=true&scopeId=C&pageNumber=1\n",
      "NeuhrefKia Cee'd EX Scheckheft-Klimaauto-16\"Alu-TüVhrefInserat online seit 10.04.2017 15:15href6.499 ...\n",
      "\n",
      "242394162\n",
      "http://suchen.mobile.de/fahrzeuge/details.html?id=242394162&sortOption.sortOrder=DESCENDING&damageUnrepaired=NO_DAMAGE_UNREPAIRED&sortOption.sortBy=creationTime&isSearchRequest=true&scopeId=C&pageNumber=1\n",
      " href15hrefNeuhrefMazda 2 1.3 IndependencehrefInserat online seit 10.04.2017 15:15href5.750 €hrefEZ  ...\n",
      "\n",
      "242394161\n",
      "http://suchen.mobile.de/fahrzeuge/details.html?id=242394161&sortOption.sortOrder=DESCENDING&damageUnrepaired=NO_DAMAGE_UNREPAIRED&sortOption.sortBy=creationTime&isSearchRequest=true&scopeId=C&pageNumber=1\n",
      " href8hrefNeuhrefOpel Opel Corsa C 1.0  - Sparsamer 3 ZylinderhrefInserat online seit 10.04.2017 15: ...\n",
      "\n",
      "242394160\n",
      "http://suchen.mobile.de/fahrzeuge/details.html?id=242394160&sortOption.sortOrder=DESCENDING&damageUnrepaired=NO_DAMAGE_UNREPAIRED&sortOption.sortBy=creationTime&isSearchRequest=true&scopeId=C&pageNumber=1\n",
      " hrefVideohref href14hrefNeuhrefOpel Zafira Edition 1.8 Parkpilot - Tempomat - Radio/hrefInserat onl ...\n",
      "\n",
      "242394158\n",
      "http://suchen.mobile.de/fahrzeuge/details.html?id=242394158&sortOption.sortOrder=DESCENDING&damageUnrepaired=NO_DAMAGE_UNREPAIRED&sortOption.sortBy=creationTime&isSearchRequest=true&scopeId=C&pageNumber=1\n",
      " hrefVideohref href17hrefNeuhrefOpel Zafira Tourer Drive 1.4 Turbo 7-Sitzer - PanoramhrefInserat onl ...\n",
      "\n",
      "242394157\n",
      "http://suchen.mobile.de/fahrzeuge/details.html?id=242394157&sortOption.sortOrder=DESCENDING&damageUnrepaired=NO_DAMAGE_UNREPAIRED&sortOption.sortBy=creationTime&isSearchRequest=true&scopeId=C&pageNumber=1\n",
      " href14hrefNeuhrefAudi 100 2.3 E KomforthrefInserat online seit 10.04.2017 15:15href3.000 €hrefEZ 06 ...\n",
      "\n",
      "242394156\n",
      "http://suchen.mobile.de/fahrzeuge/details.html?id=242394156&sortOption.sortOrder=DESCENDING&damageUnrepaired=NO_DAMAGE_UNREPAIRED&sortOption.sortBy=creationTime&isSearchRequest=true&scopeId=C&pageNumber=1\n",
      " href1hrefNeuhrefCitroën Jumpy HDi 165 FAP L2 Multispace SelectionhrefInserat online seit 10.04.2017 ...\n",
      "\n",
      "242394155\n",
      "http://suchen.mobile.de/fahrzeuge/details.html?id=242394155&sortOption.sortOrder=DESCENDING&damageUnrepaired=NO_DAMAGE_UNREPAIRED&sortOption.sortBy=creationTime&isSearchRequest=true&scopeId=C&pageNumber=1\n",
      " hrefVideohref href16hrefNeuhrefOpel Meriva Drive 1.4 Turbo Sitzheizung - Bluetooth -hrefInserat onl ...\n",
      "\n",
      "242394152\n",
      "http://suchen.mobile.de/fahrzeuge/details.html?id=242394152&sortOption.sortOrder=DESCENDING&damageUnrepaired=NO_DAMAGE_UNREPAIRED&sortOption.sortBy=creationTime&isSearchRequest=true&scopeId=C&pageNumber=1\n",
      " href6hrefNeuhrefAudi A4 Avant 1.8 *Klimatronic*D-3*2-Hand*hrefInserat online seit 10.04.2017 15:15h ...\n",
      "\n",
      "242394151\n",
      "http://suchen.mobile.de/fahrzeuge/details.html?id=242394151&sortOption.sortOrder=DESCENDING&damageUnrepaired=NO_DAMAGE_UNREPAIRED&sortOption.sortBy=creationTime&isSearchRequest=true&scopeId=C&pageNumber=1\n",
      " href10hrefNeuhrefMercedes-Benz E 300 CDI DPF BlueEFFICIENCY 7G-TRONIC Avant...hrefInserat online se ...\n",
      "\n",
      "242394154\n",
      "http://suchen.mobile.de/fahrzeuge/details.html?id=242394154&sortOption.sortOrder=DESCENDING&damageUnrepaired=NO_DAMAGE_UNREPAIRED&sortOption.sortBy=creationTime&isSearchRequest=true&scopeId=C&pageNumber=1\n",
      " href2hrefNeuhrefFord Fiesta Flair 1.2/TÜV NEUhrefInserat online seit 10.04.2017 15:15href950 €hrefE ...\n",
      "\n",
      "242394150\n",
      "http://suchen.mobile.de/fahrzeuge/details.html?id=242394150&sortOption.sortOrder=DESCENDING&damageUnrepaired=NO_DAMAGE_UNREPAIRED&sortOption.sortBy=creationTime&isSearchRequest=true&scopeId=C&pageNumber=1\n",
      " hrefVideohref href17hrefNeuhrefOpel Mokka Edition 1.6 Sitzheizung - Bluetooth - USB hrefInserat onl ...\n",
      "\n",
      "242394149\n",
      "http://suchen.mobile.de/fahrzeuge/details.html?id=242394149&sortOption.sortOrder=DESCENDING&damageUnrepaired=NO_DAMAGE_UNREPAIRED&sortOption.sortBy=creationTime&isSearchRequest=true&scopeId=C&pageNumber=1\n",
      "NeuhrefSkoda Fabia Combi Comfort*JKlima*Euro4*Tüv 12-2017hrefInserat online seit 10.04.2017 15:15hre ...\n",
      "\n",
      "242394148\n",
      "http://suchen.mobile.de/fahrzeuge/details.html?id=242394148&sortOption.sortOrder=DESCENDING&damageUnrepaired=NO_DAMAGE_UNREPAIRED&sortOption.sortBy=creationTime&isSearchRequest=true&scopeId=C&pageNumber=1\n",
      " href4hrefNeuhrefAudi audi a5 sportback 2.7 s-linehrefInserat online seit 10.04.2017 15:15href21.000 ...\n",
      "\n",
      "242394147\n",
      "http://suchen.mobile.de/fahrzeuge/details.html?id=242394147&sortOption.sortOrder=DESCENDING&damageUnrepaired=NO_DAMAGE_UNREPAIRED&sortOption.sortBy=creationTime&isSearchRequest=true&scopeId=C&pageNumber=1\n",
      " href7hrefNeuhrefAlfa Romeo Alfa Romeo145  1.8 16v tshrefInserat online seit 10.04.2017 15:14href800 ...\n",
      "\n",
      "242394146\n",
      "http://suchen.mobile.de/fahrzeuge/details.html?id=242394146&sortOption.sortOrder=DESCENDING&damageUnrepaired=NO_DAMAGE_UNREPAIRED&sortOption.sortBy=creationTime&isSearchRequest=true&scopeId=C&pageNumber=1&fnai=next\n",
      " href1hrefNeuhrefSkoda Octavia Combi 2.0 TDI Elegance *Klimaautomatik ShrefInserat online seit 10.04 ...\n",
      "\n"
     ]
    }
   ],
   "source": [
    "http = urllib\n",
    "response = http.request.urlopen(searchPage)\n",
    "\n",
    "dataIDs = list()\n",
    "        \n",
    "soup = BeautifulSoup(response, \"lxml\") # put search page in beautiful soup strainer,\n",
    "dataIDs = list()\n",
    "for link in soup.find_all('a'): # save all links in the search page that have an ad-id (i.e. they are not an ad)\\n\",\n",
    "    if link.has_attr('data-ad-id'):\n",
    "        print(link['data-ad-id'])\n",
    "        print(link['href'])\n",
    "        print(link.get_text('href')[:100] + \" ...\")\n",
    "        print()\n",
    "        dataIDs.append([link['data-ad-id'], link['href'], link.get_text('href')])\n"
   ]
  },
  {
   "cell_type": "code",
   "execution_count": 8,
   "metadata": {
    "collapsed": false
   },
   "outputs": [
    {
     "data": {
      "text/plain": [
       "'http://suchen.mobile.de/fahrzeuge/details.html?id=241594583&sortOption.sortOrder=DESCENDING&damageUnrepaired=NO_DAMAGE_UNREPAIRED&sortOption.sortBy=creationTime&isSearchRequest=true&scopeId=C&pageNumber=1&fnai=prev&action=eyeCatcher'"
      ]
     },
     "execution_count": 8,
     "metadata": {},
     "output_type": "execute_result"
    }
   ],
   "source": [
    "dataIDs[0][1]"
   ]
  },
  {
   "cell_type": "code",
   "execution_count": 9,
   "metadata": {
    "collapsed": false
   },
   "outputs": [],
   "source": [
    "resp2 = http.request.urlopen(dataIDs[0][1])\n",
    "soup2 = BeautifulSoup(resp2, 'lxml')\n",
    "site2 = soup2.decode()"
   ]
  },
  {
   "cell_type": "code",
   "execution_count": 10,
   "metadata": {
    "collapsed": false,
    "scrolled": true
   },
   "outputs": [
    {
     "data": {
      "text/plain": [
       "{'ad': {'condition': 'USED',\n",
       "  'currency': 'EUR',\n",
       "  'price': '18970',\n",
       "  'specifics': {'make': 'Audi', 'model': 'A6'}},\n",
       " 'adCondition': 'USED',\n",
       " 'adCurrency': 'EUR',\n",
       " 'adFirstRegMonth': '8',\n",
       " 'adFirstRegYear': '2011',\n",
       " 'adId': 241594583,\n",
       " 'adImage': 'http://i.ebayimg.com/00/s/MTIwMFgxNjAw/z/S3wAAOSwc-tY64Sc/$_23.JPG',\n",
       " 'adImageBase64': 'aHR0cDovL2kuZWJheWltZy5jb20vMDAvcy9NVEl3TUZneE5qQXcvei9TM3dBQU9Td2MtdFk2NFNjLyRfMjMuSlBH',\n",
       " 'adPrice': '18970',\n",
       " 'adSegment': 'Car',\n",
       " 'adSpecificsFuel': 'PETROL',\n",
       " 'adSpecificsHsn': '0588',\n",
       " 'adSpecificsMake': 'Audi',\n",
       " 'adSpecificsMakeId': 1900,\n",
       " 'adSpecificsMakeModel': 'Audi A6',\n",
       " 'adSpecificsMakeModelBase64': 'QXVkaSBBNg==',\n",
       " 'adSpecificsModel': 'A6',\n",
       " 'adSpecificsModelDescription': 'A6 Lim. 2.8 FSI,LED Scheinwerfer,Navigation',\n",
       " 'adSpecificsModelId': 10,\n",
       " 'adSpecificsTsn': 'AQZ',\n",
       " 'adSpecificsVin': 'WAUZZZ4G4CN021754',\n",
       " 'dealerCity': 'Schwerte',\n",
       " 'dealerCountry': 'DE',\n",
       " 'dealerZip': '58239',\n",
       " 'featureVariants': {},\n",
       " 'isDealer': True,\n",
       " 'sellerType': 'DEALER',\n",
       " 'usersIpAddress': '104.121.151.0'}"
      ]
     },
     "execution_count": 10,
     "metadata": {},
     "output_type": "execute_result"
    }
   ],
   "source": [
    "someval = site2.find('mobile.dart.setAdData')\n",
    "finalVal = site2[someval:].find('\\n')\n",
    "stringDict = site2[someval + 22 : someval + finalVal-2]\n",
    "#stringDict\n",
    "json_acceptable_string = stringDict.replace(\"'\", \"\\\"\")\n",
    "d = json.loads(json_acceptable_string)\n",
    "d"
   ]
  },
  {
   "cell_type": "code",
   "execution_count": 19,
   "metadata": {
    "collapsed": true
   },
   "outputs": [],
   "source": [
    "categories = ['rbt-category-v', \n",
    "              'rbt-countryVersion-v',\n",
    "              'rbt-mileage-v',\n",
    "              'rbt-cubicCapacity-v',\n",
    "              'rbt-power-v',\n",
    "              'rbt-fuel-v',\n",
    "              'rbt-envkv.consumption-v',\n",
    "              'rbt-envkv.emission-v',\n",
    "              'rbt-numSeats-v',\n",
    "              'rbt-doorCount-v',\n",
    "              'rbt-transmission-v',\n",
    "              'rbt-emissionsSticker-v',\n",
    "              'rbt-firstRegistration-v',\n",
    "              'rbt-numberOfPreviousOwners-v',\n",
    "              'rbt-hu-v',\n",
    "              'rbt-climatisation-v',\n",
    "              'rbt-parkAssist-v',\n",
    "              'rbt-airbag-v',\n",
    "              'rbt-manufacturerColorName-v',\n",
    "              'rbt-rbt-color-v',\n",
    "              'rbt-interior-v',\n",
    "              'rbt-features'\n",
    "              ]"
   ]
  },
  {
   "cell_type": "code",
   "execution_count": 13,
   "metadata": {
    "collapsed": false,
    "scrolled": true
   },
   "outputs": [],
   "source": [
    "resp2 = http.request.urlopen(dataIDs[0][1])\n",
    "\n",
    "soup = BeautifulSoup(resp2, \"lxml\")"
   ]
  },
  {
   "cell_type": "code",
   "execution_count": 59,
   "metadata": {
    "collapsed": false,
    "scrolled": true
   },
   "outputs": [
    {
     "name": "stdout",
     "output_type": "stream",
     "text": [
      "                      category Limousine\n",
      "                countryVersion Deutsche Ausführung\n",
      "                       mileage 114.975 km\n",
      "                 cubicCapacity 2.773 cm³\n",
      "                         power 150 kW (204 PS)\n",
      "                          fuel Benzin, E10-geeignet\n",
      "             envkv.consumption ≈ 7,7 l/100km (kombiniert)≈ 10,5 l/100km (innerorts)≈ 6,0 l/100km (außerorts)\n",
      "                envkv.emission ≈ 183 g/km (kombiniert)\n",
      "                      numSeats 5\n",
      "                     doorCount 4/5\n",
      "                  transmission Automatik\n",
      "              emissionsSticker 4 (Grün)\n",
      "             firstRegistration 08/2011\n",
      "        numberOfPreviousOwners 1\n",
      "                            hu Neu\n",
      "                 climatisation Klimaautomatik\n",
      "                    parkAssist NO INFORMATION\n",
      "                        airbag Front-, Seiten- und weitere Airbags\n",
      "         manufacturerColorName Phantomschwarz Perleffekt\n",
      "                     rbt-color NO INFORMATION\n",
      "                      interior Stoff, Schwarz\n",
      "                      features Ausstattung, ABS, Anhängerkupplung, Bluetooth, Bordcomputer, CD-Spieler, Elektr. Fensterheber, Elektr. Seitenspiegel, Elektr. Wegfahrsperre, ESP, Freisprecheinrichtung, Garantie, Isofix (Kindersitzbefestigung), Kurvenlicht, Leichtmetallfelgen, Lichtsensor, MP3-Schnittstelle, Multifunktionslenkrad, Navigationssystem, Nebelscheinwerfer, Nichtraucher-Fahrzeug, Regensensor, Scheckheftgepflegt, Servolenkung, Sitzheizung, Sportsitze, Start/Stopp-Automatik, Tagfahrlicht, Tempomat, Tuner/Radio, Xenonscheinwerfer, Zentralverriegelung\n"
     ]
    }
   ],
   "source": [
    "#soup = BeautifulSoup(resp2, \"lxml\")\n",
    "d2 = dict()\n",
    "for cat in categories:\n",
    "    try:\n",
    "        div = soup.find('div', id=cat)\n",
    "        output = div.get_text()\n",
    "        #output = ''.join(map(str, div.contents))\n",
    "        #output.replace('<strong>', '').replace('</strong>', '')\n",
    "        #output = output.replace('<div class=\"u-margin-bottom-9\">', '').replace('</div>', ' ')\n",
    "        \n",
    "        if cat=='rbt-features':\n",
    "            output = div.get_text(separator=', ')\n",
    "            cat = 'rbt-features  '\n",
    "            \n",
    "        print ( \"%30s\" %cat[4:-2], output )\n",
    "        d2[cat[4:-2]] = output\n",
    "        \n",
    "    except:\n",
    "        print ( \"%30s\" %cat[4:-2], 'NO INFORMATION' )\n",
    "        d2[cat[4:-2]] = 'No Information'"
   ]
  },
  {
   "cell_type": "code",
   "execution_count": 60,
   "metadata": {
    "collapsed": false
   },
   "outputs": [
    {
     "name": "stdout",
     "output_type": "stream",
     "text": [
      "Sonderausstattung: Audi music interface, Außenspiegel elektr. klappbar, mit Abblendautomatik,  Business-Paket , Fahrassistenz-System: Autom. Distanzregelung (Adaptive Cruise Control) mit Stop&Go-System inkl.  Audi pre sense front , Fahrassistenz-System:  Spurhalteassistent (active lane assist),  Fahrassistenz-System: Tempolimit-Anzeige, Innenausstattung: Dekoreinlagen Aluminium Trigon, Komfort-Klimaautomatik 4-Zonen, Kraftstofftank: 75 Ltr.,  Lenkrad heizbar (Leder) mit Multifunktion , Licht-Paket,  Multi-Media-Interface MMI Navigation Plus mit MMI  Touch, Perleffekt-Lackierung, Reserverad als Notrad, Rücksitzlehne geteilt/klappbar,  Scheinwerfer LED , Schließ-/Startsystem Advanced Key (Komfortschlüssel), Sitzbezug / Polsterung: Stoff Kontur, Sportsitze vorn Weitere Ausstattung: Airbag Fahrer-/Beifahrerseite, Antriebs-Schlupfregelung (ASR), Audi Drive Select, Außenspiegel asphärisch, links, Außenspiegel asphärisch, rechts, Außenspiegel elektr. verstell- und heizbar, beide, Außenspiegel Wagenfarbe, Bremsanlage mit Rekuperationssystem, Elektron. Differentialsperre (EDS), Fahrassistenz-System: Anfahr-Assistent (hold assist), Fahrassistenz-System: Insassen-Schutzsystem (Audi pre sense basic), Fensterheber elektrisch vorn + hinten, Frontscheibe mit Bandfilter oben, Gepäcknetz an Vordersitzlehne, Getränkehalter in Mittelkonsole, Glanz-Paket, Isofix-Aufnahmen für Kindersitz, Karosserie: 4-türig, Kopf-Airbag-System (Sideguard), Lenksäule (Lenkrad) mech. Höhen-/Längsverstellung, Licht- und Regensensor, LM-Felgen, Mittelarmlehne hinten mit Fach, Mittelarmlehne vorn, Motor 2,8 Ltr. - 150 kW V6 24V FSI, Multifunktionsanzeige / Bordcomputer, Raucher-Paket, Reifenkontroll-Anzeige, Schadstoffarm nach Abgasnorm Euro 5, Seitenairbag vorn, Start/Stop-Anlage, Steckdose (12V-Anschluß) im Koffer-/Laderaum, Wärmeschutzverglasung grün getönt Unfallfreies Garagenfahrzeug ,sehr gepflegt, alle Inspektionen bei Audi  Top gepflegt\n"
     ]
    }
   ],
   "source": [
    "#div = soup2.find('div', id='g-col-12 description')\n",
    "div = soup2.find(attrs={\"class\": \"g-col-12 description\"})\n",
    "#print(div)\n",
    "#output = ''.join(map(str, div.contents))\n",
    "#output.replace('<strong>', '').replace('</strong>', '')\n",
    "#output = output.replace('<div class=\"u-margin-bottom-9\">', '').replace('</div>', '')\n",
    "print(div.get_text(separator=' '))"
   ]
  },
  {
   "cell_type": "code",
   "execution_count": null,
   "metadata": {
    "collapsed": true
   },
   "outputs": [],
   "source": []
  },
  {
   "cell_type": "code",
   "execution_count": null,
   "metadata": {
    "collapsed": true
   },
   "outputs": [],
   "source": []
  },
  {
   "cell_type": "markdown",
   "metadata": {},
   "source": [
    "## initiate Database"
   ]
  },
  {
   "cell_type": "code",
   "execution_count": 61,
   "metadata": {
    "collapsed": true
   },
   "outputs": [],
   "source": [
    "import sqlite3"
   ]
  },
  {
   "cell_type": "code",
   "execution_count": 62,
   "metadata": {
    "collapsed": false
   },
   "outputs": [
    {
     "data": {
      "text/plain": [
       "'C:\\\\Users\\\\Florian\\\\Documents\\\\Python Scripts'"
      ]
     },
     "execution_count": 62,
     "metadata": {},
     "output_type": "execute_result"
    }
   ],
   "source": [
    "%pwd"
   ]
  },
  {
   "cell_type": "code",
   "execution_count": 112,
   "metadata": {
    "collapsed": false,
    "scrolled": true
   },
   "outputs": [],
   "source": [
    "thing = \"\"\"adId INTEGER PRIMARY KEY, \n",
    "adCondition VARCHAR(),\n",
    "adCurrency VARCHAR(),\n",
    "adFirstRegMonth INT,\n",
    "adFirstRegYear INT,\n",
    "adPrice FLOAT,\n",
    "adSegment VARCHAR(),\n",
    "adSpecificsFuel VARCHAR(),\n",
    "adSpecificsHsn INT,\n",
    "adSpecificsMake VARCHAR(),\n",
    "adSpecificsMakeId VARCHAR(),\n",
    "adSpecificsMakeModel VARCHAR(),\n",
    "adSpecificsModel VARCHAR(),\n",
    "adSpecificsModelDescription TEXT,\n",
    "adSpecificsModelId VARCHAR(),\n",
    "dealerCity VARCHAR(),\n",
    "dealerCountry VARCHAR(),\n",
    "dealerZip INT,\n",
    "featureVariants TEXT,\n",
    "isDealer BOOLEAN,\n",
    "sellerType VARCHAR(),\n",
    "usersIpAddress VARCHAR(),\n",
    "category VARCHAR(),\n",
    "countryVersion VARCHAR(),\n",
    "mileage VARCHAR(),\n",
    "cubicCapacity VARCHAR(),\n",
    "power VARCHAR(),\n",
    "fuel VARCHAR(),\n",
    "fuelConsumption VARCHAR(),\n",
    "emission VARCHAR(),\n",
    "numSeats INT\n",
    "doorCount VARCHAR(),\n",
    "transmission VARCHAR(),\n",
    "emissionsSticker VARCHAR(),\n",
    "firstRegistration VARCHAR(),\n",
    "numberOfPreviousOwners INT,\n",
    "hu VARCHAR(),\n",
    "climatisation VARCHAR(),\n",
    "parkAssist VARCHAR(),\n",
    "airbag VARCHAR(),\n",
    "manufacturerColorName VARCHAR(),\n",
    "color VARCHAR(),\n",
    "interior VARCHAR(),\n",
    "features TEXT,\n",
    "description TEXT,\n",
    "firstSeen DATE,\n",
    "lastSeen DATE\"\"\""
   ]
  },
  {
   "cell_type": "code",
   "execution_count": 113,
   "metadata": {
    "collapsed": false
   },
   "outputs": [
    {
     "data": {
      "text/plain": [
       "{'adCondition': 'VARCHAR(20),',\n",
       " 'adCurrency': 'VARCHAR(10),',\n",
       " 'adFirstRegMonth': 'INT,',\n",
       " 'adFirstRegYear': 'INT,',\n",
       " 'adId': 'INTEGER PRIMARY KEY',\n",
       " 'adPrice': 'FLOAT,',\n",
       " 'adSegment': 'VARCHAR(10),',\n",
       " 'adSpecificsFuel': 'VARCHAR(10),',\n",
       " 'adSpecificsHsn': 'INT,',\n",
       " 'adSpecificsMake': 'VARCHAR(20),',\n",
       " 'adSpecificsMakeId': 'VARCHAR(30),',\n",
       " 'adSpecificsMakeModel': 'VARCHAR(30),',\n",
       " 'adSpecificsModel': 'VARCHAR(30),',\n",
       " 'adSpecificsModelDescription': 'VARCHAR(255),',\n",
       " 'adSpecificsModelId': 'VARCHAR(50),',\n",
       " 'airbag': 'VARCHAR(255),',\n",
       " 'category': 'VARCHAR(255),',\n",
       " 'climatisation': 'VARCHAR(255),',\n",
       " 'color': 'VARCHAR(255),',\n",
       " 'countryVersion': 'VARCHAR(255),',\n",
       " 'cubicCapacity': 'VARCHAR(255),',\n",
       " 'dealerCity': 'VARCHAR(50),',\n",
       " 'dealerCountry': 'VARCHAR(10),',\n",
       " 'dealerZip': 'INT,',\n",
       " 'doorCount': 'VARCHAR(255),',\n",
       " 'emission': 'VARCHAR(255),',\n",
       " 'emissionsSticker': 'VARCHAR(255),',\n",
       " 'featureVariants': 'VARCHAR(255),',\n",
       " 'features': 'VARCHAR(255),',\n",
       " 'firstRegistration': 'VARCHAR(255),',\n",
       " 'firstSeen': 'DATE,',\n",
       " 'fuel': 'VARCHAR(255),',\n",
       " 'fuelConsumption': 'VARCHAR(255),',\n",
       " 'hu': 'VARCHAR(255),',\n",
       " 'interior': 'VARCHAR(255),',\n",
       " 'isDealer': 'BOOLEAN,',\n",
       " 'lastSeen': 'DATE',\n",
       " 'manufacturerColorName': 'VARCHAR(255),',\n",
       " 'mileage': 'VARCHAR(255),',\n",
       " 'numSeats': 'INT',\n",
       " 'numberOfPreviousOwners': 'INT,',\n",
       " 'parkAssist': 'VARCHAR(255),',\n",
       " 'power': 'VARCHAR(255),',\n",
       " 'sellerType': 'VARCHAR(50),',\n",
       " 'transmission': 'VARCHAR(255),',\n",
       " 'usersIpAddress': 'VARCHAR(20),'}"
      ]
     },
     "execution_count": 113,
     "metadata": {},
     "output_type": "execute_result"
    }
   ],
   "source": [
    "attributeDict = dict()\n",
    "for element in thing.split('\\n'):\n",
    "    #print(element.split(' '))\n",
    "    if 'adId' in element:\n",
    "        attributeDict['adId'] = 'INTEGER PRIMARY KEY'\n",
    "    else:\n",
    "        x = element.split(' ')\n",
    "        attributeDict[x[0]] = x[1]\n",
    "    \n",
    "attributeDict"
   ]
  },
  {
   "cell_type": "code",
   "execution_count": null,
   "metadata": {
    "collapsed": true
   },
   "outputs": [],
   "source": []
  },
  {
   "cell_type": "code",
   "execution_count": null,
   "metadata": {
    "collapsed": true
   },
   "outputs": [],
   "source": []
  },
  {
   "cell_type": "code",
   "execution_count": 76,
   "metadata": {
    "collapsed": true
   },
   "outputs": [],
   "source": [
    "connection = sqlite3.connect(\"carStats.db\")"
   ]
  },
  {
   "cell_type": "code",
   "execution_count": 70,
   "metadata": {
    "collapsed": true
   },
   "outputs": [],
   "source": [
    "sql_create_command = \"\"\"\n",
    "CREATE TABLE car ( \n",
    "    adId INTEGER PRIMARY KEY, \n",
    "    adCondition VARCHAR(20), \n",
    "    adCurrency  VARCHAR(10),\n",
    "    adFirstRegMonth INT,\n",
    "    adFirstRegYear INT,\n",
    "    adPrice FLOAT,\n",
    "    adSegment VARCHAR(10),\n",
    "    adSpecificsFuel VARCHAR(10),\n",
    "    adSpecificsHsn INT,\n",
    "    adSpecificsMake VARCHAR(20),\n",
    "    adSpecificsMakeId VARCHAR(30),\n",
    "    adSpecificsMakeModel VARCHAR(30),\n",
    "    adSpecificsModel VARCHAR(30),\n",
    "    adSpecificsModelDescription VARCHAR(255),\n",
    "    adSpecificsModelId VARCHAR(50),\n",
    "    dealerCity VARCHAR(50),\n",
    "    dealerCountry VARCHAR(10),\n",
    "    dealerZip INT,\n",
    "    featureVariants VARCHAR(255),\n",
    "    isDealer BOOLEAN,\n",
    "    sellerType VARCHAR(50),\n",
    "    usersIpAddress VARCHAR(20),\n",
    "    \n",
    "    category VARCHAR(255),\n",
    "    countryVersion VARCHAR(255),\n",
    "    mileage VARCHAR(255),\n",
    "    cubicCapacity VARCHAR(255),\n",
    "    power VARCHAR(255),\n",
    "    fuel VARCHAR(255),\n",
    "    fuelConsumption VARCHAR(255),\n",
    "    emission VARCHAR(255),\n",
    "    numSeats INT\n",
    "    doorCount VARCHAR(255),\n",
    "    transmission VARCHAR(255),\n",
    "    emissionsSticker VARCHAR(255),\n",
    "    firstRegistration VARCHAR(255),\n",
    "    numberOfPreviousOwners INT,\n",
    "    hu VARCHAR(255),\n",
    "    climatisation VARCHAR(255),\n",
    "    parkAssist VARCHAR(255),\n",
    "    airbag VARCHAR(255),\n",
    "    manufacturerColorName VARCHAR(255),\n",
    "    color VARCHAR(255),\n",
    "    interior VARCHAR(255),\n",
    "    features VARCHAR(255),\n",
    "    \n",
    "    firstSeen DATE,\n",
    "    lastSeen DATE);\"\"\""
   ]
  },
  {
   "cell_type": "code",
   "execution_count": 77,
   "metadata": {
    "collapsed": false
   },
   "outputs": [],
   "source": [
    "cursor = connection.cursor()\n",
    "\n",
    "# delete \n",
    "cursor.execute(\"\"\"DROP TABLE car;\"\"\")\n",
    "\n",
    "cursor.execute(sql_command)\n",
    "\n",
    "# never forget this, if you want the changes to be saved:\n",
    "connection.commit()\n",
    "\n",
    "#connection.close()"
   ]
  },
  {
   "cell_type": "code",
   "execution_count": 14,
   "metadata": {
    "collapsed": false
   },
   "outputs": [
    {
     "name": "stdout",
     "output_type": "stream",
     "text": [
      "INSERT INTO car (adId, fname, lname, gender, birth_date)\n",
      "    VALUES (NULL, \"William\", \"Shakespeare\", \"m\", \"1961-10-25\");\n",
      "INSERT INTO car (adId, fname, lname, gender, birth_date)\n",
      "    VALUES (NULL, \"Frank\", \"Schiller\", \"m\", \"1955-08-17\");\n",
      "INSERT INTO car (adId, fname, lname, gender, birth_date)\n",
      "    VALUES (NULL, \"Jane\", \"Wall\", \"f\", \"1989-03-14\");\n"
     ]
    }
   ],
   "source": [
    "someData = [ (\"William\", \"Shakespeare\", \"m\", \"1961-10-25\"),\n",
    "               (\"Frank\", \"Schiller\", \"m\", \"1955-08-17\"),\n",
    "               (\"Jane\", \"Wall\", \"f\", \"1989-03-14\")]\n",
    "\n",
    "for p in someData:\n",
    "    format_str = \"\"\"INSERT INTO car (adId, fname, lname, gender, birth_date)\n",
    "    VALUES (NULL, \"{first}\", \"{last}\", \"{gender}\", \"{birthdate}\");\"\"\"\n",
    "\n",
    "    sql_command = format_str.format(first=p[0], last=p[1], gender=p[2], birthdate = p[3])\n",
    "    cursor.execute(sql_command)"
   ]
  },
  {
   "cell_type": "code",
   "execution_count": 15,
   "metadata": {
    "collapsed": false
   },
   "outputs": [
    {
     "name": "stdout",
     "output_type": "stream",
     "text": [
      "INSERT INTO car (adId, fname, lname, gender, birth_date)\n",
      "    VALUES (NULL, \"{first}\", \"{last}\", \"{gender}\", \"{birthdate}\");\n",
      "\n",
      "INSERT INTO car (adId, fname, lname, gender, birth_date)\n",
      "    VALUES (NULL, \"Jane\", \"Wall\", \"f\", \"1989-03-14\");\n"
     ]
    }
   ],
   "source": [
    "print format_str\n",
    "print\n",
    "print sql_command\n"
   ]
  },
  {
   "cell_type": "code",
   "execution_count": 78,
   "metadata": {
    "collapsed": false
   },
   "outputs": [
    {
     "name": "stdout",
     "output_type": "stream",
     "text": [
      "fetchall:\n",
      "\n",
      "fetch one:\n",
      "None\n"
     ]
    }
   ],
   "source": [
    "cursor.execute(\"SELECT * FROM car\") \n",
    "print(\"fetchall:\")\n",
    "result = cursor.fetchall() \n",
    "for r in result:\n",
    "    print(r)\n",
    "cursor.execute(\"SELECT * FROM car\") \n",
    "\n",
    "print(\"\\nfetch one:\")\n",
    "res = cursor.fetchone() \n",
    "print(res)"
   ]
  },
  {
   "cell_type": "code",
   "execution_count": 79,
   "metadata": {
    "collapsed": true
   },
   "outputs": [],
   "source": [
    "connection.close()"
   ]
  },
  {
   "cell_type": "code",
   "execution_count": null,
   "metadata": {
    "collapsed": true
   },
   "outputs": [],
   "source": []
  }
 ],
 "metadata": {
  "anaconda-cloud": {},
  "kernelspec": {
   "display_name": "Python 3",
   "language": "python",
   "name": "python3"
  },
  "language_info": {
   "codemirror_mode": {
    "name": "ipython",
    "version": 3
   },
   "file_extension": ".py",
   "mimetype": "text/x-python",
   "name": "python",
   "nbconvert_exporter": "python",
   "pygments_lexer": "ipython3",
   "version": "3.6.1"
  }
 },
 "nbformat": 4,
 "nbformat_minor": 1
}
